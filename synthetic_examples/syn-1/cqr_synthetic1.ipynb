{
 "cells": [
  {
   "cell_type": "markdown",
   "metadata": {},
   "source": [
    "### Conformalized quantile regression(CQR)"
   ]
  },
  {
   "cell_type": "markdown",
   "metadata": {},
   "source": [
    "The link to the original paper\n",
    "http://papers.neurips.cc/paper/8613-conformalized-quantile-regression.pdf\n",
    "\n",
    "We use the package in the following link for experiment\n",
    "\n",
    "https://github.com/yromano/cqr\n",
    "\n",
    "Note that we use this CQR for median, calibration, and 90% interval only. \n",
    "\n",
    "We use the model under the random forest specification with symmetric interval and recommended hyperparameter from the package example"
   ]
  },
  {
   "cell_type": "code",
   "execution_count": 1,
   "metadata": {
    "scrolled": true
   },
   "outputs": [],
   "source": [
    "import warnings\n",
    "warnings.filterwarnings('ignore')\n",
    "\n",
    "import matplotlib\n",
    "matplotlib.use('Agg')\n",
    "import matplotlib.pyplot as plt\n",
    "\n",
    "import numpy as np\n",
    "np.warnings.filterwarnings('ignore')\n",
    "\n",
    "import torch\n",
    "\n",
    "from sklearn.preprocessing import StandardScaler\n",
    "from sklearn.model_selection import train_test_split\n",
    "\n",
    "\n",
    "from cqr import helper\n",
    "from nonconformist.nc import RegressorNc\n",
    "from nonconformist.cp import IcpRegressor\n",
    "from nonconformist.nc import QuantileRegErrFunc\n",
    "\n",
    "%matplotlib inline"
   ]
  },
  {
   "cell_type": "markdown",
   "metadata": {},
   "source": [
    "### Simulate data"
   ]
  },
  {
   "cell_type": "code",
   "execution_count": 2,
   "metadata": {},
   "outputs": [
    {
     "name": "stdout",
     "output_type": "stream",
     "text": [
      "Dimensions: train set (n=700, p=2) ; test set (n=300, p=2)\n"
     ]
    }
   ],
   "source": [
    "np.random.seed(2020)\n",
    "\n",
    "# generate mu, gaussian\n",
    "mu=np.random.normal(scale=2,size=1000)\n",
    "\n",
    "# generate sd, uniform\n",
    "sig=np.random.uniform(0.5,2.5,size=1000)\n",
    "\n",
    "# the full design matrix\n",
    "x=np.c_[mu,sig]\n",
    "\n",
    "y=np.random.normal(loc=mu,scale=sig,size=(1000))\n",
    "\n",
    "\n",
    "train_x=x[:700,:]\n",
    "train_y=y[:700]\n",
    "\n",
    "test_x=x[700:,:]\n",
    "test_y=y[700:]\n",
    "\n",
    "# compute input dimensions\n",
    "n_train=len(train_x)\n",
    "n_test=len(test_x)\n",
    "in_shape = x.shape[1]\n",
    "\n",
    "# display basic information\n",
    "print(\"Dimensions: train set (n=%d, p=%d) ; test set (n=%d, p=%d)\" % \n",
    "      (train_x.shape[0], train_x.shape[1], test_x.shape[0], test_x.shape[1]))\n",
    "\n",
    "\n",
    "\n",
    "# divide the data into proper training set and calibration set\n",
    "idx = np.random.permutation(n_train)\n",
    "n_half = int(np.floor(n_train/2))\n",
    "idx_train, idx_cal = idx[:n_half], idx[n_half:2*n_half]"
   ]
  },
  {
   "cell_type": "markdown",
   "metadata": {},
   "source": [
    "### CQR model"
   ]
  },
  {
   "cell_type": "code",
   "execution_count": 3,
   "metadata": {},
   "outputs": [],
   "source": [
    "#########################################################\n",
    "# Quantile random forests parameters\n",
    "# (See QuantileForestRegressorAdapter class in helper.py)\n",
    "#########################################################\n",
    "\n",
    "# the number of trees in the forest\n",
    "n_estimators = 1000\n",
    "\n",
    "# the minimum number of samples required to be at a leaf node\n",
    "# (default skgarden's parameter)\n",
    "min_samples_leaf = 1\n",
    "\n",
    "# the number of features to consider when looking for the best split\n",
    "# (default skgarden's parameter)\n",
    "max_features = x.shape[1]\n",
    "\n",
    "\n",
    "# use cross-validation to tune the quantile levels?\n",
    "cv_qforest = True\n",
    "\n",
    "# when tuning the two QRF quantile levels one may\n",
    "# ask for a prediction band with smaller average coverage\n",
    "# to avoid too conservative estimation of the prediction band\n",
    "# This would be equal to coverage_factor*(quantiles[1] - quantiles[0])\n",
    "coverage_factor = 0.85\n",
    "\n",
    "# ratio of held-out data, used in cross-validation\n",
    "cv_test_ratio = 0.05\n",
    "\n",
    "# seed for splitting the data in cross-validation.\n",
    "# Also used as the seed in quantile random forests function\n",
    "cv_random_state = 1\n",
    "\n",
    "# determines the lowest and highest quantile level parameters.\n",
    "# This is used when tuning the quanitle levels by cross-validation.\n",
    "# The smallest value is equal to quantiles[0] - range_vals.\n",
    "# Similarly, the largest value is equal to quantiles[1] + range_vals.\n",
    "cv_range_vals = 30\n",
    "\n",
    "# sweep over a grid of length num_vals when tuning QRF's quantile parameters                   \n",
    "cv_num_vals = 10\n",
    "\n",
    "\n",
    "# define the QRF's parameters \n",
    "params_qforest = dict()\n",
    "params_qforest[\"n_estimators\"] = n_estimators\n",
    "params_qforest[\"min_samples_leaf\"] = min_samples_leaf\n",
    "params_qforest[\"max_features\"] = max_features\n",
    "params_qforest[\"CV\"] = cv_qforest\n",
    "params_qforest[\"coverage_factor\"] = coverage_factor\n",
    "params_qforest[\"test_ratio\"] = cv_test_ratio\n",
    "params_qforest[\"random_state\"] = cv_random_state\n",
    "params_qforest[\"range_vals\"] = cv_range_vals\n",
    "params_qforest[\"num_vals\"] = cv_num_vals\n"
   ]
  },
  {
   "cell_type": "markdown",
   "metadata": {},
   "source": [
    "### Single Evaluation"
   ]
  },
  {
   "cell_type": "code",
   "execution_count": 4,
   "metadata": {},
   "outputs": [],
   "source": [
    "def cqr_lu(level):\n",
    "    \n",
    "    # desired quanitile levels\n",
    "    quantiles = [0.5-level/2, 0.5+level/2]\n",
    "    # target quantile levels\n",
    "    quantiles_forest = [quantiles[0]*100, quantiles[1]*100]\n",
    "\n",
    "    # desired miscoverage error\n",
    "    alpha = 1-level\n",
    "\n",
    "\n",
    "    # define QRF model\n",
    "    quantile_estimator = helper.QuantileForestRegressorAdapter(model=None,\n",
    "                                                           fit_params=None,\n",
    "                                                           quantiles=quantiles_forest,\n",
    "                                                           params=params_qforest)\n",
    "        \n",
    "    # define the CQR object\n",
    "    nc = RegressorNc(quantile_estimator, QuantileRegErrFunc())\n",
    "\n",
    "    # run CQR procedure\n",
    "    y_lower, y_upper = helper.run_icp(nc, train_x, train_y, test_x, idx_train, idx_cal, alpha)\n",
    "\n",
    "    return y_lower,y_upper\n",
    "\n"
   ]
  },
  {
   "cell_type": "markdown",
   "metadata": {},
   "source": [
    "#### Interval Width"
   ]
  },
  {
   "cell_type": "code",
   "execution_count": null,
   "metadata": {},
   "outputs": [],
   "source": [
    "lquantile,rquantile=cqr_lu(0.9)\n",
    "(np.mean((test_y.ravel()<rquantile.ravel())*(test_y.ravel()>lquantile.ravel())))\n",
    "plt.figure(figsize=(5,5))\n",
    "plt.plot(rquantile-lquantile,test_x[:,1]*3.28,'.')\n",
    "plt.plot([2,9],[2,9])\n",
    "#np.save('cqr_width',rquantile-lquantile)"
   ]
  },
  {
   "cell_type": "markdown",
   "metadata": {},
   "source": [
    "### Ten Replications to evaluate the hard metrics"
   ]
  },
  {
   "cell_type": "code",
   "execution_count": 5,
   "metadata": {},
   "outputs": [],
   "source": [
    "##function to create replication\n",
    "def rep_iter(x,y,frac=0.3):\n",
    "    n=len(x)\n",
    "    ntest=int(np.floor(frac*n))\n",
    "    allidx=np.random.permutation(n)\n",
    "    trainidx= allidx[ntest:]\n",
    "    testidx= allidx[:ntest]\n",
    "    return x[trainidx],y[trainidx],x[testidx],y[testidx]\n",
    "    "
   ]
  },
  {
   "cell_type": "code",
   "execution_count": 6,
   "metadata": {},
   "outputs": [],
   "source": [
    "#initialize the metric\n",
    "cqrcal=[]\n",
    "cqr90=[]\n",
    "cqrmae=[]"
   ]
  },
  {
   "cell_type": "code",
   "execution_count": 7,
   "metadata": {},
   "outputs": [
    {
     "name": "stdout",
     "output_type": "stream",
     "text": [
      "Dimensions: train set (n=700, p=2) ; test set (n=300, p=2)\n",
      "Dimensions: train set (n=700, p=2) ; test set (n=300, p=2)\n",
      "Dimensions: train set (n=700, p=2) ; test set (n=300, p=2)\n",
      "Dimensions: train set (n=700, p=2) ; test set (n=300, p=2)\n",
      "Dimensions: train set (n=700, p=2) ; test set (n=300, p=2)\n",
      "Dimensions: train set (n=700, p=2) ; test set (n=300, p=2)\n",
      "Dimensions: train set (n=700, p=2) ; test set (n=300, p=2)\n",
      "Dimensions: train set (n=700, p=2) ; test set (n=300, p=2)\n",
      "Dimensions: train set (n=700, p=2) ; test set (n=300, p=2)\n",
      "Dimensions: train set (n=700, p=2) ; test set (n=300, p=2)\n"
     ]
    }
   ],
   "source": [
    "np.random.seed(2021)\n",
    "for a in range(10):\n",
    "    train_x,train_y,test_x,test_y=rep_iter(x,y)\n",
    "\n",
    "    # compute input dimensions\n",
    "    n_train=len(train_x)\n",
    "    n_test=len(test_x)\n",
    "    in_shape = train_x.shape[1]\n",
    "\n",
    "    # display basic information\n",
    "    print(\"Dimensions: train set (n=%d, p=%d) ; test set (n=%d, p=%d)\" % \n",
    "          (train_x.shape[0], train_x.shape[1], test_x.shape[0], test_x.shape[1]))\n",
    "\n",
    "\n",
    "\n",
    "    # divide the data into proper training set and calibration set\n",
    "    idx = np.random.permutation(n_train)\n",
    "    n_half = int(np.floor(n_train/2))\n",
    "    idx_train, idx_cal = idx[:n_half], idx[n_half:2*n_half]\n",
    "\n",
    "    def cqr_lu(level):\n",
    "\n",
    "        # desired quanitile levels\n",
    "        quantiles = [0.5-level/2, 0.5+level/2]\n",
    "        # target quantile levels\n",
    "        quantiles_forest = [quantiles[0]*100, quantiles[1]*100]\n",
    "\n",
    "        # desired miscoverage error\n",
    "        alpha = 1-level\n",
    "\n",
    "\n",
    "        # define QRF model\n",
    "        quantile_estimator = helper.QuantileForestRegressorAdapter(model=None,\n",
    "                                                               fit_params=None,\n",
    "                                                               quantiles=quantiles_forest,\n",
    "                                                               params=params_qforest)\n",
    "\n",
    "        # define the CQR object\n",
    "        nc = RegressorNc(quantile_estimator, QuantileRegErrFunc())\n",
    "\n",
    "        # run CQR procedure\n",
    "        y_lower, y_upper = helper.run_icp(nc, train_x, train_y, test_x, idx_train, idx_cal, alpha)\n",
    "\n",
    "        return y_lower,y_upper\n",
    "\n",
    "\n",
    "    \n",
    "    \n",
    "    #####calculate metrics##############\n",
    "\n",
    "    per=np.linspace(0.02,0.98,8) #quantile to study calibration\n",
    "\n",
    "    cqrc=[]\n",
    "\n",
    "    for i in per:\n",
    "        lquantile,rquantile=cqr_lu(i)\n",
    "        cqrc.append(np.mean((test_y<rquantile)*(test_y>lquantile)))\n",
    "\n",
    "    cqrcal.append(np.abs(cqrc-per).mean())\n",
    "    \n",
    "    #ninty\n",
    "    lquantile90,rquantile90=cqr_lu(0.9)\n",
    "    cqr90.append(np.mean((test_y<rquantile90)*(test_y>lquantile90)))\n",
    "    \n",
    "    \n",
    "    #mae    \n",
    "    lquantile50,rquantile50=cqr_lu(0.02)\n",
    "    cqrmae.append(np.abs((lquantile50+rquantile50)/2.-test_x[:,0]).mean())\n",
    "\n",
    "\n"
   ]
  },
  {
   "cell_type": "code",
   "execution_count": 11,
   "metadata": {},
   "outputs": [
    {
     "name": "stdout",
     "output_type": "stream",
     "text": [
      "0.01936309523809523 0.01021831734454072\n",
      "0.8960000000000001 0.018726095873584165\n",
      "0.7282353703063421 0.07346460594281316\n"
     ]
    }
   ],
   "source": [
    "def musd(x):\n",
    "    print(np.mean(x),np.std(x))\n",
    "\n",
    "musd(cqrcal)\n",
    "musd(cqr90)\n",
    "musd(cqrmae)\n",
    "\n"
   ]
  },
  {
   "cell_type": "code",
   "execution_count": null,
   "metadata": {},
   "outputs": [],
   "source": []
  }
 ],
 "metadata": {
  "kernelspec": {
   "display_name": "Python 3",
   "language": "python",
   "name": "python3"
  },
  "language_info": {
   "codemirror_mode": {
    "name": "ipython",
    "version": 3
   },
   "file_extension": ".py",
   "mimetype": "text/x-python",
   "name": "python",
   "nbconvert_exporter": "python",
   "pygments_lexer": "ipython3",
   "version": "3.7.5"
  }
 },
 "nbformat": 4,
 "nbformat_minor": 2
}
