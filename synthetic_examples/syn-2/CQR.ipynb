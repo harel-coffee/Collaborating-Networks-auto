{
 "cells": [
  {
   "cell_type": "markdown",
   "metadata": {},
   "source": [
    "### Conformalized quantile regression(CQR)"
   ]
  },
  {
   "cell_type": "markdown",
   "metadata": {},
   "source": [
    "The link to the original paper\n",
    "http://papers.neurips.cc/paper/8613-conformalized-quantile-regression.pdf\n",
    "\n",
    "We use the package in the following link for experiment\n",
    "\n",
    "https://github.com/yromano/cqr\n",
    "\n",
    "Note that we use this CQR for median, calibration, and 90% interval only. \n",
    "\n",
    "We use the model under the random forest specification with symmetric interval and recommended hyperparameter from the package example"
   ]
  },
  {
   "cell_type": "code",
   "execution_count": 1,
   "metadata": {
    "scrolled": true
   },
   "outputs": [],
   "source": [
    "import warnings\n",
    "warnings.filterwarnings('ignore')\n",
    "\n",
    "import matplotlib\n",
    "matplotlib.use('Agg')\n",
    "import matplotlib.pyplot as plt\n",
    "\n",
    "import numpy as np\n",
    "np.warnings.filterwarnings('ignore')\n",
    "\n",
    "import torch\n",
    "\n",
    "from sklearn.preprocessing import StandardScaler\n",
    "from sklearn.model_selection import train_test_split\n",
    "\n",
    "\n",
    "from cqr import helper\n",
    "from nonconformist.nc import RegressorNc\n",
    "from nonconformist.cp import IcpRegressor\n",
    "from nonconformist.nc import QuantileRegErrFunc\n",
    "\n",
    "%matplotlib inline"
   ]
  },
  {
   "cell_type": "markdown",
   "metadata": {},
   "source": [
    "### load data"
   ]
  },
  {
   "cell_type": "code",
   "execution_count": 2,
   "metadata": {},
   "outputs": [
    {
     "name": "stdout",
     "output_type": "stream",
     "text": [
      "Dimensions: train set (n=700, p=2) ; test set (n=300, p=2)\n"
     ]
    }
   ],
   "source": [
    "np.random.seed(2020)\n",
    "\n",
    "# generate weibull distribution parameter\n",
    "shape=np.random.uniform(1,5,1000)\n",
    "scale=np.random.uniform(0.5,2,1000)\n",
    "\n",
    "\n",
    "# the full design matrix\n",
    "x=np.c_[shape,scale]\n",
    "\n",
    "\n",
    "y=(np.random.weibull(shape,size=1000)*scale).reshape(-1,1)\n",
    "\n",
    "\n",
    "train_x=x[:700,:]\n",
    "train_y=y[:700].ravel()\n",
    "\n",
    "test_x=x[700:,:]\n",
    "test_y=y[700:].ravel()\n",
    "\n",
    "# compute input dimensions\n",
    "n_train=len(train_x)\n",
    "n_test=len(test_x)\n",
    "in_shape = train_x.shape[1]\n",
    "\n",
    "# display basic information\n",
    "print(\"Dimensions: train set (n=%d, p=%d) ; test set (n=%d, p=%d)\" % \n",
    "      (train_x.shape[0], train_x.shape[1], test_x.shape[0], test_x.shape[1]))\n",
    "\n",
    "\n",
    "\n",
    "# divide the data into proper training set and calibration set\n",
    "idx = np.random.permutation(n_train)\n",
    "n_half = int(np.floor(n_train/2))\n",
    "idx_train, idx_cal = idx[:n_half], idx[n_half:2*n_half]"
   ]
  },
  {
   "cell_type": "markdown",
   "metadata": {},
   "source": [
    "### hyperparameter"
   ]
  },
  {
   "cell_type": "code",
   "execution_count": 3,
   "metadata": {},
   "outputs": [],
   "source": [
    "#########################################################\n",
    "# Quantile random forests parameters\n",
    "# (See QuantileForestRegressorAdapter class in helper.py)\n",
    "#########################################################\n",
    "\n",
    "# the number of trees in the forest\n",
    "n_estimators = 1000\n",
    "\n",
    "# the minimum number of samples required to be at a leaf node\n",
    "# (default skgarden's parameter)\n",
    "min_samples_leaf = 1\n",
    "\n",
    "# the number of features to consider when looking for the best split\n",
    "# (default skgarden's parameter)\n",
    "max_features = train_x.shape[1]\n",
    "\n",
    "\n",
    "# use cross-validation to tune the quantile levels?\n",
    "cv_qforest = True\n",
    "\n",
    "# when tuning the two QRF quantile levels one may\n",
    "# ask for a prediction band with smaller average coverage\n",
    "# to avoid too conservative estimation of the prediction band\n",
    "# This would be equal to coverage_factor*(quantiles[1] - quantiles[0])\n",
    "coverage_factor = 0.85\n",
    "\n",
    "# ratio of held-out data, used in cross-validation\n",
    "cv_test_ratio = 0.05\n",
    "\n",
    "# seed for splitting the data in cross-validation.\n",
    "# Also used as the seed in quantile random forests function\n",
    "cv_random_state = 1\n",
    "\n",
    "# determines the lowest and highest quantile level parameters.\n",
    "# This is used when tuning the quanitle levels by cross-validation.\n",
    "# The smallest value is equal to quantiles[0] - range_vals.\n",
    "# Similarly, the largest value is equal to quantiles[1] + range_vals.\n",
    "cv_range_vals = 30\n",
    "\n",
    "# sweep over a grid of length num_vals when tuning QRF's quantile parameters                   \n",
    "cv_num_vals = 10\n",
    "\n",
    "\n",
    "# define the QRF's parameters \n",
    "params_qforest = dict()\n",
    "params_qforest[\"n_estimators\"] = n_estimators\n",
    "params_qforest[\"min_samples_leaf\"] = min_samples_leaf\n",
    "params_qforest[\"max_features\"] = max_features\n",
    "params_qforest[\"CV\"] = cv_qforest\n",
    "params_qforest[\"coverage_factor\"] = coverage_factor\n",
    "params_qforest[\"test_ratio\"] = cv_test_ratio\n",
    "params_qforest[\"random_state\"] = cv_random_state\n",
    "params_qforest[\"range_vals\"] = cv_range_vals\n",
    "params_qforest[\"num_vals\"] = cv_num_vals"
   ]
  },
  {
   "cell_type": "markdown",
   "metadata": {},
   "source": [
    "### CQR model that return the lower and upper conditional quantile"
   ]
  },
  {
   "cell_type": "code",
   "execution_count": 4,
   "metadata": {},
   "outputs": [],
   "source": [
    "def cqr_lu(level):\n",
    "    \n",
    "    # desired quanitile levels\n",
    "    quantiles = [0.5-level/2, 0.5+level/2]\n",
    "    # target quantile levels\n",
    "    quantiles_forest = [quantiles[0]*100, quantiles[1]*100]\n",
    "\n",
    "    # desired miscoverage error\n",
    "    alpha = 1-level\n",
    "\n",
    "\n",
    "    # define QRF model\n",
    "    quantile_estimator = helper.QuantileForestRegressorAdapter(model=None,\n",
    "                                                           fit_params=None,\n",
    "                                                           quantiles=quantiles_forest,\n",
    "                                                           params=params_qforest)\n",
    "        \n",
    "    # define the CQR object\n",
    "    nc = RegressorNc(quantile_estimator, QuantileRegErrFunc())\n",
    "\n",
    "    # run CQR procedure\n",
    "    y_lower, y_upper = helper.run_icp(nc, train_x, train_y, test_x, idx_train, idx_cal, alpha)\n",
    "\n",
    "    return y_lower,y_upper"
   ]
  },
  {
   "cell_type": "markdown",
   "metadata": {},
   "source": [
    "#### calibration"
   ]
  },
  {
   "cell_type": "code",
   "execution_count": 5,
   "metadata": {},
   "outputs": [],
   "source": [
    "per=np.linspace(0.02,0.98,8)"
   ]
  },
  {
   "cell_type": "code",
   "execution_count": 6,
   "metadata": {},
   "outputs": [],
   "source": [
    "#generate confidence interval estimated mean and std\n",
    "cqrc=[]\n",
    "\n",
    "per=np.linspace(0.02,0.98,8)\n",
    "for i in per:\n",
    "    lquantile,rquantile=cqr_lu(i)\n",
    "    cqrc.append(np.mean((test_y.ravel()<rquantile.ravel())*(test_y.ravel()>lquantile.ravel())))\n"
   ]
  },
  {
   "cell_type": "code",
   "execution_count": 7,
   "metadata": {},
   "outputs": [
    {
     "data": {
      "text/plain": [
       "([0.02666666666666667,\n",
       "  0.17666666666666667,\n",
       "  0.3333333333333333,\n",
       "  0.46,\n",
       "  0.6166666666666667,\n",
       "  0.73,\n",
       "  0.8833333333333333,\n",
       "  0.9766666666666667],\n",
       " 0.02624999999999996)"
      ]
     },
     "execution_count": 7,
     "metadata": {},
     "output_type": "execute_result"
    }
   ],
   "source": [
    "cqrc,np.abs(cqrc-per).mean()"
   ]
  },
  {
   "cell_type": "code",
   "execution_count": 8,
   "metadata": {},
   "outputs": [
    {
     "data": {
      "image/png": "[encoded data removed]",
      "text/plain": [
       "<Figure size 360x360 with 1 Axes>"
      ]
     },
     "metadata": {
      "needs_background": "light"
     },
     "output_type": "display_data"
    }
   ],
   "source": [
    "plt.plot(per,cqrc,'o-',label='DP')\n",
    "plt.xlabel('Predicted Level of Confidence Interval')\n",
    "plt.ylabel('True Coverage of Confidence Interval')\n",
    "plt.legend()\n",
    "plt.plot([0,1],[0,1],'k--')\n",
    "fig = plt.gcf()\n",
    "fig.set_size_inches(5,5)"
   ]
  },
  {
   "cell_type": "markdown",
   "metadata": {},
   "source": [
    "#### 90% CI"
   ]
  },
  {
   "cell_type": "code",
   "execution_count": 9,
   "metadata": {},
   "outputs": [
    {
     "data": {
      "text/plain": [
       "0.92"
      ]
     },
     "execution_count": 9,
     "metadata": {},
     "output_type": "execute_result"
    }
   ],
   "source": [
    "lquantile,rquantile=cqr_lu(0.9)\n",
    "(np.mean((test_y.ravel()<rquantile.ravel())*(test_y.ravel()>lquantile.ravel())))"
   ]
  },
  {
   "cell_type": "code",
   "execution_count": null,
   "metadata": {},
   "outputs": [],
   "source": []
  },
  {
   "cell_type": "markdown",
   "metadata": {},
   "source": [
    "####  MAE"
   ]
  },
  {
   "cell_type": "code",
   "execution_count": 12,
   "metadata": {},
   "outputs": [
    {
     "data": {
      "text/plain": [
       "0.47985032581537934"
      ]
     },
     "execution_count": 12,
     "metadata": {},
     "output_type": "execute_result"
    }
   ],
   "source": [
    "lquantile,rquantile=cqr_lu(0.02)\n",
    "np.abs((lquantile+rquantile)/2.-test_y).mean()"
   ]
  },
  {
   "cell_type": "code",
   "execution_count": 49,
   "metadata": {},
   "outputs": [
    {
     "data": {
      "text/plain": [
       "1.9253900577993857"
      ]
     },
     "execution_count": 49,
     "metadata": {},
     "output_type": "execute_result"
    }
   ],
   "source": [
    "np.abs(test_y-np.median(test_y)).mean()"
   ]
  },
  {
   "cell_type": "code",
   "execution_count": null,
   "metadata": {},
   "outputs": [],
   "source": []
  }
 ],
 "metadata": {
  "kernelspec": {
   "display_name": "Python 3",
   "language": "python",
   "name": "python3"
  },
  "language_info": {
   "codemirror_mode": {
    "name": "ipython",
    "version": 3
   },
   "file_extension": ".py",
   "mimetype": "text/x-python",
   "name": "python",
   "nbconvert_exporter": "python",
   "pygments_lexer": "ipython3",
   "version": "3.7.5"
  }
 },
 "nbformat": 4,
 "nbformat_minor": 2
}
