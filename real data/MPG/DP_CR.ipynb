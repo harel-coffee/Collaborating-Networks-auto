{
 "cells": [
  {
   "cell_type": "code",
   "execution_count": null,
   "metadata": {
    "colab": {
     "base_uri": "https://localhost:8080/",
     "height": 71
    },
    "colab_type": "code",
    "executionInfo": {
     "elapsed": 3532,
     "status": "ok",
     "timestamp": 1599705196890,
     "user": {
      "displayName": "z thui",
      "photoUrl": "",
      "userId": "08749963318503558861"
     },
     "user_tz": 240
    },
    "id": "vZj0YbtYnwlt",
    "outputId": "8c287f5d-cba8-49ba-d4dc-1c884e54f32f"
   },
   "outputs": [],
   "source": [
    "import sys \n",
    "import numpy as np # linear algebra\n",
    "from scipy.stats import randint\n",
    "import matplotlib.pyplot as plt # this is used for the plot the graph \n",
    "import tensorflow_probability as tfp\n",
    "from tqdm import tnrange, tqdm_notebook\n",
    "import seaborn as sns\n",
    "import tensorflow as tf\n",
    "from scipy import stats\n",
    "tfd=tfp.distributions\n",
    "from tensorflow import keras\n",
    "from tensorflow.keras.regularizers import l2\n",
    "from tensorflow.keras import Input\n",
    "from tensorflow.keras.layers import Dropout\n",
    "from tensorflow.keras.layers import Dense\n",
    "from tensorflow.keras import Model\n",
    "from tqdm import notebook\n",
    "from sklearn.model_selection import KFold\n"
   ]
  },
  {
   "cell_type": "code",
   "execution_count": null,
   "metadata": {
    "colab": {},
    "colab_type": "code",
    "id": "61GwDdDInwlx"
   },
   "outputs": [],
   "source": [
    "%matplotlib inline"
   ]
  },
  {
   "cell_type": "markdown",
   "metadata": {
    "colab_type": "text",
    "id": "Lttd4UtHnwl0"
   },
   "source": [
    "### Load Data"
   ]
  },
  {
   "cell_type": "code",
   "execution_count": null,
   "metadata": {
    "colab": {},
    "colab_type": "code",
    "id": "1X3jMOf8nwl1"
   },
   "outputs": [],
   "source": [
    "train=np.load('Train.npy')\n",
    "test=np.load('Test.npy')\n",
    "\n",
    "train_x=train[:,:-1]\n",
    "train_y=train[:,-1].reshape(-1,1)*4.  #to avoid to small a variability\n",
    "\n",
    "test_x=test[:,:-1]\n",
    "test_y=test[:,-1].reshape(-1,1)*4.  #to avoid to small a variability \n",
    "\n",
    "ntrain=len(train_x)\n",
    "ntest=len(test_x)\n"
   ]
  },
  {
   "cell_type": "markdown",
   "metadata": {
    "colab_type": "text",
    "id": "-0zbc62Knwl_"
   },
   "source": [
    "Code refer to {https://github.com/yaringal/DropoutUncertaintyExps/blob/master/net}"
   ]
  },
  {
   "cell_type": "markdown",
   "metadata": {
    "colab_type": "text",
    "id": "wrkZB-wQnwmA"
   },
   "source": [
    "###  MC-Dropout(DP)"
   ]
  },
  {
   "cell_type": "markdown",
   "metadata": {
    "colab_type": "text",
    "id": "A_-FwPWkPP3J"
   },
   "source": [
    "#### normalization function"
   ]
  },
  {
   "cell_type": "code",
   "execution_count": null,
   "metadata": {
    "colab": {},
    "colab_type": "code",
    "id": "aybXJXWyh_Ln"
   },
   "outputs": [],
   "source": []
  },
  {
   "cell_type": "code",
   "execution_count": null,
   "metadata": {
    "colab": {},
    "colab_type": "code",
    "id": "xBRgWZhjNuAe"
   },
   "outputs": [],
   "source": [
    "##define a normalization function\n",
    "def norm_data(train, test,norm=True):\n",
    "    std_train=np.ones(train.shape[1])\n",
    "    mu_train=np.zeros(train.shape[1])\n",
    "    if(norm):\n",
    "        std_train = np.std(train, 0)\n",
    "        mu_train=np.mean(train,0)\n",
    "\n",
    "    train=(train - np.full(train.shape, mu_train)) / \\\n",
    "            np.full(train.shape, std_train)\n",
    "    test=(test - np.full(test.shape, mu_train)) / \\\n",
    "            np.full(test.shape, std_train)\n",
    "    return train,test,mu_train,std_train"
   ]
  },
  {
   "cell_type": "code",
   "execution_count": null,
   "metadata": {
    "colab": {},
    "colab_type": "code",
    "id": "60DNVOU8EQj9"
   },
   "outputs": [],
   "source": [
    "\n",
    "# train_x,test_x,_,_=norm_data(train_x,test_x,norm=False)\n",
    "# train_y,_,muy,stdy=norm_data(train_y,test_y,norm=False)"
   ]
  },
  {
   "cell_type": "markdown",
   "metadata": {
    "colab_type": "text",
    "id": "e53iq2QOPUne"
   },
   "source": [
    "### define model"
   ]
  },
  {
   "cell_type": "code",
   "execution_count": null,
   "metadata": {
    "colab": {},
    "colab_type": "code",
    "id": "oP7U_uDBnwmI"
   },
   "outputs": [],
   "source": [
    "class MCdp:\n",
    "    def __init__(self,tau,dropout):\n",
    "        self.tau=tau\n",
    "        self.dropout=dropout\n",
    "\n",
    "    #use normal approximation for output, by drawing 1000 samples\n",
    "    def model_musd(self,trainx,trainy,testx):    \n",
    "        # construct the network\n",
    "        N = len(trainx)\n",
    "        batch_size = 128\n",
    "        lengthscale = 1e-2\n",
    "        reg = lengthscale**2 * (1 - self.dropout) / (2. * N * self.tau)\n",
    "        inputs = Input(shape=(train_x.shape[1],))\n",
    "        inter = Dropout(self.dropout)(inputs, training=True)\n",
    "        inter = Dense(100, activation='relu',kernel_regularizer=l2(reg))(inputs)\n",
    "        inter = Dropout(self.dropout)(inter, training=True)\n",
    "        inter = Dense(50, activation='relu',kernel_regularizer=l2(reg))(inter)\n",
    "        inter = Dropout(self.dropout)(inter, training=True)\n",
    "        outputs = Dense(1,kernel_regularizer=l2(reg))(inter)\n",
    "        model= Model(inputs,outputs)\n",
    "        opt = keras.optimizers.Adam()\n",
    "        model.compile(loss='mean_squared_error', optimizer=opt)\n",
    "        model.fit(train_x, train_y, batch_size=batch_size, epochs=300, verbose=0)\n",
    "\n",
    "        #generate 1000 posterior samples\n",
    "        ntest=len(testx)\n",
    "        Yt_hat=np.zeros((1000,ntest))\n",
    "        for t in notebook.tnrange(1000):\n",
    "            mu=model.predict(testx, batch_size=128,verbose=0).ravel() \n",
    "            Yt_hat[t,:] = mu\n",
    "        MC_pred=np.mean(Yt_hat, 0)\n",
    "\n",
    "        MC_std=np.sqrt(np.diag((Yt_hat.T@Yt_hat)/1000)-MC_pred**2+1./self.tau)\n",
    "        return MC_pred, MC_std\n",
    "\n"
   ]
  },
  {
   "cell_type": "markdown",
   "metadata": {
    "colab_type": "text",
    "id": "adOuZ5vpPaWR"
   },
   "source": [
    "#### 5-fold cross validation for parameter tuning"
   ]
  },
  {
   "cell_type": "code",
   "execution_count": null,
   "metadata": {
    "colab": {},
    "colab_type": "code",
    "id": "4KNUi7twCwyw"
   },
   "outputs": [],
   "source": [
    "tauval=[0.25,0.5,0.75]\n",
    "dpval=[0.01,0.05,0.1]\n",
    "hyperparam=np.zeros((9,2))\n",
    "hyperparam[:,0]=np.repeat(tauval,3)\n",
    "hyperparam[:,1]=np.tile(dpval,3)"
   ]
  },
  {
   "cell_type": "code",
   "execution_count": null,
   "metadata": {
    "colab": {},
    "colab_type": "code",
    "id": "agecEXPcC2e5"
   },
   "outputs": [],
   "source": [
    "## create 5 folds\n",
    "id = np.arange(len(train_x))\n",
    "kf = KFold(n_splits=5)\n",
    "tuneresult=[]\n",
    "\n",
    "\n",
    "for i in range(len(hyperparam)):\n",
    "    \n",
    "    ## tuning parameter\n",
    "    tautmp=hyperparam[i,0]\n",
    "    dptmp=hyperparam[i,1]\n",
    "\n",
    "    for trainid, testid in kf.split(id):\n",
    "        mcdptmp=MCdp(tautmp,dptmp)\n",
    "        mutmp,stdtmp=mcdptmp.model_musd(train_x[trainid],train_y[trainid],train_x[testid])\n",
    "\n",
    "        ## extract validation y\n",
    "        testytmp=train_y[testid]\n",
    "           \n",
    "        ##likelihood\n",
    "        low=np.quantile(testytmp,0.05)\n",
    "        high=np.quantile(testytmp,0.95)\n",
    "        itv=np.linspace(low,high,9)\n",
    "        itv=np.append(-np.infty,itv)\n",
    "        itv=np.append(itv,np.infty)\n",
    "        #outcome1 belongs to which interval\n",
    "        ids=np.zeros(len(testytmp))\n",
    "        for i in range(10):\n",
    "            ids=ids+1*(testytmp.ravel()>itv[i+1])\n",
    "        ids=ids.astype('int')\n",
    "        \n",
    "\n",
    "        l=(itv[ids]-mutmp)/stdtmp\n",
    "        r=(itv[ids+1]-mutmp)/stdtmp\n",
    "        prtmp=stats.norm.cdf(r)-stats.norm.cdf(l)\n",
    "        ll_est=np.log(prtmp+1.e-10)\n",
    "        \n",
    "        tuneresult.append(ll_est.mean())            \n",
    "\n"
   ]
  },
  {
   "cell_type": "code",
   "execution_count": null,
   "metadata": {
    "colab": {
     "base_uri": "https://localhost:8080/",
     "height": 170
    },
    "colab_type": "code",
    "executionInfo": {
     "elapsed": 345,
     "status": "ok",
     "timestamp": 1599542983769,
     "user": {
      "displayName": "z thui",
      "photoUrl": "",
      "userId": "08749963318503558861"
     },
     "user_tz": 240
    },
    "id": "S67UCGk0bJ5M",
    "outputId": "b8881798-3be2-40ef-b32d-6c25f5c5219b"
   },
   "outputs": [],
   "source": [
    "list(zip([np.mean(tuneresult[i*5:(i+1)*5]) for i in range(9)],hyperparam))"
   ]
  },
  {
   "cell_type": "markdown",
   "metadata": {
    "colab_type": "text",
    "id": "BXvfLRgD-TA-"
   },
   "source": [
    "### We choose tau=0.25,dp=0.01 as the best tunning parameter for model fitting"
   ]
  },
  {
   "cell_type": "code",
   "execution_count": null,
   "metadata": {
    "colab": {
     "base_uri": "https://localhost:8080/",
     "height": 66,
     "referenced_widgets": [
      "338beeb97f044d5a942bd02c6a401e2a",
      "7c4c26a5056846ccbb814d2985ea79fb",
      "c59a961d1ceb413faf0567ffc5e05722",
      "9f9174023bea4c9d92f531bd61cb7fd9",
      "f60b08d62b794b07b6328cf8c4d93191",
      "4ead6ed82f99488a8962eb4cb4308c1f",
      "904ae9ebd1b34256b2bae26315da0b08",
      "fa2043753ba741f089c0bf742da600e3"
     ]
    },
    "colab_type": "code",
    "executionInfo": {
     "elapsed": 50283,
     "status": "ok",
     "timestamp": 1599705306073,
     "user": {
      "displayName": "z thui",
      "photoUrl": "",
      "userId": "08749963318503558861"
     },
     "user_tz": 240
    },
    "id": "ZTwiuSLwDZbr",
    "outputId": "4d3c5204-4ebb-40d8-bdb6-9867178b074b"
   },
   "outputs": [],
   "source": [
    "mcdptuned=MCdp(0.25,0.01)\n",
    "\n",
    "dpmu,dpstd=mcdptuned.model_musd(train_x,train_y,test_x)\n",
    "\n"
   ]
  },
  {
   "cell_type": "markdown",
   "metadata": {
    "colab_type": "text",
    "id": "W5MPMvr_1_oK"
   },
   "source": [
    "## evaluation"
   ]
  },
  {
   "cell_type": "markdown",
   "metadata": {
    "colab_type": "text",
    "id": "KRoW_mA1MfLS"
   },
   "source": [
    "### median by MAE"
   ]
  },
  {
   "cell_type": "code",
   "execution_count": null,
   "metadata": {
    "colab": {
     "base_uri": "https://localhost:8080/",
     "height": 34
    },
    "colab_type": "code",
    "executionInfo": {
     "elapsed": 354,
     "status": "ok",
     "timestamp": 1599705326741,
     "user": {
      "displayName": "z thui",
      "photoUrl": "",
      "userId": "08749963318503558861"
     },
     "user_tz": 240
    },
    "id": "xGkJ7e7v-GgY",
    "outputId": "3f15cef9-1dd9-49c9-d9bc-09c62c9c5fb3"
   },
   "outputs": [],
   "source": [
    "np.abs(dpmu-test_y.ravel()).mean()/4."
   ]
  },
  {
   "cell_type": "markdown",
   "metadata": {
    "colab_type": "text",
    "id": "5vIQE8OoMySr"
   },
   "source": [
    "### calibration"
   ]
  },
  {
   "cell_type": "code",
   "execution_count": null,
   "metadata": {
    "colab": {},
    "colab_type": "code",
    "id": "REIPZIvrnwmR"
   },
   "outputs": [],
   "source": [
    "per=np.linspace(0.02,0.98,8)"
   ]
  },
  {
   "cell_type": "code",
   "execution_count": null,
   "metadata": {
    "colab": {
     "base_uri": "https://localhost:8080/",
     "height": 34
    },
    "colab_type": "code",
    "executionInfo": {
     "elapsed": 284,
     "status": "ok",
     "timestamp": 1599705334956,
     "user": {
      "displayName": "z thui",
      "photoUrl": "",
      "userId": "08749963318503558861"
     },
     "user_tz": 240
    },
    "id": "kc-qVsg8nwmT",
    "outputId": "fd8587f5-da6d-483d-b56b-e99e01bd4a91"
   },
   "outputs": [],
   "source": [
    "#generate confidence interval through sampling to approximate asymptotic distribution\n",
    "dpc=[]\n",
    "\n",
    "per=np.linspace(0.02,0.98,8)\n",
    "for i in per:\n",
    "    lquantile=(stats.norm.ppf(0.5-i/2.)*dpstd+dpmu)\n",
    "    rquantile=(stats.norm.ppf(0.5+i/2.)*dpstd+dpmu)\n",
    "    dpc.append(np.mean((test_y.ravel()<rquantile.ravel())*(test_y.ravel()>lquantile.ravel())))\n",
    "\n",
    "l90=(stats.norm.ppf(0.5-0.9/2.)*dpstd+dpmu)\n",
    "r90=(stats.norm.ppf(0.5+0.9/2.)*dpstd+dpmu)\n",
    "np.mean((test_y.ravel()<r90.ravel())*(test_y.ravel()>l90.ravel()))    "
   ]
  },
  {
   "cell_type": "code",
   "execution_count": null,
   "metadata": {
    "colab": {
     "base_uri": "https://localhost:8080/",
     "height": 51
    },
    "colab_type": "code",
    "executionInfo": {
     "elapsed": 546,
     "status": "ok",
     "timestamp": 1599705353521,
     "user": {
      "displayName": "z thui",
      "photoUrl": "",
      "userId": "08749963318503558861"
     },
     "user_tz": 240
    },
    "id": "yt7bIj48Hjuv",
    "outputId": "6859c8c6-a03b-4c22-9303-db107377a277"
   },
   "outputs": [],
   "source": [
    "np.array(dpc),np.abs(dpc-per).mean()"
   ]
  },
  {
   "cell_type": "code",
   "execution_count": null,
   "metadata": {
    "colab": {
     "base_uri": "https://localhost:8080/",
     "height": 334
    },
    "colab_type": "code",
    "executionInfo": {
     "elapsed": 590,
     "status": "ok",
     "timestamp": 1599705399365,
     "user": {
      "displayName": "z thui",
      "photoUrl": "",
      "userId": "08749963318503558861"
     },
     "user_tz": 240
    },
    "id": "8buYBpDhnwmW",
    "outputId": "a2f888c3-1097-4eff-d8ab-e73665534808"
   },
   "outputs": [],
   "source": [
    "plt.plot(per,dpc,'o-',label='DP')\n",
    "plt.xlabel('Predicted Level of Confidence Interval')\n",
    "plt.ylabel('True Coverage of Confidence Interval')\n",
    "plt.legend()\n",
    "plt.plot([0,1],[0,1],'k--')\n",
    "fig = plt.gcf()\n",
    "fig.set_size_inches(5,5)"
   ]
  },
  {
   "cell_type": "markdown",
   "metadata": {
    "colab_type": "text",
    "id": "dkArRHH_M2vt"
   },
   "source": [
    "### log likelihood\n"
   ]
  },
  {
   "cell_type": "code",
   "execution_count": null,
   "metadata": {
    "colab": {},
    "colab_type": "code",
    "id": "hg8t7Go6MS9o"
   },
   "outputs": [],
   "source": [
    "##likelihood\n",
    "low=np.quantile(test_y,0.05)\n",
    "high=np.quantile(test_y,0.95)\n",
    "itv=np.linspace(low,high,9)\n",
    "itv=np.append(-np.infty,itv)\n",
    "itv=np.append(itv,np.infty)\n",
    "#outcome1 belongs to which interval\n",
    "id=np.zeros(len(test_y))\n",
    "for i in range(10):\n",
    "    id=id+1*(test_y.ravel()>itv[i+1])\n",
    "id=id.astype('int')"
   ]
  },
  {
   "cell_type": "code",
   "execution_count": null,
   "metadata": {
    "colab": {
     "base_uri": "https://localhost:8080/",
     "height": 34
    },
    "colab_type": "code",
    "executionInfo": {
     "elapsed": 319,
     "status": "ok",
     "timestamp": 1599705404604,
     "user": {
      "displayName": "z thui",
      "photoUrl": "",
      "userId": "08749963318503558861"
     },
     "user_tz": 240
    },
    "id": "0YKDsGZwM52Z",
    "outputId": "91d37f1d-5514-4159-d41b-34420f1ba26a"
   },
   "outputs": [],
   "source": [
    "\n",
    "l=(itv[id]-dpmu)/dpstd\n",
    "r=(itv[id+1]-dpmu)/dpstd\n",
    "prtmp=stats.norm.cdf(r)-stats.norm.cdf(l)\n",
    "ll_est=np.log(prtmp+1.e-10)\n",
    "ll_est.mean()"
   ]
  },
  {
   "cell_type": "markdown",
   "metadata": {
    "colab_type": "text",
    "id": "g8JQQXYLVpRN"
   },
   "source": [
    "#### Interval width"
   ]
  },
  {
   "cell_type": "code",
   "execution_count": null,
   "metadata": {
    "colab": {
     "base_uri": "https://localhost:8080/",
     "height": 51
    },
    "colab_type": "code",
    "executionInfo": {
     "elapsed": 339,
     "status": "ok",
     "timestamp": 1599705411913,
     "user": {
      "displayName": "z thui",
      "photoUrl": "",
      "userId": "08749963318503558861"
     },
     "user_tz": 240
    },
    "id": "6FrA7kl1VvnN",
    "outputId": "0bcdf5bd-2a25-4cb2-e7f5-e1de235a9fd4"
   },
   "outputs": [],
   "source": [
    "dpwidth=np.median(dpstd)*stats.norm.ppf(per/2+0.5)*2./4.\n",
    "dpwidth"
   ]
  },
  {
   "cell_type": "code",
   "execution_count": null,
   "metadata": {
    "colab": {
     "base_uri": "https://localhost:8080/",
     "height": 337
    },
    "colab_type": "code",
    "executionInfo": {
     "elapsed": 498,
     "status": "ok",
     "timestamp": 1599705414146,
     "user": {
      "displayName": "z thui",
      "photoUrl": "",
      "userId": "08749963318503558861"
     },
     "user_tz": 240
    },
    "id": "Jq1AicR9PfrY",
    "outputId": "caac0ad5-28f0-4bd4-8411-3bb690b6f708"
   },
   "outputs": [],
   "source": [
    "### sharpness plot\n",
    "plt.figure(figsize=(5,5))\n",
    "plt.plot(dpc,dpwidth,'-*')\n"
   ]
  },
  {
   "cell_type": "markdown",
   "metadata": {
    "colab_type": "text",
    "id": "xONgpsH2YhaV"
   },
   "source": [
    "### recalibrate the coverage with CR"
   ]
  },
  {
   "cell_type": "markdown",
   "metadata": {
    "colab_type": "text",
    "id": "zfPycpU9MaOT"
   },
   "source": [
    "split training further into new training and calibration set 7/3"
   ]
  },
  {
   "cell_type": "code",
   "execution_count": null,
   "metadata": {
    "colab": {},
    "colab_type": "code",
    "id": "tYIESx_CJ68d"
   },
   "outputs": [],
   "source": [
    "id0=np.random.choice(ntrain,int(0.7*ntrain),replace=False)\n",
    "id1=np.array([i for i in np.arange(ntrain) if i not in id0])\n",
    "train_xnew=train_x[id0]\n",
    "cal_x=train_x[id1]\n",
    "train_ynew=train_y[id0,:]\n",
    "cal_y=train_y[id1,:]\n",
    "ncal=len(cal_x)"
   ]
  },
  {
   "cell_type": "code",
   "execution_count": null,
   "metadata": {
    "colab": {
     "base_uri": "https://localhost:8080/",
     "height": 66,
     "referenced_widgets": [
      "930634d06f2847e0b62893c2195b6746",
      "fcaee6c732a54a51b18be569630ead5c",
      "bee3abf6a88240db85a507049aa5c7ff",
      "405c91f98a2c46f3b0ed0117a730b892",
      "b73f8f2d7c9841e8b297c49ba5bf069a",
      "a7fb3767ac60422fa762b62ca8524789",
      "aaa2d2c18c5149ea9d371d01f2aaa902",
      "d6cef239535d47fbabcca656b367582c"
     ]
    },
    "colab_type": "code",
    "executionInfo": {
     "elapsed": 52490,
     "status": "ok",
     "timestamp": 1599707399752,
     "user": {
      "displayName": "z thui",
      "photoUrl": "",
      "userId": "08749963318503558861"
     },
     "user_tz": 240
    },
    "id": "ayNtitBOMvH0",
    "outputId": "59a4bca2-b2c6-4a14-c9cf-0c596e594584"
   },
   "outputs": [],
   "source": [
    "mcdptuned=MCdp(0.75,0.01)\n",
    "mutmp,stdtmp=mcdptuned.model_musd(train_xnew,train_ynew,np.r_[cal_x,test_x])\n",
    "mucal=mutmp[:ncal]\n",
    "stdcal=stdtmp[:ncal]\n",
    "dpmu=mutmp[ncal:]\n",
    "dpstd=stdtmp[ncal:]"
   ]
  },
  {
   "cell_type": "code",
   "execution_count": null,
   "metadata": {
    "colab": {
     "base_uri": "https://localhost:8080/",
     "height": 34
    },
    "colab_type": "code",
    "executionInfo": {
     "elapsed": 52644,
     "status": "ok",
     "timestamp": 1599706336802,
     "user": {
      "displayName": "z thui",
      "photoUrl": "",
      "userId": "08749963318503558861"
     },
     "user_tz": 240
    },
    "id": "S4eBE8Qz6n0k",
    "outputId": "5c17f7b8-b650-4c1c-b93b-aeb0e82c5d59"
   },
   "outputs": [],
   "source": [
    "ncal"
   ]
  },
  {
   "cell_type": "code",
   "execution_count": null,
   "metadata": {
    "colab": {},
    "colab_type": "code",
    "id": "LFoFLH_WYrU0"
   },
   "outputs": [],
   "source": [
    "## proposed value are our nominal belif\n",
    "proposep=np.linspace(0.001,0.999,260)\n",
    "truep=[]\n",
    "for i in proposep:\n",
    "    outtmp=stats.norm.ppf(i)*stdcal+mucal\n",
    "    truep.append((cal_y.ravel()<outtmp.ravel()).mean())\n",
    "truep=np.append(0,truep)\n",
    "truep=np.append(truep,1)\n",
    "\n",
    "proposep=np.append(0,proposep)\n",
    "proposep=np.append(proposep,1)\n",
    "\n",
    "\n"
   ]
  },
  {
   "cell_type": "code",
   "execution_count": null,
   "metadata": {
    "colab": {
     "base_uri": "https://localhost:8080/",
     "height": 282
    },
    "colab_type": "code",
    "executionInfo": {
     "elapsed": 483,
     "status": "ok",
     "timestamp": 1599707832634,
     "user": {
      "displayName": "z thui",
      "photoUrl": "",
      "userId": "08749963318503558861"
     },
     "user_tz": 240
    },
    "id": "N1ZveYGXZpfo",
    "outputId": "246ec2f2-7eaa-4627-e569-b8bb5412fafd"
   },
   "outputs": [],
   "source": [
    "## the relationship between nominal vs empirical quantiles\n",
    "plt.plot(truep,proposep,'.')"
   ]
  },
  {
   "cell_type": "code",
   "execution_count": null,
   "metadata": {
    "colab": {},
    "colab_type": "code",
    "id": "QZZdC8FOYr-5"
   },
   "outputs": [],
   "source": [
    "## use interpolation to learn the cr\n",
    "from scipy.interpolate import interp1d"
   ]
  },
  {
   "cell_type": "code",
   "execution_count": null,
   "metadata": {
    "colab": {},
    "colab_type": "code",
    "id": "Fg3Z1fHwZOLK"
   },
   "outputs": [],
   "source": [
    "## match true with realized quantiles\n",
    "cr= interp1d(truep, proposep)"
   ]
  },
  {
   "cell_type": "code",
   "execution_count": null,
   "metadata": {
    "colab": {
     "base_uri": "https://localhost:8080/",
     "height": 34
    },
    "colab_type": "code",
    "executionInfo": {
     "elapsed": 363,
     "status": "ok",
     "timestamp": 1599707850677,
     "user": {
      "displayName": "z thui",
      "photoUrl": "",
      "userId": "08749963318503558861"
     },
     "user_tz": 240
    },
    "id": "5npuAQbVbqNE",
    "outputId": "50fe1ca8-6256-4785-9df8-e12ae3a96514"
   },
   "outputs": [],
   "source": [
    "## mae\n",
    "\n",
    "np.abs(dpmu+dpstd*stats.norm.ppf(cr(0.5))-test_y.ravel()).mean()/4."
   ]
  },
  {
   "cell_type": "code",
   "execution_count": null,
   "metadata": {
    "colab": {
     "base_uri": "https://localhost:8080/",
     "height": 34
    },
    "colab_type": "code",
    "executionInfo": {
     "elapsed": 334,
     "status": "ok",
     "timestamp": 1599707852292,
     "user": {
      "displayName": "z thui",
      "photoUrl": "",
      "userId": "08749963318503558861"
     },
     "user_tz": 240
    },
    "id": "xKm0d8xTZOvx",
    "outputId": "bbc4db28-2d5d-4b02-fbe6-3673cdac9b3a"
   },
   "outputs": [],
   "source": [
    "##recalculate calibration\n",
    "dpcrc=[]\n",
    "\n",
    "per=np.linspace(0.02,0.98,8)\n",
    "for i in per:\n",
    "    lquantile=(stats.norm.ppf(cr(0.5-i/2.))*dpstd+dpmu)\n",
    "    rquantile=(stats.norm.ppf(cr(0.5+i/2.))*dpstd+dpmu)\n",
    "    dpcrc.append(np.mean((test_y.ravel()<rquantile.ravel())*(test_y.ravel()>lquantile.ravel())))\n",
    "\n",
    "l90=(stats.norm.ppf(cr(0.5-0.9/2.))*dpstd+dpmu)\n",
    "r90=(stats.norm.ppf(cr(0.5+0.9/2.))*dpstd+dpmu)\n",
    "np.mean((test_y.ravel()<r90.ravel())*(test_y.ravel()>l90.ravel()))    "
   ]
  },
  {
   "cell_type": "code",
   "execution_count": null,
   "metadata": {
    "colab": {
     "base_uri": "https://localhost:8080/",
     "height": 368
    },
    "colab_type": "code",
    "executionInfo": {
     "elapsed": 502,
     "status": "ok",
     "timestamp": 1599708006267,
     "user": {
      "displayName": "z thui",
      "photoUrl": "",
      "userId": "08749963318503558861"
     },
     "user_tz": 240
    },
    "id": "ZqotfTIaa-n6",
    "outputId": "c5d3b164-f95f-4ae3-a608-a2d77ce3d47f"
   },
   "outputs": [],
   "source": [
    "plt.plot(per,dpcrc,'o-',label='DP')\n",
    "plt.xlabel('Predicted Level of Confidence Interval')\n",
    "plt.ylabel('True Coverage of Confidence Interval')\n",
    "plt.legend()\n",
    "plt.plot([0,1],[0,1],'k--')\n",
    "fig = plt.gcf()\n",
    "fig.set_size_inches(5,5)\n",
    "(np.array(dpcrc),np.abs(dpcrc-per).mean())\n"
   ]
  },
  {
   "cell_type": "code",
   "execution_count": null,
   "metadata": {
    "colab": {
     "base_uri": "https://localhost:8080/",
     "height": 34
    },
    "colab_type": "code",
    "executionInfo": {
     "elapsed": 310,
     "status": "ok",
     "timestamp": 1599708180086,
     "user": {
      "displayName": "z thui",
      "photoUrl": "",
      "userId": "08749963318503558861"
     },
     "user_tz": 240
    },
    "id": "a3l-5eRubEVs",
    "outputId": "7a75427b-df57-4abb-a4e0-80e8f10db361"
   },
   "outputs": [],
   "source": [
    "## recalculate loglikelihood\n",
    "crinv= interp1d(proposep, truep)\n",
    "l=(itv[id]-dpmu)/dpstd\n",
    "r=(itv[id+1]-dpmu)/dpstd\n",
    "prtmp=crinv(stats.norm.cdf(r))-crinv(stats.norm.cdf(l))\n",
    "ll_est=np.log(prtmp+1.e-10)\n",
    "ll_est.mean()"
   ]
  },
  {
   "cell_type": "code",
   "execution_count": null,
   "metadata": {
    "colab": {
     "base_uri": "https://localhost:8080/",
     "height": 51
    },
    "colab_type": "code",
    "executionInfo": {
     "elapsed": 290,
     "status": "ok",
     "timestamp": 1599707866316,
     "user": {
      "displayName": "z thui",
      "photoUrl": "",
      "userId": "08749963318503558861"
     },
     "user_tz": 240
    },
    "id": "gYZYQYyPdf8L",
    "outputId": "968ab850-7e91-436a-9de1-fe5622d2606b"
   },
   "outputs": [],
   "source": [
    "## interval width\n",
    "dpcrwidth=np.median(dpstd)*(stats.norm.ppf(cr(per/2+0.5))-stats.norm.ppf(cr(-per/2+0.5)))/4.\n",
    "dpcrwidth"
   ]
  },
  {
   "cell_type": "code",
   "execution_count": null,
   "metadata": {
    "colab": {
     "base_uri": "https://localhost:8080/",
     "height": 337
    },
    "colab_type": "code",
    "executionInfo": {
     "elapsed": 536,
     "status": "ok",
     "timestamp": 1599708117930,
     "user": {
      "displayName": "z thui",
      "photoUrl": "",
      "userId": "08749963318503558861"
     },
     "user_tz": 240
    },
    "id": "ZHTsxVZWfM48",
    "outputId": "ef19eb17-15ce-40e8-ba85-46baeae3d6ca"
   },
   "outputs": [],
   "source": [
    "### sharpness plot\n",
    "plt.figure(figsize=(5,5))\n",
    "plt.plot(dpcrc,dpcrwidth,'-*')"
   ]
  },
  {
   "cell_type": "code",
   "execution_count": null,
   "metadata": {
    "colab": {},
    "colab_type": "code",
    "id": "emKGjyTtf9U6"
   },
   "outputs": [],
   "source": []
  },
  {
   "cell_type": "code",
   "execution_count": null,
   "metadata": {
    "colab": {},
    "colab_type": "code",
    "id": "xxGy00RMJEbR"
   },
   "outputs": [],
   "source": []
  }
 ],
 "metadata": {
  "colab": {
   "collapsed_sections": [],
   "name": "DP_CR.ipynb",
   "provenance": []
  },
  "kernelspec": {
   "display_name": "Python 3",
   "language": "python",
   "name": "python3"
  },
  "language_info": {
   "codemirror_mode": {
    "name": "ipython",
    "version": 3
   },
   "file_extension": ".py",
   "mimetype": "text/x-python",
   "name": "python",
   "nbconvert_exporter": "python",
   "pygments_lexer": "ipython3",
   "version": "3.7.5"
  },
  "widgets": {
   "application/vnd.jupyter.widget-state+json": {
    "338beeb97f044d5a942bd02c6a401e2a": {
     "model_module": "@jupyter-widgets/controls",
     "model_name": "HBoxModel",
     "state": {
      "_dom_classes": [],
      "_model_module": "@jupyter-widgets/controls",
      "_model_module_version": "1.5.0",
      "_model_name": "HBoxModel",
      "_view_count": null,
      "_view_module": "@jupyter-widgets/controls",
      "_view_module_version": "1.5.0",
      "_view_name": "HBoxView",
      "box_style": "",
      "children": [
       "IPY_MODEL_c59a961d1ceb413faf0567ffc5e05722",
       "IPY_MODEL_9f9174023bea4c9d92f531bd61cb7fd9"
      ],
      "layout": "IPY_MODEL_7c4c26a5056846ccbb814d2985ea79fb"
     }
    },
    "405c91f98a2c46f3b0ed0117a730b892": {
     "model_module": "@jupyter-widgets/controls",
     "model_name": "HTMLModel",
     "state": {
      "_dom_classes": [],
      "_model_module": "@jupyter-widgets/controls",
      "_model_module_version": "1.5.0",
      "_model_name": "HTMLModel",
      "_view_count": null,
      "_view_module": "@jupyter-widgets/controls",
      "_view_module_version": "1.5.0",
      "_view_name": "HTMLView",
      "description": "",
      "description_tooltip": null,
      "layout": "IPY_MODEL_d6cef239535d47fbabcca656b367582c",
      "placeholder": "​",
      "style": "IPY_MODEL_aaa2d2c18c5149ea9d371d01f2aaa902",
      "value": " 1000/1000 [00:48&lt;00:00, 20.59it/s]"
     }
    },
    "4ead6ed82f99488a8962eb4cb4308c1f": {
     "model_module": "@jupyter-widgets/base",
     "model_name": "LayoutModel",
     "state": {
      "_model_module": "@jupyter-widgets/base",
      "_model_module_version": "1.2.0",
      "_model_name": "LayoutModel",
      "_view_count": null,
      "_view_module": "@jupyter-widgets/base",
      "_view_module_version": "1.2.0",
      "_view_name": "LayoutView",
      "align_content": null,
      "align_items": null,
      "align_self": null,
      "border": null,
      "bottom": null,
      "display": null,
      "flex": null,
      "flex_flow": null,
      "grid_area": null,
      "grid_auto_columns": null,
      "grid_auto_flow": null,
      "grid_auto_rows": null,
      "grid_column": null,
      "grid_gap": null,
      "grid_row": null,
      "grid_template_areas": null,
      "grid_template_columns": null,
      "grid_template_rows": null,
      "height": null,
      "justify_content": null,
      "justify_items": null,
      "left": null,
      "margin": null,
      "max_height": null,
      "max_width": null,
      "min_height": null,
      "min_width": null,
      "object_fit": null,
      "object_position": null,
      "order": null,
      "overflow": null,
      "overflow_x": null,
      "overflow_y": null,
      "padding": null,
      "right": null,
      "top": null,
      "visibility": null,
      "width": null
     }
    },
    "7c4c26a5056846ccbb814d2985ea79fb": {
     "model_module": "@jupyter-widgets/base",
     "model_name": "LayoutModel",
     "state": {
      "_model_module": "@jupyter-widgets/base",
      "_model_module_version": "1.2.0",
      "_model_name": "LayoutModel",
      "_view_count": null,
      "_view_module": "@jupyter-widgets/base",
      "_view_module_version": "1.2.0",
      "_view_name": "LayoutView",
      "align_content": null,
      "align_items": null,
      "align_self": null,
      "border": null,
      "bottom": null,
      "display": null,
      "flex": null,
      "flex_flow": null,
      "grid_area": null,
      "grid_auto_columns": null,
      "grid_auto_flow": null,
      "grid_auto_rows": null,
      "grid_column": null,
      "grid_gap": null,
      "grid_row": null,
      "grid_template_areas": null,
      "grid_template_columns": null,
      "grid_template_rows": null,
      "height": null,
      "justify_content": null,
      "justify_items": null,
      "left": null,
      "margin": null,
      "max_height": null,
      "max_width": null,
      "min_height": null,
      "min_width": null,
      "object_fit": null,
      "object_position": null,
      "order": null,
      "overflow": null,
      "overflow_x": null,
      "overflow_y": null,
      "padding": null,
      "right": null,
      "top": null,
      "visibility": null,
      "width": null
     }
    },
    "904ae9ebd1b34256b2bae26315da0b08": {
     "model_module": "@jupyter-widgets/controls",
     "model_name": "DescriptionStyleModel",
     "state": {
      "_model_module": "@jupyter-widgets/controls",
      "_model_module_version": "1.5.0",
      "_model_name": "DescriptionStyleModel",
      "_view_count": null,
      "_view_module": "@jupyter-widgets/base",
      "_view_module_version": "1.2.0",
      "_view_name": "StyleView",
      "description_width": ""
     }
    },
    "930634d06f2847e0b62893c2195b6746": {
     "model_module": "@jupyter-widgets/controls",
     "model_name": "HBoxModel",
     "state": {
      "_dom_classes": [],
      "_model_module": "@jupyter-widgets/controls",
      "_model_module_version": "1.5.0",
      "_model_name": "HBoxModel",
      "_view_count": null,
      "_view_module": "@jupyter-widgets/controls",
      "_view_module_version": "1.5.0",
      "_view_name": "HBoxView",
      "box_style": "",
      "children": [
       "IPY_MODEL_bee3abf6a88240db85a507049aa5c7ff",
       "IPY_MODEL_405c91f98a2c46f3b0ed0117a730b892"
      ],
      "layout": "IPY_MODEL_fcaee6c732a54a51b18be569630ead5c"
     }
    },
    "9f9174023bea4c9d92f531bd61cb7fd9": {
     "model_module": "@jupyter-widgets/controls",
     "model_name": "HTMLModel",
     "state": {
      "_dom_classes": [],
      "_model_module": "@jupyter-widgets/controls",
      "_model_module_version": "1.5.0",
      "_model_name": "HTMLModel",
      "_view_count": null,
      "_view_module": "@jupyter-widgets/controls",
      "_view_module_version": "1.5.0",
      "_view_name": "HTMLView",
      "description": "",
      "description_tooltip": null,
      "layout": "IPY_MODEL_fa2043753ba741f089c0bf742da600e3",
      "placeholder": "​",
      "style": "IPY_MODEL_904ae9ebd1b34256b2bae26315da0b08",
      "value": " 1000/1000 [04:21&lt;00:00,  3.82it/s]"
     }
    },
    "a7fb3767ac60422fa762b62ca8524789": {
     "model_module": "@jupyter-widgets/base",
     "model_name": "LayoutModel",
     "state": {
      "_model_module": "@jupyter-widgets/base",
      "_model_module_version": "1.2.0",
      "_model_name": "LayoutModel",
      "_view_count": null,
      "_view_module": "@jupyter-widgets/base",
      "_view_module_version": "1.2.0",
      "_view_name": "LayoutView",
      "align_content": null,
      "align_items": null,
      "align_self": null,
      "border": null,
      "bottom": null,
      "display": null,
      "flex": null,
      "flex_flow": null,
      "grid_area": null,
      "grid_auto_columns": null,
      "grid_auto_flow": null,
      "grid_auto_rows": null,
      "grid_column": null,
      "grid_gap": null,
      "grid_row": null,
      "grid_template_areas": null,
      "grid_template_columns": null,
      "grid_template_rows": null,
      "height": null,
      "justify_content": null,
      "justify_items": null,
      "left": null,
      "margin": null,
      "max_height": null,
      "max_width": null,
      "min_height": null,
      "min_width": null,
      "object_fit": null,
      "object_position": null,
      "order": null,
      "overflow": null,
      "overflow_x": null,
      "overflow_y": null,
      "padding": null,
      "right": null,
      "top": null,
      "visibility": null,
      "width": null
     }
    },
    "aaa2d2c18c5149ea9d371d01f2aaa902": {
     "model_module": "@jupyter-widgets/controls",
     "model_name": "DescriptionStyleModel",
     "state": {
      "_model_module": "@jupyter-widgets/controls",
      "_model_module_version": "1.5.0",
      "_model_name": "DescriptionStyleModel",
      "_view_count": null,
      "_view_module": "@jupyter-widgets/base",
      "_view_module_version": "1.2.0",
      "_view_name": "StyleView",
      "description_width": ""
     }
    },
    "b73f8f2d7c9841e8b297c49ba5bf069a": {
     "model_module": "@jupyter-widgets/controls",
     "model_name": "ProgressStyleModel",
     "state": {
      "_model_module": "@jupyter-widgets/controls",
      "_model_module_version": "1.5.0",
      "_model_name": "ProgressStyleModel",
      "_view_count": null,
      "_view_module": "@jupyter-widgets/base",
      "_view_module_version": "1.2.0",
      "_view_name": "StyleView",
      "bar_color": null,
      "description_width": "initial"
     }
    },
    "bee3abf6a88240db85a507049aa5c7ff": {
     "model_module": "@jupyter-widgets/controls",
     "model_name": "FloatProgressModel",
     "state": {
      "_dom_classes": [],
      "_model_module": "@jupyter-widgets/controls",
      "_model_module_version": "1.5.0",
      "_model_name": "FloatProgressModel",
      "_view_count": null,
      "_view_module": "@jupyter-widgets/controls",
      "_view_module_version": "1.5.0",
      "_view_name": "ProgressView",
      "bar_style": "success",
      "description": "100%",
      "description_tooltip": null,
      "layout": "IPY_MODEL_a7fb3767ac60422fa762b62ca8524789",
      "max": 1000,
      "min": 0,
      "orientation": "horizontal",
      "style": "IPY_MODEL_b73f8f2d7c9841e8b297c49ba5bf069a",
      "value": 1000
     }
    },
    "c59a961d1ceb413faf0567ffc5e05722": {
     "model_module": "@jupyter-widgets/controls",
     "model_name": "FloatProgressModel",
     "state": {
      "_dom_classes": [],
      "_model_module": "@jupyter-widgets/controls",
      "_model_module_version": "1.5.0",
      "_model_name": "FloatProgressModel",
      "_view_count": null,
      "_view_module": "@jupyter-widgets/controls",
      "_view_module_version": "1.5.0",
      "_view_name": "ProgressView",
      "bar_style": "success",
      "description": "100%",
      "description_tooltip": null,
      "layout": "IPY_MODEL_4ead6ed82f99488a8962eb4cb4308c1f",
      "max": 1000,
      "min": 0,
      "orientation": "horizontal",
      "style": "IPY_MODEL_f60b08d62b794b07b6328cf8c4d93191",
      "value": 1000
     }
    },
    "d6cef239535d47fbabcca656b367582c": {
     "model_module": "@jupyter-widgets/base",
     "model_name": "LayoutModel",
     "state": {
      "_model_module": "@jupyter-widgets/base",
      "_model_module_version": "1.2.0",
      "_model_name": "LayoutModel",
      "_view_count": null,
      "_view_module": "@jupyter-widgets/base",
      "_view_module_version": "1.2.0",
      "_view_name": "LayoutView",
      "align_content": null,
      "align_items": null,
      "align_self": null,
      "border": null,
      "bottom": null,
      "display": null,
      "flex": null,
      "flex_flow": null,
      "grid_area": null,
      "grid_auto_columns": null,
      "grid_auto_flow": null,
      "grid_auto_rows": null,
      "grid_column": null,
      "grid_gap": null,
      "grid_row": null,
      "grid_template_areas": null,
      "grid_template_columns": null,
      "grid_template_rows": null,
      "height": null,
      "justify_content": null,
      "justify_items": null,
      "left": null,
      "margin": null,
      "max_height": null,
      "max_width": null,
      "min_height": null,
      "min_width": null,
      "object_fit": null,
      "object_position": null,
      "order": null,
      "overflow": null,
      "overflow_x": null,
      "overflow_y": null,
      "padding": null,
      "right": null,
      "top": null,
      "visibility": null,
      "width": null
     }
    },
    "f60b08d62b794b07b6328cf8c4d93191": {
     "model_module": "@jupyter-widgets/controls",
     "model_name": "ProgressStyleModel",
     "state": {
      "_model_module": "@jupyter-widgets/controls",
      "_model_module_version": "1.5.0",
      "_model_name": "ProgressStyleModel",
      "_view_count": null,
      "_view_module": "@jupyter-widgets/base",
      "_view_module_version": "1.2.0",
      "_view_name": "StyleView",
      "bar_color": null,
      "description_width": "initial"
     }
    },
    "fa2043753ba741f089c0bf742da600e3": {
     "model_module": "@jupyter-widgets/base",
     "model_name": "LayoutModel",
     "state": {
      "_model_module": "@jupyter-widgets/base",
      "_model_module_version": "1.2.0",
      "_model_name": "LayoutModel",
      "_view_count": null,
      "_view_module": "@jupyter-widgets/base",
      "_view_module_version": "1.2.0",
      "_view_name": "LayoutView",
      "align_content": null,
      "align_items": null,
      "align_self": null,
      "border": null,
      "bottom": null,
      "display": null,
      "flex": null,
      "flex_flow": null,
      "grid_area": null,
      "grid_auto_columns": null,
      "grid_auto_flow": null,
      "grid_auto_rows": null,
      "grid_column": null,
      "grid_gap": null,
      "grid_row": null,
      "grid_template_areas": null,
      "grid_template_columns": null,
      "grid_template_rows": null,
      "height": null,
      "justify_content": null,
      "justify_items": null,
      "left": null,
      "margin": null,
      "max_height": null,
      "max_width": null,
      "min_height": null,
      "min_width": null,
      "object_fit": null,
      "object_position": null,
      "order": null,
      "overflow": null,
      "overflow_x": null,
      "overflow_y": null,
      "padding": null,
      "right": null,
      "top": null,
      "visibility": null,
      "width": null
     }
    },
    "fcaee6c732a54a51b18be569630ead5c": {
     "model_module": "@jupyter-widgets/base",
     "model_name": "LayoutModel",
     "state": {
      "_model_module": "@jupyter-widgets/base",
      "_model_module_version": "1.2.0",
      "_model_name": "LayoutModel",
      "_view_count": null,
      "_view_module": "@jupyter-widgets/base",
      "_view_module_version": "1.2.0",
      "_view_name": "LayoutView",
      "align_content": null,
      "align_items": null,
      "align_self": null,
      "border": null,
      "bottom": null,
      "display": null,
      "flex": null,
      "flex_flow": null,
      "grid_area": null,
      "grid_auto_columns": null,
      "grid_auto_flow": null,
      "grid_auto_rows": null,
      "grid_column": null,
      "grid_gap": null,
      "grid_row": null,
      "grid_template_areas": null,
      "grid_template_columns": null,
      "grid_template_rows": null,
      "height": null,
      "justify_content": null,
      "justify_items": null,
      "left": null,
      "margin": null,
      "max_height": null,
      "max_width": null,
      "min_height": null,
      "min_width": null,
      "object_fit": null,
      "object_position": null,
      "order": null,
      "overflow": null,
      "overflow_x": null,
      "overflow_y": null,
      "padding": null,
      "right": null,
      "top": null,
      "visibility": null,
      "width": null
     }
    }
   }
  }
 },
 "nbformat": 4,
 "nbformat_minor": 1
}
