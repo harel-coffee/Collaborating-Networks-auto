{
 "cells": [
  {
   "cell_type": "code",
   "execution_count": 1,
   "metadata": {
    "colab": {
     "base_uri": "https://localhost:8080/",
     "height": 122
    },
    "colab_type": "code",
    "executionInfo": {
     "elapsed": 23145,
     "status": "ok",
     "timestamp": 1598305169917,
     "user": {
      "displayName": "z thui",
      "photoUrl": "",
      "userId": "08749963318503558861"
     },
     "user_tz": 240
    },
    "id": "5fyc63Xgm6Gn",
    "outputId": "4a28978e-4eea-4d1b-df4e-83ea6d3fe8f9"
   },
   "outputs": [
    {
     "name": "stdout",
     "output_type": "stream",
     "text": [
      "Go to this URL in a browser: https://accounts.google.com/o/oauth2/auth?client_id=947318989803-6bn6qk8qdgf4n4g3pfee6491hc0brc4i.apps.googleusercontent.com&redirect_uri=urn%3aietf%3awg%3aoauth%3a2.0%3aoob&scope=email%20https%3a%2f%2fwww.googleapis.com%2fauth%2fdocs.test%20https%3a%2f%2fwww.googleapis.com%2fauth%2fdrive%20https%3a%2f%2fwww.googleapis.com%2fauth%2fdrive.photos.readonly%20https%3a%2f%2fwww.googleapis.com%2fauth%2fpeopleapi.readonly&response_type=code\n",
      "\n",
      "Enter your authorization code:\n",
      "··········\n",
      "Mounted at /content/drive\n"
     ]
    }
   ],
   "source": [
    "import torch\n",
    "import numpy as np\n",
    "from torch import optim, nn\n",
    "import torch.nn.functional as F\n",
    "from torch.utils.data import DataLoader\n",
    "from torch.utils.data.dataset import Dataset\n",
    "\n",
    "import matplotlib.pyplot as plt\n",
    "from google.colab import drive\n",
    "drive.mount('/content/drive')\n"
   ]
  },
  {
   "cell_type": "code",
   "execution_count": 2,
   "metadata": {
    "colab": {
     "base_uri": "https://localhost:8080/",
     "height": 34
    },
    "colab_type": "code",
    "executionInfo": {
     "elapsed": 388,
     "status": "ok",
     "timestamp": 1598305171753,
     "user": {
      "displayName": "z thui",
      "photoUrl": "",
      "userId": "08749963318503558861"
     },
     "user_tz": 240
    },
    "id": "ynwxgdL0Wrb4",
    "outputId": "14059bca-903f-4306-f1d5-e5e9bc67447b"
   },
   "outputs": [
    {
     "name": "stdout",
     "output_type": "stream",
     "text": [
      "cuda:0\n"
     ]
    }
   ],
   "source": [
    "device = torch.device(\"cuda:0\" if torch.cuda.is_available() else \"cpu\")\n",
    "cpu = torch.device(\"cpu\")\n",
    "print(device)\n"
   ]
  },
  {
   "cell_type": "markdown",
   "metadata": {
    "colab_type": "text",
    "id": "aKjGNnzTEMJm"
   },
   "source": [
    "#### generate data according to experiment 3"
   ]
  },
  {
   "cell_type": "code",
   "execution_count": 3,
   "metadata": {
    "colab": {
     "base_uri": "https://localhost:8080/",
     "height": 388
    },
    "colab_type": "code",
    "executionInfo": {
     "elapsed": 999,
     "status": "ok",
     "timestamp": 1598305175744,
     "user": {
      "displayName": "z thui",
      "photoUrl": "",
      "userId": "08749963318503558861"
     },
     "user_tz": 240
    },
    "id": "B0_Sx8sZm8Lo",
    "outputId": "28b81ed0-937a-4f66-8c91-001cf54a4be6"
   },
   "outputs": [
    {
     "data": {
      "image/png": "[encoded data removed]",
      "text/plain": [
       "<Figure size 576x432 with 1 Axes>"
      ]
     },
     "metadata": {
      "needs_background": "light",
      "tags": []
     },
     "output_type": "display_data"
    }
   ],
   "source": [
    "from scipy.stats import norm\n",
    "def gen3(x,q):\n",
    "  z=torch.from_numpy(norm.ppf(q)).float()\n",
    "  muintermediate=torch.cos(x*2*2*3.14159)\n",
    "  sdintermediate=(.2+.3*(muintermediate+1))\n",
    "  y=muintermediate+sdintermediate*z\n",
    "  return muintermediate,sdintermediate,y\n",
    "experiment=3\n",
    "if experiment==0:\n",
    "  n=100\n",
    "  torch.manual_seed(42)\n",
    "  x=torch.linspace(-.5,.5,n).reshape(-1,1)\n",
    "  y=5*x+.5*torch.randn(n,1)\n",
    "  figure=plt.figure(figsize=[8,6])\n",
    "  plt.plot(x,y,'.',ms=15)\n",
    "  plt.xlabel('$x$')\n",
    "  plt.ylabel('$y$')\n",
    "  plt.show()\n",
    "elif experiment==1:\n",
    "  n=100\n",
    "  torch.manual_seed(42)\n",
    "  x=torch.linspace(-.5,.5,n).reshape(-1,1)\n",
    "  y=-1+2*(x>0)+.5*torch.randn(n,1)\n",
    "  figure=plt.figure(figsize=[8,6])\n",
    "  plt.plot(x,y,'.',ms=15)\n",
    "  plt.xlabel('$x$')\n",
    "  plt.ylabel('$y$')\n",
    "  plt.show()\n",
    "elif experiment==2:\n",
    "  n=100\n",
    "  torch.manual_seed(42)\n",
    "  x=torch.linspace(-.5,.5,n).reshape(-1,1)\n",
    "  y=torch.cos(x*2*2*3.14159)+.5*torch.randn(n,1)\n",
    "  figure=plt.figure(figsize=[8,6])\n",
    "  plt.plot(x,y,'.',ms=15)\n",
    "  plt.xlabel('$x$')\n",
    "  plt.ylabel('$y$')\n",
    "  plt.show()\n",
    "elif experiment==3:\n",
    "  n=100\n",
    "  torch.manual_seed(42)\n",
    "  x=torch.linspace(-.5,.5,n).reshape(-1,1)\n",
    "  np.random.seed(42)\n",
    "  q=np.random.rand(n,1)\n",
    "  mu3,sd3,y=gen3(x,q)\n",
    "  figure=plt.figure(figsize=[8,6])\n",
    "  plt.plot(x,y,'.',ms=15) \n",
    "  plt.xlabel('$x$')\n",
    "  plt.ylabel('$y$')\n",
    "  plt.show()"
   ]
  },
  {
   "cell_type": "code",
   "execution_count": null,
   "metadata": {
    "colab": {},
    "colab_type": "code",
    "id": "PGXPLpWTkRB6"
   },
   "outputs": [],
   "source": [
    "### save result for other comparisons\n",
    "xymusd=np.c_[x.detach().numpy(),y.detach().numpy(),mu3.detach().numpy(),sd3.detach().numpy()]\n",
    "np.save(r'/content/drive/My Drive/overfit_discover/xymusd',xymusd)"
   ]
  },
  {
   "cell_type": "code",
   "execution_count": null,
   "metadata": {
    "colab": {},
    "colab_type": "code",
    "id": "sSQLfVEbm-VD"
   },
   "outputs": [],
   "source": [
    "class my_dataset(Dataset):\n",
    "    def __init__(self,data,label):\n",
    "        self.data=x\n",
    "        self.label=y          \n",
    "    def __getitem__(self, index):\n",
    "        return self.data[index],self.label[index]\n",
    "    def __len__(self):\n",
    "        return len(self.data)"
   ]
  },
  {
   "cell_type": "markdown",
   "metadata": {
    "colab_type": "text",
    "id": "S-FOZaWVfJCr"
   },
   "source": [
    "## point estimate model"
   ]
  },
  {
   "cell_type": "code",
   "execution_count": null,
   "metadata": {
    "colab": {},
    "colab_type": "code",
    "id": "lSruSN9qMSqq"
   },
   "outputs": [],
   "source": [
    "class mlp_regressor(nn.Module):\n",
    "    def __init__(self):\n",
    "        super().__init__()\n",
    "        self.k1=1000\n",
    "        self.k2=1000\n",
    "        self.fc1 = nn.Linear(1, self.k1)\n",
    "        self.bn1 = nn.BatchNorm1d(self.k1)\n",
    "        self.fc2 = nn.Linear(self.k1, self.k2)\n",
    "        self.bn2 = nn.BatchNorm1d(self.k2)\n",
    "        self.fc3 = nn.Linear(self.k2, 1)\n",
    "\n",
    "    def forward(self, x):\n",
    "        h1 = F.relu(self.fc1(x))\n",
    "        h1 = self.bn1(h1)\n",
    "        h2 = F.relu(self.fc2(h1))\n",
    "        h2 = self.bn2(h2)\n",
    "        h3 = self.fc3(h2)\n",
    "        return h3"
   ]
  },
  {
   "cell_type": "markdown",
   "metadata": {
    "colab_type": "text",
    "id": "c3fUMZB2YSd0"
   },
   "source": [
    "### mlp linear regression overfit"
   ]
  },
  {
   "cell_type": "code",
   "execution_count": null,
   "metadata": {
    "colab": {},
    "colab_type": "code",
    "id": "GzPVb7EGdMtv"
   },
   "outputs": [],
   "source": [
    "dataloader = DataLoader(dataset=my_dataset(x,y),\n",
    "                            batch_size=n,\n",
    "                            shuffle=True)\n",
    "\n",
    "epochs = 40000\n",
    "model = mlp_regressor().to(device)\n",
    "criterion = nn.MSELoss()\n",
    "optimizer = optim.Adam(model.parameters(),lr=1e-5)\n",
    "mlp_loss = []\n",
    "\n",
    "for epoch in range(epochs):\n",
    "    for instances, labels in dataloader:\n",
    "        instances, labels = instances.to(device), labels.to(device)\n",
    "        optimizer.zero_grad()\n",
    "        \n",
    "        output = model(instances)\n",
    "        loss = criterion(output, labels)\n",
    "        loss.backward()\n",
    "        optimizer.step()\n",
    "        \n",
    "    mlp_loss.append(loss.item())"
   ]
  },
  {
   "cell_type": "code",
   "execution_count": null,
   "metadata": {
    "colab": {
     "base_uri": "https://localhost:8080/",
     "height": 282
    },
    "colab_type": "code",
    "executionInfo": {
     "elapsed": 614,
     "status": "ok",
     "timestamp": 1597772990090,
     "user": {
      "displayName": "z thui",
      "photoUrl": "",
      "userId": "08749963318503558861"
     },
     "user_tz": 240
    },
    "id": "hat9YWi-MtcZ",
    "outputId": "a6463ced-fcc7-43ee-f445-c9cf9f8ab0be"
   },
   "outputs": [
    {
     "data": {
      "text/plain": [
       "[<matplotlib.lines.Line2D at 0x7f3aa4a656a0>]"
      ]
     },
     "execution_count": 14,
     "metadata": {
      "tags": []
     },
     "output_type": "execute_result"
    },
    {
     "data": {
      "image/png": "[encoded data removed]",
      "text/plain": [
       "<Figure size 432x288 with 1 Axes>"
      ]
     },
     "metadata": {
      "needs_background": "light",
      "tags": []
     },
     "output_type": "display_data"
    }
   ],
   "source": [
    "plt.plot(mlp_loss)"
   ]
  },
  {
   "cell_type": "code",
   "execution_count": null,
   "metadata": {
    "colab": {},
    "colab_type": "code",
    "id": "ALnpLkcp93eD"
   },
   "outputs": [],
   "source": [
    "y_mlp=model(x.to(device)).to(cpu)"
   ]
  },
  {
   "cell_type": "code",
   "execution_count": null,
   "metadata": {
    "colab": {
     "base_uri": "https://localhost:8080/",
     "height": 282
    },
    "colab_type": "code",
    "executionInfo": {
     "elapsed": 901,
     "status": "ok",
     "timestamp": 1598204567291,
     "user": {
      "displayName": "z thui",
      "photoUrl": "",
      "userId": "08749963318503558861"
     },
     "user_tz": 240
    },
    "id": "kcSwGPN4rWp1",
    "outputId": "1a85e6ec-774f-496f-835e-011500a9b28e"
   },
   "outputs": [
    {
     "data": {
      "text/plain": [
       "[<matplotlib.lines.Line2D at 0x7fe610152470>]"
      ]
     },
     "execution_count": 10,
     "metadata": {
      "tags": []
     },
     "output_type": "execute_result"
    },
    {
     "data": {
      "image/png": "[encoded data removed]",
      "text/plain": [
       "<Figure size 432x288 with 1 Axes>"
      ]
     },
     "metadata": {
      "needs_background": "light",
      "tags": []
     },
     "output_type": "display_data"
    }
   ],
   "source": [
    "plt.plot(y_mlp.detach())\n",
    "plt.plot(y)"
   ]
  },
  {
   "cell_type": "markdown",
   "metadata": {
    "colab_type": "text",
    "id": "VfFAPB5YPYPj"
   },
   "source": [
    "## quantile regression overfit: a percentile at a time"
   ]
  },
  {
   "cell_type": "code",
   "execution_count": null,
   "metadata": {
    "colab": {},
    "colab_type": "code",
    "id": "nvOknZqwwL51"
   },
   "outputs": [],
   "source": [
    "def tilted_loss(q=.5):\n",
    "    def qloss(output,labels):\n",
    "        higher=output>labels\n",
    "        higher=higher.float()\n",
    "        intermediate=(q*higher+(1-q)*(1-higher))*torch.abs(output-labels)\n",
    "        loss=torch.mean(intermediate)\n",
    "        return loss\n",
    "    return qloss"
   ]
  },
  {
   "cell_type": "code",
   "execution_count": null,
   "metadata": {
    "colab": {},
    "colab_type": "code",
    "id": "Kp9D2iIXPhQf"
   },
   "outputs": [],
   "source": [
    "dataloader = DataLoader(dataset=my_dataset(x,y),\n",
    "                            batch_size=n,\n",
    "                            shuffle=True)\n",
    "\n",
    "epochs = 50000\n",
    "model_tl_25 = mlp_regressor().to(device)\n",
    "model_tl_50 = mlp_regressor().to(device)\n",
    "model_tl_75 = mlp_regressor().to(device)\n",
    "\n",
    "criterion25 = tilted_loss(q=.25)\n",
    "criterion50 = tilted_loss(q=.5)\n",
    "criterion75 = tilted_loss(q=.75)\n",
    "\n",
    "\n",
    "optimizer25 = optim.Adam(model_tl_25.parameters(), lr=1e-5)\n",
    "optimizer50 = optim.Adam(model_tl_50.parameters(), lr=1e-5)\n",
    "optimizer75 = optim.Adam(model_tl_75.parameters(), lr=1e-5)\n",
    "\n",
    "ql25_loss = []\n",
    "ql50_loss = []\n",
    "ql75_loss = []\n",
    "\n",
    "for epoch in range(epochs):\n",
    "    for instances, labels in dataloader:\n",
    "        instances, labels = instances.to(device), labels.to(device)\n",
    "\n",
    "        optimizer25.zero_grad() \n",
    "        output25 = model_tl_25(instances)\n",
    "        loss25 = criterion25(output25, labels)\n",
    "        loss25.backward()\n",
    "        optimizer25.step()\n",
    "\n",
    "\n",
    "        optimizer50.zero_grad() \n",
    "        output50 = model_tl_50(instances)\n",
    "        loss50 = criterion50(output50, labels)\n",
    "        loss50.backward()\n",
    "        optimizer50.step()\n",
    "\n",
    "\n",
    "        optimizer75.zero_grad() \n",
    "        output75 = model_tl_75(instances)\n",
    "        loss75 = criterion75(output75, labels)\n",
    "        loss75.backward()\n",
    "        optimizer75.step()\n",
    "\n",
    "    ql25_loss.append(loss25.item())\n",
    "    ql50_loss.append(loss50.item())\n",
    "    ql75_loss.append(loss75.item())\n",
    "\n",
    "\n"
   ]
  },
  {
   "cell_type": "code",
   "execution_count": null,
   "metadata": {
    "colab": {
     "base_uri": "https://localhost:8080/",
     "height": 282
    },
    "colab_type": "code",
    "executionInfo": {
     "elapsed": 363600,
     "status": "ok",
     "timestamp": 1598205897932,
     "user": {
      "displayName": "z thui",
      "photoUrl": "",
      "userId": "08749963318503558861"
     },
     "user_tz": 240
    },
    "id": "hKqSJiEIPiEP",
    "outputId": "0de497f4-3ff8-4ddf-c386-6c6e69f5b890"
   },
   "outputs": [
    {
     "data": {
      "text/plain": [
       "[<matplotlib.lines.Line2D at 0x7fe5fe9df198>]"
      ]
     },
     "execution_count": 13,
     "metadata": {
      "tags": []
     },
     "output_type": "execute_result"
    },
    {
     "data": {
      "image/png": "[encoded data removed]",
      "text/plain": [
       "<Figure size 432x288 with 1 Axes>"
      ]
     },
     "metadata": {
      "needs_background": "light",
      "tags": []
     },
     "output_type": "display_data"
    }
   ],
   "source": [
    "plt.plot(ql25_loss)\n",
    "plt.plot(ql50_loss)\n",
    "plt.plot(ql75_loss)"
   ]
  },
  {
   "cell_type": "code",
   "execution_count": null,
   "metadata": {
    "colab": {},
    "colab_type": "code",
    "id": "iMPX6PZcgPwe"
   },
   "outputs": [],
   "source": []
  },
  {
   "cell_type": "code",
   "execution_count": null,
   "metadata": {
    "colab": {},
    "colab_type": "code",
    "id": "WHDZW4HsPiSQ"
   },
   "outputs": [],
   "source": [
    "y_25=model_tl_25(x.to(device)).to(cpu)\n",
    "y_50=model_tl_50(x.to(device)).to(cpu)\n",
    "y_75=model_tl_75(x.to(device)).to(cpu)"
   ]
  },
  {
   "cell_type": "code",
   "execution_count": null,
   "metadata": {
    "colab": {},
    "colab_type": "code",
    "id": "HPqZa_EbkzJN"
   },
   "outputs": [],
   "source": [
    "### save result for point estimate\n",
    "mse_qr25_50_75=np.c_[y_mlp.detach().numpy(),y_25.detach().numpy(),y_50.detach().numpy(),y_75.detach().numpy()]\n",
    "np.save(r'/content/drive/My Drive/overfit_discover/mse_qr25_50_75',mse_qr25_50_75)"
   ]
  },
  {
   "cell_type": "code",
   "execution_count": null,
   "metadata": {
    "colab": {},
    "colab_type": "code",
    "executionInfo": {
     "elapsed": 423,
     "status": "ok",
     "timestamp": 1598305145426,
     "user": {
      "displayName": "z thui",
      "photoUrl": "",
      "userId": "08749963318503558861"
     },
     "user_tz": 240
    },
    "id": "Cvq7yH8r7PKp"
   },
   "outputs": [],
   "source": []
  },
  {
   "cell_type": "code",
   "execution_count": 5,
   "metadata": {
    "colab": {},
    "colab_type": "code",
    "executionInfo": {
     "elapsed": 326,
     "status": "ok",
     "timestamp": 1598305519369,
     "user": {
      "displayName": "z thui",
      "photoUrl": "",
      "userId": "08749963318503558861"
     },
     "user_tz": 240
    },
    "id": "S7lKiPKGMF4I"
   },
   "outputs": [],
   "source": [
    "from scipy import stats"
   ]
  },
  {
   "cell_type": "code",
   "execution_count": 6,
   "metadata": {
    "colab": {},
    "colab_type": "code",
    "executionInfo": {
     "elapsed": 157,
     "status": "ok",
     "timestamp": 1598305520005,
     "user": {
      "displayName": "z thui",
      "photoUrl": "",
      "userId": "08749963318503558861"
     },
     "user_tz": 240
    },
    "id": "r8d4yfBB5gRL"
   },
   "outputs": [],
   "source": [
    "dt=np.load(r'/content/drive/My Drive/overfit_discover/xymusd.npy')\n",
    "x=dt[:,0]\n",
    "y=dt[:,1]\n",
    "med=dt[:,2].ravel()\n",
    "std=dt[:,3].ravel()\n",
    "up=med+stats.norm.ppf(0.75)*std\n",
    "low=med+stats.norm.ppf(0.25)*std"
   ]
  },
  {
   "cell_type": "code",
   "execution_count": 7,
   "metadata": {
    "colab": {},
    "colab_type": "code",
    "executionInfo": {
     "elapsed": 668,
     "status": "ok",
     "timestamp": 1598305531105,
     "user": {
      "displayName": "z thui",
      "photoUrl": "",
      "userId": "08749963318503558861"
     },
     "user_tz": 240
    },
    "id": "cXBHA50ZbkLZ"
   },
   "outputs": [],
   "source": [
    "mse_qr25_50_75=np.load(r'/content/drive/My Drive/overfit_discover/mse_qr25_50_75.npy')"
   ]
  },
  {
   "cell_type": "code",
   "execution_count": 8,
   "metadata": {
    "colab": {
     "base_uri": "https://localhost:8080/",
     "height": 294
    },
    "colab_type": "code",
    "executionInfo": {
     "elapsed": 1062,
     "status": "ok",
     "timestamp": 1598305575232,
     "user": {
      "displayName": "z thui",
      "photoUrl": "",
      "userId": "08749963318503558861"
     },
     "user_tz": 240
    },
    "id": "2xxa50Qc5x9_",
    "outputId": "272153a5-753f-4491-f090-75724ab31a6d"
   },
   "outputs": [
    {
     "data": {
      "image/png": "[encoded data removed]",
      "text/plain": [
       "<Figure size 432x324 with 1 Axes>"
      ]
     },
     "metadata": {
      "needs_background": "light",
      "tags": []
     },
     "output_type": "display_data"
    }
   ],
   "source": [
    "\n",
    "fig = plt.gcf()\n",
    "fig.set_size_inches(6,4.5)\n",
    "\n",
    "\n",
    "plt.rcParams[\"font.weight\"] = \"bold\"\n",
    "plt.rcParams[\"axes.labelweight\"] = \"bold\"\n",
    "plt.rcParams[\"axes.labelpad\"] = 0\n",
    "\n",
    "\n",
    "plt.rcParams['axes.linewidth'] = 0.5\n",
    "\n",
    "\n",
    "\n",
    "plt.rcParams['axes.labelsize'] = 10\n",
    "\n",
    "plt.rcParams['axes.titlesize'] = 10\n",
    "\n",
    "plt.rcParams['xtick.labelsize'] = 8\n",
    "\n",
    "plt.rcParams['ytick.labelsize'] = 8\n",
    "plt.rcParams['legend.fontsize'] = 9.5\n",
    "plt.plot(x,y,'*',ms=8,color='red')\n",
    "plt.plot(x,mse_qr25_50_75[:,0],'-.',lw=2,color='green')\n",
    "plt.plot(x,mse_qr25_50_75[:,2],'-',lw=2,alpha=0.9,color='orange')\n",
    "plt.plot(x,mse_qr25_50_75[:,1],'--',lw=2,alpha=0.8,color='brown')\n",
    "plt.plot(x,mse_qr25_50_75[:,3],'-',lw=2,alpha=0.4,color='blue')\n",
    "plt.legend(['Observations','MSE','QR_0.5','QR_0.25','QR_0.75'],frameon=False)\n",
    "plt.xlabel('$x$',fontsize=14)\n",
    "plt.gca().xaxis.set_label_coords(1.0, -0.02)\n",
    "plt.ylabel('$y$',fontsize=14)\n",
    "plt.gca().yaxis.set_label_coords(-0.03, 0.5)\n",
    "\n",
    "plt.ylim([-1.7,3.1])\n",
    "plt.xlim([-0.55,0.55])\n",
    "fig.savefig(r'/content/drive/My Drive/overfit_discover/pt_mseqr.pdf',transparent=True,bbox_inches = 'tight',\n",
    "    pad_inches = 0.2)"
   ]
  },
  {
   "cell_type": "code",
   "execution_count": null,
   "metadata": {
    "colab": {},
    "colab_type": "code",
    "id": "H3OpNXzMxTU_"
   },
   "outputs": [],
   "source": []
  },
  {
   "cell_type": "code",
   "execution_count": null,
   "metadata": {
    "colab": {},
    "colab_type": "code",
    "id": "45s7IkRi7nPY"
   },
   "outputs": [],
   "source": []
  }
 ],
 "metadata": {
  "accelerator": "GPU",
  "colab": {
   "collapsed_sections": [],
   "name": "mlp_qr.ipynb",
   "provenance": []
  },
  "kernelspec": {
   "display_name": "Python 3",
   "language": "python",
   "name": "python3"
  },
  "language_info": {
   "codemirror_mode": {
    "name": "ipython",
    "version": 3
   },
   "file_extension": ".py",
   "mimetype": "text/x-python",
   "name": "python",
   "nbconvert_exporter": "python",
   "pygments_lexer": "ipython3",
   "version": "3.7.5"
  }
 },
 "nbformat": 4,
 "nbformat_minor": 1
}
