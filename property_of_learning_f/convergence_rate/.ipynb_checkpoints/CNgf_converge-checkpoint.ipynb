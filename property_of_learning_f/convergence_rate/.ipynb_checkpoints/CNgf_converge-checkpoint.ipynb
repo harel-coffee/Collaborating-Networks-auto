{
 "cells": [
  {
   "cell_type": "code",
   "execution_count": null,
   "metadata": {
    "executionInfo": {
     "elapsed": 499,
     "status": "ok",
     "timestamp": 1615423492821,
     "user": {
      "displayName": "z thui",
      "photoUrl": "",
      "userId": "08749963318503558861"
     },
     "user_tz": 300
    },
    "id": "5fyc63Xgm6Gn"
   },
   "outputs": [],
   "source": [
    "import torch\n",
    "import numpy as np\n",
    "\n",
    "from torch import optim, nn\n",
    "import torch.nn.functional as F\n",
    "from torch.utils.data import DataLoader\n",
    "from torch.utils.data.dataset import Dataset\n",
    "\n",
    "import matplotlib.pyplot as plt\n",
    "from scipy.interpolate import interp1d"
   ]
  },
  {
   "cell_type": "code",
   "execution_count": null,
   "metadata": {
    "colab": {
     "base_uri": "https://localhost:8080/"
    },
    "executionInfo": {
     "elapsed": 833,
     "status": "ok",
     "timestamp": 1615423493353,
     "user": {
      "displayName": "z thui",
      "photoUrl": "",
      "userId": "08749963318503558861"
     },
     "user_tz": 300
    },
    "id": "ynwxgdL0Wrb4",
    "outputId": "c5f73b06-a854-4c08-e281-845d54f11875"
   },
   "outputs": [],
   "source": [
    "device = torch.device(\"cuda:0\" if torch.cuda.is_available() else \"cpu\")\n",
    "cpu = torch.device(\"cpu\")\n",
    "print(device)"
   ]
  },
  {
   "cell_type": "code",
   "execution_count": null,
   "metadata": {
    "executionInfo": {
     "elapsed": 871,
     "status": "ok",
     "timestamp": 1615423493582,
     "user": {
      "displayName": "z thui",
      "photoUrl": "",
      "userId": "08749963318503558861"
     },
     "user_tz": 300
    },
    "id": "bAeF36Tzn-OG"
   },
   "outputs": [],
   "source": [
    "from tqdm import notebook\n",
    "from scipy import stats\n",
    "from scipy.stats import norm"
   ]
  },
  {
   "cell_type": "code",
   "execution_count": null,
   "metadata": {
    "executionInfo": {
     "elapsed": 710,
     "status": "ok",
     "timestamp": 1615423493583,
     "user": {
      "displayName": "z thui",
      "photoUrl": "",
      "userId": "08749963318503558861"
     },
     "user_tz": 300
    },
    "id": "sSQLfVEbm-VD"
   },
   "outputs": [],
   "source": [
    "class my_dataset(Dataset):\n",
    "    def __init__(self,data,label):\n",
    "        self.data=x\n",
    "        self.label=y          \n",
    "    def __getitem__(self, index):\n",
    "        return self.data[index],self.label[index]\n",
    "    def __len__(self):\n",
    "        return len(self.data)"
   ]
  },
  {
   "cell_type": "markdown",
   "metadata": {
    "id": "juteaBiv-r4O"
   },
   "source": [
    "### load test data"
   ]
  },
  {
   "cell_type": "code",
   "execution_count": null,
   "metadata": {
    "executionInfo": {
     "elapsed": 1185,
     "status": "ok",
     "timestamp": 1615423495464,
     "user": {
      "displayName": "z thui",
      "photoUrl": "",
      "userId": "08749963318503558861"
     },
     "user_tz": 300
    },
    "id": "3iVfW1qD-r4O"
   },
   "outputs": [],
   "source": [
    "xlr=np.load('xlr.npy')\n",
    "test_x=torch.from_numpy(xlr[:,0].reshape(-1,1)).float()\n",
    "\n",
    "#left interval limit\n",
    "l=xlr[:,1]\n",
    "#right interval limit\n",
    "r=xlr[:,2]\n",
    "\n",
    "ntest=len(test_x)"
   ]
  },
  {
   "cell_type": "markdown",
   "metadata": {
    "id": "9brVyV1E-r4Q"
   },
   "source": [
    "### feed the training data"
   ]
  },
  {
   "cell_type": "code",
   "execution_count": null,
   "metadata": {
    "executionInfo": {
     "elapsed": 761,
     "status": "ok",
     "timestamp": 1615423495464,
     "user": {
      "displayName": "z thui",
      "photoUrl": "",
      "userId": "08749963318503558861"
     },
     "user_tz": 300
    },
    "id": "NQICnTCL-r4Q"
   },
   "outputs": [],
   "source": [
    "class my_dataset(Dataset):\n",
    "    def __init__(self,data,label):\n",
    "        self.data=x\n",
    "        self.label=y          \n",
    "    def __getitem__(self, index):\n",
    "        return self.data[index],self.label[index]\n",
    "    def __len__(self):\n",
    "        return len(self.data)"
   ]
  },
  {
   "cell_type": "markdown",
   "metadata": {
    "id": "Z3pQ6ls9-r4S"
   },
   "source": [
    "### generate training data"
   ]
  },
  {
   "cell_type": "code",
   "execution_count": null,
   "metadata": {
    "executionInfo": {
     "elapsed": 1015,
     "status": "ok",
     "timestamp": 1615423496978,
     "user": {
      "displayName": "z thui",
      "photoUrl": "",
      "userId": "08749963318503558861"
     },
     "user_tz": 300
    },
    "id": "6RBsVg8O-r4T"
   },
   "outputs": [],
   "source": [
    "def gen3(x,q):\n",
    "  z=torch.from_numpy(norm.ppf(q)).float()\n",
    "  muintermediate=torch.cos(x*2*2*3.14159)\n",
    "  sdintermediate=(.2+.3*(muintermediate+1))\n",
    "  y=muintermediate+sdintermediate*z\n",
    "  return y\n",
    "\n",
    "experiment=3"
   ]
  },
  {
   "cell_type": "markdown",
   "metadata": {
    "id": "S-FOZaWVfJCr"
   },
   "source": [
    "# Collaborating Networks(gf)"
   ]
  },
  {
   "cell_type": "code",
   "execution_count": null,
   "metadata": {
    "executionInfo": {
     "elapsed": 1133,
     "status": "ok",
     "timestamp": 1615423497527,
     "user": {
      "displayName": "z thui",
      "photoUrl": "",
      "userId": "08749963318503558861"
     },
     "user_tz": 300
    },
    "id": "GzPVb7EGdMtv"
   },
   "outputs": [],
   "source": [
    "class cn_f(nn.Module):\n",
    "    def __init__(self):\n",
    "        super().__init__()\n",
    "        self.k1=100\n",
    "        self.k2=80\n",
    "        self.k3=60\n",
    "        self.fc1 = nn.Linear(2, self.k1)\n",
    "        self.bn1 = nn.BatchNorm1d(self.k1)\n",
    "        self.fc2 = nn.Linear(self.k1, self.k2)\n",
    "        self.bn2 = nn.BatchNorm1d(self.k2)\n",
    "        self.fc3 = nn.Linear(self.k2, self.k3)\n",
    "        self.bn3 = nn.BatchNorm1d(self.k3)\n",
    "        self.fc4 = nn.Linear(self.k3, 1)\n",
    "\n",
    "    def forward(self, q, x):\n",
    "        data=torch.cat([q,x],dim=1)\n",
    "        h1 = F.elu(self.bn1(self.fc1(data)))\n",
    "        h2 = F.elu(self.bn2(self.fc2(h1)))\n",
    "        h3 = F.elu(self.bn3(self.fc3(h2)))\n",
    "        out = self.fc4(h3)\n",
    "        return out"
   ]
  },
  {
   "cell_type": "code",
   "execution_count": null,
   "metadata": {
    "executionInfo": {
     "elapsed": 881,
     "status": "ok",
     "timestamp": 1615423497528,
     "user": {
      "displayName": "z thui",
      "photoUrl": "",
      "userId": "08749963318503558861"
     },
     "user_tz": 300
    },
    "id": "_N0jkQoyuQJt"
   },
   "outputs": [],
   "source": [
    "class cn_g(nn.Module):\n",
    "    def __init__(self):\n",
    "        super().__init__()\n",
    "        self.scale=torch.sqrt(torch.from_numpy(np.array([3.29]))).float().to(device)\n",
    "        self.k1=100\n",
    "        self.k2=80\n",
    "        self.fc1 = nn.Linear(2, self.k1)\n",
    "        self.bn1 = nn.BatchNorm1d(self.k1)\n",
    "        self.fc2 = nn.Linear(self.k1, self.k2)\n",
    "        self.bn2 = nn.BatchNorm1d(self.k2)\n",
    "        self.fc3 = nn.Linear(self.k2, 1)\n",
    "        self.bn3 = nn.BatchNorm1d(1,momentum=.1,affine=False)\n",
    "\n",
    "    def forward(self, y, x):\n",
    "        data=torch.cat([y,x],dim=1)\n",
    "        h1 = self.fc1(data)\n",
    "        h1 = self.bn1(h1)\n",
    "        h1 = F.elu(h1)\n",
    "        h2 = self.fc2(h1)\n",
    "        h2 = self.bn2(h2)\n",
    "        h2 = F.elu(h2)\n",
    "        h3 = self.fc3(h2)\n",
    "        g_logit=self.bn3(h3)*self.scale\n",
    "        return g_logit"
   ]
  },
  {
   "cell_type": "code",
   "execution_count": null,
   "metadata": {
    "executionInfo": {
     "elapsed": 711,
     "status": "ok",
     "timestamp": 1615430845131,
     "user": {
      "displayName": "z thui",
      "photoUrl": "",
      "userId": "08749963318503558861"
     },
     "user_tz": 300
    },
    "id": "hO1x1k8B-r4b"
   },
   "outputs": [],
   "source": [
    "ns=[50,100,200,400,600,800,1000,1200,1400,1600,2000,2500,3000,4000]"
   ]
  },
  {
   "cell_type": "code",
   "execution_count": null,
   "metadata": {
    "colab": {
     "base_uri": "https://localhost:8080/",
     "height": 200,
     "referenced_widgets": [
      "1512b55629e143fe836fef3f663435af",
      "401dd23c75094aecbfad10f40510dce9",
      "3f8f7298bc8044dc973810a0e2b150ea",
      "c0f37ef0e4be49cb900d1d5230558491",
      "d6b6db9bb74748f588be166bdf24ad74",
      "dd118404857b4bddb05fd907600b45f1",
      "7bb6e36f483748c7ae2c312ffe19c3e5",
      "b3aa36d306ed49aa97b597c38fd7f84e",
      "470af53d6f634bada4811304e3973895",
      "f057c6d8dccc4b0a89264e23d557c7e9",
      "497b638aff6941b1a5705fb377901910",
      "e1c7a1d1f2ae42fd8b0764d98d4e966d",
      "3a7f8e66fe7c4fa6adaf193b7a5f7b6c",
      "217eb991d00e42989ffaef254c9a07be",
      "4edd2e9be9084aad827fb821acad88dd",
      "abe50902414f45668cdfa140de0800ba"
     ]
    },
    "executionInfo": {
     "elapsed": 2305587,
     "status": "ok",
     "timestamp": 1615433151138,
     "user": {
      "displayName": "z thui",
      "photoUrl": "",
      "userId": "08749963318503558861"
     },
     "user_tz": 300
    },
    "id": "5kwlWxQqKaIq",
    "outputId": "8d779f3a-acc8-4bd8-a6fd-6cccf6944df2"
   },
   "outputs": [],
   "source": [
    "allll=[]\n",
    "allllf=[]\n",
    "for n in ns:\n",
    "    torch.manual_seed(42)\n",
    "    x=torch.linspace(-.5,.5,n).reshape(-1,1)\n",
    "    np.random.seed(42)\n",
    "    q=np.random.rand(n,1)\n",
    "    y=gen3(x,q)\n",
    "    x=torch.cos(x*2*2*3.14159).reshape(-1,1)\n",
    "\n",
    "\n",
    "\n",
    "    batch_size=200\n",
    "    dataloader = DataLoader(dataset=my_dataset(x,y),\n",
    "                            batch_size=batch_size,\n",
    "                            shuffle=True,\n",
    "                            pin_memory=True)\n",
    "\n",
    "    pretrain_epochs =5000\n",
    "    epochs = 5000\n",
    "    f = cn_f().to(device)\n",
    "    g = cn_g().to(device)\n",
    "    floss = nn.MSELoss()\n",
    "    gloss = nn.BCELoss()\n",
    "    optimizer_f = optim.Adam(f.parameters(), lr=5e-4)\n",
    "    optimizer_g = optim.Adam(g.parameters(), lr=1e-4)\n",
    "\n",
    "\n",
    "    for epoch in notebook.trange(pretrain_epochs):\n",
    "        f_running_loss = 0\n",
    "        g_running_loss = 0\n",
    "        for xs, ys in dataloader:\n",
    "            xs, ys = xs.to(device), ys.to(device)\n",
    "            optimizer_f.zero_grad()\n",
    "            optimizer_g.zero_grad()\n",
    "        \n",
    "            q=np.random.rand(xs.shape[0],1)\n",
    "            yhat=torch.rand_like(ys).to(device)*6.-2.5\n",
    "  \n",
    "            qhat_logit = g(yhat,xs)\n",
    "            with torch.no_grad():\n",
    "                ylt=ys<yhat\n",
    "                ylt=ylt.float()\n",
    "      \n",
    "            gl = gloss(torch.sigmoid(qhat_logit),ylt)\n",
    "            gl.backward(retain_graph=True)\n",
    "            optimizer_g.step()\n",
    "\n",
    "    for epoch in notebook.trange(epochs):\n",
    "        f_running_loss = 0\n",
    "        g_running_loss = 0\n",
    "        for xs, ys in dataloader:\n",
    "            xs, ys = xs.to(device), ys.to(device)\n",
    "            # f update\n",
    "            optimizer_f.zero_grad()\n",
    "            optimizer_g.zero_grad()\n",
    "            q=torch.rand(ys.shape).to(device)  \n",
    "            yhat = f(q,xs)\n",
    "            qhat_logit = g(yhat,xs)      \n",
    "            fl = floss(q, torch.sigmoid(qhat_logit))\n",
    "            fl.backward()\n",
    "            optimizer_f.step()\n",
    "\n",
    "            # g update\n",
    "            optimizer_f.zero_grad()\n",
    "            optimizer_g.zero_grad()\n",
    "            q=torch.rand(ys.shape).to(device)  \n",
    "            yhat = f(q,xs)\n",
    "            qhat_logit = g(yhat,xs)\n",
    "            with torch.no_grad():\n",
    "                ylt=ys<yhat\n",
    "                ylt=ylt.float()\n",
    "            gl = gloss(torch.sigmoid(qhat_logit),ylt)\n",
    "            gl.backward()\n",
    "            optimizer_g.step()\n",
    "\n",
    "            # f update\n",
    "            optimizer_f.zero_grad()\n",
    "            optimizer_g.zero_grad()\n",
    "            q=torch.rand(ys.shape).to(device)  \n",
    "            yhat = f(q,xs)\n",
    "            qhat_logit = g(yhat,xs)      \n",
    "            fl = floss(q, torch.sigmoid(qhat_logit))\n",
    "            fl.backward()\n",
    "            optimizer_f.step()\n",
    "\n",
    "        \n",
    "    f.eval()\n",
    "    g.eval()\n",
    "\n",
    "    ll_est=np.empty(ntest)\n",
    "    ll_estf=np.empty(ntest)\n",
    "\n",
    "\n",
    "    ptmp=torch.linspace(0,1,3000) #used to inverse the quantile function from g\n",
    "\n",
    "    for i in range(ntest):\n",
    "        ltmp=torch.from_numpy(np.array(l[i])).float()\n",
    "        rtmp=torch.from_numpy(np.array(r[i])).float()\n",
    "\n",
    "        #inversecdf\n",
    "        ifcdf=f(ptmp.reshape(-1,1).to(device),torch.repeat_interleave(test_x[i],3000).reshape(-1,1).to(device))\n",
    "        \n",
    "        ifcdf=ifcdf.cpu().detach().numpy().ravel()\n",
    "        ifcdf[0]=-np.inf \n",
    "        ifcdf[-1]=np.inf\n",
    "\n",
    "        #fcdf\n",
    "        cdff=interp1d(ifcdf,ptmp.detach().numpy())\n",
    "        ll_estf[i]=np.log(cdff(rtmp)-cdff(ltmp)+1.e-10)\n",
    "\n",
    "        if(rtmp==np.inf):\n",
    "            lp=torch.sigmoid(g(ltmp.reshape(-1,1).to(device),test_x[i].reshape(-1,1).to(device)))\n",
    "            lp=lp.cpu().detach()\n",
    "            ll_est[i]=np.log(1.-lp+1.e-10)\n",
    "\n",
    "\n",
    "        elif(ltmp==-np.inf):\n",
    "            rp=torch.sigmoid(g(rtmp.reshape(-1,1).to(device),test_x[i].reshape(-1,1).to(device)))\n",
    "            rp=rp.cpu().detach()\n",
    "            ll_est[i]=np.log(rp+1.e-10)\n",
    "        else:\n",
    "            lp=torch.sigmoid(g(ltmp.reshape(-1,1).to(device),test_x[i].reshape(-1,1).to(device)))\n",
    "            rp=torch.sigmoid(g(rtmp.reshape(-1,1).to(device),test_x[i].reshape(-1,1).to(device)))             \n",
    "            lp=lp.cpu().detach()\n",
    "            rp=rp.cpu().detach()\n",
    "            ll_est[i]=np.log(rp-lp+1.e-10)\n",
    "    allll.append(np.nanmean(ll_est))\n",
    "    allllf.append(np.nanmean(ll_estf))"
   ]
  },
  {
   "cell_type": "code",
   "execution_count": null,
   "metadata": {
    "id": "ew-FWclzJl8A"
   },
   "outputs": [],
   "source": []
  }
 ],
 "metadata": {
  "accelerator": "GPU",
  "colab": {
   "collapsed_sections": [],
   "machine_shape": "hm",
   "name": "CNgf_converge.ipynb",
   "provenance": [],
   "toc_visible": true
  },
  "kernelspec": {
   "display_name": "Python 3",
   "language": "python",
   "name": "python3"
  },
  "language_info": {
   "codemirror_mode": {
    "name": "ipython",
    "version": 3
   },
   "file_extension": ".py",
   "mimetype": "text/x-python",
   "name": "python",
   "nbconvert_exporter": "python",
   "pygments_lexer": "ipython3",
   "version": "3.7.5"
  },
  "widgets": {
   "application/vnd.jupyter.widget-state+json": {
    "1512b55629e143fe836fef3f663435af": {
     "model_module": "@jupyter-widgets/controls",
     "model_name": "HBoxModel",
     "state": {
      "_dom_classes": [],
      "_model_module": "@jupyter-widgets/controls",
      "_model_module_version": "1.5.0",
      "_model_name": "HBoxModel",
      "_view_count": null,
      "_view_module": "@jupyter-widgets/controls",
      "_view_module_version": "1.5.0",
      "_view_name": "HBoxView",
      "box_style": "",
      "children": [
       "IPY_MODEL_3f8f7298bc8044dc973810a0e2b150ea",
       "IPY_MODEL_c0f37ef0e4be49cb900d1d5230558491"
      ],
      "layout": "IPY_MODEL_401dd23c75094aecbfad10f40510dce9"
     }
    },
    "217eb991d00e42989ffaef254c9a07be": {
     "model_module": "@jupyter-widgets/base",
     "model_name": "LayoutModel",
     "state": {
      "_model_module": "@jupyter-widgets/base",
      "_model_module_version": "1.2.0",
      "_model_name": "LayoutModel",
      "_view_count": null,
      "_view_module": "@jupyter-widgets/base",
      "_view_module_version": "1.2.0",
      "_view_name": "LayoutView",
      "align_content": null,
      "align_items": null,
      "align_self": null,
      "border": null,
      "bottom": null,
      "display": null,
      "flex": null,
      "flex_flow": null,
      "grid_area": null,
      "grid_auto_columns": null,
      "grid_auto_flow": null,
      "grid_auto_rows": null,
      "grid_column": null,
      "grid_gap": null,
      "grid_row": null,
      "grid_template_areas": null,
      "grid_template_columns": null,
      "grid_template_rows": null,
      "height": null,
      "justify_content": null,
      "justify_items": null,
      "left": null,
      "margin": null,
      "max_height": null,
      "max_width": null,
      "min_height": null,
      "min_width": null,
      "object_fit": null,
      "object_position": null,
      "order": null,
      "overflow": null,
      "overflow_x": null,
      "overflow_y": null,
      "padding": null,
      "right": null,
      "top": null,
      "visibility": null,
      "width": null
     }
    },
    "3a7f8e66fe7c4fa6adaf193b7a5f7b6c": {
     "model_module": "@jupyter-widgets/controls",
     "model_name": "ProgressStyleModel",
     "state": {
      "_model_module": "@jupyter-widgets/controls",
      "_model_module_version": "1.5.0",
      "_model_name": "ProgressStyleModel",
      "_view_count": null,
      "_view_module": "@jupyter-widgets/base",
      "_view_module_version": "1.2.0",
      "_view_name": "StyleView",
      "bar_color": null,
      "description_width": "initial"
     }
    },
    "3f8f7298bc8044dc973810a0e2b150ea": {
     "model_module": "@jupyter-widgets/controls",
     "model_name": "FloatProgressModel",
     "state": {
      "_dom_classes": [],
      "_model_module": "@jupyter-widgets/controls",
      "_model_module_version": "1.5.0",
      "_model_name": "FloatProgressModel",
      "_view_count": null,
      "_view_module": "@jupyter-widgets/controls",
      "_view_module_version": "1.5.0",
      "_view_name": "ProgressView",
      "bar_style": "success",
      "description": "100%",
      "description_tooltip": null,
      "layout": "IPY_MODEL_dd118404857b4bddb05fd907600b45f1",
      "max": 5000,
      "min": 0,
      "orientation": "horizontal",
      "style": "IPY_MODEL_d6b6db9bb74748f588be166bdf24ad74",
      "value": 5000
     }
    },
    "401dd23c75094aecbfad10f40510dce9": {
     "model_module": "@jupyter-widgets/base",
     "model_name": "LayoutModel",
     "state": {
      "_model_module": "@jupyter-widgets/base",
      "_model_module_version": "1.2.0",
      "_model_name": "LayoutModel",
      "_view_count": null,
      "_view_module": "@jupyter-widgets/base",
      "_view_module_version": "1.2.0",
      "_view_name": "LayoutView",
      "align_content": null,
      "align_items": null,
      "align_self": null,
      "border": null,
      "bottom": null,
      "display": null,
      "flex": null,
      "flex_flow": null,
      "grid_area": null,
      "grid_auto_columns": null,
      "grid_auto_flow": null,
      "grid_auto_rows": null,
      "grid_column": null,
      "grid_gap": null,
      "grid_row": null,
      "grid_template_areas": null,
      "grid_template_columns": null,
      "grid_template_rows": null,
      "height": null,
      "justify_content": null,
      "justify_items": null,
      "left": null,
      "margin": null,
      "max_height": null,
      "max_width": null,
      "min_height": null,
      "min_width": null,
      "object_fit": null,
      "object_position": null,
      "order": null,
      "overflow": null,
      "overflow_x": null,
      "overflow_y": null,
      "padding": null,
      "right": null,
      "top": null,
      "visibility": null,
      "width": null
     }
    },
    "470af53d6f634bada4811304e3973895": {
     "model_module": "@jupyter-widgets/controls",
     "model_name": "HBoxModel",
     "state": {
      "_dom_classes": [],
      "_model_module": "@jupyter-widgets/controls",
      "_model_module_version": "1.5.0",
      "_model_name": "HBoxModel",
      "_view_count": null,
      "_view_module": "@jupyter-widgets/controls",
      "_view_module_version": "1.5.0",
      "_view_name": "HBoxView",
      "box_style": "",
      "children": [
       "IPY_MODEL_497b638aff6941b1a5705fb377901910",
       "IPY_MODEL_e1c7a1d1f2ae42fd8b0764d98d4e966d"
      ],
      "layout": "IPY_MODEL_f057c6d8dccc4b0a89264e23d557c7e9"
     }
    },
    "497b638aff6941b1a5705fb377901910": {
     "model_module": "@jupyter-widgets/controls",
     "model_name": "FloatProgressModel",
     "state": {
      "_dom_classes": [],
      "_model_module": "@jupyter-widgets/controls",
      "_model_module_version": "1.5.0",
      "_model_name": "FloatProgressModel",
      "_view_count": null,
      "_view_module": "@jupyter-widgets/controls",
      "_view_module_version": "1.5.0",
      "_view_name": "ProgressView",
      "bar_style": "success",
      "description": "100%",
      "description_tooltip": null,
      "layout": "IPY_MODEL_217eb991d00e42989ffaef254c9a07be",
      "max": 5000,
      "min": 0,
      "orientation": "horizontal",
      "style": "IPY_MODEL_3a7f8e66fe7c4fa6adaf193b7a5f7b6c",
      "value": 5000
     }
    },
    "4edd2e9be9084aad827fb821acad88dd": {
     "model_module": "@jupyter-widgets/controls",
     "model_name": "DescriptionStyleModel",
     "state": {
      "_model_module": "@jupyter-widgets/controls",
      "_model_module_version": "1.5.0",
      "_model_name": "DescriptionStyleModel",
      "_view_count": null,
      "_view_module": "@jupyter-widgets/base",
      "_view_module_version": "1.2.0",
      "_view_name": "StyleView",
      "description_width": ""
     }
    },
    "7bb6e36f483748c7ae2c312ffe19c3e5": {
     "model_module": "@jupyter-widgets/controls",
     "model_name": "DescriptionStyleModel",
     "state": {
      "_model_module": "@jupyter-widgets/controls",
      "_model_module_version": "1.5.0",
      "_model_name": "DescriptionStyleModel",
      "_view_count": null,
      "_view_module": "@jupyter-widgets/base",
      "_view_module_version": "1.2.0",
      "_view_name": "StyleView",
      "description_width": ""
     }
    },
    "abe50902414f45668cdfa140de0800ba": {
     "model_module": "@jupyter-widgets/base",
     "model_name": "LayoutModel",
     "state": {
      "_model_module": "@jupyter-widgets/base",
      "_model_module_version": "1.2.0",
      "_model_name": "LayoutModel",
      "_view_count": null,
      "_view_module": "@jupyter-widgets/base",
      "_view_module_version": "1.2.0",
      "_view_name": "LayoutView",
      "align_content": null,
      "align_items": null,
      "align_self": null,
      "border": null,
      "bottom": null,
      "display": null,
      "flex": null,
      "flex_flow": null,
      "grid_area": null,
      "grid_auto_columns": null,
      "grid_auto_flow": null,
      "grid_auto_rows": null,
      "grid_column": null,
      "grid_gap": null,
      "grid_row": null,
      "grid_template_areas": null,
      "grid_template_columns": null,
      "grid_template_rows": null,
      "height": null,
      "justify_content": null,
      "justify_items": null,
      "left": null,
      "margin": null,
      "max_height": null,
      "max_width": null,
      "min_height": null,
      "min_width": null,
      "object_fit": null,
      "object_position": null,
      "order": null,
      "overflow": null,
      "overflow_x": null,
      "overflow_y": null,
      "padding": null,
      "right": null,
      "top": null,
      "visibility": null,
      "width": null
     }
    },
    "b3aa36d306ed49aa97b597c38fd7f84e": {
     "model_module": "@jupyter-widgets/base",
     "model_name": "LayoutModel",
     "state": {
      "_model_module": "@jupyter-widgets/base",
      "_model_module_version": "1.2.0",
      "_model_name": "LayoutModel",
      "_view_count": null,
      "_view_module": "@jupyter-widgets/base",
      "_view_module_version": "1.2.0",
      "_view_name": "LayoutView",
      "align_content": null,
      "align_items": null,
      "align_self": null,
      "border": null,
      "bottom": null,
      "display": null,
      "flex": null,
      "flex_flow": null,
      "grid_area": null,
      "grid_auto_columns": null,
      "grid_auto_flow": null,
      "grid_auto_rows": null,
      "grid_column": null,
      "grid_gap": null,
      "grid_row": null,
      "grid_template_areas": null,
      "grid_template_columns": null,
      "grid_template_rows": null,
      "height": null,
      "justify_content": null,
      "justify_items": null,
      "left": null,
      "margin": null,
      "max_height": null,
      "max_width": null,
      "min_height": null,
      "min_width": null,
      "object_fit": null,
      "object_position": null,
      "order": null,
      "overflow": null,
      "overflow_x": null,
      "overflow_y": null,
      "padding": null,
      "right": null,
      "top": null,
      "visibility": null,
      "width": null
     }
    },
    "c0f37ef0e4be49cb900d1d5230558491": {
     "model_module": "@jupyter-widgets/controls",
     "model_name": "HTMLModel",
     "state": {
      "_dom_classes": [],
      "_model_module": "@jupyter-widgets/controls",
      "_model_module_version": "1.5.0",
      "_model_name": "HTMLModel",
      "_view_count": null,
      "_view_module": "@jupyter-widgets/controls",
      "_view_module_version": "1.5.0",
      "_view_name": "HTMLView",
      "description": "",
      "description_tooltip": null,
      "layout": "IPY_MODEL_b3aa36d306ed49aa97b597c38fd7f84e",
      "placeholder": "​",
      "style": "IPY_MODEL_7bb6e36f483748c7ae2c312ffe19c3e5",
      "value": " 5000/5000 [07:53&lt;00:00, 10.56it/s]"
     }
    },
    "d6b6db9bb74748f588be166bdf24ad74": {
     "model_module": "@jupyter-widgets/controls",
     "model_name": "ProgressStyleModel",
     "state": {
      "_model_module": "@jupyter-widgets/controls",
      "_model_module_version": "1.5.0",
      "_model_name": "ProgressStyleModel",
      "_view_count": null,
      "_view_module": "@jupyter-widgets/base",
      "_view_module_version": "1.2.0",
      "_view_name": "StyleView",
      "bar_color": null,
      "description_width": "initial"
     }
    },
    "dd118404857b4bddb05fd907600b45f1": {
     "model_module": "@jupyter-widgets/base",
     "model_name": "LayoutModel",
     "state": {
      "_model_module": "@jupyter-widgets/base",
      "_model_module_version": "1.2.0",
      "_model_name": "LayoutModel",
      "_view_count": null,
      "_view_module": "@jupyter-widgets/base",
      "_view_module_version": "1.2.0",
      "_view_name": "LayoutView",
      "align_content": null,
      "align_items": null,
      "align_self": null,
      "border": null,
      "bottom": null,
      "display": null,
      "flex": null,
      "flex_flow": null,
      "grid_area": null,
      "grid_auto_columns": null,
      "grid_auto_flow": null,
      "grid_auto_rows": null,
      "grid_column": null,
      "grid_gap": null,
      "grid_row": null,
      "grid_template_areas": null,
      "grid_template_columns": null,
      "grid_template_rows": null,
      "height": null,
      "justify_content": null,
      "justify_items": null,
      "left": null,
      "margin": null,
      "max_height": null,
      "max_width": null,
      "min_height": null,
      "min_width": null,
      "object_fit": null,
      "object_position": null,
      "order": null,
      "overflow": null,
      "overflow_x": null,
      "overflow_y": null,
      "padding": null,
      "right": null,
      "top": null,
      "visibility": null,
      "width": null
     }
    },
    "e1c7a1d1f2ae42fd8b0764d98d4e966d": {
     "model_module": "@jupyter-widgets/controls",
     "model_name": "HTMLModel",
     "state": {
      "_dom_classes": [],
      "_model_module": "@jupyter-widgets/controls",
      "_model_module_version": "1.5.0",
      "_model_name": "HTMLModel",
      "_view_count": null,
      "_view_module": "@jupyter-widgets/controls",
      "_view_module_version": "1.5.0",
      "_view_name": "HTMLView",
      "description": "",
      "description_tooltip": null,
      "layout": "IPY_MODEL_abe50902414f45668cdfa140de0800ba",
      "placeholder": "​",
      "style": "IPY_MODEL_4edd2e9be9084aad827fb821acad88dd",
      "value": " 5000/5000 [30:29&lt;00:00,  2.73it/s]"
     }
    },
    "f057c6d8dccc4b0a89264e23d557c7e9": {
     "model_module": "@jupyter-widgets/base",
     "model_name": "LayoutModel",
     "state": {
      "_model_module": "@jupyter-widgets/base",
      "_model_module_version": "1.2.0",
      "_model_name": "LayoutModel",
      "_view_count": null,
      "_view_module": "@jupyter-widgets/base",
      "_view_module_version": "1.2.0",
      "_view_name": "LayoutView",
      "align_content": null,
      "align_items": null,
      "align_self": null,
      "border": null,
      "bottom": null,
      "display": null,
      "flex": null,
      "flex_flow": null,
      "grid_area": null,
      "grid_auto_columns": null,
      "grid_auto_flow": null,
      "grid_auto_rows": null,
      "grid_column": null,
      "grid_gap": null,
      "grid_row": null,
      "grid_template_areas": null,
      "grid_template_columns": null,
      "grid_template_rows": null,
      "height": null,
      "justify_content": null,
      "justify_items": null,
      "left": null,
      "margin": null,
      "max_height": null,
      "max_width": null,
      "min_height": null,
      "min_width": null,
      "object_fit": null,
      "object_position": null,
      "order": null,
      "overflow": null,
      "overflow_x": null,
      "overflow_y": null,
      "padding": null,
      "right": null,
      "top": null,
      "visibility": null,
      "width": null
     }
    }
   }
  }
 },
 "nbformat": 4,
 "nbformat_minor": 1
}
