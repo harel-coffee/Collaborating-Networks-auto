{
 "cells": [
  {
   "cell_type": "code",
   "execution_count": 1,
   "metadata": {
    "colab": {
     "base_uri": "https://localhost:8080/",
     "height": 122
    },
    "colab_type": "code",
    "executionInfo": {
     "elapsed": 21806,
     "status": "ok",
     "timestamp": 1598543126291,
     "user": {
      "displayName": "z thui",
      "photoUrl": "",
      "userId": "08749963318503558861"
     },
     "user_tz": 240
    },
    "id": "5fyc63Xgm6Gn",
    "outputId": "929b7748-06b1-4516-d800-82d3bc4a53dc"
   },
   "outputs": [
    {
     "name": "stdout",
     "output_type": "stream",
     "text": [
      "Go to this URL in a browser: https://accounts.google.com/o/oauth2/auth?client_id=947318989803-6bn6qk8qdgf4n4g3pfee6491hc0brc4i.apps.googleusercontent.com&redirect_uri=urn%3aietf%3awg%3aoauth%3a2.0%3aoob&scope=email%20https%3a%2f%2fwww.googleapis.com%2fauth%2fdocs.test%20https%3a%2f%2fwww.googleapis.com%2fauth%2fdrive%20https%3a%2f%2fwww.googleapis.com%2fauth%2fdrive.photos.readonly%20https%3a%2f%2fwww.googleapis.com%2fauth%2fpeopleapi.readonly&response_type=code\n",
      "\n",
      "Enter your authorization code:\n",
      "··········\n",
      "Mounted at /content/drive\n"
     ]
    }
   ],
   "source": [
    "import torch\n",
    "import numpy as np\n",
    "\n",
    "from torch import optim, nn\n",
    "import torch.nn.functional as F\n",
    "from torch.utils.data import DataLoader\n",
    "from torch.utils.data.dataset import Dataset\n",
    "\n",
    "import matplotlib.pyplot as plt\n",
    "\n",
    "from tqdm import  notebook\n",
    "from scipy import stats\n",
    "\n",
    "from google.colab import drive\n",
    "drive.mount('/content/drive')"
   ]
  },
  {
   "cell_type": "code",
   "execution_count": 2,
   "metadata": {
    "colab": {
     "base_uri": "https://localhost:8080/",
     "height": 34
    },
    "colab_type": "code",
    "executionInfo": {
     "elapsed": 445,
     "status": "ok",
     "timestamp": 1598543127619,
     "user": {
      "displayName": "z thui",
      "photoUrl": "",
      "userId": "08749963318503558861"
     },
     "user_tz": 240
    },
    "id": "ynwxgdL0Wrb4",
    "outputId": "73507adb-e725-4291-fc9c-73658f464de1"
   },
   "outputs": [
    {
     "name": "stdout",
     "output_type": "stream",
     "text": [
      "cuda:0\n"
     ]
    }
   ],
   "source": [
    "device = torch.device(\"cuda:0\" if torch.cuda.is_available() else \"cpu\")\n",
    "cpu = torch.device(\"cpu\")\n",
    "print(device)"
   ]
  },
  {
   "cell_type": "code",
   "execution_count": null,
   "metadata": {
    "colab": {},
    "colab_type": "code",
    "id": "PHsuqHLy3HuQ"
   },
   "outputs": [],
   "source": []
  },
  {
   "cell_type": "code",
   "execution_count": null,
   "metadata": {
    "colab": {},
    "colab_type": "code",
    "id": "QeYTk2dQ-q3c"
   },
   "outputs": [],
   "source": [
    "#### load data"
   ]
  },
  {
   "cell_type": "code",
   "execution_count": 3,
   "metadata": {
    "colab": {
     "base_uri": "https://localhost:8080/",
     "height": 388
    },
    "colab_type": "code",
    "executionInfo": {
     "elapsed": 824,
     "status": "ok",
     "timestamp": 1598543130350,
     "user": {
      "displayName": "z thui",
      "photoUrl": "",
      "userId": "08749963318503558861"
     },
     "user_tz": 240
    },
    "id": "bzBGbL8MI2h6",
    "outputId": "4f7c1512-4d36-4534-9c37-8fffd681d3b9"
   },
   "outputs": [
    {
     "data": {
      "image/png": "[encoded data removed]",
      "text/plain": [
       "<Figure size 576x432 with 1 Axes>"
      ]
     },
     "metadata": {
      "needs_background": "light",
      "tags": []
     },
     "output_type": "display_data"
    }
   ],
   "source": [
    "from scipy.stats import norm\n",
    "def gen3(x,q):\n",
    "  z=torch.from_numpy(norm.ppf(q)).float()\n",
    "  muintermediate=torch.cos(x*2*2*3.14159)\n",
    "  sdintermediate=(.2+.3*(muintermediate+1))\n",
    "  y=muintermediate+sdintermediate*z\n",
    "  return y\n",
    "experiment=3\n",
    "if experiment==0:\n",
    "  n=100\n",
    "  torch.manual_seed(42)\n",
    "  x=torch.linspace(-.5,.5,n).reshape(-1,1)\n",
    "  y=5*x+.5*torch.randn(n,1)\n",
    "  figure=plt.figure(figsize=[8,6])\n",
    "  plt.plot(x,y,'.',ms=15)\n",
    "  plt.xlabel('$x$')\n",
    "  plt.ylabel('$y$')\n",
    "  plt.show()\n",
    "elif experiment==1:\n",
    "  n=100\n",
    "  torch.manual_seed(42)\n",
    "  x=torch.linspace(-.5,.5,n).reshape(-1,1)\n",
    "  y=-1+2*(x>0)+.5*torch.randn(n,1)\n",
    "  figure=plt.figure(figsize=[8,6])\n",
    "  plt.plot(x,y,'.',ms=15)\n",
    "  plt.xlabel('$x$')\n",
    "  plt.ylabel('$y$')\n",
    "  plt.show()\n",
    "elif experiment==2:\n",
    "  n=100\n",
    "  torch.manual_seed(42)\n",
    "  x=torch.linspace(-.5,.5,n).reshape(-1,1)\n",
    "  y=torch.cos(x*2*2*3.14159)+.5*torch.randn(n,1)\n",
    "  figure=plt.figure(figsize=[8,6])\n",
    "  plt.plot(x,y,'.',ms=15)\n",
    "  plt.xlabel('$x$')\n",
    "  plt.ylabel('$y$')\n",
    "  plt.show()\n",
    "elif experiment==3:\n",
    "  n=100\n",
    "  torch.manual_seed(42)\n",
    "  x=torch.linspace(-.5,.5,n).reshape(-1,1)\n",
    "  np.random.seed(42)\n",
    "  q=np.random.rand(n,1)\n",
    "  y=gen3(x,q)\n",
    "  figure=plt.figure(figsize=[8,6])\n",
    "  plt.plot(x,y,'.',ms=15) \n",
    "  plt.xlabel('$x$')\n",
    "  plt.ylabel('$y$')\n",
    "  plt.show()"
   ]
  },
  {
   "cell_type": "code",
   "execution_count": 4,
   "metadata": {
    "colab": {},
    "colab_type": "code",
    "executionInfo": {
     "elapsed": 305,
     "status": "ok",
     "timestamp": 1598543132501,
     "user": {
      "displayName": "z thui",
      "photoUrl": "",
      "userId": "08749963318503558861"
     },
     "user_tz": 240
    },
    "id": "sSQLfVEbm-VD"
   },
   "outputs": [],
   "source": [
    "class my_dataset(Dataset):\n",
    "    def __init__(self,data,label):\n",
    "        self.data=x\n",
    "        self.label=y          \n",
    "    def __getitem__(self, index):\n",
    "        return self.data[index],self.label[index]\n",
    "    def __len__(self):\n",
    "        return len(self.data)"
   ]
  },
  {
   "cell_type": "markdown",
   "metadata": {
    "colab_type": "text",
    "id": "A8Lxu7AOBewA"
   },
   "source": [
    "#### calculate the true bn: in this case, we uses the true distribution to sample, therefore, the bn std is 3.29"
   ]
  },
  {
   "cell_type": "code",
   "execution_count": 5,
   "metadata": {
    "colab": {
     "base_uri": "https://localhost:8080/",
     "height": 34
    },
    "colab_type": "code",
    "executionInfo": {
     "elapsed": 312,
     "status": "ok",
     "timestamp": 1598543133156,
     "user": {
      "displayName": "z thui",
      "photoUrl": "",
      "userId": "08749963318503558861"
     },
     "user_tz": 240
    },
    "id": "M_0qpVtzIZEt",
    "outputId": "eaae271b-481e-40b2-9df1-a4204348f319"
   },
   "outputs": [
    {
     "data": {
      "text/plain": [
       "(0.00025292179968014255, 3.290617453798228)"
      ]
     },
     "execution_count": 5,
     "metadata": {
      "tags": []
     },
     "output_type": "execute_result"
    }
   ],
   "source": [
    "w=np.random.rand(2000000)\n",
    "t=-np.log(w/(1-w))\n",
    "t.mean(),np.var(t)"
   ]
  },
  {
   "cell_type": "markdown",
   "metadata": {
    "colab_type": "text",
    "id": "S-FOZaWVfJCr"
   },
   "source": [
    "## Collaborating Networks:   g only with correct bn(gc 3.29)"
   ]
  },
  {
   "cell_type": "code",
   "execution_count": 6,
   "metadata": {
    "colab": {},
    "colab_type": "code",
    "executionInfo": {
     "elapsed": 333,
     "status": "ok",
     "timestamp": 1598543136047,
     "user": {
      "displayName": "z thui",
      "photoUrl": "",
      "userId": "08749963318503558861"
     },
     "user_tz": 240
    },
    "id": "Gk8-y9sNYtJD"
   },
   "outputs": [],
   "source": [
    "class cn_gc(nn.Module):\n",
    "    def __init__(self):\n",
    "        super().__init__()\n",
    "        self.scale=torch.sqrt(torch.from_numpy(np.array([3.29]))).float().to(device)\n",
    "        self.k1=1000\n",
    "        self.k2=1000\n",
    "        self.fc1 = nn.Linear(2, self.k1)\n",
    "        self.bn1 = nn.BatchNorm1d(self.k1)\n",
    "        self.fc2 = nn.Linear(self.k1, self.k2)\n",
    "        self.bn2 = nn.BatchNorm1d(self.k2)\n",
    "        self.fc3 = nn.Linear(self.k2, 1)\n",
    "        self.bn3 = nn.BatchNorm1d(1,momentum=.1,affine=False)\n",
    "\n",
    "\n",
    "    def forward(self, y, x):\n",
    "        data=torch.cat([y,x],dim=1)\n",
    "        h1 = self.fc1(data)\n",
    "        h1 = self.bn1(h1)\n",
    "        h1 = F.elu(h1)\n",
    "        h2 = self.fc2(h1)\n",
    "        h2 = self.bn2(h2)\n",
    "        h2 = F.elu(h2)\n",
    "        h3 = self.fc3(h2)\n",
    "        g_logit=self.bn3(h3)*self.scale\n",
    "        return g_logit"
   ]
  },
  {
   "cell_type": "code",
   "execution_count": 7,
   "metadata": {
    "colab": {
     "base_uri": "https://localhost:8080/",
     "height": 66,
     "referenced_widgets": [
      "b5c51cbe4fca47c0a468a90c43c6a8c9",
      "34ae7319a347476096dd93b69299504c",
      "0f289f26d16840abb4d5d6c1f8147e76",
      "f1d3eb1dcb4f473fb1c29a1b767413fb",
      "d420d3343d574d8d939dccd6545d2460",
      "42c16080b3674049b2bb700b8247cc6e",
      "cefa2c844f064db392491f74df93c335",
      "78f7ce61ce0048a78465d4dfbcb85b25"
     ]
    },
    "colab_type": "code",
    "executionInfo": {
     "elapsed": 275014,
     "status": "ok",
     "timestamp": 1598543424246,
     "user": {
      "displayName": "z thui",
      "photoUrl": "",
      "userId": "08749963318503558861"
     },
     "user_tz": 240
    },
    "id": "mEuvjCgifL4K",
    "outputId": "bf232557-d41f-4a18-ebf3-3a42e0ebfccb"
   },
   "outputs": [
    {
     "data": {
      "application/vnd.jupyter.widget-view+json": {
       "model_id": "b5c51cbe4fca47c0a468a90c43c6a8c9",
       "version_major": 2,
       "version_minor": 0
      },
      "text/plain": [
       "HBox(children=(FloatProgress(value=0.0, max=70000.0), HTML(value='')))"
      ]
     },
     "metadata": {
      "tags": []
     },
     "output_type": "display_data"
    },
    {
     "name": "stdout",
     "output_type": "stream",
     "text": [
      "\n"
     ]
    }
   ],
   "source": [
    "batch_size=n\n",
    "dataloader = DataLoader(dataset=my_dataset(x,y),\n",
    "                            batch_size=batch_size,\n",
    "                            shuffle=True)\n",
    "\n",
    "pretrain_epochs =70000\n",
    "\n",
    "\n",
    "gc = cn_gc().to(device)\n",
    "\n",
    "\n",
    "\n",
    "gc_loss = nn.BCELoss()\n",
    "\n",
    "\n",
    "\n",
    "optimizer_gc = optim.Adam(gc.parameters(), lr=1e-5)\n",
    "\n",
    "\n",
    "\n",
    "gc_l=[]\n",
    "\n",
    "\n",
    "for epoch in notebook.trange(pretrain_epochs):\n",
    "    for xs, ys in dataloader:\n",
    "        xs, ys = xs.to(device), ys.to(device)\n",
    "\n",
    "        optimizer_gc.zero_grad()\n",
    "     \n",
    "        if experiment==3:\n",
    "        # if False:\n",
    "          q=np.random.rand(xs.shape[0],1)\n",
    "          yhat=gen3(xs.to('cpu'),q).to(device)\n",
    "        else:\n",
    "          yhat=torch.randn(ys.shape).to(device)\n",
    "\n",
    "        qhat_logit_c = gc(yhat,xs)\n",
    "        \n",
    "\n",
    "\n",
    "        with torch.no_grad():\n",
    "            ylt=ys<yhat\n",
    "            ylt=ylt.float()\n",
    "\n",
    "\n",
    "        glc = gc_loss(torch.sigmoid(qhat_logit_c),ylt)\n",
    "        glc.backward()\n",
    "\n",
    "       \n",
    "\n",
    "        # updates\n",
    "        optimizer_gc.step()\n",
    "       \n",
    "        gc_l.append(glc.item())\n",
    "       \n",
    "\n",
    "   "
   ]
  },
  {
   "cell_type": "code",
   "execution_count": 8,
   "metadata": {
    "colab": {
     "base_uri": "https://localhost:8080/",
     "height": 282
    },
    "colab_type": "code",
    "executionInfo": {
     "elapsed": 737,
     "status": "ok",
     "timestamp": 1598543649501,
     "user": {
      "displayName": "z thui",
      "photoUrl": "",
      "userId": "08749963318503558861"
     },
     "user_tz": 240
    },
    "id": "d188CgLFzmQN",
    "outputId": "549f1d5e-ae60-4a6d-9298-c89ab1c37be4"
   },
   "outputs": [
    {
     "data": {
      "text/plain": [
       "[<matplotlib.lines.Line2D at 0x7f46fcb46c88>]"
      ]
     },
     "execution_count": 8,
     "metadata": {
      "tags": []
     },
     "output_type": "execute_result"
    },
    {
     "data": {
      "image/png": "[encoded data removed]",
      "text/plain": [
       "<Figure size 432x288 with 1 Axes>"
      ]
     },
     "metadata": {
      "needs_background": "light",
      "tags": []
     },
     "output_type": "display_data"
    }
   ],
   "source": [
    "plt.plot(gc_l)\n"
   ]
  },
  {
   "cell_type": "markdown",
   "metadata": {
    "colab_type": "text",
    "id": "HDEkNr-_cm1A"
   },
   "source": [
    "### extracting quantiles"
   ]
  },
  {
   "cell_type": "code",
   "execution_count": 9,
   "metadata": {
    "colab": {},
    "colab_type": "code",
    "executionInfo": {
     "elapsed": 438,
     "status": "ok",
     "timestamp": 1598543653163,
     "user": {
      "displayName": "z thui",
      "photoUrl": "",
      "userId": "08749963318503558861"
     },
     "user_tz": 240
    },
    "id": "fvYlfynNFqKN"
   },
   "outputs": [],
   "source": [
    "### inverse cdf solve for quantiles\n",
    "from scipy.interpolate import interp1d\n",
    "\n",
    "def inverse_g(g_function):\n",
    "    def find_q_from_g(q,x_in,miny=torch.min(y),maxy=torch.max(y)):\n",
    "        g_function.eval()\n",
    "        poss_vals=4000\n",
    "        with torch.no_grad():\n",
    "            x_in = x_in.to(device)\n",
    "            y_poss=torch.linspace(-2.,3.,poss_vals).reshape(-1,1)\n",
    "            probs=torch.sigmoid(g_function(y_poss.to(device),x_in.repeat(poss_vals,1).to(device)))\n",
    "        cdf=interp1d(probs.cpu().numpy().ravel(),y_poss.cpu().numpy().ravel()) \n",
    "        return cdf(q)\n",
    "    return find_q_from_g\n",
    "\n"
   ]
  },
  {
   "cell_type": "markdown",
   "metadata": {
    "colab_type": "text",
    "id": "zvNL6HkDaJJ1"
   },
   "source": [
    "## caculating the truth"
   ]
  },
  {
   "cell_type": "code",
   "execution_count": 10,
   "metadata": {
    "colab": {},
    "colab_type": "code",
    "executionInfo": {
     "elapsed": 503,
     "status": "ok",
     "timestamp": 1598543662147,
     "user": {
      "displayName": "z thui",
      "photoUrl": "",
      "userId": "08749963318503558861"
     },
     "user_tz": 240
    },
    "id": "-GhWNArBaN6i"
   },
   "outputs": [],
   "source": [
    "xymusd=np.load(r'/content/drive/My Drive/overfit_discover/xymusd.npy')\n",
    "med=xymusd[:,2].ravel()\n",
    "std=xymusd[:,3].ravel()\n",
    "up=med+stats.norm.ppf(0.75)*std\n",
    "low=med+stats.norm.ppf(0.25)*std"
   ]
  },
  {
   "cell_type": "markdown",
   "metadata": {
    "colab_type": "text",
    "id": "QwOVlgVlRwL4"
   },
   "source": [
    "### find three conditional quantiles"
   ]
  },
  {
   "cell_type": "code",
   "execution_count": 11,
   "metadata": {
    "colab": {
     "base_uri": "https://localhost:8080/",
     "height": 66,
     "referenced_widgets": [
      "382690b96eda4e4399da64719c9c3be4",
      "78aaa327880f40ffbdcec836bd78c1f9",
      "e5c6cdc34de14281917b0ac9e89920f9",
      "261cf75a22cd4698b4eeee074cfcff4a",
      "768ae7c3cf67442ca816bde6c2d5ceed",
      "5eb6084314a24f448d47f53aab8c861a",
      "bb34ed3e5fce4ad59ad40d13da9defe2",
      "d65bfb4bd27b4832bb0e84044b3106ec"
     ]
    },
    "colab_type": "code",
    "executionInfo": {
     "elapsed": 614,
     "status": "ok",
     "timestamp": 1598543663480,
     "user": {
      "displayName": "z thui",
      "photoUrl": "",
      "userId": "08749963318503558861"
     },
     "user_tz": 240
    },
    "id": "b0axZeDugCpi",
    "outputId": "f72ea3df-3a2d-4ae1-8cf0-555380cabcf0"
   },
   "outputs": [
    {
     "data": {
      "application/vnd.jupyter.widget-view+json": {
       "model_id": "382690b96eda4e4399da64719c9c3be4",
       "version_major": 2,
       "version_minor": 0
      },
      "text/plain": [
       "HBox(children=(FloatProgress(value=0.0), HTML(value='')))"
      ]
     },
     "metadata": {
      "tags": []
     },
     "output_type": "display_data"
    },
    {
     "name": "stdout",
     "output_type": "stream",
     "text": [
      "\n"
     ]
    }
   ],
   "source": [
    "interp_points=100\n",
    "x_interp_CN_g=torch.linspace(-.5,.5,interp_points)\n",
    "\n",
    "find_q_from_g=inverse_g(gc)\n",
    "y_interp_CN_g=np.zeros((interp_points,3))\n",
    "for i in notebook.trange(interp_points):\n",
    "    y_interp_CN_g[i,:]=find_q_from_g([0.25,0.5,0.75],x_interp_CN_g[i])\n",
    " "
   ]
  },
  {
   "cell_type": "code",
   "execution_count": 12,
   "metadata": {
    "colab": {},
    "colab_type": "code",
    "executionInfo": {
     "elapsed": 646,
     "status": "ok",
     "timestamp": 1598543666947,
     "user": {
      "displayName": "z thui",
      "photoUrl": "",
      "userId": "08749963318503558861"
     },
     "user_tz": 240
    },
    "id": "2Yah9N-BWkWY"
   },
   "outputs": [],
   "source": [
    "gcout=y_interp_CN_g\n",
    "np.save(r'/content/drive/My Drive/overfit_discover/gcout',gcout)"
   ]
  },
  {
   "cell_type": "code",
   "execution_count": 13,
   "metadata": {
    "colab": {
     "base_uri": "https://localhost:8080/",
     "height": 54
    },
    "colab_type": "code",
    "executionInfo": {
     "elapsed": 213,
     "status": "ok",
     "timestamp": 1598543667540,
     "user": {
      "displayName": "z thui",
      "photoUrl": "",
      "userId": "08749963318503558861"
     },
     "user_tz": 240
    },
    "id": "L98Ean3KshRK",
    "outputId": "343fa2a7-b733-4581-8890-1d2160fd599b"
   },
   "outputs": [
    {
     "data": {
      "text/plain": [
       "DescribeResult(nobs=100, minmax=(0.008317720330481393, 1.026787721375726), mean=0.21711357586338603, variance=0.04383303834327099, skewness=2.0368743258513264, kurtosis=4.367804040668266)"
      ]
     },
     "execution_count": 13,
     "metadata": {
      "tags": []
     },
     "output_type": "execute_result"
    }
   ],
   "source": [
    "stats.describe(np.abs(med-y_interp_CN_g[:,1]))"
   ]
  },
  {
   "cell_type": "code",
   "execution_count": 14,
   "metadata": {
    "colab": {
     "base_uri": "https://localhost:8080/",
     "height": 294
    },
    "colab_type": "code",
    "executionInfo": {
     "elapsed": 1110,
     "status": "ok",
     "timestamp": 1598543672605,
     "user": {
      "displayName": "z thui",
      "photoUrl": "",
      "userId": "08749963318503558861"
     },
     "user_tz": 240
    },
    "id": "n58pinnP5mL2",
    "outputId": "1a82a7bb-a9a7-4225-a4b9-2579eac432f0"
   },
   "outputs": [
    {
     "data": {
      "image/png": "[encoded data removed]",
      "text/plain": [
       "<Figure size 432x324 with 1 Axes>"
      ]
     },
     "metadata": {
      "needs_background": "light",
      "tags": []
     },
     "output_type": "display_data"
    }
   ],
   "source": [
    "\n",
    "fig = plt.gcf()\n",
    "fig.set_size_inches(6,4.5)\n",
    "\n",
    "\n",
    "plt.rcParams[\"font.weight\"] = \"bold\"\n",
    "plt.rcParams[\"axes.labelweight\"] = \"bold\"\n",
    "plt.rcParams[\"axes.labelpad\"] = 0\n",
    "\n",
    "\n",
    "plt.rcParams['axes.linewidth'] = 0.5\n",
    "\n",
    "\n",
    "\n",
    "plt.rcParams['axes.labelsize'] = 10\n",
    "\n",
    "plt.rcParams['axes.titlesize'] = 10\n",
    "\n",
    "plt.rcParams['xtick.labelsize'] = 8\n",
    "\n",
    "plt.rcParams['ytick.labelsize'] = 8\n",
    "plt.rcParams['legend.fontsize'] = 9.5\n",
    "plt.plot(x,y,'*',ms=8,color='red')\n",
    "plt.plot(x_interp_CN_g,y_interp_CN_g[:,1],'--',color='blue',lw=2)\n",
    "plt.plot(x,med,color='green',lw=2)\n",
    "plt.fill_between(x_interp_CN_g.detach().numpy().ravel(), y_interp_CN_g[:,0], y_interp_CN_g[:,2],alpha=.25)\n",
    "plt.fill_between(x.detach().numpy().ravel(), low, up,alpha=.25)\n",
    "plt.legend(['Observations','Est_median','True_median','Est_IQR','True_IQR'],frameon=False)\n",
    "plt.xlabel('$x$',fontsize=14)\n",
    "plt.gca().xaxis.set_label_coords(1.0, -0.02)\n",
    "plt.ylabel('$y$',fontsize=14)\n",
    "plt.gca().yaxis.set_label_coords(-0.03, 0.5)\n",
    "\n",
    "plt.ylim([-1.7,3.1])\n",
    "plt.xlim([-0.55,0.55])\n",
    "fig.savefig(r'/content/drive/My Drive/overfit_discover/dist_gc.pdf',transparent=True,bbox_inches = 'tight',\n",
    "    pad_inches = 0.2)"
   ]
  },
  {
   "cell_type": "code",
   "execution_count": null,
   "metadata": {
    "colab": {},
    "colab_type": "code",
    "id": "t4h3f7HR6veR"
   },
   "outputs": [],
   "source": []
  },
  {
   "cell_type": "code",
   "execution_count": null,
   "metadata": {
    "colab": {},
    "colab_type": "code",
    "id": "BBcxvGA_ElQq"
   },
   "outputs": [],
   "source": []
  }
 ],
 "metadata": {
  "accelerator": "GPU",
  "colab": {
   "collapsed_sections": [],
   "machine_shape": "hm",
   "name": "g_only_true.ipynb",
   "provenance": []
  },
  "kernelspec": {
   "display_name": "Python 3",
   "language": "python",
   "name": "python3"
  },
  "language_info": {
   "codemirror_mode": {
    "name": "ipython",
    "version": 3
   },
   "file_extension": ".py",
   "mimetype": "text/x-python",
   "name": "python",
   "nbconvert_exporter": "python",
   "pygments_lexer": "ipython3",
   "version": "3.7.5"
  },
  "widgets": {
   "application/vnd.jupyter.widget-state+json": {
    "0f289f26d16840abb4d5d6c1f8147e76": {
     "model_module": "@jupyter-widgets/controls",
     "model_name": "FloatProgressModel",
     "state": {
      "_dom_classes": [],
      "_model_module": "@jupyter-widgets/controls",
      "_model_module_version": "1.5.0",
      "_model_name": "FloatProgressModel",
      "_view_count": null,
      "_view_module": "@jupyter-widgets/controls",
      "_view_module_version": "1.5.0",
      "_view_name": "ProgressView",
      "bar_style": "success",
      "description": "100%",
      "description_tooltip": null,
      "layout": "IPY_MODEL_42c16080b3674049b2bb700b8247cc6e",
      "max": 70000,
      "min": 0,
      "orientation": "horizontal",
      "style": "IPY_MODEL_d420d3343d574d8d939dccd6545d2460",
      "value": 70000
     }
    },
    "261cf75a22cd4698b4eeee074cfcff4a": {
     "model_module": "@jupyter-widgets/controls",
     "model_name": "HTMLModel",
     "state": {
      "_dom_classes": [],
      "_model_module": "@jupyter-widgets/controls",
      "_model_module_version": "1.5.0",
      "_model_name": "HTMLModel",
      "_view_count": null,
      "_view_module": "@jupyter-widgets/controls",
      "_view_module_version": "1.5.0",
      "_view_name": "HTMLView",
      "description": "",
      "description_tooltip": null,
      "layout": "IPY_MODEL_d65bfb4bd27b4832bb0e84044b3106ec",
      "placeholder": "​",
      "style": "IPY_MODEL_bb34ed3e5fce4ad59ad40d13da9defe2",
      "value": " 100/100 [00:09&lt;00:00, 10.95it/s]"
     }
    },
    "34ae7319a347476096dd93b69299504c": {
     "model_module": "@jupyter-widgets/base",
     "model_name": "LayoutModel",
     "state": {
      "_model_module": "@jupyter-widgets/base",
      "_model_module_version": "1.2.0",
      "_model_name": "LayoutModel",
      "_view_count": null,
      "_view_module": "@jupyter-widgets/base",
      "_view_module_version": "1.2.0",
      "_view_name": "LayoutView",
      "align_content": null,
      "align_items": null,
      "align_self": null,
      "border": null,
      "bottom": null,
      "display": null,
      "flex": null,
      "flex_flow": null,
      "grid_area": null,
      "grid_auto_columns": null,
      "grid_auto_flow": null,
      "grid_auto_rows": null,
      "grid_column": null,
      "grid_gap": null,
      "grid_row": null,
      "grid_template_areas": null,
      "grid_template_columns": null,
      "grid_template_rows": null,
      "height": null,
      "justify_content": null,
      "justify_items": null,
      "left": null,
      "margin": null,
      "max_height": null,
      "max_width": null,
      "min_height": null,
      "min_width": null,
      "object_fit": null,
      "object_position": null,
      "order": null,
      "overflow": null,
      "overflow_x": null,
      "overflow_y": null,
      "padding": null,
      "right": null,
      "top": null,
      "visibility": null,
      "width": null
     }
    },
    "382690b96eda4e4399da64719c9c3be4": {
     "model_module": "@jupyter-widgets/controls",
     "model_name": "HBoxModel",
     "state": {
      "_dom_classes": [],
      "_model_module": "@jupyter-widgets/controls",
      "_model_module_version": "1.5.0",
      "_model_name": "HBoxModel",
      "_view_count": null,
      "_view_module": "@jupyter-widgets/controls",
      "_view_module_version": "1.5.0",
      "_view_name": "HBoxView",
      "box_style": "",
      "children": [
       "IPY_MODEL_e5c6cdc34de14281917b0ac9e89920f9",
       "IPY_MODEL_261cf75a22cd4698b4eeee074cfcff4a"
      ],
      "layout": "IPY_MODEL_78aaa327880f40ffbdcec836bd78c1f9"
     }
    },
    "42c16080b3674049b2bb700b8247cc6e": {
     "model_module": "@jupyter-widgets/base",
     "model_name": "LayoutModel",
     "state": {
      "_model_module": "@jupyter-widgets/base",
      "_model_module_version": "1.2.0",
      "_model_name": "LayoutModel",
      "_view_count": null,
      "_view_module": "@jupyter-widgets/base",
      "_view_module_version": "1.2.0",
      "_view_name": "LayoutView",
      "align_content": null,
      "align_items": null,
      "align_self": null,
      "border": null,
      "bottom": null,
      "display": null,
      "flex": null,
      "flex_flow": null,
      "grid_area": null,
      "grid_auto_columns": null,
      "grid_auto_flow": null,
      "grid_auto_rows": null,
      "grid_column": null,
      "grid_gap": null,
      "grid_row": null,
      "grid_template_areas": null,
      "grid_template_columns": null,
      "grid_template_rows": null,
      "height": null,
      "justify_content": null,
      "justify_items": null,
      "left": null,
      "margin": null,
      "max_height": null,
      "max_width": null,
      "min_height": null,
      "min_width": null,
      "object_fit": null,
      "object_position": null,
      "order": null,
      "overflow": null,
      "overflow_x": null,
      "overflow_y": null,
      "padding": null,
      "right": null,
      "top": null,
      "visibility": null,
      "width": null
     }
    },
    "5eb6084314a24f448d47f53aab8c861a": {
     "model_module": "@jupyter-widgets/base",
     "model_name": "LayoutModel",
     "state": {
      "_model_module": "@jupyter-widgets/base",
      "_model_module_version": "1.2.0",
      "_model_name": "LayoutModel",
      "_view_count": null,
      "_view_module": "@jupyter-widgets/base",
      "_view_module_version": "1.2.0",
      "_view_name": "LayoutView",
      "align_content": null,
      "align_items": null,
      "align_self": null,
      "border": null,
      "bottom": null,
      "display": null,
      "flex": null,
      "flex_flow": null,
      "grid_area": null,
      "grid_auto_columns": null,
      "grid_auto_flow": null,
      "grid_auto_rows": null,
      "grid_column": null,
      "grid_gap": null,
      "grid_row": null,
      "grid_template_areas": null,
      "grid_template_columns": null,
      "grid_template_rows": null,
      "height": null,
      "justify_content": null,
      "justify_items": null,
      "left": null,
      "margin": null,
      "max_height": null,
      "max_width": null,
      "min_height": null,
      "min_width": null,
      "object_fit": null,
      "object_position": null,
      "order": null,
      "overflow": null,
      "overflow_x": null,
      "overflow_y": null,
      "padding": null,
      "right": null,
      "top": null,
      "visibility": null,
      "width": null
     }
    },
    "768ae7c3cf67442ca816bde6c2d5ceed": {
     "model_module": "@jupyter-widgets/controls",
     "model_name": "ProgressStyleModel",
     "state": {
      "_model_module": "@jupyter-widgets/controls",
      "_model_module_version": "1.5.0",
      "_model_name": "ProgressStyleModel",
      "_view_count": null,
      "_view_module": "@jupyter-widgets/base",
      "_view_module_version": "1.2.0",
      "_view_name": "StyleView",
      "bar_color": null,
      "description_width": "initial"
     }
    },
    "78aaa327880f40ffbdcec836bd78c1f9": {
     "model_module": "@jupyter-widgets/base",
     "model_name": "LayoutModel",
     "state": {
      "_model_module": "@jupyter-widgets/base",
      "_model_module_version": "1.2.0",
      "_model_name": "LayoutModel",
      "_view_count": null,
      "_view_module": "@jupyter-widgets/base",
      "_view_module_version": "1.2.0",
      "_view_name": "LayoutView",
      "align_content": null,
      "align_items": null,
      "align_self": null,
      "border": null,
      "bottom": null,
      "display": null,
      "flex": null,
      "flex_flow": null,
      "grid_area": null,
      "grid_auto_columns": null,
      "grid_auto_flow": null,
      "grid_auto_rows": null,
      "grid_column": null,
      "grid_gap": null,
      "grid_row": null,
      "grid_template_areas": null,
      "grid_template_columns": null,
      "grid_template_rows": null,
      "height": null,
      "justify_content": null,
      "justify_items": null,
      "left": null,
      "margin": null,
      "max_height": null,
      "max_width": null,
      "min_height": null,
      "min_width": null,
      "object_fit": null,
      "object_position": null,
      "order": null,
      "overflow": null,
      "overflow_x": null,
      "overflow_y": null,
      "padding": null,
      "right": null,
      "top": null,
      "visibility": null,
      "width": null
     }
    },
    "78f7ce61ce0048a78465d4dfbcb85b25": {
     "model_module": "@jupyter-widgets/base",
     "model_name": "LayoutModel",
     "state": {
      "_model_module": "@jupyter-widgets/base",
      "_model_module_version": "1.2.0",
      "_model_name": "LayoutModel",
      "_view_count": null,
      "_view_module": "@jupyter-widgets/base",
      "_view_module_version": "1.2.0",
      "_view_name": "LayoutView",
      "align_content": null,
      "align_items": null,
      "align_self": null,
      "border": null,
      "bottom": null,
      "display": null,
      "flex": null,
      "flex_flow": null,
      "grid_area": null,
      "grid_auto_columns": null,
      "grid_auto_flow": null,
      "grid_auto_rows": null,
      "grid_column": null,
      "grid_gap": null,
      "grid_row": null,
      "grid_template_areas": null,
      "grid_template_columns": null,
      "grid_template_rows": null,
      "height": null,
      "justify_content": null,
      "justify_items": null,
      "left": null,
      "margin": null,
      "max_height": null,
      "max_width": null,
      "min_height": null,
      "min_width": null,
      "object_fit": null,
      "object_position": null,
      "order": null,
      "overflow": null,
      "overflow_x": null,
      "overflow_y": null,
      "padding": null,
      "right": null,
      "top": null,
      "visibility": null,
      "width": null
     }
    },
    "b5c51cbe4fca47c0a468a90c43c6a8c9": {
     "model_module": "@jupyter-widgets/controls",
     "model_name": "HBoxModel",
     "state": {
      "_dom_classes": [],
      "_model_module": "@jupyter-widgets/controls",
      "_model_module_version": "1.5.0",
      "_model_name": "HBoxModel",
      "_view_count": null,
      "_view_module": "@jupyter-widgets/controls",
      "_view_module_version": "1.5.0",
      "_view_name": "HBoxView",
      "box_style": "",
      "children": [
       "IPY_MODEL_0f289f26d16840abb4d5d6c1f8147e76",
       "IPY_MODEL_f1d3eb1dcb4f473fb1c29a1b767413fb"
      ],
      "layout": "IPY_MODEL_34ae7319a347476096dd93b69299504c"
     }
    },
    "bb34ed3e5fce4ad59ad40d13da9defe2": {
     "model_module": "@jupyter-widgets/controls",
     "model_name": "DescriptionStyleModel",
     "state": {
      "_model_module": "@jupyter-widgets/controls",
      "_model_module_version": "1.5.0",
      "_model_name": "DescriptionStyleModel",
      "_view_count": null,
      "_view_module": "@jupyter-widgets/base",
      "_view_module_version": "1.2.0",
      "_view_name": "StyleView",
      "description_width": ""
     }
    },
    "cefa2c844f064db392491f74df93c335": {
     "model_module": "@jupyter-widgets/controls",
     "model_name": "DescriptionStyleModel",
     "state": {
      "_model_module": "@jupyter-widgets/controls",
      "_model_module_version": "1.5.0",
      "_model_name": "DescriptionStyleModel",
      "_view_count": null,
      "_view_module": "@jupyter-widgets/base",
      "_view_module_version": "1.2.0",
      "_view_name": "StyleView",
      "description_width": ""
     }
    },
    "d420d3343d574d8d939dccd6545d2460": {
     "model_module": "@jupyter-widgets/controls",
     "model_name": "ProgressStyleModel",
     "state": {
      "_model_module": "@jupyter-widgets/controls",
      "_model_module_version": "1.5.0",
      "_model_name": "ProgressStyleModel",
      "_view_count": null,
      "_view_module": "@jupyter-widgets/base",
      "_view_module_version": "1.2.0",
      "_view_name": "StyleView",
      "bar_color": null,
      "description_width": "initial"
     }
    },
    "d65bfb4bd27b4832bb0e84044b3106ec": {
     "model_module": "@jupyter-widgets/base",
     "model_name": "LayoutModel",
     "state": {
      "_model_module": "@jupyter-widgets/base",
      "_model_module_version": "1.2.0",
      "_model_name": "LayoutModel",
      "_view_count": null,
      "_view_module": "@jupyter-widgets/base",
      "_view_module_version": "1.2.0",
      "_view_name": "LayoutView",
      "align_content": null,
      "align_items": null,
      "align_self": null,
      "border": null,
      "bottom": null,
      "display": null,
      "flex": null,
      "flex_flow": null,
      "grid_area": null,
      "grid_auto_columns": null,
      "grid_auto_flow": null,
      "grid_auto_rows": null,
      "grid_column": null,
      "grid_gap": null,
      "grid_row": null,
      "grid_template_areas": null,
      "grid_template_columns": null,
      "grid_template_rows": null,
      "height": null,
      "justify_content": null,
      "justify_items": null,
      "left": null,
      "margin": null,
      "max_height": null,
      "max_width": null,
      "min_height": null,
      "min_width": null,
      "object_fit": null,
      "object_position": null,
      "order": null,
      "overflow": null,
      "overflow_x": null,
      "overflow_y": null,
      "padding": null,
      "right": null,
      "top": null,
      "visibility": null,
      "width": null
     }
    },
    "e5c6cdc34de14281917b0ac9e89920f9": {
     "model_module": "@jupyter-widgets/controls",
     "model_name": "FloatProgressModel",
     "state": {
      "_dom_classes": [],
      "_model_module": "@jupyter-widgets/controls",
      "_model_module_version": "1.5.0",
      "_model_name": "FloatProgressModel",
      "_view_count": null,
      "_view_module": "@jupyter-widgets/controls",
      "_view_module_version": "1.5.0",
      "_view_name": "ProgressView",
      "bar_style": "success",
      "description": "100%",
      "description_tooltip": null,
      "layout": "IPY_MODEL_5eb6084314a24f448d47f53aab8c861a",
      "max": 100,
      "min": 0,
      "orientation": "horizontal",
      "style": "IPY_MODEL_768ae7c3cf67442ca816bde6c2d5ceed",
      "value": 100
     }
    },
    "f1d3eb1dcb4f473fb1c29a1b767413fb": {
     "model_module": "@jupyter-widgets/controls",
     "model_name": "HTMLModel",
     "state": {
      "_dom_classes": [],
      "_model_module": "@jupyter-widgets/controls",
      "_model_module_version": "1.5.0",
      "_model_name": "HTMLModel",
      "_view_count": null,
      "_view_module": "@jupyter-widgets/controls",
      "_view_module_version": "1.5.0",
      "_view_name": "HTMLView",
      "description": "",
      "description_tooltip": null,
      "layout": "IPY_MODEL_78f7ce61ce0048a78465d4dfbcb85b25",
      "placeholder": "​",
      "style": "IPY_MODEL_cefa2c844f064db392491f74df93c335",
      "value": " 70000/70000 [08:10&lt;00:00, 142.71it/s]"
     }
    }
   }
  }
 },
 "nbformat": 4,
 "nbformat_minor": 1
}
