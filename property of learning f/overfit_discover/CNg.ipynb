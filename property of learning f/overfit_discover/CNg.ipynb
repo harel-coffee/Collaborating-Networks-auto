{
 "cells": [
  {
   "cell_type": "code",
   "execution_count": 1,
   "metadata": {
    "colab": {
     "base_uri": "https://localhost:8080/",
     "height": 122
    },
    "colab_type": "code",
    "executionInfo": {
     "elapsed": 24198,
     "status": "ok",
     "timestamp": 1598541339847,
     "user": {
      "displayName": "z thui",
      "photoUrl": "",
      "userId": "08749963318503558861"
     },
     "user_tz": 240
    },
    "id": "5fyc63Xgm6Gn",
    "outputId": "e2829c93-7d66-4bc6-af9a-1a3a3c85e5c9"
   },
   "outputs": [
    {
     "name": "stdout",
     "output_type": "stream",
     "text": [
      "Go to this URL in a browser: https://accounts.google.com/o/oauth2/auth?client_id=947318989803-6bn6qk8qdgf4n4g3pfee6491hc0brc4i.apps.googleusercontent.com&redirect_uri=urn%3aietf%3awg%3aoauth%3a2.0%3aoob&scope=email%20https%3a%2f%2fwww.googleapis.com%2fauth%2fdocs.test%20https%3a%2f%2fwww.googleapis.com%2fauth%2fdrive%20https%3a%2f%2fwww.googleapis.com%2fauth%2fdrive.photos.readonly%20https%3a%2f%2fwww.googleapis.com%2fauth%2fpeopleapi.readonly&response_type=code\n",
      "\n",
      "Enter your authorization code:\n",
      "··········\n",
      "Mounted at /content/drive\n"
     ]
    }
   ],
   "source": [
    "import torch\n",
    "import numpy as np\n",
    "\n",
    "from torch import optim, nn\n",
    "import torch.nn.functional as F\n",
    "from torch.utils.data import DataLoader\n",
    "from torch.utils.data.dataset import Dataset\n",
    "\n",
    "import matplotlib.pyplot as plt\n",
    "from google.colab import drive\n",
    "\n",
    "drive.mount('/content/drive')\n"
   ]
  },
  {
   "cell_type": "code",
   "execution_count": 5,
   "metadata": {
    "colab": {
     "base_uri": "https://localhost:8080/",
     "height": 34
    },
    "colab_type": "code",
    "executionInfo": {
     "elapsed": 424,
     "status": "ok",
     "timestamp": 1598541352204,
     "user": {
      "displayName": "z thui",
      "photoUrl": "",
      "userId": "08749963318503558861"
     },
     "user_tz": 240
    },
    "id": "ynwxgdL0Wrb4",
    "outputId": "61baf6fa-5749-4ecb-880f-3f68e6a47212"
   },
   "outputs": [
    {
     "name": "stdout",
     "output_type": "stream",
     "text": [
      "cuda:0\n"
     ]
    }
   ],
   "source": [
    "device = torch.device(\"cuda:0\" if torch.cuda.is_available() else \"cpu\")\n",
    "cpu = torch.device(\"cpu\")\n",
    "print(device)"
   ]
  },
  {
   "cell_type": "code",
   "execution_count": 6,
   "metadata": {
    "colab": {},
    "colab_type": "code",
    "executionInfo": {
     "elapsed": 355,
     "status": "ok",
     "timestamp": 1598541353315,
     "user": {
      "displayName": "z thui",
      "photoUrl": "",
      "userId": "08749963318503558861"
     },
     "user_tz": 240
    },
    "id": "bAeF36Tzn-OG"
   },
   "outputs": [],
   "source": [
    "from tqdm import notebook\n",
    "from scipy import stats"
   ]
  },
  {
   "cell_type": "code",
   "execution_count": 7,
   "metadata": {
    "colab": {
     "base_uri": "https://localhost:8080/",
     "height": 388
    },
    "colab_type": "code",
    "executionInfo": {
     "elapsed": 572,
     "status": "ok",
     "timestamp": 1598541359053,
     "user": {
      "displayName": "z thui",
      "photoUrl": "",
      "userId": "08749963318503558861"
     },
     "user_tz": 240
    },
    "id": "B0_Sx8sZm8Lo",
    "outputId": "0ce1dec1-cf76-49a5-b03f-42caa3a561a3"
   },
   "outputs": [
    {
     "data": {
      "image/png": "[encoded data removed]",
      "text/plain": [
       "<Figure size 576x432 with 1 Axes>"
      ]
     },
     "metadata": {
      "needs_background": "light",
      "tags": []
     },
     "output_type": "display_data"
    }
   ],
   "source": [
    "from scipy.stats import norm\n",
    "def gen3(x,q):\n",
    "  z=torch.from_numpy(norm.ppf(q)).float()\n",
    "  intermediate=torch.cos(x*2*2*3.14159)\n",
    "  y=intermediate+(.2+.3*(intermediate+1))*z\n",
    "  return y\n",
    "experiment=3\n",
    "if experiment==0:\n",
    "  n=100\n",
    "  torch.manual_seed(42)\n",
    "  x=torch.linspace(-.5,.5,n).reshape(-1,1)\n",
    "  y=5*x+.5*torch.randn(n,1)\n",
    "  figure=plt.figure(figsize=[8,6])\n",
    "  plt.plot(x,y,'.',ms=15)\n",
    "  plt.xlabel('$x$')\n",
    "  plt.ylabel('$y$')\n",
    "  plt.show()\n",
    "elif experiment==1:\n",
    "  n=100\n",
    "  torch.manual_seed(42)\n",
    "  x=torch.linspace(-.5,.5,n).reshape(-1,1)\n",
    "  y=-1+2*(x>0)+.5*torch.randn(n,1)\n",
    "  figure=plt.figure(figsize=[8,6])\n",
    "  plt.plot(x,y,'.',ms=15)\n",
    "  plt.xlabel('$x$')\n",
    "  plt.ylabel('$y$')\n",
    "  plt.show()\n",
    "elif experiment==2:\n",
    "  n=100\n",
    "  torch.manual_seed(42)\n",
    "  x=torch.linspace(-.5,.5,n).reshape(-1,1)\n",
    "  y=torch.cos(x*2*2*3.14159)+.5*torch.randn(n,1)\n",
    "  figure=plt.figure(figsize=[8,6])\n",
    "  plt.plot(x,y,'.',ms=15)\n",
    "  plt.xlabel('$x$')\n",
    "  plt.ylabel('$y$')\n",
    "  plt.show()\n",
    "elif experiment==3:\n",
    "  n=100\n",
    "  torch.manual_seed(42)\n",
    "  x=torch.linspace(-.5,.5,n).reshape(-1,1)\n",
    "  np.random.seed(42)\n",
    "  q=np.random.rand(n,1)\n",
    "  y=gen3(x,q)\n",
    "  figure=plt.figure(figsize=[8,6])\n",
    "  plt.plot(x,y,'.',ms=15) \n",
    "  plt.xlabel('$x$')\n",
    "  plt.ylabel('$y$')\n",
    "  plt.show()"
   ]
  },
  {
   "cell_type": "code",
   "execution_count": 8,
   "metadata": {
    "colab": {},
    "colab_type": "code",
    "executionInfo": {
     "elapsed": 390,
     "status": "ok",
     "timestamp": 1598541360361,
     "user": {
      "displayName": "z thui",
      "photoUrl": "",
      "userId": "08749963318503558861"
     },
     "user_tz": 240
    },
    "id": "sSQLfVEbm-VD"
   },
   "outputs": [],
   "source": [
    "class my_dataset(Dataset):\n",
    "    def __init__(self,data,label):\n",
    "        self.data=x\n",
    "        self.label=y          \n",
    "    def __getitem__(self, index):\n",
    "        return self.data[index],self.label[index]\n",
    "    def __len__(self):\n",
    "        return len(self.data)"
   ]
  },
  {
   "cell_type": "markdown",
   "metadata": {
    "colab_type": "text",
    "id": "S-FOZaWVfJCr"
   },
   "source": [
    "# Collaborating Networks(gf)"
   ]
  },
  {
   "cell_type": "code",
   "execution_count": 9,
   "metadata": {
    "colab": {},
    "colab_type": "code",
    "executionInfo": {
     "elapsed": 445,
     "status": "ok",
     "timestamp": 1598541363475,
     "user": {
      "displayName": "z thui",
      "photoUrl": "",
      "userId": "08749963318503558861"
     },
     "user_tz": 240
    },
    "id": "GzPVb7EGdMtv"
   },
   "outputs": [],
   "source": [
    "class cn_f(nn.Module):\n",
    "    def __init__(self):\n",
    "        super().__init__()\n",
    "        self.k1=1000\n",
    "        self.k2=1000\n",
    "        self.k3=1000\n",
    "        self.fc1 = nn.Linear(2, self.k1)\n",
    "        self.bn1 = nn.BatchNorm1d(self.k1)\n",
    "        self.fc2 = nn.Linear(self.k1, self.k2)\n",
    "        self.bn2 = nn.BatchNorm1d(self.k2)\n",
    "        self.fc3 = nn.Linear(self.k2, self.k3)\n",
    "        self.bn3 = nn.BatchNorm1d(self.k3)\n",
    "        self.fc4 = nn.Linear(self.k3, 1)\n",
    "\n",
    "    def forward(self, q, x):\n",
    "        data=torch.cat([q,x],dim=1)\n",
    "        h1 = F.elu(self.bn1(self.fc1(data)))\n",
    "        h2 = F.elu(self.bn2(self.fc2(h1)))\n",
    "        h3 = F.elu(self.bn3(self.fc3(h2)))\n",
    "        out = self.fc4(h3)\n",
    "        return out"
   ]
  },
  {
   "cell_type": "code",
   "execution_count": 10,
   "metadata": {
    "colab": {},
    "colab_type": "code",
    "executionInfo": {
     "elapsed": 989,
     "status": "ok",
     "timestamp": 1598541374487,
     "user": {
      "displayName": "z thui",
      "photoUrl": "",
      "userId": "08749963318503558861"
     },
     "user_tz": 240
    },
    "id": "_N0jkQoyuQJt"
   },
   "outputs": [],
   "source": [
    "class cn_g(nn.Module):\n",
    "    def __init__(self):\n",
    "        super().__init__()\n",
    "        self.scale=torch.sqrt(torch.from_numpy(np.array([3.29]))).float().to(device)\n",
    "        self.k1=1000\n",
    "        self.k2=1000\n",
    "        self.fc1 = nn.Linear(2, self.k1)\n",
    "        self.bn1 = nn.BatchNorm1d(self.k1)\n",
    "        self.fc2 = nn.Linear(self.k1, self.k2)\n",
    "        self.bn2 = nn.BatchNorm1d(self.k2)\n",
    "        self.fc3 = nn.Linear(self.k2, 1)\n",
    "        self.bn3 = nn.BatchNorm1d(1,momentum=.1,affine=False)\n",
    "\n",
    "    def forward(self, y, x):\n",
    "        data=torch.cat([y,x],dim=1)\n",
    "        h1 = self.fc1(data)\n",
    "        h1 = self.bn1(h1)\n",
    "        h1 = F.elu(h1)\n",
    "        h2 = self.fc2(h1)\n",
    "        h2 = self.bn2(h2)\n",
    "        h2 = F.elu(h2)\n",
    "        h3 = self.fc3(h2)\n",
    "        g_logit=self.bn3(h3)*self.scale\n",
    "        return g_logit"
   ]
  },
  {
   "cell_type": "code",
   "execution_count": 11,
   "metadata": {
    "colab": {
     "base_uri": "https://localhost:8080/",
     "height": 115,
     "referenced_widgets": [
      "40c929d562f54936a8f84736bc5f3f46",
      "3e386af6f8564df0a933a5732f214085",
      "dc259b064ac84170944e8f3d3bbf2627",
      "c2b7ed573bbf4260864a805408af925a",
      "be46fd8bbc864cf2912689bd5af6b26e",
      "33f909ff9dda48c79a764404216d10ef",
      "c6d2c7b90f114c2e84a99c3250971ed7",
      "63d53f04bd6d4013836fcd5060955244",
      "0f22fefe850d4e5fb853eb57753fc79c",
      "40d69b2e0984468ea9c22f0d810c3437",
      "7bedc456ff344601915a6bf89530d4c0",
      "aef0383a14e2416fb28e7cf06c163886",
      "e7b910b85182477cb24f0edd94a82e4f",
      "f0ca311b3eba4932848577c279be4ac3",
      "1d4e1e94cde947e6bf5a37aea195c57b",
      "86a180333a404db8b4d2904bb1f5c276"
     ]
    },
    "colab_type": "code",
    "executionInfo": {
     "elapsed": 680910,
     "status": "ok",
     "timestamp": 1598542063013,
     "user": {
      "displayName": "z thui",
      "photoUrl": "",
      "userId": "08749963318503558861"
     },
     "user_tz": 240
    },
    "id": "mEuvjCgifL4K",
    "outputId": "5b825c2a-cf5c-48d7-b519-e02145d402a5"
   },
   "outputs": [
    {
     "data": {
      "application/vnd.jupyter.widget-view+json": {
       "model_id": "40c929d562f54936a8f84736bc5f3f46",
       "version_major": 2,
       "version_minor": 0
      },
      "text/plain": [
       "HBox(children=(FloatProgress(value=0.0, max=25000.0), HTML(value='')))"
      ]
     },
     "metadata": {
      "tags": []
     },
     "output_type": "display_data"
    },
    {
     "name": "stdout",
     "output_type": "stream",
     "text": [
      "\n"
     ]
    },
    {
     "data": {
      "application/vnd.jupyter.widget-view+json": {
       "model_id": "0f22fefe850d4e5fb853eb57753fc79c",
       "version_major": 2,
       "version_minor": 0
      },
      "text/plain": [
       "HBox(children=(FloatProgress(value=0.0, max=45000.0), HTML(value='')))"
      ]
     },
     "metadata": {
      "tags": []
     },
     "output_type": "display_data"
    },
    {
     "name": "stdout",
     "output_type": "stream",
     "text": [
      "\n"
     ]
    }
   ],
   "source": [
    "batch_size=n\n",
    "dataloader = DataLoader(dataset=my_dataset(x,y),\n",
    "                            batch_size=batch_size,\n",
    "                            shuffle=True)\n",
    "\n",
    "pretrain_epochs =25000\n",
    "epochs = 45000\n",
    "f = cn_f().to(device)\n",
    "g = cn_g().to(device)\n",
    "floss = nn.MSELoss()\n",
    "gloss = nn.BCELoss()\n",
    "optimizer_f = optim.Adam(f.parameters(), lr=1e-5)\n",
    "optimizer_g = optim.Adam(g.parameters(), lr=1e-5)\n",
    "\n",
    "\n",
    "g_loss=[]\n",
    "f_loss=[]\n",
    "\n",
    "for epoch in notebook.trange(pretrain_epochs):\n",
    "    f_running_loss = 0\n",
    "    g_running_loss = 0\n",
    "    for xs, ys in dataloader:\n",
    "        xs, ys = xs.to(device), ys.to(device)\n",
    "        optimizer_f.zero_grad()\n",
    "        optimizer_g.zero_grad()\n",
    "        \n",
    "        if experiment==3:\n",
    "        # if False:\n",
    "          q=np.random.rand(xs.shape[0],1)\n",
    "          yhat=torch.rand_like(ys).to(device)*6.-2.5\n",
    "        else:\n",
    "          yhat=torch.randn(ys.shape).to(device)\n",
    "\n",
    "        qhat_logit = g(yhat,xs)\n",
    "        with torch.no_grad():\n",
    "            ylt=ys<yhat\n",
    "            ylt=ylt.float()\n",
    "      \n",
    "        gl = gloss(torch.sigmoid(qhat_logit),ylt)\n",
    "        gl.backward(retain_graph=True)\n",
    "        optimizer_g.step()\n",
    "    g_loss.append(gl.item())\n",
    "\n",
    "for epoch in notebook.trange(epochs):\n",
    "    f_running_loss = 0\n",
    "    g_running_loss = 0\n",
    "    for xs, ys in dataloader:\n",
    "        xs, ys = xs.to(device), ys.to(device)\n",
    "        # f update\n",
    "        optimizer_f.zero_grad()\n",
    "        optimizer_g.zero_grad()\n",
    "        q=torch.rand(ys.shape).to(device)  \n",
    "        yhat = f(q,xs)\n",
    "        qhat_logit = g(yhat,xs)      \n",
    "        fl = floss(q, torch.sigmoid(qhat_logit))\n",
    "        fl.backward()\n",
    "        optimizer_f.step()\n",
    "\n",
    "        # g update\n",
    "        optimizer_f.zero_grad()\n",
    "        optimizer_g.zero_grad()\n",
    "        q=torch.rand(ys.shape).to(device)  \n",
    "        yhat = f(q,xs)\n",
    "        qhat_logit = g(yhat,xs)\n",
    "        with torch.no_grad():\n",
    "            ylt=ys<yhat\n",
    "            ylt=ylt.float()\n",
    "        gl = gloss(torch.sigmoid(qhat_logit),ylt)\n",
    "        gl.backward()\n",
    "        optimizer_g.step()\n",
    "\n",
    "        # f update\n",
    "        optimizer_f.zero_grad()\n",
    "        optimizer_g.zero_grad()\n",
    "        q=torch.rand(ys.shape).to(device)  \n",
    "        yhat = f(q,xs)\n",
    "        qhat_logit = g(yhat,xs)      \n",
    "        fl = floss(q, torch.sigmoid(qhat_logit))\n",
    "        fl.backward()\n",
    "        optimizer_f.step()\n",
    "\n",
    "    g_loss.append(gl.item())\n",
    "    f_loss.append(fl.item())\n",
    "    "
   ]
  },
  {
   "cell_type": "code",
   "execution_count": 13,
   "metadata": {
    "colab": {
     "base_uri": "https://localhost:8080/",
     "height": 153
    },
    "colab_type": "code",
    "executionInfo": {
     "elapsed": 366,
     "status": "ok",
     "timestamp": 1598542287328,
     "user": {
      "displayName": "z thui",
      "photoUrl": "",
      "userId": "08749963318503558861"
     },
     "user_tz": 240
    },
    "id": "d188CgLFzmQN",
    "outputId": "d3386d22-4c3b-4adc-f28c-9abc694fbaa8"
   },
   "outputs": [
    {
     "data": {
      "text/plain": [
       "cn_g(\n",
       "  (fc1): Linear(in_features=2, out_features=1000, bias=True)\n",
       "  (bn1): BatchNorm1d(1000, eps=1e-05, momentum=0.1, affine=True, track_running_stats=True)\n",
       "  (fc2): Linear(in_features=1000, out_features=1000, bias=True)\n",
       "  (bn2): BatchNorm1d(1000, eps=1e-05, momentum=0.1, affine=True, track_running_stats=True)\n",
       "  (fc3): Linear(in_features=1000, out_features=1, bias=True)\n",
       "  (bn3): BatchNorm1d(1, eps=1e-05, momentum=0.1, affine=False, track_running_stats=True)\n",
       ")"
      ]
     },
     "execution_count": 13,
     "metadata": {
      "tags": []
     },
     "output_type": "execute_result"
    }
   ],
   "source": [
    "f.eval()\n",
    "g.eval()\n"
   ]
  },
  {
   "cell_type": "code",
   "execution_count": 14,
   "metadata": {
    "colab": {
     "base_uri": "https://localhost:8080/",
     "height": 282
    },
    "colab_type": "code",
    "executionInfo": {
     "elapsed": 606,
     "status": "ok",
     "timestamp": 1598542289117,
     "user": {
      "displayName": "z thui",
      "photoUrl": "",
      "userId": "08749963318503558861"
     },
     "user_tz": 240
    },
    "id": "jih9CLh_QKce",
    "outputId": "5ae237aa-812f-4267-eeac-ae3fea37e5a7"
   },
   "outputs": [
    {
     "data": {
      "text/plain": [
       "[<matplotlib.lines.Line2D at 0x7fb2d2ac0278>]"
      ]
     },
     "execution_count": 14,
     "metadata": {
      "tags": []
     },
     "output_type": "execute_result"
    },
    {
     "data": {
      "image/png": "[encoded data removed]",
      "text/plain": [
       "<Figure size 432x288 with 1 Axes>"
      ]
     },
     "metadata": {
      "needs_background": "light",
      "tags": []
     },
     "output_type": "display_data"
    }
   ],
   "source": [
    "plt.plot(g_loss[25000:])\n",
    "plt.plot(f_loss)"
   ]
  },
  {
   "cell_type": "markdown",
   "metadata": {
    "colab_type": "text",
    "id": "2ckAqAMEQOmB"
   },
   "source": [
    "### evaluation"
   ]
  },
  {
   "cell_type": "code",
   "execution_count": 15,
   "metadata": {
    "colab": {},
    "colab_type": "code",
    "executionInfo": {
     "elapsed": 807,
     "status": "ok",
     "timestamp": 1598542296458,
     "user": {
      "displayName": "z thui",
      "photoUrl": "",
      "userId": "08749963318503558861"
     },
     "user_tz": 240
    },
    "id": "IzoYK8sVQUM5"
   },
   "outputs": [],
   "source": [
    "#truth\n",
    "dt=np.load(r'/content/drive/My Drive/overfit_discover/xymusd.npy')\n",
    "med=dt[:,2].ravel()\n",
    "std=dt[:,3].ravel()\n",
    "up=med+stats.norm.ppf(0.75)*std\n",
    "low=med+stats.norm.ppf(0.25)*std"
   ]
  },
  {
   "cell_type": "code",
   "execution_count": 16,
   "metadata": {
    "colab": {},
    "colab_type": "code",
    "executionInfo": {
     "elapsed": 952,
     "status": "ok",
     "timestamp": 1598542300213,
     "user": {
      "displayName": "z thui",
      "photoUrl": "",
      "userId": "08749963318503558861"
     },
     "user_tz": 240
    },
    "id": "gwhC9IKKk4YY"
   },
   "outputs": [],
   "source": [
    "### inverse cdf solve for quantiles\n",
    "from scipy.interpolate import interp1d\n",
    "\n",
    "def inverse_g(g_function):\n",
    "    def find_q_from_g(q,x_in,miny=torch.min(y),maxy=torch.max(y)):\n",
    "        g_function.eval()\n",
    "        poss_vals=4000\n",
    "        with torch.no_grad():\n",
    "            x_in = x_in.to(device)\n",
    "            y_poss=torch.linspace(-2.5,3.,poss_vals).reshape(-1,1)\n",
    "            probs=torch.sigmoid(g_function(y_poss.to(device),x_in.repeat(poss_vals,1).to(device)))\n",
    "        cdf=interp1d(probs.cpu().numpy().ravel(),y_poss.cpu().numpy().ravel()) \n",
    "        return cdf(q)\n",
    "    return find_q_from_g\n",
    "\n"
   ]
  },
  {
   "cell_type": "code",
   "execution_count": 17,
   "metadata": {
    "colab": {
     "base_uri": "https://localhost:8080/",
     "height": 66,
     "referenced_widgets": [
      "2a5ea229a06f488db931708d2e640e1e",
      "0fa42fc285934d2384ca9992ae75e231",
      "93c7239224b844029eb8d64349bf938c",
      "0e1cdfd57ecb4c49ab087e7a95c61ce7",
      "f60d66e3d7524a818e2fce95141f16bc",
      "e0d5c6f8f945499ca296e9fd5abfbf3d",
      "5f03fe1721ba4786ab3516b45a96281b",
      "d09081bfd67c4a8886228521e984f394"
     ]
    },
    "colab_type": "code",
    "executionInfo": {
     "elapsed": 645,
     "status": "ok",
     "timestamp": 1598542300423,
     "user": {
      "displayName": "z thui",
      "photoUrl": "",
      "userId": "08749963318503558861"
     },
     "user_tz": 240
    },
    "id": "V5bTSVb5WefS",
    "outputId": "2e90a43a-4617-451a-e1af-4d2113943437"
   },
   "outputs": [
    {
     "data": {
      "application/vnd.jupyter.widget-view+json": {
       "model_id": "2a5ea229a06f488db931708d2e640e1e",
       "version_major": 2,
       "version_minor": 0
      },
      "text/plain": [
       "HBox(children=(FloatProgress(value=0.0), HTML(value='')))"
      ]
     },
     "metadata": {
      "tags": []
     },
     "output_type": "display_data"
    },
    {
     "name": "stdout",
     "output_type": "stream",
     "text": [
      "\n"
     ]
    }
   ],
   "source": [
    "interp_points=100\n",
    "x_interp_CN_g=torch.linspace(-.5,.5,interp_points)\n",
    "\n",
    "find_q_from_g=inverse_g(g)\n",
    "y_interp_CN_g=np.zeros((interp_points,3))\n",
    "for i in notebook.trange(interp_points):\n",
    "    y_interp_CN_g[i,:]=find_q_from_g([0.25,0.5,0.75],x_interp_CN_g[i])\n",
    "\n",
    "gfout=y_interp_CN_g"
   ]
  },
  {
   "cell_type": "code",
   "execution_count": 20,
   "metadata": {
    "colab": {},
    "colab_type": "code",
    "executionInfo": {
     "elapsed": 884,
     "status": "ok",
     "timestamp": 1598542426383,
     "user": {
      "displayName": "z thui",
      "photoUrl": "",
      "userId": "08749963318503558861"
     },
     "user_tz": 240
    },
    "id": "rV1KGr75eA5b"
   },
   "outputs": [],
   "source": [
    "np.save(r'/content/drive/My Drive/overfit_discover/gfout',gfout)"
   ]
  },
  {
   "cell_type": "code",
   "execution_count": 21,
   "metadata": {
    "colab": {
     "base_uri": "https://localhost:8080/",
     "height": 294
    },
    "colab_type": "code",
    "executionInfo": {
     "elapsed": 1062,
     "status": "ok",
     "timestamp": 1598542431214,
     "user": {
      "displayName": "z thui",
      "photoUrl": "",
      "userId": "08749963318503558861"
     },
     "user_tz": 240
    },
    "id": "dhdAWCqHS6cv",
    "outputId": "d43e0e7f-2bce-47c6-90fa-b1f4a540c937"
   },
   "outputs": [
    {
     "data": {
      "image/png": "[encoded data removed]",
      "text/plain": [
       "<Figure size 432x324 with 1 Axes>"
      ]
     },
     "metadata": {
      "needs_background": "light",
      "tags": []
     },
     "output_type": "display_data"
    }
   ],
   "source": [
    "\n",
    "fig = plt.gcf()\n",
    "fig.set_size_inches(6,4.5)\n",
    "\n",
    "\n",
    "plt.rcParams[\"font.weight\"] = \"bold\"\n",
    "plt.rcParams[\"axes.labelweight\"] = \"bold\"\n",
    "plt.rcParams[\"axes.labelpad\"] = 0\n",
    "\n",
    "\n",
    "plt.rcParams['axes.linewidth'] = 0.5\n",
    "\n",
    "\n",
    "\n",
    "plt.rcParams['axes.labelsize'] = 10\n",
    "\n",
    "plt.rcParams['axes.titlesize'] = 10\n",
    "\n",
    "plt.rcParams['xtick.labelsize'] = 8\n",
    "\n",
    "plt.rcParams['ytick.labelsize'] = 8\n",
    "plt.rcParams['legend.fontsize'] = 9.5\n",
    "plt.plot(x,y,'*',ms=8,color='red')\n",
    "plt.plot(x_interp_CN_g,y_interp_CN_g[:,1],'--',color='blue',lw=2)\n",
    "plt.plot(x,med,color='green',lw=2)\n",
    "plt.fill_between(x_interp_CN_g.detach().numpy().ravel(), y_interp_CN_g[:,0], y_interp_CN_g[:,2],alpha=.25)\n",
    "plt.fill_between(x.detach().numpy().ravel(), low, up,alpha=.25)\n",
    "plt.legend(['Observations','Est_median','True_median','Est_IQR','True_IQR'],frameon=False)\n",
    "plt.xlabel('$x$',fontsize=14)\n",
    "plt.gca().xaxis.set_label_coords(1.0, -0.02)\n",
    "plt.ylabel('$y$',fontsize=14)\n",
    "plt.gca().yaxis.set_label_coords(-0.03, 0.5)\n",
    "\n",
    "plt.ylim([-1.7,3.1])\n",
    "plt.xlim([-0.55,0.55])\n",
    "fig.savefig(r'/content/drive/My Drive/overfit_discover/dist_gf.pdf',transparent=True,bbox_inches = 'tight',\n",
    "    pad_inches = 0.2)"
   ]
  },
  {
   "cell_type": "code",
   "execution_count": null,
   "metadata": {
    "colab": {},
    "colab_type": "code",
    "id": "HVom_jD_rrfe"
   },
   "outputs": [],
   "source": []
  }
 ],
 "metadata": {
  "accelerator": "GPU",
  "colab": {
   "collapsed_sections": [],
   "machine_shape": "hm",
   "name": "gf.ipynb",
   "provenance": []
  },
  "kernelspec": {
   "display_name": "Python 3",
   "language": "python",
   "name": "python3"
  },
  "language_info": {
   "codemirror_mode": {
    "name": "ipython",
    "version": 3
   },
   "file_extension": ".py",
   "mimetype": "text/x-python",
   "name": "python",
   "nbconvert_exporter": "python",
   "pygments_lexer": "ipython3",
   "version": "3.7.5"
  },
  "widgets": {
   "application/vnd.jupyter.widget-state+json": {
    "0e1cdfd57ecb4c49ab087e7a95c61ce7": {
     "model_module": "@jupyter-widgets/controls",
     "model_name": "HTMLModel",
     "state": {
      "_dom_classes": [],
      "_model_module": "@jupyter-widgets/controls",
      "_model_module_version": "1.5.0",
      "_model_name": "HTMLModel",
      "_view_count": null,
      "_view_module": "@jupyter-widgets/controls",
      "_view_module_version": "1.5.0",
      "_view_name": "HTMLView",
      "description": "",
      "description_tooltip": null,
      "layout": "IPY_MODEL_d09081bfd67c4a8886228521e984f394",
      "placeholder": "​",
      "style": "IPY_MODEL_5f03fe1721ba4786ab3516b45a96281b",
      "value": " 100/100 [00:10&lt;00:00,  9.55it/s]"
     }
    },
    "0f22fefe850d4e5fb853eb57753fc79c": {
     "model_module": "@jupyter-widgets/controls",
     "model_name": "HBoxModel",
     "state": {
      "_dom_classes": [],
      "_model_module": "@jupyter-widgets/controls",
      "_model_module_version": "1.5.0",
      "_model_name": "HBoxModel",
      "_view_count": null,
      "_view_module": "@jupyter-widgets/controls",
      "_view_module_version": "1.5.0",
      "_view_name": "HBoxView",
      "box_style": "",
      "children": [
       "IPY_MODEL_7bedc456ff344601915a6bf89530d4c0",
       "IPY_MODEL_aef0383a14e2416fb28e7cf06c163886"
      ],
      "layout": "IPY_MODEL_40d69b2e0984468ea9c22f0d810c3437"
     }
    },
    "0fa42fc285934d2384ca9992ae75e231": {
     "model_module": "@jupyter-widgets/base",
     "model_name": "LayoutModel",
     "state": {
      "_model_module": "@jupyter-widgets/base",
      "_model_module_version": "1.2.0",
      "_model_name": "LayoutModel",
      "_view_count": null,
      "_view_module": "@jupyter-widgets/base",
      "_view_module_version": "1.2.0",
      "_view_name": "LayoutView",
      "align_content": null,
      "align_items": null,
      "align_self": null,
      "border": null,
      "bottom": null,
      "display": null,
      "flex": null,
      "flex_flow": null,
      "grid_area": null,
      "grid_auto_columns": null,
      "grid_auto_flow": null,
      "grid_auto_rows": null,
      "grid_column": null,
      "grid_gap": null,
      "grid_row": null,
      "grid_template_areas": null,
      "grid_template_columns": null,
      "grid_template_rows": null,
      "height": null,
      "justify_content": null,
      "justify_items": null,
      "left": null,
      "margin": null,
      "max_height": null,
      "max_width": null,
      "min_height": null,
      "min_width": null,
      "object_fit": null,
      "object_position": null,
      "order": null,
      "overflow": null,
      "overflow_x": null,
      "overflow_y": null,
      "padding": null,
      "right": null,
      "top": null,
      "visibility": null,
      "width": null
     }
    },
    "1d4e1e94cde947e6bf5a37aea195c57b": {
     "model_module": "@jupyter-widgets/controls",
     "model_name": "DescriptionStyleModel",
     "state": {
      "_model_module": "@jupyter-widgets/controls",
      "_model_module_version": "1.5.0",
      "_model_name": "DescriptionStyleModel",
      "_view_count": null,
      "_view_module": "@jupyter-widgets/base",
      "_view_module_version": "1.2.0",
      "_view_name": "StyleView",
      "description_width": ""
     }
    },
    "2a5ea229a06f488db931708d2e640e1e": {
     "model_module": "@jupyter-widgets/controls",
     "model_name": "HBoxModel",
     "state": {
      "_dom_classes": [],
      "_model_module": "@jupyter-widgets/controls",
      "_model_module_version": "1.5.0",
      "_model_name": "HBoxModel",
      "_view_count": null,
      "_view_module": "@jupyter-widgets/controls",
      "_view_module_version": "1.5.0",
      "_view_name": "HBoxView",
      "box_style": "",
      "children": [
       "IPY_MODEL_93c7239224b844029eb8d64349bf938c",
       "IPY_MODEL_0e1cdfd57ecb4c49ab087e7a95c61ce7"
      ],
      "layout": "IPY_MODEL_0fa42fc285934d2384ca9992ae75e231"
     }
    },
    "33f909ff9dda48c79a764404216d10ef": {
     "model_module": "@jupyter-widgets/base",
     "model_name": "LayoutModel",
     "state": {
      "_model_module": "@jupyter-widgets/base",
      "_model_module_version": "1.2.0",
      "_model_name": "LayoutModel",
      "_view_count": null,
      "_view_module": "@jupyter-widgets/base",
      "_view_module_version": "1.2.0",
      "_view_name": "LayoutView",
      "align_content": null,
      "align_items": null,
      "align_self": null,
      "border": null,
      "bottom": null,
      "display": null,
      "flex": null,
      "flex_flow": null,
      "grid_area": null,
      "grid_auto_columns": null,
      "grid_auto_flow": null,
      "grid_auto_rows": null,
      "grid_column": null,
      "grid_gap": null,
      "grid_row": null,
      "grid_template_areas": null,
      "grid_template_columns": null,
      "grid_template_rows": null,
      "height": null,
      "justify_content": null,
      "justify_items": null,
      "left": null,
      "margin": null,
      "max_height": null,
      "max_width": null,
      "min_height": null,
      "min_width": null,
      "object_fit": null,
      "object_position": null,
      "order": null,
      "overflow": null,
      "overflow_x": null,
      "overflow_y": null,
      "padding": null,
      "right": null,
      "top": null,
      "visibility": null,
      "width": null
     }
    },
    "3e386af6f8564df0a933a5732f214085": {
     "model_module": "@jupyter-widgets/base",
     "model_name": "LayoutModel",
     "state": {
      "_model_module": "@jupyter-widgets/base",
      "_model_module_version": "1.2.0",
      "_model_name": "LayoutModel",
      "_view_count": null,
      "_view_module": "@jupyter-widgets/base",
      "_view_module_version": "1.2.0",
      "_view_name": "LayoutView",
      "align_content": null,
      "align_items": null,
      "align_self": null,
      "border": null,
      "bottom": null,
      "display": null,
      "flex": null,
      "flex_flow": null,
      "grid_area": null,
      "grid_auto_columns": null,
      "grid_auto_flow": null,
      "grid_auto_rows": null,
      "grid_column": null,
      "grid_gap": null,
      "grid_row": null,
      "grid_template_areas": null,
      "grid_template_columns": null,
      "grid_template_rows": null,
      "height": null,
      "justify_content": null,
      "justify_items": null,
      "left": null,
      "margin": null,
      "max_height": null,
      "max_width": null,
      "min_height": null,
      "min_width": null,
      "object_fit": null,
      "object_position": null,
      "order": null,
      "overflow": null,
      "overflow_x": null,
      "overflow_y": null,
      "padding": null,
      "right": null,
      "top": null,
      "visibility": null,
      "width": null
     }
    },
    "40c929d562f54936a8f84736bc5f3f46": {
     "model_module": "@jupyter-widgets/controls",
     "model_name": "HBoxModel",
     "state": {
      "_dom_classes": [],
      "_model_module": "@jupyter-widgets/controls",
      "_model_module_version": "1.5.0",
      "_model_name": "HBoxModel",
      "_view_count": null,
      "_view_module": "@jupyter-widgets/controls",
      "_view_module_version": "1.5.0",
      "_view_name": "HBoxView",
      "box_style": "",
      "children": [
       "IPY_MODEL_dc259b064ac84170944e8f3d3bbf2627",
       "IPY_MODEL_c2b7ed573bbf4260864a805408af925a"
      ],
      "layout": "IPY_MODEL_3e386af6f8564df0a933a5732f214085"
     }
    },
    "40d69b2e0984468ea9c22f0d810c3437": {
     "model_module": "@jupyter-widgets/base",
     "model_name": "LayoutModel",
     "state": {
      "_model_module": "@jupyter-widgets/base",
      "_model_module_version": "1.2.0",
      "_model_name": "LayoutModel",
      "_view_count": null,
      "_view_module": "@jupyter-widgets/base",
      "_view_module_version": "1.2.0",
      "_view_name": "LayoutView",
      "align_content": null,
      "align_items": null,
      "align_self": null,
      "border": null,
      "bottom": null,
      "display": null,
      "flex": null,
      "flex_flow": null,
      "grid_area": null,
      "grid_auto_columns": null,
      "grid_auto_flow": null,
      "grid_auto_rows": null,
      "grid_column": null,
      "grid_gap": null,
      "grid_row": null,
      "grid_template_areas": null,
      "grid_template_columns": null,
      "grid_template_rows": null,
      "height": null,
      "justify_content": null,
      "justify_items": null,
      "left": null,
      "margin": null,
      "max_height": null,
      "max_width": null,
      "min_height": null,
      "min_width": null,
      "object_fit": null,
      "object_position": null,
      "order": null,
      "overflow": null,
      "overflow_x": null,
      "overflow_y": null,
      "padding": null,
      "right": null,
      "top": null,
      "visibility": null,
      "width": null
     }
    },
    "5f03fe1721ba4786ab3516b45a96281b": {
     "model_module": "@jupyter-widgets/controls",
     "model_name": "DescriptionStyleModel",
     "state": {
      "_model_module": "@jupyter-widgets/controls",
      "_model_module_version": "1.5.0",
      "_model_name": "DescriptionStyleModel",
      "_view_count": null,
      "_view_module": "@jupyter-widgets/base",
      "_view_module_version": "1.2.0",
      "_view_name": "StyleView",
      "description_width": ""
     }
    },
    "63d53f04bd6d4013836fcd5060955244": {
     "model_module": "@jupyter-widgets/base",
     "model_name": "LayoutModel",
     "state": {
      "_model_module": "@jupyter-widgets/base",
      "_model_module_version": "1.2.0",
      "_model_name": "LayoutModel",
      "_view_count": null,
      "_view_module": "@jupyter-widgets/base",
      "_view_module_version": "1.2.0",
      "_view_name": "LayoutView",
      "align_content": null,
      "align_items": null,
      "align_self": null,
      "border": null,
      "bottom": null,
      "display": null,
      "flex": null,
      "flex_flow": null,
      "grid_area": null,
      "grid_auto_columns": null,
      "grid_auto_flow": null,
      "grid_auto_rows": null,
      "grid_column": null,
      "grid_gap": null,
      "grid_row": null,
      "grid_template_areas": null,
      "grid_template_columns": null,
      "grid_template_rows": null,
      "height": null,
      "justify_content": null,
      "justify_items": null,
      "left": null,
      "margin": null,
      "max_height": null,
      "max_width": null,
      "min_height": null,
      "min_width": null,
      "object_fit": null,
      "object_position": null,
      "order": null,
      "overflow": null,
      "overflow_x": null,
      "overflow_y": null,
      "padding": null,
      "right": null,
      "top": null,
      "visibility": null,
      "width": null
     }
    },
    "7bedc456ff344601915a6bf89530d4c0": {
     "model_module": "@jupyter-widgets/controls",
     "model_name": "FloatProgressModel",
     "state": {
      "_dom_classes": [],
      "_model_module": "@jupyter-widgets/controls",
      "_model_module_version": "1.5.0",
      "_model_name": "FloatProgressModel",
      "_view_count": null,
      "_view_module": "@jupyter-widgets/controls",
      "_view_module_version": "1.5.0",
      "_view_name": "ProgressView",
      "bar_style": "success",
      "description": "100%",
      "description_tooltip": null,
      "layout": "IPY_MODEL_f0ca311b3eba4932848577c279be4ac3",
      "max": 45000,
      "min": 0,
      "orientation": "horizontal",
      "style": "IPY_MODEL_e7b910b85182477cb24f0edd94a82e4f",
      "value": 45000
     }
    },
    "86a180333a404db8b4d2904bb1f5c276": {
     "model_module": "@jupyter-widgets/base",
     "model_name": "LayoutModel",
     "state": {
      "_model_module": "@jupyter-widgets/base",
      "_model_module_version": "1.2.0",
      "_model_name": "LayoutModel",
      "_view_count": null,
      "_view_module": "@jupyter-widgets/base",
      "_view_module_version": "1.2.0",
      "_view_name": "LayoutView",
      "align_content": null,
      "align_items": null,
      "align_self": null,
      "border": null,
      "bottom": null,
      "display": null,
      "flex": null,
      "flex_flow": null,
      "grid_area": null,
      "grid_auto_columns": null,
      "grid_auto_flow": null,
      "grid_auto_rows": null,
      "grid_column": null,
      "grid_gap": null,
      "grid_row": null,
      "grid_template_areas": null,
      "grid_template_columns": null,
      "grid_template_rows": null,
      "height": null,
      "justify_content": null,
      "justify_items": null,
      "left": null,
      "margin": null,
      "max_height": null,
      "max_width": null,
      "min_height": null,
      "min_width": null,
      "object_fit": null,
      "object_position": null,
      "order": null,
      "overflow": null,
      "overflow_x": null,
      "overflow_y": null,
      "padding": null,
      "right": null,
      "top": null,
      "visibility": null,
      "width": null
     }
    },
    "93c7239224b844029eb8d64349bf938c": {
     "model_module": "@jupyter-widgets/controls",
     "model_name": "FloatProgressModel",
     "state": {
      "_dom_classes": [],
      "_model_module": "@jupyter-widgets/controls",
      "_model_module_version": "1.5.0",
      "_model_name": "FloatProgressModel",
      "_view_count": null,
      "_view_module": "@jupyter-widgets/controls",
      "_view_module_version": "1.5.0",
      "_view_name": "ProgressView",
      "bar_style": "success",
      "description": "100%",
      "description_tooltip": null,
      "layout": "IPY_MODEL_e0d5c6f8f945499ca296e9fd5abfbf3d",
      "max": 100,
      "min": 0,
      "orientation": "horizontal",
      "style": "IPY_MODEL_f60d66e3d7524a818e2fce95141f16bc",
      "value": 100
     }
    },
    "aef0383a14e2416fb28e7cf06c163886": {
     "model_module": "@jupyter-widgets/controls",
     "model_name": "HTMLModel",
     "state": {
      "_dom_classes": [],
      "_model_module": "@jupyter-widgets/controls",
      "_model_module_version": "1.5.0",
      "_model_name": "HTMLModel",
      "_view_count": null,
      "_view_module": "@jupyter-widgets/controls",
      "_view_module_version": "1.5.0",
      "_view_name": "HTMLView",
      "description": "",
      "description_tooltip": null,
      "layout": "IPY_MODEL_86a180333a404db8b4d2904bb1f5c276",
      "placeholder": "​",
      "style": "IPY_MODEL_1d4e1e94cde947e6bf5a37aea195c57b",
      "value": " 45000/45000 [13:30&lt;00:00, 55.52it/s]"
     }
    },
    "be46fd8bbc864cf2912689bd5af6b26e": {
     "model_module": "@jupyter-widgets/controls",
     "model_name": "ProgressStyleModel",
     "state": {
      "_model_module": "@jupyter-widgets/controls",
      "_model_module_version": "1.5.0",
      "_model_name": "ProgressStyleModel",
      "_view_count": null,
      "_view_module": "@jupyter-widgets/base",
      "_view_module_version": "1.2.0",
      "_view_name": "StyleView",
      "bar_color": null,
      "description_width": "initial"
     }
    },
    "c2b7ed573bbf4260864a805408af925a": {
     "model_module": "@jupyter-widgets/controls",
     "model_name": "HTMLModel",
     "state": {
      "_dom_classes": [],
      "_model_module": "@jupyter-widgets/controls",
      "_model_module_version": "1.5.0",
      "_model_name": "HTMLModel",
      "_view_count": null,
      "_view_module": "@jupyter-widgets/controls",
      "_view_module_version": "1.5.0",
      "_view_name": "HTMLView",
      "description": "",
      "description_tooltip": null,
      "layout": "IPY_MODEL_63d53f04bd6d4013836fcd5060955244",
      "placeholder": "​",
      "style": "IPY_MODEL_c6d2c7b90f114c2e84a99c3250971ed7",
      "value": " 25000/25000 [14:57&lt;00:00, 27.87it/s]"
     }
    },
    "c6d2c7b90f114c2e84a99c3250971ed7": {
     "model_module": "@jupyter-widgets/controls",
     "model_name": "DescriptionStyleModel",
     "state": {
      "_model_module": "@jupyter-widgets/controls",
      "_model_module_version": "1.5.0",
      "_model_name": "DescriptionStyleModel",
      "_view_count": null,
      "_view_module": "@jupyter-widgets/base",
      "_view_module_version": "1.2.0",
      "_view_name": "StyleView",
      "description_width": ""
     }
    },
    "d09081bfd67c4a8886228521e984f394": {
     "model_module": "@jupyter-widgets/base",
     "model_name": "LayoutModel",
     "state": {
      "_model_module": "@jupyter-widgets/base",
      "_model_module_version": "1.2.0",
      "_model_name": "LayoutModel",
      "_view_count": null,
      "_view_module": "@jupyter-widgets/base",
      "_view_module_version": "1.2.0",
      "_view_name": "LayoutView",
      "align_content": null,
      "align_items": null,
      "align_self": null,
      "border": null,
      "bottom": null,
      "display": null,
      "flex": null,
      "flex_flow": null,
      "grid_area": null,
      "grid_auto_columns": null,
      "grid_auto_flow": null,
      "grid_auto_rows": null,
      "grid_column": null,
      "grid_gap": null,
      "grid_row": null,
      "grid_template_areas": null,
      "grid_template_columns": null,
      "grid_template_rows": null,
      "height": null,
      "justify_content": null,
      "justify_items": null,
      "left": null,
      "margin": null,
      "max_height": null,
      "max_width": null,
      "min_height": null,
      "min_width": null,
      "object_fit": null,
      "object_position": null,
      "order": null,
      "overflow": null,
      "overflow_x": null,
      "overflow_y": null,
      "padding": null,
      "right": null,
      "top": null,
      "visibility": null,
      "width": null
     }
    },
    "dc259b064ac84170944e8f3d3bbf2627": {
     "model_module": "@jupyter-widgets/controls",
     "model_name": "FloatProgressModel",
     "state": {
      "_dom_classes": [],
      "_model_module": "@jupyter-widgets/controls",
      "_model_module_version": "1.5.0",
      "_model_name": "FloatProgressModel",
      "_view_count": null,
      "_view_module": "@jupyter-widgets/controls",
      "_view_module_version": "1.5.0",
      "_view_name": "ProgressView",
      "bar_style": "success",
      "description": "100%",
      "description_tooltip": null,
      "layout": "IPY_MODEL_33f909ff9dda48c79a764404216d10ef",
      "max": 25000,
      "min": 0,
      "orientation": "horizontal",
      "style": "IPY_MODEL_be46fd8bbc864cf2912689bd5af6b26e",
      "value": 25000
     }
    },
    "e0d5c6f8f945499ca296e9fd5abfbf3d": {
     "model_module": "@jupyter-widgets/base",
     "model_name": "LayoutModel",
     "state": {
      "_model_module": "@jupyter-widgets/base",
      "_model_module_version": "1.2.0",
      "_model_name": "LayoutModel",
      "_view_count": null,
      "_view_module": "@jupyter-widgets/base",
      "_view_module_version": "1.2.0",
      "_view_name": "LayoutView",
      "align_content": null,
      "align_items": null,
      "align_self": null,
      "border": null,
      "bottom": null,
      "display": null,
      "flex": null,
      "flex_flow": null,
      "grid_area": null,
      "grid_auto_columns": null,
      "grid_auto_flow": null,
      "grid_auto_rows": null,
      "grid_column": null,
      "grid_gap": null,
      "grid_row": null,
      "grid_template_areas": null,
      "grid_template_columns": null,
      "grid_template_rows": null,
      "height": null,
      "justify_content": null,
      "justify_items": null,
      "left": null,
      "margin": null,
      "max_height": null,
      "max_width": null,
      "min_height": null,
      "min_width": null,
      "object_fit": null,
      "object_position": null,
      "order": null,
      "overflow": null,
      "overflow_x": null,
      "overflow_y": null,
      "padding": null,
      "right": null,
      "top": null,
      "visibility": null,
      "width": null
     }
    },
    "e7b910b85182477cb24f0edd94a82e4f": {
     "model_module": "@jupyter-widgets/controls",
     "model_name": "ProgressStyleModel",
     "state": {
      "_model_module": "@jupyter-widgets/controls",
      "_model_module_version": "1.5.0",
      "_model_name": "ProgressStyleModel",
      "_view_count": null,
      "_view_module": "@jupyter-widgets/base",
      "_view_module_version": "1.2.0",
      "_view_name": "StyleView",
      "bar_color": null,
      "description_width": "initial"
     }
    },
    "f0ca311b3eba4932848577c279be4ac3": {
     "model_module": "@jupyter-widgets/base",
     "model_name": "LayoutModel",
     "state": {
      "_model_module": "@jupyter-widgets/base",
      "_model_module_version": "1.2.0",
      "_model_name": "LayoutModel",
      "_view_count": null,
      "_view_module": "@jupyter-widgets/base",
      "_view_module_version": "1.2.0",
      "_view_name": "LayoutView",
      "align_content": null,
      "align_items": null,
      "align_self": null,
      "border": null,
      "bottom": null,
      "display": null,
      "flex": null,
      "flex_flow": null,
      "grid_area": null,
      "grid_auto_columns": null,
      "grid_auto_flow": null,
      "grid_auto_rows": null,
      "grid_column": null,
      "grid_gap": null,
      "grid_row": null,
      "grid_template_areas": null,
      "grid_template_columns": null,
      "grid_template_rows": null,
      "height": null,
      "justify_content": null,
      "justify_items": null,
      "left": null,
      "margin": null,
      "max_height": null,
      "max_width": null,
      "min_height": null,
      "min_width": null,
      "object_fit": null,
      "object_position": null,
      "order": null,
      "overflow": null,
      "overflow_x": null,
      "overflow_y": null,
      "padding": null,
      "right": null,
      "top": null,
      "visibility": null,
      "width": null
     }
    },
    "f60d66e3d7524a818e2fce95141f16bc": {
     "model_module": "@jupyter-widgets/controls",
     "model_name": "ProgressStyleModel",
     "state": {
      "_model_module": "@jupyter-widgets/controls",
      "_model_module_version": "1.5.0",
      "_model_name": "ProgressStyleModel",
      "_view_count": null,
      "_view_module": "@jupyter-widgets/base",
      "_view_module_version": "1.2.0",
      "_view_name": "StyleView",
      "bar_color": null,
      "description_width": "initial"
     }
    }
   }
  }
 },
 "nbformat": 4,
 "nbformat_minor": 1
}
