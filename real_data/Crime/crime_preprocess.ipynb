{
 "cells": [
  {
   "cell_type": "code",
   "execution_count": 1,
   "metadata": {
    "colab": {
     "base_uri": "https://localhost:8080/",
     "height": 71
    },
    "colab_type": "code",
    "executionInfo": {
     "elapsed": 2327,
     "status": "ok",
     "timestamp": 1599534331510,
     "user": {
      "displayName": "z thui",
      "photoUrl": "",
      "userId": "08749963318503558861"
     },
     "user_tz": 240
    },
    "id": "qfuD2fN0TG19",
    "outputId": "7f45833b-219f-4064-8ccf-1037c6b71e0c"
   },
   "outputs": [],
   "source": [
    "import sys \n",
    "import numpy as np # linear algebra\n",
    "from scipy.stats import randint\n",
    "import matplotlib.pyplot as plt # this is used for the plot the graph \n",
    "%matplotlib inline\n",
    "import re\n",
    "from tqdm import notebook\n",
    "import seaborn as sns\n",
    "import tensorflow as tf\n",
    "from scipy import stats\n",
    "from scipy import optimize\n",
    "from functools import partial\n",
    "import pandas as pd\n",
    "import json\n",
    "from pandas.io.json import json_normalize\n",
    "from sklearn.preprocessing import StandardScaler\n",
    "from sklearn.decomposition import PCA #reduce dimension given limited data"
   ]
  },
  {
   "cell_type": "markdown",
   "metadata": {
    "colab_type": "text",
    "id": "75wKip2YmuxU"
   },
   "source": [
    "The preprocess step can be found at\n",
    "https://github.com/vbordalo/Communities-Crime/blob/master/Crime_v1.ipynb"
   ]
  },
  {
   "cell_type": "code",
   "execution_count": 2,
   "metadata": {
    "colab": {},
    "colab_type": "code",
    "executionInfo": {
     "elapsed": 2317,
     "status": "ok",
     "timestamp": 1599534331511,
     "user": {
      "displayName": "z thui",
      "photoUrl": "",
      "userId": "08749963318503558861"
     },
     "user_tz": 240
    },
    "id": "fRHdkea1TG2A"
   },
   "outputs": [],
   "source": [
    "attrib = pd.read_csv('attributes.csv', delim_whitespace = True)"
   ]
  },
  {
   "cell_type": "code",
   "execution_count": 3,
   "metadata": {
    "colab": {
     "base_uri": "https://localhost:8080/",
     "height": 119
    },
    "colab_type": "code",
    "executionInfo": {
     "elapsed": 2309,
     "status": "ok",
     "timestamp": 1599534331512,
     "user": {
      "displayName": "z thui",
      "photoUrl": "",
      "userId": "08749963318503558861"
     },
     "user_tz": 240
    },
    "id": "1FBrCnz1TG2D",
    "outputId": "3728a32d-1f48-40bd-f6af-e9946cac70ad"
   },
   "outputs": [
    {
     "name": "stdout",
     "output_type": "stream",
     "text": [
      "<class 'pandas.core.frame.DataFrame'>\n",
      "RangeIndex: 1994 entries, 0 to 1993\n",
      "Columns: 128 entries, state to ViolentCrimesPerPop\n",
      "dtypes: float64(100), int64(2), object(26)\n",
      "memory usage: 1.9+ MB\n",
      "None\n"
     ]
    }
   ],
   "source": [
    "crimedata = pd.read_csv('communities.data', names = attrib['attributes'])\n",
    "print (crimedata.info())\n"
   ]
  },
  {
   "cell_type": "code",
   "execution_count": 4,
   "metadata": {
    "colab": {
     "base_uri": "https://localhost:8080/",
     "height": 34
    },
    "colab_type": "code",
    "executionInfo": {
     "elapsed": 2299,
     "status": "ok",
     "timestamp": 1599534331512,
     "user": {
      "displayName": "z thui",
      "photoUrl": "",
      "userId": "08749963318503558861"
     },
     "user_tz": 240
    },
    "id": "qTMIQtNnTG2G",
    "outputId": "1ffb3eaa-e635-4a9c-ebea-da32196e14c3"
   },
   "outputs": [
    {
     "data": {
      "text/plain": [
       "(1994, 128)"
      ]
     },
     "execution_count": 4,
     "metadata": {},
     "output_type": "execute_result"
    }
   ],
   "source": [
    "crimedata.shape"
   ]
  },
  {
   "cell_type": "code",
   "execution_count": 5,
   "metadata": {
    "colab": {
     "base_uri": "https://localhost:8080/",
     "height": 253
    },
    "colab_type": "code",
    "executionInfo": {
     "elapsed": 2767,
     "status": "ok",
     "timestamp": 1599534332017,
     "user": {
      "displayName": "z thui",
      "photoUrl": "",
      "userId": "08749963318503558861"
     },
     "user_tz": 240
    },
    "id": "iaF4Wc6ITG2J",
    "outputId": "41ee5d0f-f42c-4d66-bf07-bf1e61bc2e50"
   },
   "outputs": [
    {
     "data": {
      "text/html": [
       "<div>\n",
       "<style scoped>\n",
       "    .dataframe tbody tr th:only-of-type {\n",
       "        vertical-align: middle;\n",
       "    }\n",
       "\n",
       "    .dataframe tbody tr th {\n",
       "        vertical-align: top;\n",
       "    }\n",
       "\n",
       "    .dataframe thead th {\n",
       "        text-align: right;\n",
       "    }\n",
       "</style>\n",
       "<table border=\"1\" class=\"dataframe\">\n",
       "  <thead>\n",
       "    <tr style=\"text-align: right;\">\n",
       "      <th></th>\n",
       "      <th>population</th>\n",
       "      <th>householdsize</th>\n",
       "      <th>racepctblack</th>\n",
       "      <th>racePctWhite</th>\n",
       "      <th>racePctAsian</th>\n",
       "      <th>racePctHisp</th>\n",
       "      <th>agePct12t21</th>\n",
       "      <th>agePct12t29</th>\n",
       "      <th>agePct16t24</th>\n",
       "      <th>agePct65up</th>\n",
       "      <th>...</th>\n",
       "      <th>LandArea</th>\n",
       "      <th>PopDens</th>\n",
       "      <th>PctUsePubTrans</th>\n",
       "      <th>PolicCars</th>\n",
       "      <th>PolicOperBudg</th>\n",
       "      <th>LemasPctPolicOnPatr</th>\n",
       "      <th>LemasGangUnitDeploy</th>\n",
       "      <th>LemasPctOfficDrugUn</th>\n",
       "      <th>PolicBudgPerPop</th>\n",
       "      <th>ViolentCrimesPerPop</th>\n",
       "    </tr>\n",
       "  </thead>\n",
       "  <tbody>\n",
       "    <tr>\n",
       "      <th>0</th>\n",
       "      <td>0.19</td>\n",
       "      <td>0.33</td>\n",
       "      <td>0.02</td>\n",
       "      <td>0.90</td>\n",
       "      <td>0.12</td>\n",
       "      <td>0.17</td>\n",
       "      <td>0.34</td>\n",
       "      <td>0.47</td>\n",
       "      <td>0.29</td>\n",
       "      <td>0.32</td>\n",
       "      <td>...</td>\n",
       "      <td>0.12</td>\n",
       "      <td>0.26</td>\n",
       "      <td>0.20</td>\n",
       "      <td>0.06</td>\n",
       "      <td>0.04</td>\n",
       "      <td>0.9</td>\n",
       "      <td>0.5</td>\n",
       "      <td>0.32</td>\n",
       "      <td>0.14</td>\n",
       "      <td>0.20</td>\n",
       "    </tr>\n",
       "    <tr>\n",
       "      <th>1</th>\n",
       "      <td>0.00</td>\n",
       "      <td>0.16</td>\n",
       "      <td>0.12</td>\n",
       "      <td>0.74</td>\n",
       "      <td>0.45</td>\n",
       "      <td>0.07</td>\n",
       "      <td>0.26</td>\n",
       "      <td>0.59</td>\n",
       "      <td>0.35</td>\n",
       "      <td>0.27</td>\n",
       "      <td>...</td>\n",
       "      <td>0.02</td>\n",
       "      <td>0.12</td>\n",
       "      <td>0.45</td>\n",
       "      <td>?</td>\n",
       "      <td>?</td>\n",
       "      <td>?</td>\n",
       "      <td>?</td>\n",
       "      <td>0.00</td>\n",
       "      <td>?</td>\n",
       "      <td>0.67</td>\n",
       "    </tr>\n",
       "    <tr>\n",
       "      <th>2</th>\n",
       "      <td>0.00</td>\n",
       "      <td>0.42</td>\n",
       "      <td>0.49</td>\n",
       "      <td>0.56</td>\n",
       "      <td>0.17</td>\n",
       "      <td>0.04</td>\n",
       "      <td>0.39</td>\n",
       "      <td>0.47</td>\n",
       "      <td>0.28</td>\n",
       "      <td>0.32</td>\n",
       "      <td>...</td>\n",
       "      <td>0.01</td>\n",
       "      <td>0.21</td>\n",
       "      <td>0.02</td>\n",
       "      <td>?</td>\n",
       "      <td>?</td>\n",
       "      <td>?</td>\n",
       "      <td>?</td>\n",
       "      <td>0.00</td>\n",
       "      <td>?</td>\n",
       "      <td>0.43</td>\n",
       "    </tr>\n",
       "    <tr>\n",
       "      <th>3</th>\n",
       "      <td>0.04</td>\n",
       "      <td>0.77</td>\n",
       "      <td>1.00</td>\n",
       "      <td>0.08</td>\n",
       "      <td>0.12</td>\n",
       "      <td>0.10</td>\n",
       "      <td>0.51</td>\n",
       "      <td>0.50</td>\n",
       "      <td>0.34</td>\n",
       "      <td>0.21</td>\n",
       "      <td>...</td>\n",
       "      <td>0.02</td>\n",
       "      <td>0.39</td>\n",
       "      <td>0.28</td>\n",
       "      <td>?</td>\n",
       "      <td>?</td>\n",
       "      <td>?</td>\n",
       "      <td>?</td>\n",
       "      <td>0.00</td>\n",
       "      <td>?</td>\n",
       "      <td>0.12</td>\n",
       "    </tr>\n",
       "    <tr>\n",
       "      <th>4</th>\n",
       "      <td>0.01</td>\n",
       "      <td>0.55</td>\n",
       "      <td>0.02</td>\n",
       "      <td>0.95</td>\n",
       "      <td>0.09</td>\n",
       "      <td>0.05</td>\n",
       "      <td>0.38</td>\n",
       "      <td>0.38</td>\n",
       "      <td>0.23</td>\n",
       "      <td>0.36</td>\n",
       "      <td>...</td>\n",
       "      <td>0.04</td>\n",
       "      <td>0.09</td>\n",
       "      <td>0.02</td>\n",
       "      <td>?</td>\n",
       "      <td>?</td>\n",
       "      <td>?</td>\n",
       "      <td>?</td>\n",
       "      <td>0.00</td>\n",
       "      <td>?</td>\n",
       "      <td>0.03</td>\n",
       "    </tr>\n",
       "  </tbody>\n",
       "</table>\n",
       "<p>5 rows × 123 columns</p>\n",
       "</div>"
      ],
      "text/plain": [
       "   population  householdsize  racepctblack  racePctWhite  racePctAsian  \\\n",
       "0        0.19           0.33          0.02          0.90          0.12   \n",
       "1        0.00           0.16          0.12          0.74          0.45   \n",
       "2        0.00           0.42          0.49          0.56          0.17   \n",
       "3        0.04           0.77          1.00          0.08          0.12   \n",
       "4        0.01           0.55          0.02          0.95          0.09   \n",
       "\n",
       "   racePctHisp  agePct12t21  agePct12t29  agePct16t24  agePct65up  ...  \\\n",
       "0         0.17         0.34         0.47         0.29        0.32  ...   \n",
       "1         0.07         0.26         0.59         0.35        0.27  ...   \n",
       "2         0.04         0.39         0.47         0.28        0.32  ...   \n",
       "3         0.10         0.51         0.50         0.34        0.21  ...   \n",
       "4         0.05         0.38         0.38         0.23        0.36  ...   \n",
       "\n",
       "   LandArea  PopDens  PctUsePubTrans  PolicCars  PolicOperBudg  \\\n",
       "0      0.12     0.26            0.20       0.06           0.04   \n",
       "1      0.02     0.12            0.45          ?              ?   \n",
       "2      0.01     0.21            0.02          ?              ?   \n",
       "3      0.02     0.39            0.28          ?              ?   \n",
       "4      0.04     0.09            0.02          ?              ?   \n",
       "\n",
       "   LemasPctPolicOnPatr  LemasGangUnitDeploy  LemasPctOfficDrugUn  \\\n",
       "0                  0.9                  0.5                 0.32   \n",
       "1                    ?                    ?                 0.00   \n",
       "2                    ?                    ?                 0.00   \n",
       "3                    ?                    ?                 0.00   \n",
       "4                    ?                    ?                 0.00   \n",
       "\n",
       "   PolicBudgPerPop  ViolentCrimesPerPop  \n",
       "0             0.14                 0.20  \n",
       "1                ?                 0.67  \n",
       "2                ?                 0.43  \n",
       "3                ?                 0.12  \n",
       "4                ?                 0.03  \n",
       "\n",
       "[5 rows x 123 columns]"
      ]
     },
     "execution_count": 5,
     "metadata": {},
     "output_type": "execute_result"
    }
   ],
   "source": [
    "data = crimedata.drop(columns=['state','county',\n",
    "                          'community','communityname',\n",
    "                          'fold'], axis=1)\n",
    "data.head()"
   ]
  },
  {
   "cell_type": "code",
   "execution_count": 8,
   "metadata": {},
   "outputs": [
    {
     "data": {
      "text/plain": [
       "0.0"
      ]
     },
     "execution_count": 8,
     "metadata": {},
     "output_type": "execute_result"
    }
   ],
   "source": [
    "data['ViolentCrimesPerPop'].min()"
   ]
  },
  {
   "cell_type": "code",
   "execution_count": 6,
   "metadata": {
    "colab": {},
    "colab_type": "code",
    "executionInfo": {
     "elapsed": 2633,
     "status": "ok",
     "timestamp": 1599534332018,
     "user": {
      "displayName": "z thui",
      "photoUrl": "",
      "userId": "08749963318503558861"
     },
     "user_tz": 240
    },
    "id": "mgNa2DDGTG2M"
   },
   "outputs": [],
   "source": [
    "## deal with missingness\n",
    "from pandas import DataFrame\n",
    "\n",
    "data = data.replace('?', np.nan)\n",
    "feat_miss = data.columns[data.isnull().any()]\n"
   ]
  },
  {
   "cell_type": "code",
   "execution_count": 7,
   "metadata": {
    "colab": {
     "base_uri": "https://localhost:8080/",
     "height": 153
    },
    "colab_type": "code",
    "executionInfo": {
     "elapsed": 2462,
     "status": "ok",
     "timestamp": 1599534332018,
     "user": {
      "displayName": "z thui",
      "photoUrl": "",
      "userId": "08749963318503558861"
     },
     "user_tz": 240
    },
    "id": "kBn5uyE4TG2O",
    "outputId": "a6fbf6e0-0a5e-420b-e11a-798ae5761152"
   },
   "outputs": [
    {
     "data": {
      "text/plain": [
       "Index(['OtherPerCap', 'LemasSwornFT', 'LemasSwFTPerPop', 'LemasSwFTFieldOps',\n",
       "       'LemasSwFTFieldPerPop', 'LemasTotalReq', 'LemasTotReqPerPop',\n",
       "       'PolicReqPerOffic', 'PolicPerPop', 'RacialMatchCommPol',\n",
       "       'PctPolicWhite', 'PctPolicBlack', 'PctPolicHisp', 'PctPolicAsian',\n",
       "       'PctPolicMinor', 'OfficAssgnDrugUnits', 'NumKindsDrugsSeiz',\n",
       "       'PolicAveOTWorked', 'PolicCars', 'PolicOperBudg', 'LemasPctPolicOnPatr',\n",
       "       'LemasGangUnitDeploy', 'PolicBudgPerPop'],\n",
       "      dtype='object')"
      ]
     },
     "execution_count": 7,
     "metadata": {},
     "output_type": "execute_result"
    }
   ],
   "source": [
    "feat_miss"
   ]
  },
  {
   "cell_type": "code",
   "execution_count": 8,
   "metadata": {
    "colab": {
     "base_uri": "https://localhost:8080/",
     "height": 193
    },
    "colab_type": "code",
    "executionInfo": {
     "elapsed": 629,
     "status": "ok",
     "timestamp": 1599534332520,
     "user": {
      "displayName": "z thui",
      "photoUrl": "",
      "userId": "08749963318503558861"
     },
     "user_tz": 240
    },
    "id": "7KdtyNQkmPRP",
    "outputId": "b1a7b9f8-9354-4669-cbfd-c5c9749ba305"
   },
   "outputs": [
    {
     "data": {
      "text/html": [
       "<div>\n",
       "<style scoped>\n",
       "    .dataframe tbody tr th:only-of-type {\n",
       "        vertical-align: middle;\n",
       "    }\n",
       "\n",
       "    .dataframe tbody tr th {\n",
       "        vertical-align: top;\n",
       "    }\n",
       "\n",
       "    .dataframe thead th {\n",
       "        text-align: right;\n",
       "    }\n",
       "</style>\n",
       "<table border=\"1\" class=\"dataframe\">\n",
       "  <thead>\n",
       "    <tr style=\"text-align: right;\">\n",
       "      <th></th>\n",
       "      <th>OtherPerCap</th>\n",
       "      <th>LemasSwornFT</th>\n",
       "      <th>LemasSwFTPerPop</th>\n",
       "      <th>LemasSwFTFieldOps</th>\n",
       "      <th>LemasSwFTFieldPerPop</th>\n",
       "      <th>LemasTotalReq</th>\n",
       "      <th>LemasTotReqPerPop</th>\n",
       "      <th>PolicReqPerOffic</th>\n",
       "      <th>PolicPerPop</th>\n",
       "      <th>RacialMatchCommPol</th>\n",
       "      <th>...</th>\n",
       "      <th>PctPolicAsian</th>\n",
       "      <th>PctPolicMinor</th>\n",
       "      <th>OfficAssgnDrugUnits</th>\n",
       "      <th>NumKindsDrugsSeiz</th>\n",
       "      <th>PolicAveOTWorked</th>\n",
       "      <th>PolicCars</th>\n",
       "      <th>PolicOperBudg</th>\n",
       "      <th>LemasPctPolicOnPatr</th>\n",
       "      <th>LemasGangUnitDeploy</th>\n",
       "      <th>PolicBudgPerPop</th>\n",
       "    </tr>\n",
       "  </thead>\n",
       "  <tbody>\n",
       "    <tr>\n",
       "      <th>count</th>\n",
       "      <td>1993</td>\n",
       "      <td>319</td>\n",
       "      <td>319</td>\n",
       "      <td>319</td>\n",
       "      <td>319</td>\n",
       "      <td>319</td>\n",
       "      <td>319</td>\n",
       "      <td>319</td>\n",
       "      <td>319</td>\n",
       "      <td>319</td>\n",
       "      <td>...</td>\n",
       "      <td>319</td>\n",
       "      <td>319</td>\n",
       "      <td>319</td>\n",
       "      <td>319</td>\n",
       "      <td>319</td>\n",
       "      <td>319</td>\n",
       "      <td>319</td>\n",
       "      <td>319</td>\n",
       "      <td>319</td>\n",
       "      <td>319</td>\n",
       "    </tr>\n",
       "    <tr>\n",
       "      <th>unique</th>\n",
       "      <td>97</td>\n",
       "      <td>38</td>\n",
       "      <td>52</td>\n",
       "      <td>34</td>\n",
       "      <td>55</td>\n",
       "      <td>44</td>\n",
       "      <td>59</td>\n",
       "      <td>75</td>\n",
       "      <td>52</td>\n",
       "      <td>76</td>\n",
       "      <td>...</td>\n",
       "      <td>50</td>\n",
       "      <td>72</td>\n",
       "      <td>30</td>\n",
       "      <td>15</td>\n",
       "      <td>77</td>\n",
       "      <td>63</td>\n",
       "      <td>38</td>\n",
       "      <td>72</td>\n",
       "      <td>3</td>\n",
       "      <td>51</td>\n",
       "    </tr>\n",
       "    <tr>\n",
       "      <th>top</th>\n",
       "      <td>0</td>\n",
       "      <td>0.02</td>\n",
       "      <td>0.2</td>\n",
       "      <td>0.98</td>\n",
       "      <td>0.19</td>\n",
       "      <td>0.02</td>\n",
       "      <td>0.14</td>\n",
       "      <td>0.23</td>\n",
       "      <td>0.2</td>\n",
       "      <td>0.78</td>\n",
       "      <td>...</td>\n",
       "      <td>0</td>\n",
       "      <td>0.07</td>\n",
       "      <td>0.03</td>\n",
       "      <td>0.57</td>\n",
       "      <td>0.19</td>\n",
       "      <td>0.02</td>\n",
       "      <td>0.02</td>\n",
       "      <td>0.84</td>\n",
       "      <td>0</td>\n",
       "      <td>0.12</td>\n",
       "    </tr>\n",
       "    <tr>\n",
       "      <th>freq</th>\n",
       "      <td>129</td>\n",
       "      <td>80</td>\n",
       "      <td>19</td>\n",
       "      <td>81</td>\n",
       "      <td>17</td>\n",
       "      <td>55</td>\n",
       "      <td>23</td>\n",
       "      <td>15</td>\n",
       "      <td>19</td>\n",
       "      <td>12</td>\n",
       "      <td>...</td>\n",
       "      <td>189</td>\n",
       "      <td>14</td>\n",
       "      <td>48</td>\n",
       "      <td>54</td>\n",
       "      <td>12</td>\n",
       "      <td>27</td>\n",
       "      <td>69</td>\n",
       "      <td>13</td>\n",
       "      <td>126</td>\n",
       "      <td>22</td>\n",
       "    </tr>\n",
       "  </tbody>\n",
       "</table>\n",
       "<p>4 rows × 23 columns</p>\n",
       "</div>"
      ],
      "text/plain": [
       "       OtherPerCap LemasSwornFT LemasSwFTPerPop LemasSwFTFieldOps  \\\n",
       "count         1993          319             319               319   \n",
       "unique          97           38              52                34   \n",
       "top              0         0.02             0.2              0.98   \n",
       "freq           129           80              19                81   \n",
       "\n",
       "       LemasSwFTFieldPerPop LemasTotalReq LemasTotReqPerPop PolicReqPerOffic  \\\n",
       "count                   319           319               319              319   \n",
       "unique                   55            44                59               75   \n",
       "top                    0.19          0.02              0.14             0.23   \n",
       "freq                     17            55                23               15   \n",
       "\n",
       "       PolicPerPop RacialMatchCommPol  ... PctPolicAsian PctPolicMinor  \\\n",
       "count          319                319  ...           319           319   \n",
       "unique          52                 76  ...            50            72   \n",
       "top            0.2               0.78  ...             0          0.07   \n",
       "freq            19                 12  ...           189            14   \n",
       "\n",
       "       OfficAssgnDrugUnits NumKindsDrugsSeiz PolicAveOTWorked PolicCars  \\\n",
       "count                  319               319              319       319   \n",
       "unique                  30                15               77        63   \n",
       "top                   0.03              0.57             0.19      0.02   \n",
       "freq                    48                54               12        27   \n",
       "\n",
       "       PolicOperBudg LemasPctPolicOnPatr LemasGangUnitDeploy PolicBudgPerPop  \n",
       "count            319                 319                 319             319  \n",
       "unique            38                  72                   3              51  \n",
       "top             0.02                0.84                   0            0.12  \n",
       "freq              69                  13                 126              22  \n",
       "\n",
       "[4 rows x 23 columns]"
      ]
     },
     "execution_count": 8,
     "metadata": {},
     "output_type": "execute_result"
    }
   ],
   "source": [
    "data[feat_miss].describe()\n"
   ]
  },
  {
   "cell_type": "code",
   "execution_count": 9,
   "metadata": {
    "colab": {},
    "colab_type": "code",
    "executionInfo": {
     "elapsed": 515,
     "status": "ok",
     "timestamp": 1599534334325,
     "user": {
      "displayName": "z thui",
      "photoUrl": "",
      "userId": "08749963318503558861"
     },
     "user_tz": 240
    },
    "id": "i2OZ9MEkmPd8"
   },
   "outputs": [],
   "source": [
    "data1=data.drop(columns=feat_miss[1:])"
   ]
  },
  {
   "cell_type": "code",
   "execution_count": 10,
   "metadata": {
    "colab": {},
    "colab_type": "code",
    "executionInfo": {
     "elapsed": 533,
     "status": "ok",
     "timestamp": 1599534334604,
     "user": {
      "displayName": "z thui",
      "photoUrl": "",
      "userId": "08749963318503558861"
     },
     "user_tz": 240
    },
    "id": "5GWzn3PkmPnq"
   },
   "outputs": [],
   "source": [
    "##impute the missing value\n",
    "# from sklearn.impute import SimpleImputer as Imputer\n",
    "\n",
    "# imputer = Imputer(missing_values = np.nan, strategy = 'mean')\n",
    "\n",
    "# imp = imputer.fit(data1[['OtherPerCap']])\n",
    "# data1[['OtherPerCap']] = imp.transform(data1[['OtherPerCap']])\n",
    "\n",
    "\n",
    "# delete the observation with missing OtherPerCap\n",
    "data1comp=data1[~data1.OtherPerCap.isna()].copy()"
   ]
  },
  {
   "cell_type": "code",
   "execution_count": 15,
   "metadata": {
    "colab": {
     "base_uri": "https://localhost:8080/",
     "height": 253
    },
    "colab_type": "code",
    "executionInfo": {
     "elapsed": 458,
     "status": "ok",
     "timestamp": 1599534335616,
     "user": {
      "displayName": "z thui",
      "photoUrl": "",
      "userId": "08749963318503558861"
     },
     "user_tz": 240
    },
    "id": "5hvsADU4mPul",
    "outputId": "948b31c2-58a4-4130-fd2b-02e9d378d326"
   },
   "outputs": [
    {
     "data": {
      "text/html": [
       "<div>\n",
       "<style scoped>\n",
       "    .dataframe tbody tr th:only-of-type {\n",
       "        vertical-align: middle;\n",
       "    }\n",
       "\n",
       "    .dataframe tbody tr th {\n",
       "        vertical-align: top;\n",
       "    }\n",
       "\n",
       "    .dataframe thead th {\n",
       "        text-align: right;\n",
       "    }\n",
       "</style>\n",
       "<table border=\"1\" class=\"dataframe\">\n",
       "  <thead>\n",
       "    <tr style=\"text-align: right;\">\n",
       "      <th></th>\n",
       "      <th>population</th>\n",
       "      <th>householdsize</th>\n",
       "      <th>racepctblack</th>\n",
       "      <th>racePctWhite</th>\n",
       "      <th>racePctAsian</th>\n",
       "      <th>racePctHisp</th>\n",
       "      <th>agePct12t21</th>\n",
       "      <th>agePct12t29</th>\n",
       "      <th>agePct16t24</th>\n",
       "      <th>agePct65up</th>\n",
       "      <th>...</th>\n",
       "      <th>PctForeignBorn</th>\n",
       "      <th>PctBornSameState</th>\n",
       "      <th>PctSameHouse85</th>\n",
       "      <th>PctSameCity85</th>\n",
       "      <th>PctSameState85</th>\n",
       "      <th>LandArea</th>\n",
       "      <th>PopDens</th>\n",
       "      <th>PctUsePubTrans</th>\n",
       "      <th>LemasPctOfficDrugUn</th>\n",
       "      <th>ViolentCrimesPerPop</th>\n",
       "    </tr>\n",
       "  </thead>\n",
       "  <tbody>\n",
       "    <tr>\n",
       "      <th>0</th>\n",
       "      <td>0.19</td>\n",
       "      <td>0.33</td>\n",
       "      <td>0.02</td>\n",
       "      <td>0.90</td>\n",
       "      <td>0.12</td>\n",
       "      <td>0.17</td>\n",
       "      <td>0.34</td>\n",
       "      <td>0.47</td>\n",
       "      <td>0.29</td>\n",
       "      <td>0.32</td>\n",
       "      <td>...</td>\n",
       "      <td>0.12</td>\n",
       "      <td>0.42</td>\n",
       "      <td>0.50</td>\n",
       "      <td>0.51</td>\n",
       "      <td>0.64</td>\n",
       "      <td>0.12</td>\n",
       "      <td>0.26</td>\n",
       "      <td>0.20</td>\n",
       "      <td>0.32</td>\n",
       "      <td>0.20</td>\n",
       "    </tr>\n",
       "    <tr>\n",
       "      <th>1</th>\n",
       "      <td>0.00</td>\n",
       "      <td>0.16</td>\n",
       "      <td>0.12</td>\n",
       "      <td>0.74</td>\n",
       "      <td>0.45</td>\n",
       "      <td>0.07</td>\n",
       "      <td>0.26</td>\n",
       "      <td>0.59</td>\n",
       "      <td>0.35</td>\n",
       "      <td>0.27</td>\n",
       "      <td>...</td>\n",
       "      <td>0.21</td>\n",
       "      <td>0.50</td>\n",
       "      <td>0.34</td>\n",
       "      <td>0.60</td>\n",
       "      <td>0.52</td>\n",
       "      <td>0.02</td>\n",
       "      <td>0.12</td>\n",
       "      <td>0.45</td>\n",
       "      <td>0.00</td>\n",
       "      <td>0.67</td>\n",
       "    </tr>\n",
       "    <tr>\n",
       "      <th>2</th>\n",
       "      <td>0.00</td>\n",
       "      <td>0.42</td>\n",
       "      <td>0.49</td>\n",
       "      <td>0.56</td>\n",
       "      <td>0.17</td>\n",
       "      <td>0.04</td>\n",
       "      <td>0.39</td>\n",
       "      <td>0.47</td>\n",
       "      <td>0.28</td>\n",
       "      <td>0.32</td>\n",
       "      <td>...</td>\n",
       "      <td>0.14</td>\n",
       "      <td>0.49</td>\n",
       "      <td>0.54</td>\n",
       "      <td>0.67</td>\n",
       "      <td>0.56</td>\n",
       "      <td>0.01</td>\n",
       "      <td>0.21</td>\n",
       "      <td>0.02</td>\n",
       "      <td>0.00</td>\n",
       "      <td>0.43</td>\n",
       "    </tr>\n",
       "    <tr>\n",
       "      <th>3</th>\n",
       "      <td>0.04</td>\n",
       "      <td>0.77</td>\n",
       "      <td>1.00</td>\n",
       "      <td>0.08</td>\n",
       "      <td>0.12</td>\n",
       "      <td>0.10</td>\n",
       "      <td>0.51</td>\n",
       "      <td>0.50</td>\n",
       "      <td>0.34</td>\n",
       "      <td>0.21</td>\n",
       "      <td>...</td>\n",
       "      <td>0.19</td>\n",
       "      <td>0.30</td>\n",
       "      <td>0.73</td>\n",
       "      <td>0.64</td>\n",
       "      <td>0.65</td>\n",
       "      <td>0.02</td>\n",
       "      <td>0.39</td>\n",
       "      <td>0.28</td>\n",
       "      <td>0.00</td>\n",
       "      <td>0.12</td>\n",
       "    </tr>\n",
       "    <tr>\n",
       "      <th>4</th>\n",
       "      <td>0.01</td>\n",
       "      <td>0.55</td>\n",
       "      <td>0.02</td>\n",
       "      <td>0.95</td>\n",
       "      <td>0.09</td>\n",
       "      <td>0.05</td>\n",
       "      <td>0.38</td>\n",
       "      <td>0.38</td>\n",
       "      <td>0.23</td>\n",
       "      <td>0.36</td>\n",
       "      <td>...</td>\n",
       "      <td>0.11</td>\n",
       "      <td>0.72</td>\n",
       "      <td>0.64</td>\n",
       "      <td>0.61</td>\n",
       "      <td>0.53</td>\n",
       "      <td>0.04</td>\n",
       "      <td>0.09</td>\n",
       "      <td>0.02</td>\n",
       "      <td>0.00</td>\n",
       "      <td>0.03</td>\n",
       "    </tr>\n",
       "  </tbody>\n",
       "</table>\n",
       "<p>5 rows × 101 columns</p>\n",
       "</div>"
      ],
      "text/plain": [
       "   population  householdsize  racepctblack  racePctWhite  racePctAsian  \\\n",
       "0        0.19           0.33          0.02          0.90          0.12   \n",
       "1        0.00           0.16          0.12          0.74          0.45   \n",
       "2        0.00           0.42          0.49          0.56          0.17   \n",
       "3        0.04           0.77          1.00          0.08          0.12   \n",
       "4        0.01           0.55          0.02          0.95          0.09   \n",
       "\n",
       "   racePctHisp  agePct12t21  agePct12t29  agePct16t24  agePct65up  ...  \\\n",
       "0         0.17         0.34         0.47         0.29        0.32  ...   \n",
       "1         0.07         0.26         0.59         0.35        0.27  ...   \n",
       "2         0.04         0.39         0.47         0.28        0.32  ...   \n",
       "3         0.10         0.51         0.50         0.34        0.21  ...   \n",
       "4         0.05         0.38         0.38         0.23        0.36  ...   \n",
       "\n",
       "   PctForeignBorn  PctBornSameState  PctSameHouse85  PctSameCity85  \\\n",
       "0            0.12              0.42            0.50           0.51   \n",
       "1            0.21              0.50            0.34           0.60   \n",
       "2            0.14              0.49            0.54           0.67   \n",
       "3            0.19              0.30            0.73           0.64   \n",
       "4            0.11              0.72            0.64           0.61   \n",
       "\n",
       "   PctSameState85  LandArea  PopDens  PctUsePubTrans  LemasPctOfficDrugUn  \\\n",
       "0            0.64      0.12     0.26            0.20                 0.32   \n",
       "1            0.52      0.02     0.12            0.45                 0.00   \n",
       "2            0.56      0.01     0.21            0.02                 0.00   \n",
       "3            0.65      0.02     0.39            0.28                 0.00   \n",
       "4            0.53      0.04     0.09            0.02                 0.00   \n",
       "\n",
       "   ViolentCrimesPerPop  \n",
       "0                 0.20  \n",
       "1                 0.67  \n",
       "2                 0.43  \n",
       "3                 0.12  \n",
       "4                 0.03  \n",
       "\n",
       "[5 rows x 101 columns]"
      ]
     },
     "execution_count": 15,
     "metadata": {},
     "output_type": "execute_result"
    }
   ],
   "source": [
    "data1comp.head()"
   ]
  },
  {
   "cell_type": "markdown",
   "metadata": {
    "colab_type": "text",
    "id": "nXZBDB8aVivF"
   },
   "source": [
    "### shuffle the data"
   ]
  },
  {
   "cell_type": "code",
   "execution_count": 16,
   "metadata": {
    "colab": {},
    "colab_type": "code",
    "executionInfo": {
     "elapsed": 481,
     "status": "ok",
     "timestamp": 1599534337009,
     "user": {
      "displayName": "z thui",
      "photoUrl": "",
      "userId": "08749963318503558861"
     },
     "user_tz": 240
    },
    "id": "6XsPRqEwTG2Z"
   },
   "outputs": [],
   "source": [
    "train=data1comp.sample(frac=0.6,random_state=223)\n",
    "test=data1comp.drop(train.index)\n",
    "\n",
    "# trainy=train.pop('ViolentCrimesPerPop')\n",
    "# testy=test.pop('ViolentCrimesPerPop')\n",
    "\n",
    "# train=np.array(train)\n",
    "# test=np.array(test)\n",
    "# trainy=np.array(trainy).reshape(-1,1)\n",
    "# testy=np.array(testy).reshape(-1,1)\n"
   ]
  },
  {
   "cell_type": "code",
   "execution_count": 17,
   "metadata": {},
   "outputs": [],
   "source": [
    "dt=np.r_[train,test]"
   ]
  },
  {
   "cell_type": "code",
   "execution_count": 18,
   "metadata": {},
   "outputs": [],
   "source": [
    "dt_x=dt[:,:-1]"
   ]
  },
  {
   "cell_type": "markdown",
   "metadata": {},
   "source": [
    "#### pca could be applied, or we could use original space as well"
   ]
  },
  {
   "cell_type": "code",
   "execution_count": 19,
   "metadata": {},
   "outputs": [
    {
     "data": {
      "text/plain": [
       "0.8575395188981959"
      ]
     },
     "execution_count": 19,
     "metadata": {},
     "output_type": "execute_result"
    }
   ],
   "source": [
    "pca=PCA(n_components=15)\n",
    "dt_x = pca.fit_transform(dt_x)\n",
    "sum(pca.explained_variance_ratio_)"
   ]
  },
  {
   "cell_type": "code",
   "execution_count": 20,
   "metadata": {},
   "outputs": [],
   "source": [
    "dt_new=np.c_[dt_x,dt[:,-1]]"
   ]
  },
  {
   "cell_type": "markdown",
   "metadata": {
    "colab_type": "text",
    "id": "FOywRC4fVxOK"
   },
   "source": [
    "### Normalize the space"
   ]
  },
  {
   "cell_type": "code",
   "execution_count": 21,
   "metadata": {
    "colab": {},
    "colab_type": "code",
    "executionInfo": {
     "elapsed": 454,
     "status": "ok",
     "timestamp": 1599534338238,
     "user": {
      "displayName": "z thui",
      "photoUrl": "",
      "userId": "08749963318503558861"
     },
     "user_tz": 240
    },
    "id": "Vgcpx8FGUyie"
   },
   "outputs": [],
   "source": [
    "##alternative to standardize dt besides using sklearn\n",
    "\n",
    "# def norm_data(train,norm=True):\n",
    "#     std_train=np.ones(train.shape[1])\n",
    "#     mu_train=np.zeros(train.shape[1])\n",
    "#     if(norm):\n",
    "#         std_train = np.std(train, 0)\n",
    "#         mu_train=np.mean(train,0)\n",
    "\n",
    "#     train=(train - np.full(train.shape, mu_train)) / \\\n",
    "#             np.full(train.shape, std_train)\n",
    "\n",
    "#     return train,mu_train,std_train\n",
    "\n",
    "\n",
    "# train_x,mutmp,stdtmp=norm_data(dt,norm=True)"
   ]
  },
  {
   "cell_type": "code",
   "execution_count": 22,
   "metadata": {},
   "outputs": [
    {
     "data": {
      "text/plain": [
       "StandardScaler(copy=True, with_mean=True, with_std=True)"
      ]
     },
     "execution_count": 22,
     "metadata": {},
     "output_type": "execute_result"
    }
   ],
   "source": [
    "scaler=StandardScaler()\n",
    "scaler.fit(dt_new)"
   ]
  },
  {
   "cell_type": "code",
   "execution_count": 23,
   "metadata": {},
   "outputs": [],
   "source": [
    "dtstd=scaler.transform(dt_new)"
   ]
  },
  {
   "cell_type": "markdown",
   "metadata": {
    "colab_type": "text",
    "id": "0EAdKgSvTG2b"
   },
   "source": [
    "### Output data"
   ]
  },
  {
   "cell_type": "code",
   "execution_count": 24,
   "metadata": {
    "colab": {},
    "colab_type": "code",
    "id": "Ua-CKhz8q0KG"
   },
   "outputs": [],
   "source": [
    "np.save('crimedt',dtstd)"
   ]
  },
  {
   "cell_type": "code",
   "execution_count": 25,
   "metadata": {},
   "outputs": [
    {
     "data": {
      "text/plain": [
       "(1993, 16)"
      ]
     },
     "execution_count": 25,
     "metadata": {},
     "output_type": "execute_result"
    }
   ],
   "source": [
    "dtstd.shape"
   ]
  },
  {
   "cell_type": "code",
   "execution_count": null,
   "metadata": {},
   "outputs": [],
   "source": []
  }
 ],
 "metadata": {
  "colab": {
   "collapsed_sections": [],
   "name": "crime_preprocess.ipynb",
   "provenance": []
  },
  "kernelspec": {
   "display_name": "Python 3",
   "language": "python",
   "name": "python3"
  },
  "language_info": {
   "codemirror_mode": {
    "name": "ipython",
    "version": 3
   },
   "file_extension": ".py",
   "mimetype": "text/x-python",
   "name": "python",
   "nbconvert_exporter": "python",
   "pygments_lexer": "ipython3",
   "version": "3.7.5"
  }
 },
 "nbformat": 4,
 "nbformat_minor": 1
}
