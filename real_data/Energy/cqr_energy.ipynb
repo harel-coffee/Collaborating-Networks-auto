{
 "cells": [
  {
   "cell_type": "markdown",
   "metadata": {},
   "source": [
    "### Conformalized quantile regression(CQR)"
   ]
  },
  {
   "cell_type": "markdown",
   "metadata": {},
   "source": [
    "The link to the original paper\n",
    "http://papers.neurips.cc/paper/8613-conformalized-quantile-regression.pdf\n",
    "\n",
    "We use the package in the following link for experiment\n",
    "\n",
    "https://github.com/yromano/cqr\n",
    "\n",
    "Note that we use this CQR for median, calibration, and 90% interval only. \n",
    "\n",
    "We use the model under the random forest specification with symmetric interval and recommended hyperparameter from the package example"
   ]
  },
  {
   "cell_type": "code",
   "execution_count": 1,
   "metadata": {
    "scrolled": true
   },
   "outputs": [],
   "source": [
    "import warnings\n",
    "warnings.filterwarnings('ignore')\n",
    "\n",
    "import matplotlib\n",
    "matplotlib.use('Agg')\n",
    "import matplotlib.pyplot as plt\n",
    "\n",
    "import numpy as np\n",
    "np.warnings.filterwarnings('ignore')\n",
    "\n",
    "import torch\n",
    "\n",
    "from sklearn.preprocessing import StandardScaler\n",
    "from sklearn.model_selection import train_test_split\n",
    "\n",
    "\n",
    "from cqr import helper\n",
    "from scipy.interpolate import interp1d\n",
    "from nonconformist.nc import RegressorNc\n",
    "from nonconformist.cp import IcpRegressor\n",
    "from nonconformist.nc import QuantileRegErrFunc\n",
    "from scipy import stats\n",
    "\n",
    "%matplotlib inline"
   ]
  },
  {
   "cell_type": "markdown",
   "metadata": {},
   "source": [
    "### load data"
   ]
  },
  {
   "cell_type": "code",
   "execution_count": 2,
   "metadata": {},
   "outputs": [
    {
     "data": {
      "text/plain": [
       "DescribeResult(nobs=1441, minmax=(-2.2052207299156037, 5.333679641267546), mean=-0.0032660240952695646, variance=0.985302073606261, skewness=0.5683701905151197, kurtosis=1.3028270149021273)"
      ]
     },
     "execution_count": 2,
     "metadata": {},
     "output_type": "execute_result"
    }
   ],
   "source": [
    "dt=np.load('energy_dt/energydt.npy')\n",
    "\n",
    "# the full design matrix\n",
    "x=dt[:,:-1]\n",
    "y=dt[:,-1]\n",
    "\n",
    "\n",
    "# compute input dimensions\n",
    "in_shape = x.shape[1]\n",
    "\n",
    "stats.describe(y)"
   ]
  },
  {
   "cell_type": "markdown",
   "metadata": {},
   "source": [
    "### hyperparameter"
   ]
  },
  {
   "cell_type": "code",
   "execution_count": 3,
   "metadata": {},
   "outputs": [],
   "source": [
    "#########################################################\n",
    "# Quantile random forests parameters\n",
    "# (See QuantileForestRegressorAdapter class in helper.py)\n",
    "#########################################################\n",
    "\n",
    "# the number of trees in the forest\n",
    "n_estimators = 1000\n",
    "\n",
    "# the minimum number of samples required to be at a leaf node\n",
    "# (default skgarden's parameter)\n",
    "min_samples_leaf = 1\n",
    "\n",
    "# the number of features to consider when looking for the best split\n",
    "# (default skgarden's parameter)\n",
    "max_features = x.shape[1]\n",
    "\n",
    "\n",
    "# use cross-validation to tune the quantile levels?\n",
    "cv_qforest = True\n",
    "\n",
    "# when tuning the two QRF quantile levels one may\n",
    "# ask for a prediction band with smaller average coverage\n",
    "# to avoid too conservative estimation of the prediction band\n",
    "# This would be equal to coverage_factor*(quantiles[1] - quantiles[0])\n",
    "coverage_factor = 0.85\n",
    "\n",
    "# ratio of held-out data, used in cross-validation\n",
    "cv_test_ratio = 0.05\n",
    "\n",
    "# seed for splitting the data in cross-validation.\n",
    "# Also used as the seed in quantile random forests function\n",
    "cv_random_state = 1\n",
    "\n",
    "# determines the lowest and highest quantile level parameters.\n",
    "# This is used when tuning the quanitle levels by cross-validation.\n",
    "# The smallest value is equal to quantiles[0] - range_vals.\n",
    "# Similarly, the largest value is equal to quantiles[1] + range_vals.\n",
    "cv_range_vals = 30\n",
    "\n",
    "# sweep over a grid of length num_vals when tuning QRF's quantile parameters                   \n",
    "cv_num_vals = 10\n",
    "\n",
    "\n",
    "# define the QRF's parameters \n",
    "params_qforest = dict()\n",
    "params_qforest[\"n_estimators\"] = n_estimators\n",
    "params_qforest[\"min_samples_leaf\"] = min_samples_leaf\n",
    "params_qforest[\"max_features\"] = max_features\n",
    "params_qforest[\"CV\"] = cv_qforest\n",
    "params_qforest[\"coverage_factor\"] = coverage_factor\n",
    "params_qforest[\"test_ratio\"] = cv_test_ratio\n",
    "params_qforest[\"random_state\"] = cv_random_state\n",
    "params_qforest[\"range_vals\"] = cv_range_vals\n",
    "params_qforest[\"num_vals\"] = cv_num_vals"
   ]
  },
  {
   "cell_type": "code",
   "execution_count": null,
   "metadata": {},
   "outputs": [],
   "source": []
  },
  {
   "cell_type": "markdown",
   "metadata": {},
   "source": [
    "### Ten Replications to evaluate the hard metrics"
   ]
  },
  {
   "cell_type": "code",
   "execution_count": 4,
   "metadata": {},
   "outputs": [],
   "source": [
    "##function to create replication\n",
    "def rep_iter(x,y,frac=0.4):\n",
    "    n=len(x)\n",
    "    ntest=int(np.floor(frac*n))\n",
    "    allidx=np.random.permutation(n)\n",
    "    trainidx= allidx[ntest:]\n",
    "    testidx= allidx[:ntest]\n",
    "    return x[trainidx],y[trainidx],x[testidx],y[testidx]\n",
    "    "
   ]
  },
  {
   "cell_type": "code",
   "execution_count": 5,
   "metadata": {},
   "outputs": [],
   "source": [
    "#initialize the metric\n",
    "cqrcal=[]\n",
    "cqrcalshp=[] #empirical coverage\n",
    "cqrwidth=[] #empirical width\n",
    "cqr90=[] #90 interval coverage\n",
    "cqrmae=[]"
   ]
  },
  {
   "cell_type": "code",
   "execution_count": 6,
   "metadata": {
    "scrolled": true
   },
   "outputs": [
    {
     "name": "stdout",
     "output_type": "stream",
     "text": [
      "Dimensions: train set (n=865, p=7) ; test set (n=576, p=7)\n",
      "Dimensions: train set (n=865, p=7) ; test set (n=576, p=7)\n",
      "Dimensions: train set (n=865, p=7) ; test set (n=576, p=7)\n",
      "Dimensions: train set (n=865, p=7) ; test set (n=576, p=7)\n",
      "Dimensions: train set (n=865, p=7) ; test set (n=576, p=7)\n",
      "Dimensions: train set (n=865, p=7) ; test set (n=576, p=7)\n",
      "Dimensions: train set (n=865, p=7) ; test set (n=576, p=7)\n",
      "Dimensions: train set (n=865, p=7) ; test set (n=576, p=7)\n",
      "Dimensions: train set (n=865, p=7) ; test set (n=576, p=7)\n",
      "Dimensions: train set (n=865, p=7) ; test set (n=576, p=7)\n"
     ]
    }
   ],
   "source": [
    "np.random.seed(2021)\n",
    "for a in range(10):\n",
    "    train_x,train_y,test_x,test_y=rep_iter(x,y)\n",
    "\n",
    "    # compute input dimensions\n",
    "    n_train=len(train_x)\n",
    "    n_test=len(test_x)\n",
    "    in_shape = train_x.shape[1]\n",
    "\n",
    "    # display basic information\n",
    "    print(\"Dimensions: train set (n=%d, p=%d) ; test set (n=%d, p=%d)\" % \n",
    "          (train_x.shape[0], train_x.shape[1], test_x.shape[0], test_x.shape[1]))\n",
    "\n",
    "\n",
    "\n",
    "    # divide the data into proper training set and calibration set\n",
    "    idx = np.random.permutation(n_train)\n",
    "    n_half = int(np.floor(n_train/2))\n",
    "    idx_train, idx_cal = idx[:n_half], idx[n_half:2*n_half]\n",
    "\n",
    "    def cqr_lu(level):\n",
    "\n",
    "        # desired quanitile levels\n",
    "        quantiles = [0.5-level/2, 0.5+level/2]\n",
    "        # target quantile levels\n",
    "        quantiles_forest = [quantiles[0]*100, quantiles[1]*100]\n",
    "\n",
    "        # desired miscoverage error\n",
    "        alpha = 1-level\n",
    "\n",
    "\n",
    "        # define QRF model\n",
    "        quantile_estimator = helper.QuantileForestRegressorAdapter(model=None,\n",
    "                                                               fit_params=None,\n",
    "                                                               quantiles=quantiles_forest,\n",
    "                                                               params=params_qforest)\n",
    "\n",
    "        # define the CQR object\n",
    "        nc = RegressorNc(quantile_estimator, QuantileRegErrFunc())\n",
    "\n",
    "        # run CQR procedure\n",
    "        y_lower, y_upper = helper.run_icp(nc, train_x, train_y, test_x, idx_train, idx_cal, alpha)\n",
    "\n",
    "        return y_lower,y_upper\n",
    "\n",
    "\n",
    "    \n",
    "    \n",
    "    #####calculate metrics##############\n",
    "\n",
    "    per=np.linspace(0.02,0.98,8) #quantile to study calibration\n",
    "    pershp=np.linspace(0.4,0.999,20) #nominal quantile to study sharpness\n",
    "\n",
    "    \n",
    "    \n",
    "\n",
    "\n",
    "    cqrc=[]\n",
    "\n",
    "    for i in per:\n",
    "        lquantile,rquantile=cqr_lu(i)\n",
    "        cqrc.append(np.mean((test_y<rquantile)*(test_y>lquantile)))\n",
    "\n",
    "    cqrcal.append(cqrc)\n",
    "    \n",
    "    \n",
    "    cqrc1=[]    \n",
    "    cqrwid=[]\n",
    "    for i in pershp:\n",
    "        lquantile,rquantile=cqr_lu(i)\n",
    "        cqrc1.append(np.mean((test_y.ravel()<rquantile.ravel())*(test_y.ravel()>lquantile.ravel())))\n",
    "        cqrwid.append(np.median(rquantile-lquantile))\n",
    "        \n",
    "        \n",
    "    cqrcalshp.append(np.array(cqrc1))    \n",
    "    cqrwidth.append(np.array(cqrwid))\n",
    "    \n",
    "    #ninty\n",
    "    lquantile90,rquantile90=cqr_lu(0.9)\n",
    "    cqr90.append(np.mean((test_y<rquantile90)*(test_y>lquantile90)))\n",
    "    \n",
    "    \n",
    "    #mae    \n",
    "    lquantile50,rquantile50=cqr_lu(0.02)\n",
    "    cqrmae.append(np.abs((lquantile50+rquantile50)/2.-test_y.ravel()).mean())\n",
    "\n"
   ]
  },
  {
   "cell_type": "code",
   "execution_count": 7,
   "metadata": {},
   "outputs": [
    {
     "name": "stdout",
     "output_type": "stream",
     "text": [
      "0.9100694444444445 0.011138204814128772\n",
      "0.5519227293263975 0.01688449200710158\n"
     ]
    }
   ],
   "source": [
    "def musd(x):\n",
    "    print(np.mean(x),np.std(x))\n",
    "\n",
    "musd(cqr90)\n",
    "musd(cqrmae)"
   ]
  },
  {
   "cell_type": "code",
   "execution_count": null,
   "metadata": {},
   "outputs": [],
   "source": []
  },
  {
   "cell_type": "code",
   "execution_count": 8,
   "metadata": {},
   "outputs": [
    {
     "name": "stdout",
     "output_type": "stream",
     "text": [
      "0.022329985119047602 0.009375396037061166\n"
     ]
    }
   ],
   "source": [
    "#calibration\n",
    "def calcompu(x):\n",
    "    x=np.array(x)\n",
    "    n=len(x)\n",
    "    cal=np.mean(x,0)\n",
    "    calest=np.abs(x-per).mean(1)\n",
    "    \n",
    "    print(np.mean(calest),np.std(calest))\n",
    "    \n",
    "    return  cal\n",
    "\n",
    "cqrcalplot=calcompu(cqrcal)"
   ]
  },
  {
   "cell_type": "code",
   "execution_count": 9,
   "metadata": {},
   "outputs": [
    {
     "data": {
      "text/plain": [
       "array([0.01944444, 0.17881944, 0.30920139, 0.44357639, 0.58611111,\n",
       "       0.71857639, 0.8578125 , 0.97934028])"
      ]
     },
     "execution_count": 9,
     "metadata": {},
     "output_type": "execute_result"
    }
   ],
   "source": [
    "cqrcalplot"
   ]
  },
  {
   "cell_type": "code",
   "execution_count": 10,
   "metadata": {},
   "outputs": [
    {
     "data": {
      "text/plain": [
       "[<matplotlib.lines.Line2D at 0x13de37650>]"
      ]
     },
     "execution_count": 10,
     "metadata": {},
     "output_type": "execute_result"
    },
    {
     "data": {
      "image/png": "[encoded data removed]",
      "text/plain": [
       "<Figure size 360x360 with 1 Axes>"
      ]
     },
     "metadata": {
      "needs_background": "light"
     },
     "output_type": "display_data"
    }
   ],
   "source": [
    "## calibration plot\n",
    "plt.figure(figsize=(5,5))\n",
    "plt.plot(per,cqrcalplot,'-*')\n",
    "\n",
    "plt.plot([0,1],[0,1])"
   ]
  },
  {
   "cell_type": "code",
   "execution_count": 15,
   "metadata": {},
   "outputs": [],
   "source": [
    "def shpplt(cal,width): #median interval width calculation\n",
    "    n=len(cal)\n",
    "    cal=np.array(cal)\n",
    "    width=np.array(width)\n",
    "    low=np.max(cal[:,0])\n",
    "    up=np.min(cal[:,-1])\n",
    "    rangeint=np.linspace(low,up,30)\n",
    "    widest=[]\n",
    "    for i in range(n):\n",
    "        widest.append(interp1d(cal[i],width[i])(rangeint))\n",
    "    \n",
    "    return rangeint,np.array(widest).mean(0)\n",
    "\n",
    "    "
   ]
  },
  {
   "cell_type": "code",
   "execution_count": 19,
   "metadata": {},
   "outputs": [],
   "source": [
    "cqrempcal,cqrempwid=shpplt(cqrcalshp,cqrwidth)"
   ]
  },
  {
   "cell_type": "code",
   "execution_count": 18,
   "metadata": {},
   "outputs": [
    {
     "data": {
      "text/plain": [
       "[<matplotlib.lines.Line2D at 0x13e1cfd50>]"
      ]
     },
     "execution_count": 18,
     "metadata": {},
     "output_type": "execute_result"
    },
    {
     "data": {
      "image/png": "[encoded data removed]",
      "text/plain": [
       "<Figure size 432x288 with 1 Axes>"
      ]
     },
     "metadata": {
      "needs_background": "light"
     },
     "output_type": "display_data"
    }
   ],
   "source": [
    "plt.plot(cqrempcal,cqrempwid)"
   ]
  },
  {
   "cell_type": "code",
   "execution_count": null,
   "metadata": {},
   "outputs": [],
   "source": []
  }
 ],
 "metadata": {
  "kernelspec": {
   "display_name": "Python 3",
   "language": "python",
   "name": "python3"
  },
  "language_info": {
   "codemirror_mode": {
    "name": "ipython",
    "version": 3
   },
   "file_extension": ".py",
   "mimetype": "text/x-python",
   "name": "python",
   "nbconvert_exporter": "python",
   "pygments_lexer": "ipython3",
   "version": "3.7.5"
  }
 },
 "nbformat": 4,
 "nbformat_minor": 2
}
