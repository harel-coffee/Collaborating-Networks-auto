{
 "cells": [
  {
   "cell_type": "code",
   "execution_count": null,
   "metadata": {
    "colab": {},
    "colab_type": "code",
    "executionInfo": {
     "elapsed": 2336,
     "status": "ok",
     "timestamp": 1599577520234,
     "user": {
      "displayName": "z thui",
      "photoUrl": "",
      "userId": "08749963318503558861"
     },
     "user_tz": 240
    },
    "id": "BqXhlGIuEjCq"
   },
   "outputs": [],
   "source": [
    "import sys \n",
    "import numpy as np # linear algebra\n",
    "from scipy.stats import randint\n",
    "import matplotlib.pyplot as plt # this is used for the plot the graph \n",
    "%matplotlib inline\n",
    "from tqdm import notebook\n",
    "import tensorflow as tf\n",
    "from scipy import stats\n",
    "from scipy.interpolate import interp1d"
   ]
  },
  {
   "cell_type": "code",
   "execution_count": null,
   "metadata": {
    "colab": {},
    "colab_type": "code",
    "executionInfo": {
     "elapsed": 2109,
     "status": "ok",
     "timestamp": 1599577520235,
     "user": {
      "displayName": "z thui",
      "photoUrl": "",
      "userId": "08749963318503558861"
     },
     "user_tz": 240
    },
    "id": "09ZJ3pC4bQsl"
   },
   "outputs": [],
   "source": []
  },
  {
   "cell_type": "markdown",
   "metadata": {
    "colab_type": "text",
    "id": "hzn5vbqnEjCu"
   },
   "source": [
    "### Load data"
   ]
  },
  {
   "cell_type": "code",
   "execution_count": null,
   "metadata": {
    "colab": {},
    "colab_type": "code",
    "executionInfo": {
     "elapsed": 583,
     "status": "ok",
     "timestamp": 1599577520237,
     "user": {
      "displayName": "z thui",
      "photoUrl": "",
      "userId": "08749963318503558861"
     },
     "user_tz": 240
    },
    "id": "sF4ZKh39buxY"
   },
   "outputs": [],
   "source": [
    "train=np.load('Train.npy')\n",
    "test=np.load('Test.npy')\n",
    "\n",
    "train_x=train[:,:-1]\n",
    "train_y=train[:,-1].reshape(-1,1)\n",
    "\n",
    "test_x=test[:,:-1]\n",
    "test_y=test[:,-1].reshape(-1,1)\n",
    "\n",
    "ntrain=len(train_x)\n",
    "ntest=len(test_x)\n"
   ]
  },
  {
   "cell_type": "code",
   "execution_count": null,
   "metadata": {
    "colab": {
     "base_uri": "https://localhost:8080/",
     "height": 71
    },
    "colab_type": "code",
    "executionInfo": {
     "elapsed": 524,
     "status": "ok",
     "timestamp": 1599577521088,
     "user": {
      "displayName": "z thui",
      "photoUrl": "",
      "userId": "08749963318503558861"
     },
     "user_tz": 240
    },
    "id": "Sv1c89sWIWUI",
    "outputId": "d6558a69-4ca2-436c-a9fe-521047048f5d"
   },
   "outputs": [],
   "source": [
    "stats.describe(train_y),stats.describe(test_y)"
   ]
  },
  {
   "cell_type": "markdown",
   "metadata": {
    "colab_type": "text",
    "id": "TTfPIseeEjCx"
   },
   "source": [
    "### Collaborating Network(CN)"
   ]
  },
  {
   "cell_type": "code",
   "execution_count": null,
   "metadata": {
    "colab": {},
    "colab_type": "code",
    "executionInfo": {
     "elapsed": 531,
     "status": "ok",
     "timestamp": 1599578865852,
     "user": {
      "displayName": "z thui",
      "photoUrl": "",
      "userId": "08749963318503558861"
     },
     "user_tz": 240
    },
    "id": "ThzSYDwBEjCx"
   },
   "outputs": [],
   "source": [
    "def variables_from_scope(scope_name):\n",
    "    \"\"\"\n",
    "    Returns a list of all trainable variables in a given scope. This is useful when\n",
    "    you'd like to back-propagate only to weights in one part of the network\n",
    "    (in our case, the generator or the discriminator).\n",
    "    \"\"\"\n",
    "    return tf.compat.v1.get_collection(tf.compat.v1.GraphKeys.TRAINABLE_VARIABLES, scope=scope_name)"
   ]
  },
  {
   "cell_type": "code",
   "execution_count": null,
   "metadata": {
    "colab": {},
    "colab_type": "code",
    "executionInfo": {
     "elapsed": 571,
     "status": "ok",
     "timestamp": 1599579609520,
     "user": {
      "displayName": "z thui",
      "photoUrl": "",
      "userId": "08749963318503558861"
     },
     "user_tz": 240
    },
    "id": "SEKtW9lDEjC0"
   },
   "outputs": [],
   "source": [
    " # Graph parameters\n",
    "intermediate_layer_size = 100\n",
    "intermediate_layer_size2 = 80\n",
    "intermediate_layer_size3 = 60\n",
    "# Training parameters\n",
    "batch_size = 100\n",
    "pre_iter= ntrain*70\n",
    "iter= ntrain*50"
   ]
  },
  {
   "cell_type": "code",
   "execution_count": null,
   "metadata": {
    "colab": {},
    "colab_type": "code",
    "executionInfo": {
     "elapsed": 409,
     "status": "ok",
     "timestamp": 1599578866170,
     "user": {
      "displayName": "z thui",
      "photoUrl": "",
      "userId": "08749963318503558861"
     },
     "user_tz": 240
    },
    "id": "bQAkKuJaEjC2"
   },
   "outputs": [],
   "source": [
    "# f function learn the inverse of cdf\n",
    "def f(x,q):\n",
    "    \"\"\"x:input feature and treatment,\n",
    "    q:percentile,\n",
    "    \"\"\"\n",
    "    z0=tf.concat([x,q],axis=1)\n",
    "    hidden_layer = tf.compat.v1.layers.dense(z0, intermediate_layer_size, kernel_initializer=tf.keras.initializers.RandomNormal(stddev=.001),name=\"f1\", activation=tf.compat.v1.nn.elu,reuse=None)\n",
    "    hidden_layer_bn = tf.compat.v1.layers.batch_normalization(hidden_layer,name=\"f1bn\")\n",
    "    hidden_layer2 = tf.compat.v1.layers.dense(hidden_layer_bn, intermediate_layer_size2, kernel_initializer=tf.keras.initializers.RandomNormal(stddev=.001),name=\"f2\", activation=tf.keras.activations.elu,reuse=None)\n",
    "    hidden_layer2_bn = tf.compat.v1.layers.batch_normalization(hidden_layer2,name=\"f2bn\")\n",
    "    hidden_layer3 = tf.compat.v1.layers.dense(hidden_layer2_bn, intermediate_layer_size3, kernel_initializer=tf.keras.initializers.RandomNormal(stddev=.001),name=\"f3\", activation=tf.compat.v1.nn.elu,reuse=None)\n",
    "    hidden_layer3_bn = tf.compat.v1.layers.batch_normalization(hidden_layer2,name=\"f3bn\")\n",
    "    yq = tf.compat.v1.layers.dense(hidden_layer3_bn,1,kernel_initializer=tf.keras.initializers.RandomNormal(stddev=.001), name=\"f4\", activation=None,reuse=None)\n",
    "    return yq"
   ]
  },
  {
   "cell_type": "code",
   "execution_count": null,
   "metadata": {
    "colab": {},
    "colab_type": "code",
    "executionInfo": {
     "elapsed": 800,
     "status": "ok",
     "timestamp": 1599578866749,
     "user": {
      "displayName": "z thui",
      "photoUrl": "",
      "userId": "08749963318503558861"
     },
     "user_tz": 240
    },
    "id": "n9UxwvgfEjC4"
   },
   "outputs": [],
   "source": [
    "# g function learn the cdf\n",
    "def g(yq,x):\n",
    "    \"\"\"\n",
    "    yq:quantile:,\n",
    "    x:input feature and treatment,\n",
    "    \"\"\"\n",
    "    z1=tf.concat([yq,x],axis=1)\n",
    "    hidden_layer = tf.compat.v1.layers.dense(z1, intermediate_layer_size,kernel_initializer=tf.compat.v1.initializers.random_normal(stddev=.001), name=\"g1\", activation=tf.compat.v1.nn.elu,reuse=None)\n",
    "    hidden_layer_bn = tf.compat.v1.layers.batch_normalization(hidden_layer,name=\"g1bn\")\n",
    "    hidden_layer2 = tf.compat.v1.layers.dense(hidden_layer_bn, intermediate_layer_size2, kernel_initializer=tf.compat.v1.initializers.random_normal(stddev=.001),name=\"g2\", activation=tf.compat.v1.nn.elu,reuse=None)\n",
    "    hidden_layer2_bn = tf.compat.v1.layers.batch_normalization(hidden_layer2,name=\"g2bn\")\n",
    "    gq_logit = tf.compat.v1.layers.dense(hidden_layer2_bn, 1,kernel_initializer=tf.initializers.glorot_normal, name=\"g3\", activation=None,reuse=None)\n",
    "    gq_logit_bn=tf.keras.layers.BatchNormalization(axis=-1,momentum=.1)(gq_logit)*tf.math.sqrt(3.29) #,trainable=False\n",
    "    return gq_logit_bn"
   ]
  },
  {
   "cell_type": "code",
   "execution_count": null,
   "metadata": {
    "colab": {},
    "colab_type": "code",
    "executionInfo": {
     "elapsed": 587,
     "status": "ok",
     "timestamp": 1599578866750,
     "user": {
      "displayName": "z thui",
      "photoUrl": "",
      "userId": "08749963318503558861"
     },
     "user_tz": 240
    },
    "id": "1tFnSTGNEjC6"
   },
   "outputs": [],
   "source": [
    "tf.compat.v1.disable_eager_execution()"
   ]
  },
  {
   "cell_type": "code",
   "execution_count": null,
   "metadata": {
    "colab": {},
    "colab_type": "code",
    "executionInfo": {
     "elapsed": 1932,
     "status": "ok",
     "timestamp": 1599578868339,
     "user": {
      "displayName": "z thui",
      "photoUrl": "",
      "userId": "08749963318503558861"
     },
     "user_tz": 240
    },
    "id": "uP8WNixGEjC8"
   },
   "outputs": [],
   "source": [
    "\n",
    "tf.compat.v1.reset_default_graph()\n",
    "\n",
    "# Placeholders\n",
    "y_ = tf.compat.v1.placeholder(tf.float32, [None, 1])\n",
    "\n",
    "pre_y= tf.compat.v1.placeholder(tf.float32, [None, 1])\n",
    "x_=tf.compat.v1.placeholder(tf.float32, [None, train_x.shape[1]])\n",
    "q_ = tf.compat.v1.placeholder(tf.float32, [None, 1])\n",
    "\n",
    "\n",
    "# f\n",
    "with tf.compat.v1.variable_scope(\"f\") as scope:\n",
    "    yq_= f(x_,q_)\n",
    "\n",
    "\n",
    "ylessthan= tf.cast(tf.less_equal(y_,yq_),tf.float32)\n",
    "ylessthan_pre= tf.cast(tf.less_equal(y_,pre_y),tf.float32)\n",
    "\n",
    "\n",
    "with tf.compat.v1.variable_scope(\"g\") as scope:\n",
    "    gq_logit = g(yq_,x_)\n",
    "    gq=tf.sigmoid(gq_logit)*.99999+.00001\n",
    "    scope.reuse_variables()\n",
    "    gq_logit_pre = g(pre_y,x_)\n",
    "\n",
    "\n",
    "#Losses\n",
    "f_loss = tf.reduce_mean(tf.square(q_-gq))\n",
    "g_loss = 1*tf.compat.v1.losses.sigmoid_cross_entropy(ylessthan,gq_logit)\n",
    "# +\\    .05*tf.compat.v1.losses.mean_squared_error(q_,gq)\n",
    "\n",
    "#pre-loss\n",
    "g_loss_pre = tf.compat.v1.losses.sigmoid_cross_entropy(ylessthan_pre,gq_logit_pre)\n",
    "\n",
    "# Optimizer\n",
    "optimizer = tf.compat.v1.train.AdamOptimizer(learning_rate=1e-4)\n",
    "pre_step= optimizer.minimize(g_loss_pre,var_list=variables_from_scope(\"g\"))\n",
    "g_step = optimizer.minimize(g_loss, var_list=variables_from_scope(\"g\"))\n",
    "f_step = optimizer.minimize(f_loss, var_list=variables_from_scope(\"f\"))\n",
    "\n",
    "# Initializer\n",
    "initialize_all = tf.compat.v1.global_variables_initializer()"
   ]
  },
  {
   "cell_type": "code",
   "execution_count": null,
   "metadata": {
    "colab": {},
    "colab_type": "code",
    "executionInfo": {
     "elapsed": 1735,
     "status": "ok",
     "timestamp": 1599578868341,
     "user": {
      "displayName": "z thui",
      "photoUrl": "",
      "userId": "08749963318503558861"
     },
     "user_tz": 240
    },
    "id": "00eb3i4OEjC_"
   },
   "outputs": [],
   "source": []
  },
  {
   "cell_type": "markdown",
   "metadata": {
    "colab_type": "text",
    "id": "AKXVcJJHEjDB"
   },
   "source": [
    "### Training"
   ]
  },
  {
   "cell_type": "code",
   "execution_count": null,
   "metadata": {
    "colab": {
     "base_uri": "https://localhost:8080/",
     "height": 115,
     "referenced_widgets": [
      "3838e58efa32477193a66d3c782aa09e",
      "0050c1f6f3c344f0ba520af74d279cbd",
      "11ac374f1ca442868f3787521d524706",
      "beb035f12b42446694471e6fb18889e7",
      "d0eed317c3284520ae631ec70cbbcd82",
      "2b31186094294fd3a37eaac5e94232f0",
      "67801b21626b4907a83ef0f97c7fe36b",
      "d76f78e652bb428aadb3c0b5dfea946c",
      "56d25603d11f4cf6a5f8d94f1af288ec",
      "cabe301a53334a56951f34aedf3f0f62",
      "1ee680d758424e128e50af1e770ebe0b",
      "bc596bd0c21b42b59f9b41d06bb474f3",
      "9b2ec4e103d04b028267562832c97b46",
      "865467b6374447f59bc58f48d66e229f",
      "8641fb8777724c2bbd24fd71dda528d9",
      "e40cb926aa0f46d6b3a113b7616f129b"
     ]
    },
    "colab_type": "code",
    "executionInfo": {
     "elapsed": 481559,
     "status": "ok",
     "timestamp": 1599580096612,
     "user": {
      "displayName": "z thui",
      "photoUrl": "",
      "userId": "08749963318503558861"
     },
     "user_tz": 240
    },
    "id": "UhR-xjB2EjDB",
    "outputId": "3c996786-534a-42e8-ccac-4a6db9a8d263"
   },
   "outputs": [],
   "source": [
    "sess = tf.compat.v1.Session()\n",
    "sess.run(initialize_all)\n",
    "gl=[]\n",
    "fl=[]\n",
    "\n",
    "\n",
    "for k in notebook.tnrange(pre_iter):\n",
    "    i=np.random.randint(0,ntrain,batch_size)\n",
    "    ytmp = train_y[i,:]\n",
    "    xtmp= train_x[i,:]\n",
    "    #when we do not have f initially, we use a uniform distribution to extract points from support\n",
    "    pre_ytmp=np.random.uniform(-4,8,(batch_size,1))  \n",
    "    sess.run(pre_step,feed_dict={y_: ytmp,\n",
    "                                x_:xtmp,\n",
    "                                pre_y:pre_ytmp})\n",
    "    \n",
    "\n",
    "for t in notebook.tnrange(iter):\n",
    "    #randomly generate a minibatch from valid set\n",
    "    i=np.random.randint(0,ntrain,([batch_size]))\n",
    "    qtmp=np.random.uniform(0, 1.0, [batch_size, 1])\n",
    "    ytmp = train_y[i,:]\n",
    "    xtmp= train_x[i,:]\n",
    "    \n",
    "    for i in range(0,1):\n",
    "        _,glt=sess.run([g_step,g_loss], feed_dict={y_: ytmp,\n",
    "                                x_:xtmp,\n",
    "                                q_:qtmp})\n",
    "    gl.append(glt)\n",
    "    \n",
    "    for i in range(0,2):\n",
    "        _,flt=sess.run([f_step,f_loss],feed_dict={y_: ytmp,\n",
    "                                x_:xtmp,\n",
    "                                q_:qtmp})\n",
    "    fl.append(flt)\n",
    "\n",
    "    "
   ]
  },
  {
   "cell_type": "code",
   "execution_count": null,
   "metadata": {
    "colab": {
     "base_uri": "https://localhost:8080/",
     "height": 282
    },
    "colab_type": "code",
    "executionInfo": {
     "elapsed": 824,
     "status": "ok",
     "timestamp": 1599580110128,
     "user": {
      "displayName": "z thui",
      "photoUrl": "",
      "userId": "08749963318503558861"
     },
     "user_tz": 240
    },
    "id": "atnKxN2GEjDD",
    "outputId": "0a8ca978-ccd8-4a95-f571-0fedfd165688"
   },
   "outputs": [],
   "source": [
    "plt.plot(fl)\n",
    "plt.plot(gl)"
   ]
  },
  {
   "cell_type": "markdown",
   "metadata": {
    "colab_type": "text",
    "id": "e6ybNgxGgR7L"
   },
   "source": [
    "### Estimate calibration and likelihood"
   ]
  },
  {
   "cell_type": "code",
   "execution_count": null,
   "metadata": {
    "colab": {},
    "colab_type": "code",
    "executionInfo": {
     "elapsed": 471,
     "status": "ok",
     "timestamp": 1599580114556,
     "user": {
      "displayName": "z thui",
      "photoUrl": "",
      "userId": "08749963318503558861"
     },
     "user_tz": 240
    },
    "id": "53k55zWFsu9A"
   },
   "outputs": [],
   "source": [
    "per=np.linspace(0.02,0.98,8)"
   ]
  },
  {
   "cell_type": "code",
   "execution_count": null,
   "metadata": {
    "colab": {},
    "colab_type": "code",
    "executionInfo": {
     "elapsed": 310,
     "status": "ok",
     "timestamp": 1599580114775,
     "user": {
      "displayName": "z thui",
      "photoUrl": "",
      "userId": "08749963318503558861"
     },
     "user_tz": 240
    },
    "id": "5F7z9JkM9mUm"
   },
   "outputs": [],
   "source": [
    "low=np.quantile(test_y,0.05)\n",
    "high=np.quantile(test_y,0.95)\n",
    "itv=np.linspace(low,high,9)\n",
    "itv=np.append(-np.infty,itv)\n",
    "itv=np.append(itv,np.infty)\n",
    "#outcome1 belongs to which interval\n",
    "id=np.zeros(ntest)\n",
    "for i in range(10):\n",
    "    id=id+1*(test_y.ravel()>itv[i+1])\n",
    "id=id.astype('int')\n"
   ]
  },
  {
   "cell_type": "code",
   "execution_count": null,
   "metadata": {
    "colab": {
     "base_uri": "https://localhost:8080/",
     "height": 66,
     "referenced_widgets": [
      "ae31dd4fc7914033b9d859d48e91f330",
      "84a300c050ed4113a9c48945a0229c4d",
      "fae106e89d824b9db2f3d5315b0743ce",
      "ff958e6bb55143bf9b6c2b470f5dbc93",
      "aeeb04909d4b4eadbb5d127b8a5ef0da",
      "b10f4995eae2433d94057177ffac1976",
      "8dad495549204878975fa8ed362c436d",
      "c6872c25f9c145039d5d428ab9ae1b07"
     ]
    },
    "colab_type": "code",
    "executionInfo": {
     "elapsed": 2762,
     "status": "ok",
     "timestamp": 1599580123853,
     "user": {
      "displayName": "z thui",
      "photoUrl": "",
      "userId": "08749963318503558861"
     },
     "user_tz": 240
    },
    "id": "qCQHFz_itGau",
    "outputId": "9ce32422-76fc-40e0-d022-5b49b258dfd3"
   },
   "outputs": [],
   "source": [
    "# estimation by g\n",
    "med_est=np.array([]) #median\n",
    "ll_est=np.empty(ntest) #negative log likelihood\n",
    "cal_est=np.zeros_like(per) #calibration\n",
    "widthg=[]  #interval width\n",
    "\n",
    "\n",
    "# estimation by f\n",
    "fmed_est=np.array([])  #median\n",
    "fll_est=np.empty(ntest) #negative log likelihood\n",
    "fcal_est=np.zeros_like(per) #calibration\n",
    "widthf=[]  #interval width\n",
    "\n",
    "#use interpolation to recover cdf\n",
    "xtmp=np.linspace(-4,9,5000)\n",
    "ptmp=np.linspace(0.001,0.999,5000)\n",
    "ptmp1=np.append([0],ptmp)\n",
    "ptmp1=np.append(ptmp1,[1])\n",
    "\n",
    "for i in notebook.trange(ntest):\n",
    "    #cdf estimate by g\n",
    "    cdf=sess.run(gq ,feed_dict={x_:np.tile(test_x[i,:],(5000,1)),\n",
    "                                yq_:xtmp[:,None]\n",
    "                                }).ravel()\n",
    "\n",
    "    invcdfest=interp1d(cdf,xtmp)\n",
    "    cdfest=interp1d(xtmp,cdf)\n",
    "\n",
    "    ##cdf estimate by f\n",
    "    ficdf= sess.run(yq_ ,feed_dict={x_:np.tile(test_x[i,:],(5000,1)),\n",
    "                                q_:ptmp[:,None]\n",
    "                                }).ravel()    \n",
    "    ficdf=np.append([-4],ficdf)\n",
    "    ficdf=np.append(ficdf,7)\n",
    "\n",
    "    finvcdfest=interp1d(ptmp1,ficdf)\n",
    "    fcdfest=interp1d(ficdf,ptmp1)\n",
    "      \n",
    "    #estimate the ite\n",
    "    med_est=np.append(med_est,invcdfest(0.5))    \n",
    "    fmed_est=np.append(fmed_est,finvcdfest(0.5))   \n",
    "    #estimate the loglikelihood\n",
    "    l=itv[id[i]]\n",
    "    r=itv[id[i]+1]\n",
    "\n",
    "\n",
    "    if(r==np.inf):\n",
    "        ll_est[i]=np.log(1.-cdfest(l)+1.e-10)\n",
    "        fll_est[i]=np.log(1.-fcdfest(l)+1.e-10)\n",
    "    elif(l==-np.inf):\n",
    "        ll_est[i]=np.log(cdfest(r)+1.e-10)\n",
    "        fll_est[i]=np.log(fcdfest(r)+1.e-10)\n",
    "    else:\n",
    "        ll_est[i]=np.log(cdfest(r)-cdfest(l)+1.e-10)\n",
    "        fll_est[i]=np.log(fcdfest(r)-fcdfest(l)+1.e-10)\n",
    "\n",
    "    \n",
    "    #estimate the calibration\n",
    "    gl=invcdfest(0.5-per/2)\n",
    "    gr=invcdfest(0.5+per/2)\n",
    "    cal_est=cal_est+1.*(test_y[i]<gr)*(test_y[i]>gl)\n",
    "\n",
    "    fl=finvcdfest(0.5-per/2)\n",
    "    fr=finvcdfest(0.5+per/2)\n",
    "    fcal_est=fcal_est+1.*(test_y[i]<fr)*(test_y[i]>fl)\n",
    "\n",
    "    widthg.append(gr-gl)\n",
    "    widthf.append(fr-fl)\n",
    "\n",
    "\n",
    "cal_est=cal_est/ntest\n",
    "fcal_est=fcal_est/ntest"
   ]
  },
  {
   "cell_type": "code",
   "execution_count": null,
   "metadata": {
    "colab": {
     "base_uri": "https://localhost:8080/",
     "height": 85
    },
    "colab_type": "code",
    "executionInfo": {
     "elapsed": 596,
     "status": "ok",
     "timestamp": 1599581079478,
     "user": {
      "displayName": "z thui",
      "photoUrl": "",
      "userId": "08749963318503558861"
     },
     "user_tz": 240
    },
    "id": "L45Yo3e5iEqX",
    "outputId": "d2d9f4f1-e382-4ca0-e7da-34e2ec567896"
   },
   "outputs": [],
   "source": [
    "cal_est,fcal_est"
   ]
  },
  {
   "cell_type": "code",
   "execution_count": null,
   "metadata": {
    "colab": {
     "base_uri": "https://localhost:8080/",
     "height": 34
    },
    "colab_type": "code",
    "executionInfo": {
     "elapsed": 424,
     "status": "ok",
     "timestamp": 1599580135787,
     "user": {
      "displayName": "z thui",
      "photoUrl": "",
      "userId": "08749963318503558861"
     },
     "user_tz": 240
    },
    "id": "ymgJotzhtGSe",
    "outputId": "dd3f088d-e803-4c2b-e043-6bd2726da063"
   },
   "outputs": [],
   "source": [
    "np.abs(cal_est-per).mean(),np.abs(fcal_est-per).mean()"
   ]
  },
  {
   "cell_type": "code",
   "execution_count": null,
   "metadata": {
    "colab": {
     "base_uri": "https://localhost:8080/",
     "height": 337
    },
    "colab_type": "code",
    "executionInfo": {
     "elapsed": 561,
     "status": "ok",
     "timestamp": 1599580301951,
     "user": {
      "displayName": "z thui",
      "photoUrl": "",
      "userId": "08749963318503558861"
     },
     "user_tz": 240
    },
    "id": "d8QA1CkGlgdN",
    "outputId": "4398d35a-f2a0-413f-b552-917e902fb769"
   },
   "outputs": [],
   "source": [
    "## calibration plot\n",
    "plt.figure(figsize=(5,5))\n",
    "plt.plot(per,cal_est,'-*')\n",
    "plt.plot(per,fcal_est,'-o')\n",
    "\n",
    "plt.plot([0,1],[0,1])"
   ]
  },
  {
   "cell_type": "code",
   "execution_count": null,
   "metadata": {
    "colab": {
     "base_uri": "https://localhost:8080/",
     "height": 34
    },
    "colab_type": "code",
    "executionInfo": {
     "elapsed": 618,
     "status": "ok",
     "timestamp": 1599580331035,
     "user": {
      "displayName": "z thui",
      "photoUrl": "",
      "userId": "08749963318503558861"
     },
     "user_tz": 240
    },
    "id": "k2NGHnaytGIq",
    "outputId": "3f9f1e54-60d2-4f88-b017-eff6c5c595b4"
   },
   "outputs": [],
   "source": [
    "## negative ll\n",
    "ll_est.mean(),fll_est.mean()"
   ]
  },
  {
   "cell_type": "code",
   "execution_count": null,
   "metadata": {
    "colab": {
     "base_uri": "https://localhost:8080/",
     "height": 34
    },
    "colab_type": "code",
    "executionInfo": {
     "elapsed": 500,
     "status": "ok",
     "timestamp": 1599580348561,
     "user": {
      "displayName": "z thui",
      "photoUrl": "",
      "userId": "08749963318503558861"
     },
     "user_tz": 240
    },
    "id": "k-vKcNcp1e4B",
    "outputId": "55b6fd83-caac-434e-9e8b-b95562c47ed3"
   },
   "outputs": [],
   "source": [
    "## mae\n",
    "np.abs(test_y.ravel()-med_est).mean(),np.abs(test_y.ravel()-fmed_est).mean()"
   ]
  },
  {
   "cell_type": "code",
   "execution_count": null,
   "metadata": {
    "colab": {},
    "colab_type": "code",
    "executionInfo": {
     "elapsed": 519,
     "status": "ok",
     "timestamp": 1599580353573,
     "user": {
      "displayName": "z thui",
      "photoUrl": "",
      "userId": "08749963318503558861"
     },
     "user_tz": 240
    },
    "id": "Jd5OSEXjlt_s"
   },
   "outputs": [],
   "source": [
    "# interval width\n",
    "widthg=np.array(widthg)\n",
    "widthf=np.array(widthf)\n",
    "\n",
    "wg_med=np.median(widthg,0)\n",
    "wf_med=np.median(widthf,0)"
   ]
  },
  {
   "cell_type": "code",
   "execution_count": null,
   "metadata": {
    "colab": {
     "base_uri": "https://localhost:8080/",
     "height": 85
    },
    "colab_type": "code",
    "executionInfo": {
     "elapsed": 498,
     "status": "ok",
     "timestamp": 1599580354719,
     "user": {
      "displayName": "z thui",
      "photoUrl": "",
      "userId": "08749963318503558861"
     },
     "user_tz": 240
    },
    "id": "5U-rruVvmGrw",
    "outputId": "94059154-746e-4a9b-f5d5-2649641eab34"
   },
   "outputs": [],
   "source": [
    "wg_med,wf_med"
   ]
  },
  {
   "cell_type": "code",
   "execution_count": null,
   "metadata": {
    "colab": {
     "base_uri": "https://localhost:8080/",
     "height": 337
    },
    "colab_type": "code",
    "executionInfo": {
     "elapsed": 598,
     "status": "ok",
     "timestamp": 1599581068408,
     "user": {
      "displayName": "z thui",
      "photoUrl": "",
      "userId": "08749963318503558861"
     },
     "user_tz": 240
    },
    "id": "siAEEtjUmWvq",
    "outputId": "64f280d1-6801-42d0-9f76-3cb047d64639"
   },
   "outputs": [],
   "source": [
    "### sharpness plot\n",
    "plt.figure(figsize=(5,5))\n",
    "plt.plot(cal_est,wg_med,'-*')\n",
    "plt.plot(fcal_est,wf_med,'-o')\n",
    "\n"
   ]
  },
  {
   "cell_type": "markdown",
   "metadata": {
    "colab_type": "text",
    "id": "ymY4TsbtpH9r"
   },
   "source": [
    "#### 90% interval width and coverage"
   ]
  },
  {
   "cell_type": "code",
   "execution_count": null,
   "metadata": {
    "colab": {
     "base_uri": "https://localhost:8080/",
     "height": 83,
     "referenced_widgets": [
      "c8f277eb376740f89e35102b5e73ca4d",
      "10169fd155d44ce6868fdef446ea0fc7",
      "4bd906152f7145188f907b336ff94e23",
      "de425991f05d45cb9be394ba5e146317",
      "c4448250be304bf3a9142b9d40e50e8c",
      "afadca6173404f7fac4194cbec4d4ec4",
      "0169764876974dee96526b11d1858a86",
      "ef77831d06594e12aed0db02b5036e95"
     ]
    },
    "colab_type": "code",
    "executionInfo": {
     "elapsed": 2546,
     "status": "ok",
     "timestamp": 1599581164078,
     "user": {
      "displayName": "z thui",
      "photoUrl": "",
      "userId": "08749963318503558861"
     },
     "user_tz": 240
    },
    "id": "1GV0EEIktF5P",
    "outputId": "b8fd5563-1b8b-4d6c-8036-be7e403f8155"
   },
   "outputs": [],
   "source": [
    "width_est=np.empty(ntest)\n",
    "cover_90=0\n",
    "\n",
    "fwidth_est=np.empty(ntest)\n",
    "fcover_90=0\n",
    "\n",
    "#use interpolation to recover cdf\n",
    "xtmp=np.linspace(-4,7,5000)\n",
    "ptmp=np.linspace(0,1,5000)\n",
    "\n",
    "for i in notebook.trange(ntest):\n",
    "    #cdf estimate\n",
    "    cdf=sess.run(gq ,feed_dict={x_:np.tile(test_x[i,:],(5000,1)),\n",
    "                                yq_:xtmp[:,None]\n",
    "                                }).ravel()\n",
    "    \n",
    "     \n",
    "\n",
    "    invcdfest=interp1d(cdf,xtmp)\n",
    "    r=invcdfest(0.95)\n",
    "    l=invcdfest(0.05)\n",
    "    cover_90+=(test_y[i]<r)*(test_y[i]>l)\n",
    "    width_est[i]=invcdfest(0.95)-invcdfest(0.05)\n",
    "\n",
    "    ##cdf estimate by f\n",
    "    ficdf= sess.run(yq_ ,feed_dict={x_:np.tile(test_x[i,:],(5000,1)),\n",
    "                                q_:ptmp[:,None]\n",
    "                                }).ravel()  \n",
    "    finvcdfest=interp1d(ptmp,ficdf)\n",
    "    fr=finvcdfest(0.95)\n",
    "    fl=finvcdfest(0.05)\n",
    "    fcover_90+=(test_y[i]<fr)*(test_y[i]>fl)\n",
    "    fwidth_est[i]=finvcdfest(0.95)-finvcdfest(0.05)    \n",
    "\n",
    "\n",
    "\n",
    "print(cover_90/ntest,fcover_90/ntest)"
   ]
  },
  {
   "cell_type": "code",
   "execution_count": null,
   "metadata": {
    "colab": {},
    "colab_type": "code",
    "id": "maZsjKgNwDS4"
   },
   "outputs": [],
   "source": []
  },
  {
   "cell_type": "code",
   "execution_count": null,
   "metadata": {
    "colab": {},
    "colab_type": "code",
    "id": "dlD23iTNmFHp"
   },
   "outputs": [],
   "source": []
  }
 ],
 "metadata": {
  "accelerator": "GPU",
  "colab": {
   "collapsed_sections": [],
   "machine_shape": "hm",
   "name": "CN.ipynb",
   "provenance": []
  },
  "kernelspec": {
   "display_name": "Python 3",
   "language": "python",
   "name": "python3"
  },
  "language_info": {
   "codemirror_mode": {
    "name": "ipython",
    "version": 3
   },
   "file_extension": ".py",
   "mimetype": "text/x-python",
   "name": "python",
   "nbconvert_exporter": "python",
   "pygments_lexer": "ipython3",
   "version": "3.7.5"
  },
  "widgets": {
   "application/vnd.jupyter.widget-state+json": {
    "0050c1f6f3c344f0ba520af74d279cbd": {
     "model_module": "@jupyter-widgets/base",
     "model_name": "LayoutModel",
     "state": {
      "_model_module": "@jupyter-widgets/base",
      "_model_module_version": "1.2.0",
      "_model_name": "LayoutModel",
      "_view_count": null,
      "_view_module": "@jupyter-widgets/base",
      "_view_module_version": "1.2.0",
      "_view_name": "LayoutView",
      "align_content": null,
      "align_items": null,
      "align_self": null,
      "border": null,
      "bottom": null,
      "display": null,
      "flex": null,
      "flex_flow": null,
      "grid_area": null,
      "grid_auto_columns": null,
      "grid_auto_flow": null,
      "grid_auto_rows": null,
      "grid_column": null,
      "grid_gap": null,
      "grid_row": null,
      "grid_template_areas": null,
      "grid_template_columns": null,
      "grid_template_rows": null,
      "height": null,
      "justify_content": null,
      "justify_items": null,
      "left": null,
      "margin": null,
      "max_height": null,
      "max_width": null,
      "min_height": null,
      "min_width": null,
      "object_fit": null,
      "object_position": null,
      "order": null,
      "overflow": null,
      "overflow_x": null,
      "overflow_y": null,
      "padding": null,
      "right": null,
      "top": null,
      "visibility": null,
      "width": null
     }
    },
    "0169764876974dee96526b11d1858a86": {
     "model_module": "@jupyter-widgets/controls",
     "model_name": "DescriptionStyleModel",
     "state": {
      "_model_module": "@jupyter-widgets/controls",
      "_model_module_version": "1.5.0",
      "_model_name": "DescriptionStyleModel",
      "_view_count": null,
      "_view_module": "@jupyter-widgets/base",
      "_view_module_version": "1.2.0",
      "_view_name": "StyleView",
      "description_width": ""
     }
    },
    "10169fd155d44ce6868fdef446ea0fc7": {
     "model_module": "@jupyter-widgets/base",
     "model_name": "LayoutModel",
     "state": {
      "_model_module": "@jupyter-widgets/base",
      "_model_module_version": "1.2.0",
      "_model_name": "LayoutModel",
      "_view_count": null,
      "_view_module": "@jupyter-widgets/base",
      "_view_module_version": "1.2.0",
      "_view_name": "LayoutView",
      "align_content": null,
      "align_items": null,
      "align_self": null,
      "border": null,
      "bottom": null,
      "display": null,
      "flex": null,
      "flex_flow": null,
      "grid_area": null,
      "grid_auto_columns": null,
      "grid_auto_flow": null,
      "grid_auto_rows": null,
      "grid_column": null,
      "grid_gap": null,
      "grid_row": null,
      "grid_template_areas": null,
      "grid_template_columns": null,
      "grid_template_rows": null,
      "height": null,
      "justify_content": null,
      "justify_items": null,
      "left": null,
      "margin": null,
      "max_height": null,
      "max_width": null,
      "min_height": null,
      "min_width": null,
      "object_fit": null,
      "object_position": null,
      "order": null,
      "overflow": null,
      "overflow_x": null,
      "overflow_y": null,
      "padding": null,
      "right": null,
      "top": null,
      "visibility": null,
      "width": null
     }
    },
    "11ac374f1ca442868f3787521d524706": {
     "model_module": "@jupyter-widgets/controls",
     "model_name": "FloatProgressModel",
     "state": {
      "_dom_classes": [],
      "_model_module": "@jupyter-widgets/controls",
      "_model_module_version": "1.5.0",
      "_model_name": "FloatProgressModel",
      "_view_count": null,
      "_view_module": "@jupyter-widgets/controls",
      "_view_module_version": "1.5.0",
      "_view_name": "ProgressView",
      "bar_style": "success",
      "description": "100%",
      "description_tooltip": null,
      "layout": "IPY_MODEL_2b31186094294fd3a37eaac5e94232f0",
      "max": 60550,
      "min": 0,
      "orientation": "horizontal",
      "style": "IPY_MODEL_d0eed317c3284520ae631ec70cbbcd82",
      "value": 60550
     }
    },
    "1ee680d758424e128e50af1e770ebe0b": {
     "model_module": "@jupyter-widgets/controls",
     "model_name": "FloatProgressModel",
     "state": {
      "_dom_classes": [],
      "_model_module": "@jupyter-widgets/controls",
      "_model_module_version": "1.5.0",
      "_model_name": "FloatProgressModel",
      "_view_count": null,
      "_view_module": "@jupyter-widgets/controls",
      "_view_module_version": "1.5.0",
      "_view_name": "ProgressView",
      "bar_style": "success",
      "description": "100%",
      "description_tooltip": null,
      "layout": "IPY_MODEL_865467b6374447f59bc58f48d66e229f",
      "max": 43250,
      "min": 0,
      "orientation": "horizontal",
      "style": "IPY_MODEL_9b2ec4e103d04b028267562832c97b46",
      "value": 43250
     }
    },
    "2b31186094294fd3a37eaac5e94232f0": {
     "model_module": "@jupyter-widgets/base",
     "model_name": "LayoutModel",
     "state": {
      "_model_module": "@jupyter-widgets/base",
      "_model_module_version": "1.2.0",
      "_model_name": "LayoutModel",
      "_view_count": null,
      "_view_module": "@jupyter-widgets/base",
      "_view_module_version": "1.2.0",
      "_view_name": "LayoutView",
      "align_content": null,
      "align_items": null,
      "align_self": null,
      "border": null,
      "bottom": null,
      "display": null,
      "flex": null,
      "flex_flow": null,
      "grid_area": null,
      "grid_auto_columns": null,
      "grid_auto_flow": null,
      "grid_auto_rows": null,
      "grid_column": null,
      "grid_gap": null,
      "grid_row": null,
      "grid_template_areas": null,
      "grid_template_columns": null,
      "grid_template_rows": null,
      "height": null,
      "justify_content": null,
      "justify_items": null,
      "left": null,
      "margin": null,
      "max_height": null,
      "max_width": null,
      "min_height": null,
      "min_width": null,
      "object_fit": null,
      "object_position": null,
      "order": null,
      "overflow": null,
      "overflow_x": null,
      "overflow_y": null,
      "padding": null,
      "right": null,
      "top": null,
      "visibility": null,
      "width": null
     }
    },
    "3838e58efa32477193a66d3c782aa09e": {
     "model_module": "@jupyter-widgets/controls",
     "model_name": "HBoxModel",
     "state": {
      "_dom_classes": [],
      "_model_module": "@jupyter-widgets/controls",
      "_model_module_version": "1.5.0",
      "_model_name": "HBoxModel",
      "_view_count": null,
      "_view_module": "@jupyter-widgets/controls",
      "_view_module_version": "1.5.0",
      "_view_name": "HBoxView",
      "box_style": "",
      "children": [
       "IPY_MODEL_11ac374f1ca442868f3787521d524706",
       "IPY_MODEL_beb035f12b42446694471e6fb18889e7"
      ],
      "layout": "IPY_MODEL_0050c1f6f3c344f0ba520af74d279cbd"
     }
    },
    "4bd906152f7145188f907b336ff94e23": {
     "model_module": "@jupyter-widgets/controls",
     "model_name": "FloatProgressModel",
     "state": {
      "_dom_classes": [],
      "_model_module": "@jupyter-widgets/controls",
      "_model_module_version": "1.5.0",
      "_model_name": "FloatProgressModel",
      "_view_count": null,
      "_view_module": "@jupyter-widgets/controls",
      "_view_module_version": "1.5.0",
      "_view_name": "ProgressView",
      "bar_style": "success",
      "description": "100%",
      "description_tooltip": null,
      "layout": "IPY_MODEL_afadca6173404f7fac4194cbec4d4ec4",
      "max": 576,
      "min": 0,
      "orientation": "horizontal",
      "style": "IPY_MODEL_c4448250be304bf3a9142b9d40e50e8c",
      "value": 576
     }
    },
    "56d25603d11f4cf6a5f8d94f1af288ec": {
     "model_module": "@jupyter-widgets/controls",
     "model_name": "HBoxModel",
     "state": {
      "_dom_classes": [],
      "_model_module": "@jupyter-widgets/controls",
      "_model_module_version": "1.5.0",
      "_model_name": "HBoxModel",
      "_view_count": null,
      "_view_module": "@jupyter-widgets/controls",
      "_view_module_version": "1.5.0",
      "_view_name": "HBoxView",
      "box_style": "",
      "children": [
       "IPY_MODEL_1ee680d758424e128e50af1e770ebe0b",
       "IPY_MODEL_bc596bd0c21b42b59f9b41d06bb474f3"
      ],
      "layout": "IPY_MODEL_cabe301a53334a56951f34aedf3f0f62"
     }
    },
    "67801b21626b4907a83ef0f97c7fe36b": {
     "model_module": "@jupyter-widgets/controls",
     "model_name": "DescriptionStyleModel",
     "state": {
      "_model_module": "@jupyter-widgets/controls",
      "_model_module_version": "1.5.0",
      "_model_name": "DescriptionStyleModel",
      "_view_count": null,
      "_view_module": "@jupyter-widgets/base",
      "_view_module_version": "1.2.0",
      "_view_name": "StyleView",
      "description_width": ""
     }
    },
    "84a300c050ed4113a9c48945a0229c4d": {
     "model_module": "@jupyter-widgets/base",
     "model_name": "LayoutModel",
     "state": {
      "_model_module": "@jupyter-widgets/base",
      "_model_module_version": "1.2.0",
      "_model_name": "LayoutModel",
      "_view_count": null,
      "_view_module": "@jupyter-widgets/base",
      "_view_module_version": "1.2.0",
      "_view_name": "LayoutView",
      "align_content": null,
      "align_items": null,
      "align_self": null,
      "border": null,
      "bottom": null,
      "display": null,
      "flex": null,
      "flex_flow": null,
      "grid_area": null,
      "grid_auto_columns": null,
      "grid_auto_flow": null,
      "grid_auto_rows": null,
      "grid_column": null,
      "grid_gap": null,
      "grid_row": null,
      "grid_template_areas": null,
      "grid_template_columns": null,
      "grid_template_rows": null,
      "height": null,
      "justify_content": null,
      "justify_items": null,
      "left": null,
      "margin": null,
      "max_height": null,
      "max_width": null,
      "min_height": null,
      "min_width": null,
      "object_fit": null,
      "object_position": null,
      "order": null,
      "overflow": null,
      "overflow_x": null,
      "overflow_y": null,
      "padding": null,
      "right": null,
      "top": null,
      "visibility": null,
      "width": null
     }
    },
    "8641fb8777724c2bbd24fd71dda528d9": {
     "model_module": "@jupyter-widgets/controls",
     "model_name": "DescriptionStyleModel",
     "state": {
      "_model_module": "@jupyter-widgets/controls",
      "_model_module_version": "1.5.0",
      "_model_name": "DescriptionStyleModel",
      "_view_count": null,
      "_view_module": "@jupyter-widgets/base",
      "_view_module_version": "1.2.0",
      "_view_name": "StyleView",
      "description_width": ""
     }
    },
    "865467b6374447f59bc58f48d66e229f": {
     "model_module": "@jupyter-widgets/base",
     "model_name": "LayoutModel",
     "state": {
      "_model_module": "@jupyter-widgets/base",
      "_model_module_version": "1.2.0",
      "_model_name": "LayoutModel",
      "_view_count": null,
      "_view_module": "@jupyter-widgets/base",
      "_view_module_version": "1.2.0",
      "_view_name": "LayoutView",
      "align_content": null,
      "align_items": null,
      "align_self": null,
      "border": null,
      "bottom": null,
      "display": null,
      "flex": null,
      "flex_flow": null,
      "grid_area": null,
      "grid_auto_columns": null,
      "grid_auto_flow": null,
      "grid_auto_rows": null,
      "grid_column": null,
      "grid_gap": null,
      "grid_row": null,
      "grid_template_areas": null,
      "grid_template_columns": null,
      "grid_template_rows": null,
      "height": null,
      "justify_content": null,
      "justify_items": null,
      "left": null,
      "margin": null,
      "max_height": null,
      "max_width": null,
      "min_height": null,
      "min_width": null,
      "object_fit": null,
      "object_position": null,
      "order": null,
      "overflow": null,
      "overflow_x": null,
      "overflow_y": null,
      "padding": null,
      "right": null,
      "top": null,
      "visibility": null,
      "width": null
     }
    },
    "8dad495549204878975fa8ed362c436d": {
     "model_module": "@jupyter-widgets/controls",
     "model_name": "DescriptionStyleModel",
     "state": {
      "_model_module": "@jupyter-widgets/controls",
      "_model_module_version": "1.5.0",
      "_model_name": "DescriptionStyleModel",
      "_view_count": null,
      "_view_module": "@jupyter-widgets/base",
      "_view_module_version": "1.2.0",
      "_view_name": "StyleView",
      "description_width": ""
     }
    },
    "9b2ec4e103d04b028267562832c97b46": {
     "model_module": "@jupyter-widgets/controls",
     "model_name": "ProgressStyleModel",
     "state": {
      "_model_module": "@jupyter-widgets/controls",
      "_model_module_version": "1.5.0",
      "_model_name": "ProgressStyleModel",
      "_view_count": null,
      "_view_module": "@jupyter-widgets/base",
      "_view_module_version": "1.2.0",
      "_view_name": "StyleView",
      "bar_color": null,
      "description_width": "initial"
     }
    },
    "ae31dd4fc7914033b9d859d48e91f330": {
     "model_module": "@jupyter-widgets/controls",
     "model_name": "HBoxModel",
     "state": {
      "_dom_classes": [],
      "_model_module": "@jupyter-widgets/controls",
      "_model_module_version": "1.5.0",
      "_model_name": "HBoxModel",
      "_view_count": null,
      "_view_module": "@jupyter-widgets/controls",
      "_view_module_version": "1.5.0",
      "_view_name": "HBoxView",
      "box_style": "",
      "children": [
       "IPY_MODEL_fae106e89d824b9db2f3d5315b0743ce",
       "IPY_MODEL_ff958e6bb55143bf9b6c2b470f5dbc93"
      ],
      "layout": "IPY_MODEL_84a300c050ed4113a9c48945a0229c4d"
     }
    },
    "aeeb04909d4b4eadbb5d127b8a5ef0da": {
     "model_module": "@jupyter-widgets/controls",
     "model_name": "ProgressStyleModel",
     "state": {
      "_model_module": "@jupyter-widgets/controls",
      "_model_module_version": "1.5.0",
      "_model_name": "ProgressStyleModel",
      "_view_count": null,
      "_view_module": "@jupyter-widgets/base",
      "_view_module_version": "1.2.0",
      "_view_name": "StyleView",
      "bar_color": null,
      "description_width": "initial"
     }
    },
    "afadca6173404f7fac4194cbec4d4ec4": {
     "model_module": "@jupyter-widgets/base",
     "model_name": "LayoutModel",
     "state": {
      "_model_module": "@jupyter-widgets/base",
      "_model_module_version": "1.2.0",
      "_model_name": "LayoutModel",
      "_view_count": null,
      "_view_module": "@jupyter-widgets/base",
      "_view_module_version": "1.2.0",
      "_view_name": "LayoutView",
      "align_content": null,
      "align_items": null,
      "align_self": null,
      "border": null,
      "bottom": null,
      "display": null,
      "flex": null,
      "flex_flow": null,
      "grid_area": null,
      "grid_auto_columns": null,
      "grid_auto_flow": null,
      "grid_auto_rows": null,
      "grid_column": null,
      "grid_gap": null,
      "grid_row": null,
      "grid_template_areas": null,
      "grid_template_columns": null,
      "grid_template_rows": null,
      "height": null,
      "justify_content": null,
      "justify_items": null,
      "left": null,
      "margin": null,
      "max_height": null,
      "max_width": null,
      "min_height": null,
      "min_width": null,
      "object_fit": null,
      "object_position": null,
      "order": null,
      "overflow": null,
      "overflow_x": null,
      "overflow_y": null,
      "padding": null,
      "right": null,
      "top": null,
      "visibility": null,
      "width": null
     }
    },
    "b10f4995eae2433d94057177ffac1976": {
     "model_module": "@jupyter-widgets/base",
     "model_name": "LayoutModel",
     "state": {
      "_model_module": "@jupyter-widgets/base",
      "_model_module_version": "1.2.0",
      "_model_name": "LayoutModel",
      "_view_count": null,
      "_view_module": "@jupyter-widgets/base",
      "_view_module_version": "1.2.0",
      "_view_name": "LayoutView",
      "align_content": null,
      "align_items": null,
      "align_self": null,
      "border": null,
      "bottom": null,
      "display": null,
      "flex": null,
      "flex_flow": null,
      "grid_area": null,
      "grid_auto_columns": null,
      "grid_auto_flow": null,
      "grid_auto_rows": null,
      "grid_column": null,
      "grid_gap": null,
      "grid_row": null,
      "grid_template_areas": null,
      "grid_template_columns": null,
      "grid_template_rows": null,
      "height": null,
      "justify_content": null,
      "justify_items": null,
      "left": null,
      "margin": null,
      "max_height": null,
      "max_width": null,
      "min_height": null,
      "min_width": null,
      "object_fit": null,
      "object_position": null,
      "order": null,
      "overflow": null,
      "overflow_x": null,
      "overflow_y": null,
      "padding": null,
      "right": null,
      "top": null,
      "visibility": null,
      "width": null
     }
    },
    "bc596bd0c21b42b59f9b41d06bb474f3": {
     "model_module": "@jupyter-widgets/controls",
     "model_name": "HTMLModel",
     "state": {
      "_dom_classes": [],
      "_model_module": "@jupyter-widgets/controls",
      "_model_module_version": "1.5.0",
      "_model_name": "HTMLModel",
      "_view_count": null,
      "_view_module": "@jupyter-widgets/controls",
      "_view_module_version": "1.5.0",
      "_view_name": "HTMLView",
      "description": "",
      "description_tooltip": null,
      "layout": "IPY_MODEL_e40cb926aa0f46d6b3a113b7616f129b",
      "placeholder": "​",
      "style": "IPY_MODEL_8641fb8777724c2bbd24fd71dda528d9",
      "value": " 43250/43250 [05:52&lt;00:00, 122.72it/s]"
     }
    },
    "beb035f12b42446694471e6fb18889e7": {
     "model_module": "@jupyter-widgets/controls",
     "model_name": "HTMLModel",
     "state": {
      "_dom_classes": [],
      "_model_module": "@jupyter-widgets/controls",
      "_model_module_version": "1.5.0",
      "_model_name": "HTMLModel",
      "_view_count": null,
      "_view_module": "@jupyter-widgets/controls",
      "_view_module_version": "1.5.0",
      "_view_name": "HTMLView",
      "description": "",
      "description_tooltip": null,
      "layout": "IPY_MODEL_d76f78e652bb428aadb3c0b5dfea946c",
      "placeholder": "​",
      "style": "IPY_MODEL_67801b21626b4907a83ef0f97c7fe36b",
      "value": " 60550/60550 [08:14&lt;00:00, 122.47it/s]"
     }
    },
    "c4448250be304bf3a9142b9d40e50e8c": {
     "model_module": "@jupyter-widgets/controls",
     "model_name": "ProgressStyleModel",
     "state": {
      "_model_module": "@jupyter-widgets/controls",
      "_model_module_version": "1.5.0",
      "_model_name": "ProgressStyleModel",
      "_view_count": null,
      "_view_module": "@jupyter-widgets/base",
      "_view_module_version": "1.2.0",
      "_view_name": "StyleView",
      "bar_color": null,
      "description_width": "initial"
     }
    },
    "c6872c25f9c145039d5d428ab9ae1b07": {
     "model_module": "@jupyter-widgets/base",
     "model_name": "LayoutModel",
     "state": {
      "_model_module": "@jupyter-widgets/base",
      "_model_module_version": "1.2.0",
      "_model_name": "LayoutModel",
      "_view_count": null,
      "_view_module": "@jupyter-widgets/base",
      "_view_module_version": "1.2.0",
      "_view_name": "LayoutView",
      "align_content": null,
      "align_items": null,
      "align_self": null,
      "border": null,
      "bottom": null,
      "display": null,
      "flex": null,
      "flex_flow": null,
      "grid_area": null,
      "grid_auto_columns": null,
      "grid_auto_flow": null,
      "grid_auto_rows": null,
      "grid_column": null,
      "grid_gap": null,
      "grid_row": null,
      "grid_template_areas": null,
      "grid_template_columns": null,
      "grid_template_rows": null,
      "height": null,
      "justify_content": null,
      "justify_items": null,
      "left": null,
      "margin": null,
      "max_height": null,
      "max_width": null,
      "min_height": null,
      "min_width": null,
      "object_fit": null,
      "object_position": null,
      "order": null,
      "overflow": null,
      "overflow_x": null,
      "overflow_y": null,
      "padding": null,
      "right": null,
      "top": null,
      "visibility": null,
      "width": null
     }
    },
    "c8f277eb376740f89e35102b5e73ca4d": {
     "model_module": "@jupyter-widgets/controls",
     "model_name": "HBoxModel",
     "state": {
      "_dom_classes": [],
      "_model_module": "@jupyter-widgets/controls",
      "_model_module_version": "1.5.0",
      "_model_name": "HBoxModel",
      "_view_count": null,
      "_view_module": "@jupyter-widgets/controls",
      "_view_module_version": "1.5.0",
      "_view_name": "HBoxView",
      "box_style": "",
      "children": [
       "IPY_MODEL_4bd906152f7145188f907b336ff94e23",
       "IPY_MODEL_de425991f05d45cb9be394ba5e146317"
      ],
      "layout": "IPY_MODEL_10169fd155d44ce6868fdef446ea0fc7"
     }
    },
    "cabe301a53334a56951f34aedf3f0f62": {
     "model_module": "@jupyter-widgets/base",
     "model_name": "LayoutModel",
     "state": {
      "_model_module": "@jupyter-widgets/base",
      "_model_module_version": "1.2.0",
      "_model_name": "LayoutModel",
      "_view_count": null,
      "_view_module": "@jupyter-widgets/base",
      "_view_module_version": "1.2.0",
      "_view_name": "LayoutView",
      "align_content": null,
      "align_items": null,
      "align_self": null,
      "border": null,
      "bottom": null,
      "display": null,
      "flex": null,
      "flex_flow": null,
      "grid_area": null,
      "grid_auto_columns": null,
      "grid_auto_flow": null,
      "grid_auto_rows": null,
      "grid_column": null,
      "grid_gap": null,
      "grid_row": null,
      "grid_template_areas": null,
      "grid_template_columns": null,
      "grid_template_rows": null,
      "height": null,
      "justify_content": null,
      "justify_items": null,
      "left": null,
      "margin": null,
      "max_height": null,
      "max_width": null,
      "min_height": null,
      "min_width": null,
      "object_fit": null,
      "object_position": null,
      "order": null,
      "overflow": null,
      "overflow_x": null,
      "overflow_y": null,
      "padding": null,
      "right": null,
      "top": null,
      "visibility": null,
      "width": null
     }
    },
    "d0eed317c3284520ae631ec70cbbcd82": {
     "model_module": "@jupyter-widgets/controls",
     "model_name": "ProgressStyleModel",
     "state": {
      "_model_module": "@jupyter-widgets/controls",
      "_model_module_version": "1.5.0",
      "_model_name": "ProgressStyleModel",
      "_view_count": null,
      "_view_module": "@jupyter-widgets/base",
      "_view_module_version": "1.2.0",
      "_view_name": "StyleView",
      "bar_color": null,
      "description_width": "initial"
     }
    },
    "d76f78e652bb428aadb3c0b5dfea946c": {
     "model_module": "@jupyter-widgets/base",
     "model_name": "LayoutModel",
     "state": {
      "_model_module": "@jupyter-widgets/base",
      "_model_module_version": "1.2.0",
      "_model_name": "LayoutModel",
      "_view_count": null,
      "_view_module": "@jupyter-widgets/base",
      "_view_module_version": "1.2.0",
      "_view_name": "LayoutView",
      "align_content": null,
      "align_items": null,
      "align_self": null,
      "border": null,
      "bottom": null,
      "display": null,
      "flex": null,
      "flex_flow": null,
      "grid_area": null,
      "grid_auto_columns": null,
      "grid_auto_flow": null,
      "grid_auto_rows": null,
      "grid_column": null,
      "grid_gap": null,
      "grid_row": null,
      "grid_template_areas": null,
      "grid_template_columns": null,
      "grid_template_rows": null,
      "height": null,
      "justify_content": null,
      "justify_items": null,
      "left": null,
      "margin": null,
      "max_height": null,
      "max_width": null,
      "min_height": null,
      "min_width": null,
      "object_fit": null,
      "object_position": null,
      "order": null,
      "overflow": null,
      "overflow_x": null,
      "overflow_y": null,
      "padding": null,
      "right": null,
      "top": null,
      "visibility": null,
      "width": null
     }
    },
    "de425991f05d45cb9be394ba5e146317": {
     "model_module": "@jupyter-widgets/controls",
     "model_name": "HTMLModel",
     "state": {
      "_dom_classes": [],
      "_model_module": "@jupyter-widgets/controls",
      "_model_module_version": "1.5.0",
      "_model_name": "HTMLModel",
      "_view_count": null,
      "_view_module": "@jupyter-widgets/controls",
      "_view_module_version": "1.5.0",
      "_view_name": "HTMLView",
      "description": "",
      "description_tooltip": null,
      "layout": "IPY_MODEL_ef77831d06594e12aed0db02b5036e95",
      "placeholder": "​",
      "style": "IPY_MODEL_0169764876974dee96526b11d1858a86",
      "value": " 576/576 [00:02&lt;00:00, 277.16it/s]"
     }
    },
    "e40cb926aa0f46d6b3a113b7616f129b": {
     "model_module": "@jupyter-widgets/base",
     "model_name": "LayoutModel",
     "state": {
      "_model_module": "@jupyter-widgets/base",
      "_model_module_version": "1.2.0",
      "_model_name": "LayoutModel",
      "_view_count": null,
      "_view_module": "@jupyter-widgets/base",
      "_view_module_version": "1.2.0",
      "_view_name": "LayoutView",
      "align_content": null,
      "align_items": null,
      "align_self": null,
      "border": null,
      "bottom": null,
      "display": null,
      "flex": null,
      "flex_flow": null,
      "grid_area": null,
      "grid_auto_columns": null,
      "grid_auto_flow": null,
      "grid_auto_rows": null,
      "grid_column": null,
      "grid_gap": null,
      "grid_row": null,
      "grid_template_areas": null,
      "grid_template_columns": null,
      "grid_template_rows": null,
      "height": null,
      "justify_content": null,
      "justify_items": null,
      "left": null,
      "margin": null,
      "max_height": null,
      "max_width": null,
      "min_height": null,
      "min_width": null,
      "object_fit": null,
      "object_position": null,
      "order": null,
      "overflow": null,
      "overflow_x": null,
      "overflow_y": null,
      "padding": null,
      "right": null,
      "top": null,
      "visibility": null,
      "width": null
     }
    },
    "ef77831d06594e12aed0db02b5036e95": {
     "model_module": "@jupyter-widgets/base",
     "model_name": "LayoutModel",
     "state": {
      "_model_module": "@jupyter-widgets/base",
      "_model_module_version": "1.2.0",
      "_model_name": "LayoutModel",
      "_view_count": null,
      "_view_module": "@jupyter-widgets/base",
      "_view_module_version": "1.2.0",
      "_view_name": "LayoutView",
      "align_content": null,
      "align_items": null,
      "align_self": null,
      "border": null,
      "bottom": null,
      "display": null,
      "flex": null,
      "flex_flow": null,
      "grid_area": null,
      "grid_auto_columns": null,
      "grid_auto_flow": null,
      "grid_auto_rows": null,
      "grid_column": null,
      "grid_gap": null,
      "grid_row": null,
      "grid_template_areas": null,
      "grid_template_columns": null,
      "grid_template_rows": null,
      "height": null,
      "justify_content": null,
      "justify_items": null,
      "left": null,
      "margin": null,
      "max_height": null,
      "max_width": null,
      "min_height": null,
      "min_width": null,
      "object_fit": null,
      "object_position": null,
      "order": null,
      "overflow": null,
      "overflow_x": null,
      "overflow_y": null,
      "padding": null,
      "right": null,
      "top": null,
      "visibility": null,
      "width": null
     }
    },
    "fae106e89d824b9db2f3d5315b0743ce": {
     "model_module": "@jupyter-widgets/controls",
     "model_name": "FloatProgressModel",
     "state": {
      "_dom_classes": [],
      "_model_module": "@jupyter-widgets/controls",
      "_model_module_version": "1.5.0",
      "_model_name": "FloatProgressModel",
      "_view_count": null,
      "_view_module": "@jupyter-widgets/controls",
      "_view_module_version": "1.5.0",
      "_view_name": "ProgressView",
      "bar_style": "success",
      "description": "100%",
      "description_tooltip": null,
      "layout": "IPY_MODEL_b10f4995eae2433d94057177ffac1976",
      "max": 576,
      "min": 0,
      "orientation": "horizontal",
      "style": "IPY_MODEL_aeeb04909d4b4eadbb5d127b8a5ef0da",
      "value": 576
     }
    },
    "ff958e6bb55143bf9b6c2b470f5dbc93": {
     "model_module": "@jupyter-widgets/controls",
     "model_name": "HTMLModel",
     "state": {
      "_dom_classes": [],
      "_model_module": "@jupyter-widgets/controls",
      "_model_module_version": "1.5.0",
      "_model_name": "HTMLModel",
      "_view_count": null,
      "_view_module": "@jupyter-widgets/controls",
      "_view_module_version": "1.5.0",
      "_view_name": "HTMLView",
      "description": "",
      "description_tooltip": null,
      "layout": "IPY_MODEL_c6872c25f9c145039d5d428ab9ae1b07",
      "placeholder": "​",
      "style": "IPY_MODEL_8dad495549204878975fa8ed362c436d",
      "value": " 576/576 [03:00&lt;00:00,  3.19it/s]"
     }
    }
   }
  }
 },
 "nbformat": 4,
 "nbformat_minor": 1
}
