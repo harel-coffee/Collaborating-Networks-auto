{
 "cells": [
  {
   "cell_type": "code",
   "execution_count": 1,
   "metadata": {
    "colab": {},
    "colab_type": "code",
    "id": "BqXhlGIuEjCq"
   },
   "outputs": [],
   "source": [
    "import sys \n",
    "import numpy as np # linear algebra\n",
    "from scipy.stats import randint\n",
    "import matplotlib.pyplot as plt # this is used for the plot the graph \n",
    "%matplotlib inline\n",
    "from tqdm import notebook\n",
    "import tensorflow as tf\n",
    "from scipy import stats\n",
    "from scipy.interpolate import interp1d\n",
    "import warnings\n",
    "warnings.filterwarnings(\"ignore\")"
   ]
  },
  {
   "cell_type": "markdown",
   "metadata": {
    "colab_type": "text",
    "id": "hzn5vbqnEjCu"
   },
   "source": [
    "### Read dt"
   ]
  },
  {
   "cell_type": "code",
   "execution_count": 2,
   "metadata": {
    "colab": {},
    "colab_type": "code",
    "id": "sF4ZKh39buxY"
   },
   "outputs": [
    {
     "data": {
      "text/plain": [
       "DescribeResult(nobs=1441, minmax=(array([-2.20522073]), array([5.33367964])), mean=array([-0.00326602]), variance=array([0.98530207]), skewness=array([0.56837019]), kurtosis=array([1.30282701]))"
      ]
     },
     "execution_count": 2,
     "metadata": {},
     "output_type": "execute_result"
    }
   ],
   "source": [
    "dt=np.load('energydt.npy')\n",
    "\n",
    "# the full design matrix\n",
    "x=dt[:,:-1]\n",
    "y=dt[:,-1].reshape(-1,1)\n",
    "ntrain=int(np.floor(len(x)*0.6))\n",
    "stats.describe(y)"
   ]
  },
  {
   "cell_type": "markdown",
   "metadata": {
    "colab_type": "text",
    "id": "TTfPIseeEjCx"
   },
   "source": [
    "### Collaborating Network(CN)"
   ]
  },
  {
   "cell_type": "code",
   "execution_count": 4,
   "metadata": {
    "colab": {},
    "colab_type": "code",
    "id": "ThzSYDwBEjCx"
   },
   "outputs": [],
   "source": [
    "def variables_from_scope(scope_name):\n",
    "    \"\"\"\n",
    "    Returns a list of all trainable variables in a given scope. This is useful when\n",
    "    you'd like to back-propagate only to weights in one part of the network\n",
    "    (in our case, the generator or the discriminator).\n",
    "    \"\"\"\n",
    "    return tf.compat.v1.get_collection(tf.compat.v1.GraphKeys.TRAINABLE_VARIABLES, scope=scope_name)"
   ]
  },
  {
   "cell_type": "code",
   "execution_count": 5,
   "metadata": {
    "colab": {},
    "colab_type": "code",
    "id": "SEKtW9lDEjC0"
   },
   "outputs": [],
   "source": [
    " # Graph parameters\n",
    "intermediate_layer_size = 100\n",
    "intermediate_layer_size2 = 80\n",
    "intermediate_layer_size3 = 60\n",
    "# Training parameters\n",
    "batch_size = 128\n",
    "pre_iter= 18000\n",
    "iters= 18000"
   ]
  },
  {
   "cell_type": "code",
   "execution_count": 6,
   "metadata": {
    "colab": {},
    "colab_type": "code",
    "id": "bQAkKuJaEjC2"
   },
   "outputs": [],
   "source": [
    "# f function learn the inverse of cdf\n",
    "def f(x,q):\n",
    "    \"\"\"x:input feature and treatment,\n",
    "    q:percentile,\n",
    "    \"\"\"\n",
    "    z0=tf.concat([x,q],axis=1)\n",
    "    hidden_layer = tf.compat.v1.layers.dense(z0, intermediate_layer_size, kernel_initializer=tf.keras.initializers.RandomNormal(stddev=.001),name=\"f1\", activation=tf.compat.v1.nn.elu,reuse=None)\n",
    "    hidden_layer_bn = tf.compat.v1.layers.batch_normalization(hidden_layer,name=\"f1bn\")\n",
    "    hidden_layer2 = tf.compat.v1.layers.dense(hidden_layer_bn, intermediate_layer_size2, kernel_initializer=tf.keras.initializers.RandomNormal(stddev=.001),name=\"f2\", activation=tf.keras.activations.elu,reuse=None)\n",
    "    hidden_layer2_bn = tf.compat.v1.layers.batch_normalization(hidden_layer2,name=\"f2bn\")\n",
    "    hidden_layer3 = tf.compat.v1.layers.dense(hidden_layer2_bn, intermediate_layer_size3, kernel_initializer=tf.keras.initializers.RandomNormal(stddev=.001),name=\"f3\", activation=tf.compat.v1.nn.elu,reuse=None)\n",
    "    hidden_layer3_bn = tf.compat.v1.layers.batch_normalization(hidden_layer2,name=\"f3bn\")\n",
    "    yq = tf.compat.v1.layers.dense(hidden_layer3_bn,1,kernel_initializer=tf.keras.initializers.RandomNormal(stddev=.001), name=\"f4\", activation=None,reuse=None)\n",
    "    return yq"
   ]
  },
  {
   "cell_type": "code",
   "execution_count": 7,
   "metadata": {
    "colab": {},
    "colab_type": "code",
    "id": "n9UxwvgfEjC4"
   },
   "outputs": [],
   "source": [
    "# g function learn the cdf\n",
    "def g(yq,x):\n",
    "    \"\"\"\n",
    "    yq:quantile:,\n",
    "    x:input feature and treatment,\n",
    "    \"\"\"\n",
    "    z1=tf.concat([yq,x],axis=1)\n",
    "    hidden_layer = tf.compat.v1.layers.dense(z1, intermediate_layer_size,kernel_initializer=tf.compat.v1.initializers.random_normal(stddev=.001), name=\"g1\", activation=tf.compat.v1.nn.elu,reuse=None)\n",
    "    hidden_layer_bn = tf.compat.v1.layers.batch_normalization(hidden_layer,name=\"g1bn\")\n",
    "    hidden_layer2 = tf.compat.v1.layers.dense(hidden_layer_bn, intermediate_layer_size2, kernel_initializer=tf.compat.v1.initializers.random_normal(stddev=.001),name=\"g2\", activation=tf.compat.v1.nn.elu,reuse=None)\n",
    "    hidden_layer2_bn = tf.compat.v1.layers.batch_normalization(hidden_layer2,name=\"g2bn\")\n",
    "    gq_logit = tf.compat.v1.layers.dense(hidden_layer2_bn, 1,kernel_initializer=tf.initializers.glorot_normal, name=\"g3\", activation=None,reuse=None)\n",
    "    gq_logit_bn=tf.keras.layers.BatchNormalization(axis=-1,momentum=.1,trainable=False)(gq_logit)*tf.math.sqrt(3.29)\n",
    "    return gq_logit_bn"
   ]
  },
  {
   "cell_type": "code",
   "execution_count": 8,
   "metadata": {
    "colab": {},
    "colab_type": "code",
    "id": "1tFnSTGNEjC6"
   },
   "outputs": [],
   "source": [
    "tf.compat.v1.disable_eager_execution()"
   ]
  },
  {
   "cell_type": "code",
   "execution_count": 9,
   "metadata": {
    "colab": {
     "base_uri": "https://localhost:8080/",
     "height": 190
    },
    "colab_type": "code",
    "executionInfo": {
     "elapsed": 1271,
     "status": "ok",
     "timestamp": 1599058627614,
     "user": {
      "displayName": "z thui",
      "photoUrl": "",
      "userId": "08749963318503558861"
     },
     "user_tz": 240
    },
    "id": "uP8WNixGEjC8",
    "outputId": "c517ca6e-bfac-4224-80b0-525bff75bd23"
   },
   "outputs": [
    {
     "name": "stdout",
     "output_type": "stream",
     "text": [
      "WARNING:tensorflow:From <ipython-input-6-7a5be718a22d>:7: dense (from tensorflow.python.layers.core) is deprecated and will be removed in a future version.\n",
      "Instructions for updating:\n",
      "Use keras.layers.Dense instead.\n",
      "WARNING:tensorflow:From /Users/tz/venv/lib/python3.7/site-packages/tensorflow_core/python/layers/core.py:187: Layer.apply (from tensorflow.python.keras.engine.base_layer) is deprecated and will be removed in a future version.\n",
      "Instructions for updating:\n",
      "Please use `layer.__call__` method instead.\n",
      "WARNING:tensorflow:From /Users/tz/venv/lib/python3.7/site-packages/tensorflow_core/python/ops/resource_variable_ops.py:1630: calling BaseResourceVariable.__init__ (from tensorflow.python.ops.resource_variable_ops) with constraint is deprecated and will be removed in a future version.\n",
      "Instructions for updating:\n",
      "If using Keras pass *_constraint arguments to layers.\n",
      "WARNING:tensorflow:From <ipython-input-6-7a5be718a22d>:8: batch_normalization (from tensorflow.python.layers.normalization) is deprecated and will be removed in a future version.\n",
      "Instructions for updating:\n",
      "Use keras.layers.BatchNormalization instead.  In particular, `tf.control_dependencies(tf.GraphKeys.UPDATE_OPS)` should not be used (consult the `tf.keras.layers.batch_normalization` documentation).\n"
     ]
    }
   ],
   "source": [
    "\n",
    "tf.compat.v1.reset_default_graph()\n",
    "\n",
    "# Placeholders\n",
    "y_ = tf.compat.v1.placeholder(tf.float32, [None, 1])\n",
    "\n",
    "pre_y= tf.compat.v1.placeholder(tf.float32, [None, 1])\n",
    "x_=tf.compat.v1.placeholder(tf.float32, [None, x.shape[1]])\n",
    "q_ = tf.compat.v1.placeholder(tf.float32, [None, 1])\n",
    "\n",
    "\n",
    "# f\n",
    "with tf.compat.v1.variable_scope(\"f\") as scope:\n",
    "    yq_= f(x_,q_)\n",
    "\n",
    "\n",
    "ylessthan= tf.cast(tf.less_equal(y_,yq_),tf.float32)\n",
    "ylessthan_pre= tf.cast(tf.less_equal(y_,pre_y),tf.float32)\n",
    "\n",
    "\n",
    "with tf.compat.v1.variable_scope(\"g\") as scope:\n",
    "    gq_logit = g(yq_,x_)\n",
    "    gq=tf.sigmoid(gq_logit)\n",
    "    scope.reuse_variables()\n",
    "    gq_logit_pre = g(pre_y,x_)\n",
    "\n",
    "\n",
    "#Losses\n",
    "f_loss = tf.reduce_mean(tf.square(q_-gq))\n",
    "g_loss = 1*tf.compat.v1.losses.sigmoid_cross_entropy(ylessthan,gq_logit)\n",
    "# +\\    .05*tf.compat.v1.losses.mean_squared_error(q_,gq)\n",
    "\n",
    "#pre-loss\n",
    "g_loss_pre = tf.compat.v1.losses.sigmoid_cross_entropy(ylessthan_pre,gq_logit_pre)\n",
    "\n",
    "# Optimizer\n",
    "optimizerg = tf.compat.v1.train.AdamOptimizer(learning_rate=1e-4)\n",
    "optimizerf = tf.compat.v1.train.AdamOptimizer(learning_rate=5e-4)\n",
    "\n",
    "pre_step= optimizerg.minimize(g_loss_pre,var_list=variables_from_scope(\"g\"))\n",
    "g_step = optimizerg.minimize(g_loss, var_list=variables_from_scope(\"g\"))\n",
    "f_step = optimizerf.minimize(f_loss, var_list=variables_from_scope(\"f\"))\n",
    "\n",
    "# Initializer\n",
    "initialize_all = tf.compat.v1.global_variables_initializer()"
   ]
  },
  {
   "cell_type": "markdown",
   "metadata": {},
   "source": [
    "### Ten replications to evaluate the hard metrics"
   ]
  },
  {
   "cell_type": "code",
   "execution_count": 10,
   "metadata": {},
   "outputs": [],
   "source": [
    "##function to create replication\n",
    "def rep_iter(x,y,frac=0.4):\n",
    "    n=len(x)\n",
    "    ntest=int(np.floor(frac*n))\n",
    "    allidx=np.random.permutation(n)\n",
    "    trainidx= allidx[ntest:]\n",
    "    testidx= allidx[:ntest]\n",
    "    return x[trainidx],y[trainidx],x[testidx],y[testidx]"
   ]
  },
  {
   "cell_type": "code",
   "execution_count": 11,
   "metadata": {},
   "outputs": [],
   "source": [
    "#initialize the metric\n",
    "#g\n",
    "gll=[] #loglikelihood or gof\n",
    "gcal=[] #regular calibration\n",
    "gcalshp=[] #empirical coverage\n",
    "gwidth=[] #empirical width\n",
    "g90=[] #90 interval coverage\n",
    "gmae=[] #mae\n",
    "\n",
    "\n",
    "#f\n",
    "fll=[]\n",
    "fcal=[]\n",
    "fcalshp=[]\n",
    "fwidth=[]\n",
    "f90=[]\n",
    "fmae=[]\n"
   ]
  },
  {
   "cell_type": "code",
   "execution_count": 12,
   "metadata": {},
   "outputs": [
    {
     "data": {
      "application/vnd.jupyter.widget-view+json": {
       "model_id": "a040e41621c14fec8f8a1bfd0ea9a4f4",
       "version_major": 2,
       "version_minor": 0
      },
      "text/plain": [
       "HBox(children=(IntProgress(value=0, max=18000), HTML(value='')))"
      ]
     },
     "metadata": {},
     "output_type": "display_data"
    },
    {
     "name": "stdout",
     "output_type": "stream",
     "text": [
      "\n"
     ]
    },
    {
     "data": {
      "application/vnd.jupyter.widget-view+json": {
       "model_id": "0753f091fbca48219feb32e07ca54e0a",
       "version_major": 2,
       "version_minor": 0
      },
      "text/plain": [
       "HBox(children=(IntProgress(value=0, max=18000), HTML(value='')))"
      ]
     },
     "metadata": {},
     "output_type": "display_data"
    },
    {
     "name": "stdout",
     "output_type": "stream",
     "text": [
      "\n"
     ]
    },
    {
     "data": {
      "application/vnd.jupyter.widget-view+json": {
       "model_id": "9b99c9af72554bfb8557ac906261834e",
       "version_major": 2,
       "version_minor": 0
      },
      "text/plain": [
       "HBox(children=(IntProgress(value=0, max=18000), HTML(value='')))"
      ]
     },
     "metadata": {},
     "output_type": "display_data"
    },
    {
     "name": "stdout",
     "output_type": "stream",
     "text": [
      "\n"
     ]
    },
    {
     "data": {
      "application/vnd.jupyter.widget-view+json": {
       "model_id": "4cf250fb78ba4863b7072724e1093a71",
       "version_major": 2,
       "version_minor": 0
      },
      "text/plain": [
       "HBox(children=(IntProgress(value=0, max=18000), HTML(value='')))"
      ]
     },
     "metadata": {},
     "output_type": "display_data"
    },
    {
     "name": "stdout",
     "output_type": "stream",
     "text": [
      "\n"
     ]
    },
    {
     "data": {
      "application/vnd.jupyter.widget-view+json": {
       "model_id": "b4dd3c1a18084984b3227061669eca4d",
       "version_major": 2,
       "version_minor": 0
      },
      "text/plain": [
       "HBox(children=(IntProgress(value=0, max=18000), HTML(value='')))"
      ]
     },
     "metadata": {},
     "output_type": "display_data"
    },
    {
     "name": "stdout",
     "output_type": "stream",
     "text": [
      "\n"
     ]
    },
    {
     "data": {
      "application/vnd.jupyter.widget-view+json": {
       "model_id": "f982ff39dc1a423e99c5b07654e168ce",
       "version_major": 2,
       "version_minor": 0
      },
      "text/plain": [
       "HBox(children=(IntProgress(value=0, max=18000), HTML(value='')))"
      ]
     },
     "metadata": {},
     "output_type": "display_data"
    },
    {
     "name": "stdout",
     "output_type": "stream",
     "text": [
      "\n"
     ]
    },
    {
     "data": {
      "application/vnd.jupyter.widget-view+json": {
       "model_id": "a6852352b7a24f7ab1b9b1da837f3370",
       "version_major": 2,
       "version_minor": 0
      },
      "text/plain": [
       "HBox(children=(IntProgress(value=0, max=18000), HTML(value='')))"
      ]
     },
     "metadata": {},
     "output_type": "display_data"
    },
    {
     "name": "stdout",
     "output_type": "stream",
     "text": [
      "\n"
     ]
    },
    {
     "data": {
      "application/vnd.jupyter.widget-view+json": {
       "model_id": "7626a5bb57f84c978f79a3e0847f7475",
       "version_major": 2,
       "version_minor": 0
      },
      "text/plain": [
       "HBox(children=(IntProgress(value=0, max=18000), HTML(value='')))"
      ]
     },
     "metadata": {},
     "output_type": "display_data"
    },
    {
     "name": "stdout",
     "output_type": "stream",
     "text": [
      "\n"
     ]
    },
    {
     "data": {
      "application/vnd.jupyter.widget-view+json": {
       "model_id": "e1d42ce3659348e18dccb69b710fdc49",
       "version_major": 2,
       "version_minor": 0
      },
      "text/plain": [
       "HBox(children=(IntProgress(value=0, max=18000), HTML(value='')))"
      ]
     },
     "metadata": {},
     "output_type": "display_data"
    },
    {
     "name": "stdout",
     "output_type": "stream",
     "text": [
      "\n"
     ]
    },
    {
     "data": {
      "application/vnd.jupyter.widget-view+json": {
       "model_id": "f0b0160b3dd4443dabb6650eabbd0ee1",
       "version_major": 2,
       "version_minor": 0
      },
      "text/plain": [
       "HBox(children=(IntProgress(value=0, max=18000), HTML(value='')))"
      ]
     },
     "metadata": {},
     "output_type": "display_data"
    },
    {
     "name": "stdout",
     "output_type": "stream",
     "text": [
      "\n"
     ]
    },
    {
     "data": {
      "application/vnd.jupyter.widget-view+json": {
       "model_id": "64614134a1db4f3d87b0768ac690e47a",
       "version_major": 2,
       "version_minor": 0
      },
      "text/plain": [
       "HBox(children=(IntProgress(value=0, max=18000), HTML(value='')))"
      ]
     },
     "metadata": {},
     "output_type": "display_data"
    },
    {
     "name": "stdout",
     "output_type": "stream",
     "text": [
      "\n"
     ]
    },
    {
     "data": {
      "application/vnd.jupyter.widget-view+json": {
       "model_id": "57a4f61eab114b78bd96d437e858c16d",
       "version_major": 2,
       "version_minor": 0
      },
      "text/plain": [
       "HBox(children=(IntProgress(value=0, max=18000), HTML(value='')))"
      ]
     },
     "metadata": {},
     "output_type": "display_data"
    },
    {
     "name": "stdout",
     "output_type": "stream",
     "text": [
      "\n"
     ]
    },
    {
     "data": {
      "application/vnd.jupyter.widget-view+json": {
       "model_id": "a24c13991df34394a10dc35a7d72ae52",
       "version_major": 2,
       "version_minor": 0
      },
      "text/plain": [
       "HBox(children=(IntProgress(value=0, max=18000), HTML(value='')))"
      ]
     },
     "metadata": {},
     "output_type": "display_data"
    },
    {
     "name": "stdout",
     "output_type": "stream",
     "text": [
      "\n"
     ]
    },
    {
     "data": {
      "application/vnd.jupyter.widget-view+json": {
       "model_id": "c55addfcc48f4d5089760ad120945f7a",
       "version_major": 2,
       "version_minor": 0
      },
      "text/plain": [
       "HBox(children=(IntProgress(value=0, max=18000), HTML(value='')))"
      ]
     },
     "metadata": {},
     "output_type": "display_data"
    },
    {
     "name": "stdout",
     "output_type": "stream",
     "text": [
      "\n"
     ]
    },
    {
     "data": {
      "application/vnd.jupyter.widget-view+json": {
       "model_id": "a80674b9e60844719b44baa79d658837",
       "version_major": 2,
       "version_minor": 0
      },
      "text/plain": [
       "HBox(children=(IntProgress(value=0, max=18000), HTML(value='')))"
      ]
     },
     "metadata": {},
     "output_type": "display_data"
    },
    {
     "name": "stdout",
     "output_type": "stream",
     "text": [
      "\n"
     ]
    },
    {
     "data": {
      "application/vnd.jupyter.widget-view+json": {
       "model_id": "c053ea4ab74e46359925c16cca39b2a5",
       "version_major": 2,
       "version_minor": 0
      },
      "text/plain": [
       "HBox(children=(IntProgress(value=0, max=18000), HTML(value='')))"
      ]
     },
     "metadata": {},
     "output_type": "display_data"
    },
    {
     "name": "stdout",
     "output_type": "stream",
     "text": [
      "\n"
     ]
    },
    {
     "data": {
      "application/vnd.jupyter.widget-view+json": {
       "model_id": "48efc0159a4a46b0894dbee162e62291",
       "version_major": 2,
       "version_minor": 0
      },
      "text/plain": [
       "HBox(children=(IntProgress(value=0, max=18000), HTML(value='')))"
      ]
     },
     "metadata": {},
     "output_type": "display_data"
    },
    {
     "name": "stdout",
     "output_type": "stream",
     "text": [
      "\n"
     ]
    },
    {
     "data": {
      "application/vnd.jupyter.widget-view+json": {
       "model_id": "1ff0e06d59a94c92969f87f1e731a6b7",
       "version_major": 2,
       "version_minor": 0
      },
      "text/plain": [
       "HBox(children=(IntProgress(value=0, max=18000), HTML(value='')))"
      ]
     },
     "metadata": {},
     "output_type": "display_data"
    },
    {
     "name": "stdout",
     "output_type": "stream",
     "text": [
      "\n"
     ]
    },
    {
     "data": {
      "application/vnd.jupyter.widget-view+json": {
       "model_id": "3c637ac9f65041509f320e608404ff51",
       "version_major": 2,
       "version_minor": 0
      },
      "text/plain": [
       "HBox(children=(IntProgress(value=0, max=18000), HTML(value='')))"
      ]
     },
     "metadata": {},
     "output_type": "display_data"
    },
    {
     "name": "stdout",
     "output_type": "stream",
     "text": [
      "\n"
     ]
    },
    {
     "data": {
      "application/vnd.jupyter.widget-view+json": {
       "model_id": "d709a9311a8e42beb52c29e7197563bd",
       "version_major": 2,
       "version_minor": 0
      },
      "text/plain": [
       "HBox(children=(IntProgress(value=0, max=18000), HTML(value='')))"
      ]
     },
     "metadata": {},
     "output_type": "display_data"
    },
    {
     "name": "stdout",
     "output_type": "stream",
     "text": [
      "\n"
     ]
    }
   ],
   "source": [
    "np.random.seed(2021)\n",
    "for a in range(10):\n",
    "    train_x,train_y,test_x,test_y=rep_iter(x,y)\n",
    "    ntrain=len(train_x)\n",
    "    ntest=len(test_x)\n",
    "\n",
    "\n",
    "    sess = tf.compat.v1.Session()\n",
    "    sess.run(initialize_all)\n",
    "    gloss=[]\n",
    "    floss=[]\n",
    "\n",
    "\n",
    "    for k in notebook.tnrange(pre_iter):\n",
    "        i=np.random.choice(ntrain,batch_size,replace=False)\n",
    "        ytmp = train_y[i,:]\n",
    "        xtmp= train_x[i,:]\n",
    "        #when we do not have f initially, we use a uniform distribution to extract points from support\n",
    "        pre_ytmp=np.random.uniform(-2.5,6,(batch_size,1))  \n",
    "        sess.run(pre_step,feed_dict={y_: ytmp,\n",
    "                                    x_:xtmp,\n",
    "                                    pre_y:pre_ytmp})\n",
    "\n",
    "\n",
    "    for t in notebook.tnrange(iters):\n",
    "        #randomly generate a minibatch from valid set\n",
    "        i=np.random.choice(ntrain,batch_size,replace=False)\n",
    "        qtmp=np.random.uniform(0, 1.0, [batch_size, 1])\n",
    "        ytmp = train_y[i,:]\n",
    "        xtmp= train_x[i,:]\n",
    "\n",
    "        for i in range(0,1):\n",
    "            _,glt=sess.run([g_step,g_loss], feed_dict={y_: ytmp,\n",
    "                                    x_:xtmp,\n",
    "                                    q_:qtmp})\n",
    "        gloss.append(glt)\n",
    "\n",
    "        for i in range(0,2):\n",
    "            _,flt=sess.run([f_step,f_loss],feed_dict={y_: ytmp,\n",
    "                                    x_:xtmp,\n",
    "                                    q_:qtmp})\n",
    "        floss.append(flt)\n",
    "\n",
    "\n",
    "\n",
    "    #####calculate metrics##############\n",
    "\n",
    "    per=np.linspace(0.02,0.98,8) #quantile to study calibration\n",
    "    pershp=np.linspace(0.4,0.999,20) #nominal quantile to study sharpness\n",
    "\n",
    "\n",
    "\n",
    "    #lower and upper bound\n",
    "    low=np.quantile(test_y,0.05)\n",
    "    high=np.quantile(test_y,0.95)\n",
    "    itv=np.linspace(low,high,9)\n",
    "    itv=np.append(-np.infty,itv)\n",
    "    itv=np.append(itv,np.infty)\n",
    "    #outcome1 belongs to which interval\n",
    "    id=np.zeros(ntest)\n",
    "    for i in range(10):\n",
    "        id=id+1*(test_y.ravel()>itv[i+1])\n",
    "    id=id.astype('int')\n",
    "\n",
    "\n",
    "    # estimation by g\n",
    "    med_est=np.array([])\n",
    "    ll_est=np.empty(ntest)\n",
    "    cal_est=np.zeros_like(per)\n",
    "    cal_shp=np.zeros_like(pershp)\n",
    "    cal_width=[]\n",
    "    cover_90=0\n",
    "\n",
    "    # estimation by f\n",
    "    fmed_est=np.array([])\n",
    "    fll_est=np.empty(ntest)\n",
    "    fcal_est=np.zeros_like(per)\n",
    "    fcal_shp=np.zeros_like(pershp)\n",
    "    fcal_width=[]\n",
    "    fcover_90=0\n",
    "\n",
    "\n",
    "\n",
    "    #use interpolation to recover cdf\n",
    "    xtmp=np.linspace(-2.5,6,5000)\n",
    "    ptmp=np.linspace(0.0001,0.9999,5000)\n",
    "    ptmp1=np.append([0],ptmp)\n",
    "    ptmp1=np.append(ptmp1,[1])\n",
    "\n",
    "\n",
    "\n",
    "    #calculate the metrics\n",
    "    for i in range(ntest):\n",
    "        l=itv[id[i]]\n",
    "        r=itv[id[i]+1]\n",
    "\n",
    "        #cdf estimate by g\n",
    "        cdf=sess.run(gq ,feed_dict={x_:np.tile(test_x[i,:],(5000,1)),\n",
    "                                    yq_:xtmp[:,None]\n",
    "                                    }).ravel()\n",
    "\n",
    "        cdf[0]=0\n",
    "        cdf[-1]=1\n",
    "        invcdfest=interp1d(cdf,xtmp)\n",
    "        cdfest=interp1d(xtmp,cdf)\n",
    "\n",
    "\n",
    "        ##cdf estimate by f\n",
    "        ficdf= sess.run(yq_ ,feed_dict={x_:np.tile(test_x[i,:],(5000,1)),\n",
    "                                    q_:ptmp[:,None]\n",
    "                                    }).ravel()    \n",
    "        ficdf=np.append([-2.5],ficdf)\n",
    "        ficdf=np.append(ficdf,6)\n",
    "\n",
    "        finvcdfest=interp1d(ptmp1,ficdf)\n",
    "        fcdfest=interp1d(ficdf,ptmp1)\n",
    "\n",
    "        #estimate the mae\n",
    "        med_est=np.append(med_est,invcdfest(0.5))    \n",
    "        fmed_est=np.append(fmed_est,finvcdfest(0.5))   \n",
    "\n",
    "\n",
    "        #estimate the loglikelihood\n",
    "        l=itv[id[i]]\n",
    "        r=itv[id[i]+1]\n",
    "        if(r==np.inf):\n",
    "            ll_est[i]=np.log(1.-cdfest(l)+1.e-10)\n",
    "            fll_est[i]=np.log(1.-fcdfest(l)+1.e-10)\n",
    "        elif(l==-np.inf):\n",
    "            ll_est[i]=np.log(cdfest(r)+1.e-10)\n",
    "            fll_est[i]=np.log(fcdfest(r)+1.e-10)\n",
    "        else:\n",
    "            ll_est[i]=np.log(cdfest(r)-cdfest(l)+1.e-10)\n",
    "            fll_est[i]=np.log(fcdfest(r)-fcdfest(l)+1.e-10)\n",
    "\n",
    "\n",
    "        #estimate the calibration\n",
    "        cal_est=cal_est+1.*(test_y[i]<invcdfest(0.5+per/2))*(test_y[i]>invcdfest(0.5-per/2))\n",
    "        fcal_est=fcal_est+1.*(test_y[i]<finvcdfest(0.5+per/2))*(test_y[i]>finvcdfest(0.5-per/2))\n",
    "\n",
    "        #estimate the quantity for sharpness\n",
    "        gl=invcdfest(0.5-pershp/2)\n",
    "        gr=invcdfest(0.5+pershp/2)\n",
    "        \n",
    "        fl=finvcdfest(0.5-pershp/2)\n",
    "        fr=finvcdfest(0.5+pershp/2)\n",
    "        \n",
    "        cal_shp=cal_shp+1.*(test_y[i]<gr)*(test_y[i]>gl)\n",
    "        fcal_shp=fcal_shp+1.*(test_y[i]<fr)*(test_y[i]>fl)\n",
    "\n",
    "        cal_width.append(gr-gl)\n",
    "        fcal_width.append(fr-fl)\n",
    "        \n",
    "        \n",
    "        #estimate 90 coverage\n",
    "        r90=invcdfest(0.95)\n",
    "        l90=invcdfest(0.05)\n",
    "        cover_90+=(test_y[i]<r90)*(test_y[i]>l90)\n",
    "\n",
    "        fr90=finvcdfest(0.95)\n",
    "        fl90=finvcdfest(0.05)\n",
    "        fcover_90+=(test_y[i]<fr90)*(test_y[i]>fl90)\n",
    "\n",
    "    #summary    \n",
    "    cal_est=cal_est/ntest\n",
    "    fcal_est=fcal_est/ntest\n",
    "    cal_shp=cal_shp/ntest\n",
    "    fcal_shp=fcal_shp/ntest\n",
    "    \n",
    "\n",
    "    #cal\n",
    "    gcal.append(cal_est)\n",
    "    fcal.append(fcal_est)\n",
    "    \n",
    "    #shp\n",
    "    gcalshp.append(cal_shp)\n",
    "    fcalshp.append(fcal_shp)\n",
    "    gwidth.append(np.median(np.array(cal_width),0))\n",
    "    fwidth.append(np.median(np.array(fcal_width),0))\n",
    "\n",
    " \n",
    "    #ll\n",
    "    gll.append(ll_est.mean())\n",
    "    fll.append(fll_est.mean())\n",
    "\n",
    "    #90coverage\n",
    "    g90.append(cover_90/ntest)\n",
    "    f90.append(fcover_90/ntest)\n",
    "\n",
    "    #mae\n",
    "    gmae.append(np.abs(test_y.ravel()-med_est).mean()) #regular def\n",
    "    fmae.append(np.abs(test_y.ravel()-fmed_est).mean()) #regular def\n"
   ]
  },
  {
   "cell_type": "code",
   "execution_count": 13,
   "metadata": {},
   "outputs": [
    {
     "data": {
      "text/plain": [
       "[<matplotlib.lines.Line2D at 0x14e4c5950>]"
      ]
     },
     "execution_count": 13,
     "metadata": {},
     "output_type": "execute_result"
    },
    {
     "data": {
      "image/png": "[encoded data removed]",
      "text/plain": [
       "<Figure size 432x288 with 1 Axes>"
      ]
     },
     "metadata": {
      "needs_background": "light"
     },
     "output_type": "display_data"
    }
   ],
   "source": [
    "#loss\n",
    "plt.plot(gloss)\n",
    "plt.plot(floss)"
   ]
  },
  {
   "cell_type": "code",
   "execution_count": 14,
   "metadata": {},
   "outputs": [],
   "source": [
    "#metrics\n",
    "def musd(x):\n",
    "    print(np.mean(x),np.std(x))\n"
   ]
  },
  {
   "cell_type": "code",
   "execution_count": 15,
   "metadata": {},
   "outputs": [
    {
     "name": "stdout",
     "output_type": "stream",
     "text": [
      "-1.7968539259317857 0.03602892052202455\n",
      "0.8880208333333333 0.012597277731716486\n",
      "0.5292452474726569 0.012888506331279031\n",
      "-1.957147723949846 0.1316543140843327\n",
      "0.882986111111111 0.01717258752621978\n",
      "0.5294550311092342 0.012691269141870007\n"
     ]
    }
   ],
   "source": [
    "musd(gll)\n",
    "musd(g90)\n",
    "musd(gmae)\n",
    "musd(fll)\n",
    "musd(f90)\n",
    "musd(fmae)"
   ]
  },
  {
   "cell_type": "code",
   "execution_count": 17,
   "metadata": {},
   "outputs": [
    {
     "name": "stdout",
     "output_type": "stream",
     "text": [
      "0.01781386408730161 0.006305289263813868\n",
      "0.024238591269841285 0.008056585446647616\n"
     ]
    }
   ],
   "source": [
    "#calibration\n",
    "def calcompu(x):\n",
    "    x=np.array(x)\n",
    "    n=len(x)\n",
    "    cal=np.mean(x,0)\n",
    "    calest=np.abs(x-per).mean(1)\n",
    "    \n",
    "    print(np.mean(calest),np.std(calest))\n",
    "    \n",
    "    return  cal\n",
    "\n",
    "gcalplot=calcompu(gcal)\n",
    "fcalplot=calcompu(fcal)"
   ]
  },
  {
   "cell_type": "code",
   "execution_count": 18,
   "metadata": {},
   "outputs": [
    {
     "data": {
      "text/plain": [
       "[<matplotlib.lines.Line2D at 0x14e9153d0>]"
      ]
     },
     "execution_count": 18,
     "metadata": {},
     "output_type": "execute_result"
    },
    {
     "data": {
      "image/png": "[encoded data removed]",
      "text/plain": [
       "<Figure size 360x360 with 1 Axes>"
      ]
     },
     "metadata": {
      "needs_background": "light"
     },
     "output_type": "display_data"
    }
   ],
   "source": [
    "## calibration plot\n",
    "plt.figure(figsize=(5,5))\n",
    "plt.plot(per,gcalplot,'-*')\n",
    "plt.plot(per,fcalplot,'-o')\n",
    "\n",
    "plt.plot([0,1],[0,1])"
   ]
  },
  {
   "cell_type": "code",
   "execution_count": 19,
   "metadata": {},
   "outputs": [],
   "source": [
    "def shpplt(cal,width): #average interval width calculation\n",
    "    n=len(cal)\n",
    "    cal=np.array(cal)\n",
    "    width=np.array(width)\n",
    "    low=np.max(cal[:,0])\n",
    "    up=np.min(cal[:,-1])\n",
    "    rangeint=np.linspace(low,up,30)\n",
    "    widest=[]\n",
    "    for i in range(n):\n",
    "        widest.append(interp1d(cal[i],width[i])(rangeint))\n",
    "    \n",
    "    return rangeint,np.array(widest).mean(0)\n",
    "    "
   ]
  },
  {
   "cell_type": "code",
   "execution_count": 20,
   "metadata": {},
   "outputs": [],
   "source": [
    "fempcal,fempwid=shpplt(fcalshp,fwidth)"
   ]
  },
  {
   "cell_type": "code",
   "execution_count": 21,
   "metadata": {},
   "outputs": [],
   "source": [
    "gempcal,gempwid=shpplt(gcalshp,gwidth)"
   ]
  },
  {
   "cell_type": "code",
   "execution_count": null,
   "metadata": {},
   "outputs": [],
   "source": []
  },
  {
   "cell_type": "code",
   "execution_count": 22,
   "metadata": {},
   "outputs": [
    {
     "data": {
      "text/plain": [
       "[<matplotlib.lines.Line2D at 0x14ea06f10>]"
      ]
     },
     "execution_count": 22,
     "metadata": {},
     "output_type": "execute_result"
    },
    {
     "data": {
      "image/png": "[encoded data removed]",
      "text/plain": [
       "<Figure size 432x288 with 1 Axes>"
      ]
     },
     "metadata": {
      "needs_background": "light"
     },
     "output_type": "display_data"
    }
   ],
   "source": [
    "plt.plot(fempcal,fempwid)\n",
    "plt.plot(gempcal,gempwid)"
   ]
  },
  {
   "cell_type": "code",
   "execution_count": null,
   "metadata": {},
   "outputs": [],
   "source": []
  }
 ],
 "metadata": {
  "accelerator": "GPU",
  "colab": {
   "collapsed_sections": [],
   "machine_shape": "hm",
   "name": "CN_TH.ipynb",
   "provenance": []
  },
  "kernelspec": {
   "display_name": "Python 3",
   "language": "python",
   "name": "python3"
  },
  "language_info": {
   "codemirror_mode": {
    "name": "ipython",
    "version": 3
   },
   "file_extension": ".py",
   "mimetype": "text/x-python",
   "name": "python",
   "nbconvert_exporter": "python",
   "pygments_lexer": "ipython3",
   "version": "3.7.5"
  },
  "widgets": {
   "application/vnd.jupyter.widget-state+json": {
    "0fe3d1761fbc4bb989279fd254c69358": {
     "model_module": "@jupyter-widgets/controls",
     "model_name": "HTMLModel",
     "state": {
      "_dom_classes": [],
      "_model_module": "@jupyter-widgets/controls",
      "_model_module_version": "1.5.0",
      "_model_name": "HTMLModel",
      "_view_count": null,
      "_view_module": "@jupyter-widgets/controls",
      "_view_module_version": "1.5.0",
      "_view_name": "HTMLView",
      "description": "",
      "description_tooltip": null,
      "layout": "IPY_MODEL_d8ba833432b04a9e80a2444f01e01ed2",
      "placeholder": "​",
      "style": "IPY_MODEL_78d7b708fa9b437991826f3ae7cdf550",
      "value": " 300/300 [03:40&lt;00:00,  1.36it/s]"
     }
    },
    "10556d8ee164453daea3ca12e6e9a183": {
     "model_module": "@jupyter-widgets/base",
     "model_name": "LayoutModel",
     "state": {
      "_model_module": "@jupyter-widgets/base",
      "_model_module_version": "1.2.0",
      "_model_name": "LayoutModel",
      "_view_count": null,
      "_view_module": "@jupyter-widgets/base",
      "_view_module_version": "1.2.0",
      "_view_name": "LayoutView",
      "align_content": null,
      "align_items": null,
      "align_self": null,
      "border": null,
      "bottom": null,
      "display": null,
      "flex": null,
      "flex_flow": null,
      "grid_area": null,
      "grid_auto_columns": null,
      "grid_auto_flow": null,
      "grid_auto_rows": null,
      "grid_column": null,
      "grid_gap": null,
      "grid_row": null,
      "grid_template_areas": null,
      "grid_template_columns": null,
      "grid_template_rows": null,
      "height": null,
      "justify_content": null,
      "justify_items": null,
      "left": null,
      "margin": null,
      "max_height": null,
      "max_width": null,
      "min_height": null,
      "min_width": null,
      "object_fit": null,
      "object_position": null,
      "order": null,
      "overflow": null,
      "overflow_x": null,
      "overflow_y": null,
      "padding": null,
      "right": null,
      "top": null,
      "visibility": null,
      "width": null
     }
    },
    "20a3b1dd307f4baa9e023ce1d3deb6ee": {
     "model_module": "@jupyter-widgets/controls",
     "model_name": "ProgressStyleModel",
     "state": {
      "_model_module": "@jupyter-widgets/controls",
      "_model_module_version": "1.5.0",
      "_model_name": "ProgressStyleModel",
      "_view_count": null,
      "_view_module": "@jupyter-widgets/base",
      "_view_module_version": "1.2.0",
      "_view_name": "StyleView",
      "bar_color": null,
      "description_width": "initial"
     }
    },
    "31a32d79035f4edf876b27f8197aa865": {
     "model_module": "@jupyter-widgets/controls",
     "model_name": "ProgressStyleModel",
     "state": {
      "_model_module": "@jupyter-widgets/controls",
      "_model_module_version": "1.5.0",
      "_model_name": "ProgressStyleModel",
      "_view_count": null,
      "_view_module": "@jupyter-widgets/base",
      "_view_module_version": "1.2.0",
      "_view_name": "StyleView",
      "bar_color": null,
      "description_width": "initial"
     }
    },
    "41050b628c6e4259bc605a9723c9eef4": {
     "model_module": "@jupyter-widgets/base",
     "model_name": "LayoutModel",
     "state": {
      "_model_module": "@jupyter-widgets/base",
      "_model_module_version": "1.2.0",
      "_model_name": "LayoutModel",
      "_view_count": null,
      "_view_module": "@jupyter-widgets/base",
      "_view_module_version": "1.2.0",
      "_view_name": "LayoutView",
      "align_content": null,
      "align_items": null,
      "align_self": null,
      "border": null,
      "bottom": null,
      "display": null,
      "flex": null,
      "flex_flow": null,
      "grid_area": null,
      "grid_auto_columns": null,
      "grid_auto_flow": null,
      "grid_auto_rows": null,
      "grid_column": null,
      "grid_gap": null,
      "grid_row": null,
      "grid_template_areas": null,
      "grid_template_columns": null,
      "grid_template_rows": null,
      "height": null,
      "justify_content": null,
      "justify_items": null,
      "left": null,
      "margin": null,
      "max_height": null,
      "max_width": null,
      "min_height": null,
      "min_width": null,
      "object_fit": null,
      "object_position": null,
      "order": null,
      "overflow": null,
      "overflow_x": null,
      "overflow_y": null,
      "padding": null,
      "right": null,
      "top": null,
      "visibility": null,
      "width": null
     }
    },
    "4bfadbc867e345569c71d666b7ee0c0d": {
     "model_module": "@jupyter-widgets/controls",
     "model_name": "ProgressStyleModel",
     "state": {
      "_model_module": "@jupyter-widgets/controls",
      "_model_module_version": "1.5.0",
      "_model_name": "ProgressStyleModel",
      "_view_count": null,
      "_view_module": "@jupyter-widgets/base",
      "_view_module_version": "1.2.0",
      "_view_name": "StyleView",
      "bar_color": null,
      "description_width": "initial"
     }
    },
    "505896b7d1f34353ad8155369e5a2703": {
     "model_module": "@jupyter-widgets/controls",
     "model_name": "ProgressStyleModel",
     "state": {
      "_model_module": "@jupyter-widgets/controls",
      "_model_module_version": "1.5.0",
      "_model_name": "ProgressStyleModel",
      "_view_count": null,
      "_view_module": "@jupyter-widgets/base",
      "_view_module_version": "1.2.0",
      "_view_name": "StyleView",
      "bar_color": null,
      "description_width": "initial"
     }
    },
    "6232ef5b55894d658666a602e86089b9": {
     "model_module": "@jupyter-widgets/controls",
     "model_name": "DescriptionStyleModel",
     "state": {
      "_model_module": "@jupyter-widgets/controls",
      "_model_module_version": "1.5.0",
      "_model_name": "DescriptionStyleModel",
      "_view_count": null,
      "_view_module": "@jupyter-widgets/base",
      "_view_module_version": "1.2.0",
      "_view_name": "StyleView",
      "description_width": ""
     }
    },
    "72a3475c116a448b91fc8d8d04049ce1": {
     "model_module": "@jupyter-widgets/base",
     "model_name": "LayoutModel",
     "state": {
      "_model_module": "@jupyter-widgets/base",
      "_model_module_version": "1.2.0",
      "_model_name": "LayoutModel",
      "_view_count": null,
      "_view_module": "@jupyter-widgets/base",
      "_view_module_version": "1.2.0",
      "_view_name": "LayoutView",
      "align_content": null,
      "align_items": null,
      "align_self": null,
      "border": null,
      "bottom": null,
      "display": null,
      "flex": null,
      "flex_flow": null,
      "grid_area": null,
      "grid_auto_columns": null,
      "grid_auto_flow": null,
      "grid_auto_rows": null,
      "grid_column": null,
      "grid_gap": null,
      "grid_row": null,
      "grid_template_areas": null,
      "grid_template_columns": null,
      "grid_template_rows": null,
      "height": null,
      "justify_content": null,
      "justify_items": null,
      "left": null,
      "margin": null,
      "max_height": null,
      "max_width": null,
      "min_height": null,
      "min_width": null,
      "object_fit": null,
      "object_position": null,
      "order": null,
      "overflow": null,
      "overflow_x": null,
      "overflow_y": null,
      "padding": null,
      "right": null,
      "top": null,
      "visibility": null,
      "width": null
     }
    },
    "781b9ee3dffe46ed95c672eb52992063": {
     "model_module": "@jupyter-widgets/controls",
     "model_name": "HBoxModel",
     "state": {
      "_dom_classes": [],
      "_model_module": "@jupyter-widgets/controls",
      "_model_module_version": "1.5.0",
      "_model_name": "HBoxModel",
      "_view_count": null,
      "_view_module": "@jupyter-widgets/controls",
      "_view_module_version": "1.5.0",
      "_view_name": "HBoxView",
      "box_style": "",
      "children": [
       "IPY_MODEL_78422038865b460b86d8ce0c430a1451",
       "IPY_MODEL_d0f7e49a44a14e288cbbd53559bd3f2e"
      ],
      "layout": "IPY_MODEL_e3a014bbc90c4a3bab028110d844cd73"
     }
    },
    "78422038865b460b86d8ce0c430a1451": {
     "model_module": "@jupyter-widgets/controls",
     "model_name": "FloatProgressModel",
     "state": {
      "_dom_classes": [],
      "_model_module": "@jupyter-widgets/controls",
      "_model_module_version": "1.5.0",
      "_model_name": "FloatProgressModel",
      "_view_count": null,
      "_view_module": "@jupyter-widgets/controls",
      "_view_module_version": "1.5.0",
      "_view_name": "ProgressView",
      "bar_style": "success",
      "description": "100%",
      "description_tooltip": null,
      "layout": "IPY_MODEL_99fd12ae2b154c9bb001d68817d4c899",
      "max": 42000,
      "min": 0,
      "orientation": "horizontal",
      "style": "IPY_MODEL_20a3b1dd307f4baa9e023ce1d3deb6ee",
      "value": 42000
     }
    },
    "787f5ad5e5ed44f69b0a4513415a0623": {
     "model_module": "@jupyter-widgets/controls",
     "model_name": "HBoxModel",
     "state": {
      "_dom_classes": [],
      "_model_module": "@jupyter-widgets/controls",
      "_model_module_version": "1.5.0",
      "_model_name": "HBoxModel",
      "_view_count": null,
      "_view_module": "@jupyter-widgets/controls",
      "_view_module_version": "1.5.0",
      "_view_name": "HBoxView",
      "box_style": "",
      "children": [
       "IPY_MODEL_9b108578b7d44e6e911f027675b3025e",
       "IPY_MODEL_b8188c64211144cba5ba14351e4517f7"
      ],
      "layout": "IPY_MODEL_72a3475c116a448b91fc8d8d04049ce1"
     }
    },
    "78d7b708fa9b437991826f3ae7cdf550": {
     "model_module": "@jupyter-widgets/controls",
     "model_name": "DescriptionStyleModel",
     "state": {
      "_model_module": "@jupyter-widgets/controls",
      "_model_module_version": "1.5.0",
      "_model_name": "DescriptionStyleModel",
      "_view_count": null,
      "_view_module": "@jupyter-widgets/base",
      "_view_module_version": "1.2.0",
      "_view_name": "StyleView",
      "description_width": ""
     }
    },
    "80b0096d7d9d451fb851b81fa1a4fa8d": {
     "model_module": "@jupyter-widgets/controls",
     "model_name": "HBoxModel",
     "state": {
      "_dom_classes": [],
      "_model_module": "@jupyter-widgets/controls",
      "_model_module_version": "1.5.0",
      "_model_name": "HBoxModel",
      "_view_count": null,
      "_view_module": "@jupyter-widgets/controls",
      "_view_module_version": "1.5.0",
      "_view_name": "HBoxView",
      "box_style": "",
      "children": [
       "IPY_MODEL_c97b48a6b4864576bce8d88c53c28bb6",
       "IPY_MODEL_0fe3d1761fbc4bb989279fd254c69358"
      ],
      "layout": "IPY_MODEL_bbd23d54ed1247b7b7e6b41e1abb5d81"
     }
    },
    "82a8ace2c6a5452fb96b899f4853ef0c": {
     "model_module": "@jupyter-widgets/base",
     "model_name": "LayoutModel",
     "state": {
      "_model_module": "@jupyter-widgets/base",
      "_model_module_version": "1.2.0",
      "_model_name": "LayoutModel",
      "_view_count": null,
      "_view_module": "@jupyter-widgets/base",
      "_view_module_version": "1.2.0",
      "_view_name": "LayoutView",
      "align_content": null,
      "align_items": null,
      "align_self": null,
      "border": null,
      "bottom": null,
      "display": null,
      "flex": null,
      "flex_flow": null,
      "grid_area": null,
      "grid_auto_columns": null,
      "grid_auto_flow": null,
      "grid_auto_rows": null,
      "grid_column": null,
      "grid_gap": null,
      "grid_row": null,
      "grid_template_areas": null,
      "grid_template_columns": null,
      "grid_template_rows": null,
      "height": null,
      "justify_content": null,
      "justify_items": null,
      "left": null,
      "margin": null,
      "max_height": null,
      "max_width": null,
      "min_height": null,
      "min_width": null,
      "object_fit": null,
      "object_position": null,
      "order": null,
      "overflow": null,
      "overflow_x": null,
      "overflow_y": null,
      "padding": null,
      "right": null,
      "top": null,
      "visibility": null,
      "width": null
     }
    },
    "920d79b73866403899562915abd8b14b": {
     "model_module": "@jupyter-widgets/controls",
     "model_name": "DescriptionStyleModel",
     "state": {
      "_model_module": "@jupyter-widgets/controls",
      "_model_module_version": "1.5.0",
      "_model_name": "DescriptionStyleModel",
      "_view_count": null,
      "_view_module": "@jupyter-widgets/base",
      "_view_module_version": "1.2.0",
      "_view_name": "StyleView",
      "description_width": ""
     }
    },
    "995dcbb4f5dd4a308b25bc1ef774a036": {
     "model_module": "@jupyter-widgets/controls",
     "model_name": "DescriptionStyleModel",
     "state": {
      "_model_module": "@jupyter-widgets/controls",
      "_model_module_version": "1.5.0",
      "_model_name": "DescriptionStyleModel",
      "_view_count": null,
      "_view_module": "@jupyter-widgets/base",
      "_view_module_version": "1.2.0",
      "_view_name": "StyleView",
      "description_width": ""
     }
    },
    "99fd12ae2b154c9bb001d68817d4c899": {
     "model_module": "@jupyter-widgets/base",
     "model_name": "LayoutModel",
     "state": {
      "_model_module": "@jupyter-widgets/base",
      "_model_module_version": "1.2.0",
      "_model_name": "LayoutModel",
      "_view_count": null,
      "_view_module": "@jupyter-widgets/base",
      "_view_module_version": "1.2.0",
      "_view_name": "LayoutView",
      "align_content": null,
      "align_items": null,
      "align_self": null,
      "border": null,
      "bottom": null,
      "display": null,
      "flex": null,
      "flex_flow": null,
      "grid_area": null,
      "grid_auto_columns": null,
      "grid_auto_flow": null,
      "grid_auto_rows": null,
      "grid_column": null,
      "grid_gap": null,
      "grid_row": null,
      "grid_template_areas": null,
      "grid_template_columns": null,
      "grid_template_rows": null,
      "height": null,
      "justify_content": null,
      "justify_items": null,
      "left": null,
      "margin": null,
      "max_height": null,
      "max_width": null,
      "min_height": null,
      "min_width": null,
      "object_fit": null,
      "object_position": null,
      "order": null,
      "overflow": null,
      "overflow_x": null,
      "overflow_y": null,
      "padding": null,
      "right": null,
      "top": null,
      "visibility": null,
      "width": null
     }
    },
    "9b108578b7d44e6e911f027675b3025e": {
     "model_module": "@jupyter-widgets/controls",
     "model_name": "FloatProgressModel",
     "state": {
      "_dom_classes": [],
      "_model_module": "@jupyter-widgets/controls",
      "_model_module_version": "1.5.0",
      "_model_name": "FloatProgressModel",
      "_view_count": null,
      "_view_module": "@jupyter-widgets/controls",
      "_view_module_version": "1.5.0",
      "_view_name": "ProgressView",
      "bar_style": "success",
      "description": "100%",
      "description_tooltip": null,
      "layout": "IPY_MODEL_41050b628c6e4259bc605a9723c9eef4",
      "max": 300,
      "min": 0,
      "orientation": "horizontal",
      "style": "IPY_MODEL_4bfadbc867e345569c71d666b7ee0c0d",
      "value": 300
     }
    },
    "b07bd9aaa9fd448db9b4401ee2a629da": {
     "model_module": "@jupyter-widgets/base",
     "model_name": "LayoutModel",
     "state": {
      "_model_module": "@jupyter-widgets/base",
      "_model_module_version": "1.2.0",
      "_model_name": "LayoutModel",
      "_view_count": null,
      "_view_module": "@jupyter-widgets/base",
      "_view_module_version": "1.2.0",
      "_view_name": "LayoutView",
      "align_content": null,
      "align_items": null,
      "align_self": null,
      "border": null,
      "bottom": null,
      "display": null,
      "flex": null,
      "flex_flow": null,
      "grid_area": null,
      "grid_auto_columns": null,
      "grid_auto_flow": null,
      "grid_auto_rows": null,
      "grid_column": null,
      "grid_gap": null,
      "grid_row": null,
      "grid_template_areas": null,
      "grid_template_columns": null,
      "grid_template_rows": null,
      "height": null,
      "justify_content": null,
      "justify_items": null,
      "left": null,
      "margin": null,
      "max_height": null,
      "max_width": null,
      "min_height": null,
      "min_width": null,
      "object_fit": null,
      "object_position": null,
      "order": null,
      "overflow": null,
      "overflow_x": null,
      "overflow_y": null,
      "padding": null,
      "right": null,
      "top": null,
      "visibility": null,
      "width": null
     }
    },
    "b8188c64211144cba5ba14351e4517f7": {
     "model_module": "@jupyter-widgets/controls",
     "model_name": "HTMLModel",
     "state": {
      "_dom_classes": [],
      "_model_module": "@jupyter-widgets/controls",
      "_model_module_version": "1.5.0",
      "_model_name": "HTMLModel",
      "_view_count": null,
      "_view_module": "@jupyter-widgets/controls",
      "_view_module_version": "1.5.0",
      "_view_name": "HTMLView",
      "description": "",
      "description_tooltip": null,
      "layout": "IPY_MODEL_e66392cfa26e414487a066cb27ece87b",
      "placeholder": "​",
      "style": "IPY_MODEL_6232ef5b55894d658666a602e86089b9",
      "value": " 300/300 [00:36&lt;00:00,  8.22it/s]"
     }
    },
    "b9bf4dd5e8744963bb13ed2e5c87c364": {
     "model_module": "@jupyter-widgets/controls",
     "model_name": "HTMLModel",
     "state": {
      "_dom_classes": [],
      "_model_module": "@jupyter-widgets/controls",
      "_model_module_version": "1.5.0",
      "_model_name": "HTMLModel",
      "_view_count": null,
      "_view_module": "@jupyter-widgets/controls",
      "_view_module_version": "1.5.0",
      "_view_name": "HTMLView",
      "description": "",
      "description_tooltip": null,
      "layout": "IPY_MODEL_be164c835e124b498f66025de8dd6878",
      "placeholder": "​",
      "style": "IPY_MODEL_920d79b73866403899562915abd8b14b",
      "value": " 28000/28000 [21:40&lt;00:00, 21.53it/s]"
     }
    },
    "bbd23d54ed1247b7b7e6b41e1abb5d81": {
     "model_module": "@jupyter-widgets/base",
     "model_name": "LayoutModel",
     "state": {
      "_model_module": "@jupyter-widgets/base",
      "_model_module_version": "1.2.0",
      "_model_name": "LayoutModel",
      "_view_count": null,
      "_view_module": "@jupyter-widgets/base",
      "_view_module_version": "1.2.0",
      "_view_name": "LayoutView",
      "align_content": null,
      "align_items": null,
      "align_self": null,
      "border": null,
      "bottom": null,
      "display": null,
      "flex": null,
      "flex_flow": null,
      "grid_area": null,
      "grid_auto_columns": null,
      "grid_auto_flow": null,
      "grid_auto_rows": null,
      "grid_column": null,
      "grid_gap": null,
      "grid_row": null,
      "grid_template_areas": null,
      "grid_template_columns": null,
      "grid_template_rows": null,
      "height": null,
      "justify_content": null,
      "justify_items": null,
      "left": null,
      "margin": null,
      "max_height": null,
      "max_width": null,
      "min_height": null,
      "min_width": null,
      "object_fit": null,
      "object_position": null,
      "order": null,
      "overflow": null,
      "overflow_x": null,
      "overflow_y": null,
      "padding": null,
      "right": null,
      "top": null,
      "visibility": null,
      "width": null
     }
    },
    "be164c835e124b498f66025de8dd6878": {
     "model_module": "@jupyter-widgets/base",
     "model_name": "LayoutModel",
     "state": {
      "_model_module": "@jupyter-widgets/base",
      "_model_module_version": "1.2.0",
      "_model_name": "LayoutModel",
      "_view_count": null,
      "_view_module": "@jupyter-widgets/base",
      "_view_module_version": "1.2.0",
      "_view_name": "LayoutView",
      "align_content": null,
      "align_items": null,
      "align_self": null,
      "border": null,
      "bottom": null,
      "display": null,
      "flex": null,
      "flex_flow": null,
      "grid_area": null,
      "grid_auto_columns": null,
      "grid_auto_flow": null,
      "grid_auto_rows": null,
      "grid_column": null,
      "grid_gap": null,
      "grid_row": null,
      "grid_template_areas": null,
      "grid_template_columns": null,
      "grid_template_rows": null,
      "height": null,
      "justify_content": null,
      "justify_items": null,
      "left": null,
      "margin": null,
      "max_height": null,
      "max_width": null,
      "min_height": null,
      "min_width": null,
      "object_fit": null,
      "object_position": null,
      "order": null,
      "overflow": null,
      "overflow_x": null,
      "overflow_y": null,
      "padding": null,
      "right": null,
      "top": null,
      "visibility": null,
      "width": null
     }
    },
    "c97b48a6b4864576bce8d88c53c28bb6": {
     "model_module": "@jupyter-widgets/controls",
     "model_name": "FloatProgressModel",
     "state": {
      "_dom_classes": [],
      "_model_module": "@jupyter-widgets/controls",
      "_model_module_version": "1.5.0",
      "_model_name": "FloatProgressModel",
      "_view_count": null,
      "_view_module": "@jupyter-widgets/controls",
      "_view_module_version": "1.5.0",
      "_view_name": "ProgressView",
      "bar_style": "success",
      "description": "100%",
      "description_tooltip": null,
      "layout": "IPY_MODEL_10556d8ee164453daea3ca12e6e9a183",
      "max": 300,
      "min": 0,
      "orientation": "horizontal",
      "style": "IPY_MODEL_505896b7d1f34353ad8155369e5a2703",
      "value": 300
     }
    },
    "d0f7e49a44a14e288cbbd53559bd3f2e": {
     "model_module": "@jupyter-widgets/controls",
     "model_name": "HTMLModel",
     "state": {
      "_dom_classes": [],
      "_model_module": "@jupyter-widgets/controls",
      "_model_module_version": "1.5.0",
      "_model_name": "HTMLModel",
      "_view_count": null,
      "_view_module": "@jupyter-widgets/controls",
      "_view_module_version": "1.5.0",
      "_view_name": "HTMLView",
      "description": "",
      "description_tooltip": null,
      "layout": "IPY_MODEL_b07bd9aaa9fd448db9b4401ee2a629da",
      "placeholder": "​",
      "style": "IPY_MODEL_995dcbb4f5dd4a308b25bc1ef774a036",
      "value": " 42000/42000 [20:49&lt;00:00, 33.61it/s]"
     }
    },
    "d8ba833432b04a9e80a2444f01e01ed2": {
     "model_module": "@jupyter-widgets/base",
     "model_name": "LayoutModel",
     "state": {
      "_model_module": "@jupyter-widgets/base",
      "_model_module_version": "1.2.0",
      "_model_name": "LayoutModel",
      "_view_count": null,
      "_view_module": "@jupyter-widgets/base",
      "_view_module_version": "1.2.0",
      "_view_name": "LayoutView",
      "align_content": null,
      "align_items": null,
      "align_self": null,
      "border": null,
      "bottom": null,
      "display": null,
      "flex": null,
      "flex_flow": null,
      "grid_area": null,
      "grid_auto_columns": null,
      "grid_auto_flow": null,
      "grid_auto_rows": null,
      "grid_column": null,
      "grid_gap": null,
      "grid_row": null,
      "grid_template_areas": null,
      "grid_template_columns": null,
      "grid_template_rows": null,
      "height": null,
      "justify_content": null,
      "justify_items": null,
      "left": null,
      "margin": null,
      "max_height": null,
      "max_width": null,
      "min_height": null,
      "min_width": null,
      "object_fit": null,
      "object_position": null,
      "order": null,
      "overflow": null,
      "overflow_x": null,
      "overflow_y": null,
      "padding": null,
      "right": null,
      "top": null,
      "visibility": null,
      "width": null
     }
    },
    "e3a014bbc90c4a3bab028110d844cd73": {
     "model_module": "@jupyter-widgets/base",
     "model_name": "LayoutModel",
     "state": {
      "_model_module": "@jupyter-widgets/base",
      "_model_module_version": "1.2.0",
      "_model_name": "LayoutModel",
      "_view_count": null,
      "_view_module": "@jupyter-widgets/base",
      "_view_module_version": "1.2.0",
      "_view_name": "LayoutView",
      "align_content": null,
      "align_items": null,
      "align_self": null,
      "border": null,
      "bottom": null,
      "display": null,
      "flex": null,
      "flex_flow": null,
      "grid_area": null,
      "grid_auto_columns": null,
      "grid_auto_flow": null,
      "grid_auto_rows": null,
      "grid_column": null,
      "grid_gap": null,
      "grid_row": null,
      "grid_template_areas": null,
      "grid_template_columns": null,
      "grid_template_rows": null,
      "height": null,
      "justify_content": null,
      "justify_items": null,
      "left": null,
      "margin": null,
      "max_height": null,
      "max_width": null,
      "min_height": null,
      "min_width": null,
      "object_fit": null,
      "object_position": null,
      "order": null,
      "overflow": null,
      "overflow_x": null,
      "overflow_y": null,
      "padding": null,
      "right": null,
      "top": null,
      "visibility": null,
      "width": null
     }
    },
    "e4f6484bf0634e4fbdf8770fde4a2fa8": {
     "model_module": "@jupyter-widgets/controls",
     "model_name": "FloatProgressModel",
     "state": {
      "_dom_classes": [],
      "_model_module": "@jupyter-widgets/controls",
      "_model_module_version": "1.5.0",
      "_model_name": "FloatProgressModel",
      "_view_count": null,
      "_view_module": "@jupyter-widgets/controls",
      "_view_module_version": "1.5.0",
      "_view_name": "ProgressView",
      "bar_style": "success",
      "description": "100%",
      "description_tooltip": null,
      "layout": "IPY_MODEL_ec46412b3c254f5ba4e8d69758d1006a",
      "max": 28000,
      "min": 0,
      "orientation": "horizontal",
      "style": "IPY_MODEL_31a32d79035f4edf876b27f8197aa865",
      "value": 28000
     }
    },
    "e66392cfa26e414487a066cb27ece87b": {
     "model_module": "@jupyter-widgets/base",
     "model_name": "LayoutModel",
     "state": {
      "_model_module": "@jupyter-widgets/base",
      "_model_module_version": "1.2.0",
      "_model_name": "LayoutModel",
      "_view_count": null,
      "_view_module": "@jupyter-widgets/base",
      "_view_module_version": "1.2.0",
      "_view_name": "LayoutView",
      "align_content": null,
      "align_items": null,
      "align_self": null,
      "border": null,
      "bottom": null,
      "display": null,
      "flex": null,
      "flex_flow": null,
      "grid_area": null,
      "grid_auto_columns": null,
      "grid_auto_flow": null,
      "grid_auto_rows": null,
      "grid_column": null,
      "grid_gap": null,
      "grid_row": null,
      "grid_template_areas": null,
      "grid_template_columns": null,
      "grid_template_rows": null,
      "height": null,
      "justify_content": null,
      "justify_items": null,
      "left": null,
      "margin": null,
      "max_height": null,
      "max_width": null,
      "min_height": null,
      "min_width": null,
      "object_fit": null,
      "object_position": null,
      "order": null,
      "overflow": null,
      "overflow_x": null,
      "overflow_y": null,
      "padding": null,
      "right": null,
      "top": null,
      "visibility": null,
      "width": null
     }
    },
    "ec46412b3c254f5ba4e8d69758d1006a": {
     "model_module": "@jupyter-widgets/base",
     "model_name": "LayoutModel",
     "state": {
      "_model_module": "@jupyter-widgets/base",
      "_model_module_version": "1.2.0",
      "_model_name": "LayoutModel",
      "_view_count": null,
      "_view_module": "@jupyter-widgets/base",
      "_view_module_version": "1.2.0",
      "_view_name": "LayoutView",
      "align_content": null,
      "align_items": null,
      "align_self": null,
      "border": null,
      "bottom": null,
      "display": null,
      "flex": null,
      "flex_flow": null,
      "grid_area": null,
      "grid_auto_columns": null,
      "grid_auto_flow": null,
      "grid_auto_rows": null,
      "grid_column": null,
      "grid_gap": null,
      "grid_row": null,
      "grid_template_areas": null,
      "grid_template_columns": null,
      "grid_template_rows": null,
      "height": null,
      "justify_content": null,
      "justify_items": null,
      "left": null,
      "margin": null,
      "max_height": null,
      "max_width": null,
      "min_height": null,
      "min_width": null,
      "object_fit": null,
      "object_position": null,
      "order": null,
      "overflow": null,
      "overflow_x": null,
      "overflow_y": null,
      "padding": null,
      "right": null,
      "top": null,
      "visibility": null,
      "width": null
     }
    },
    "f860894726594e89ba0b69b9a4a62708": {
     "model_module": "@jupyter-widgets/controls",
     "model_name": "HBoxModel",
     "state": {
      "_dom_classes": [],
      "_model_module": "@jupyter-widgets/controls",
      "_model_module_version": "1.5.0",
      "_model_name": "HBoxModel",
      "_view_count": null,
      "_view_module": "@jupyter-widgets/controls",
      "_view_module_version": "1.5.0",
      "_view_name": "HBoxView",
      "box_style": "",
      "children": [
       "IPY_MODEL_e4f6484bf0634e4fbdf8770fde4a2fa8",
       "IPY_MODEL_b9bf4dd5e8744963bb13ed2e5c87c364"
      ],
      "layout": "IPY_MODEL_82a8ace2c6a5452fb96b899f4853ef0c"
     }
    }
   }
  }
 },
 "nbformat": 4,
 "nbformat_minor": 1
}
