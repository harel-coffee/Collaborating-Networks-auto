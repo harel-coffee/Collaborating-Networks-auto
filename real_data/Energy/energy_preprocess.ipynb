{
 "cells": [
  {
   "cell_type": "markdown",
   "metadata": {
    "colab_type": "text",
    "id": "hR0xomus96Mu"
   },
   "source": [
    "### The description of data can be found here: \n",
    "http://archive.ics.uci.edu/ml/datasets/Individual+household+electric+power+consumption\n",
    "\n",
    "### Attribute Information:\n",
    "\n",
    "#### 1.date: Date in format dd/mm/yyyy \n",
    "#### 2.time: time in format hh:mm:ss \n",
    "#### 3.global_active_power: household global minute-averaged active power (in kilowatt) \n",
    "#### 4.global_reactive_power: household global minute-averaged reactive power (in kilowatt) \n",
    "#### 5.voltage: minute-averaged voltage (in volt) \n",
    "#### 6.global_intensity: household global minute-averaged current intensity (in ampere) \n",
    "#### 7.sub_metering_1: energy sub-metering No. 1 (in watt-hour of active energy). It corresponds to the kitchen, containing mainly a dishwasher, an oven and a microwave (hot plates are not electric but gas powered). \n",
    "#### 8.sub_metering_2: energy sub-metering No. 2 (in watt-hour of active energy). It corresponds to the laundry room, containing a washing-machine, a tumble-drier, a refrigerator and a light. \n",
    "#### 9.sub_metering_3: energy sub-metering No. 3 (in watt-hour of active energy). It corresponds to an electric water-heater and an air-conditioner.\n"
   ]
  },
  {
   "cell_type": "code",
   "execution_count": null,
   "metadata": {
    "colab": {
     "base_uri": "https://localhost:8080/",
     "height": 71
    },
    "colab_type": "code",
    "executionInfo": {
     "elapsed": 995,
     "status": "ok",
     "timestamp": 1599539471151,
     "user": {
      "displayName": "z thui",
      "photoUrl": "",
      "userId": "08749963318503558861"
     },
     "user_tz": 240
    },
    "id": "W_7mvQdw96Mv",
    "outputId": "aa093cdd-9622-4616-fafe-d5526276a6ec"
   },
   "outputs": [],
   "source": [
    "\n",
    "import sys \n",
    "import numpy as np # linear algebra\n",
    "from scipy.stats import randint\n",
    "import matplotlib.pyplot as plt # this is used for the plot the graph \n",
    "import pandas as pd # data processing, CSV file I/O (e.g. pd.read_csv), data manipulation as in SQL\n",
    "import seaborn as sns # used for plot interactive graph. \n",
    "from sklearn.model_selection import train_test_split # to split the data into two parts\n",
    "from sklearn.model_selection import KFold # use for cross validation\n",
    "from sklearn.preprocessing import StandardScaler # for normalization\n",
    "from sklearn.preprocessing import MinMaxScaler\n",
    "from sklearn.pipeline import Pipeline # pipeline making\n",
    "from sklearn.model_selection import cross_val_score\n",
    "from sklearn.feature_selection import SelectFromModel\n",
    "from sklearn import metrics # for the check the error and accuracy of the model\n",
    "from sklearn.metrics import mean_squared_error,r2_score\n",
    "\n",
    "%matplotlib inline\n",
    "import matplotlib.pyplot as plt\n",
    "from tqdm import trange     \n",
    "import matplotlib.pyplot as plt\n",
    "import seaborn as sns\n",
    "from scipy.stats import chi2\n"
   ]
  },
  {
   "cell_type": "markdown",
   "metadata": {
    "colab_type": "text",
    "id": "AhtgtWvt96Mz"
   },
   "source": [
    "### Importing the data "
   ]
  },
  {
   "cell_type": "code",
   "execution_count": null,
   "metadata": {
    "colab": {},
    "colab_type": "code",
    "id": "SR4EWhBc96Mz"
   },
   "outputs": [],
   "source": [
    "\n",
    "df = pd.read_csv('household_power_consumption.txt', sep=';', \n",
    "                 parse_dates={'dt' : ['Date', 'Time']}, infer_datetime_format=True, \n",
    "                 low_memory=False, na_values=['nan','?'], index_col='dt')"
   ]
  },
  {
   "cell_type": "code",
   "execution_count": null,
   "metadata": {
    "colab": {},
    "colab_type": "code",
    "id": "8s7w1Xyr96M2",
    "outputId": "5db1ebec-8226-43c8-efcf-6699bee51417"
   },
   "outputs": [],
   "source": [
    "df.agg({'Voltage':'mean','Global_intensity':'std'})"
   ]
  },
  {
   "cell_type": "code",
   "execution_count": null,
   "metadata": {
    "colab": {},
    "colab_type": "code",
    "id": "w2VeeFaF96M5",
    "outputId": "1c5895f2-8b19-4f42-a3b3-e7a4689e72e1"
   },
   "outputs": [],
   "source": [
    "df.index"
   ]
  },
  {
   "cell_type": "code",
   "execution_count": null,
   "metadata": {
    "colab": {},
    "colab_type": "code",
    "id": "_2OYFH4696M8",
    "outputId": "73ca7ba4-8d10-44d5-891e-efeee3d05bbb"
   },
   "outputs": [],
   "source": [
    "df.iloc[0:10,:]"
   ]
  },
  {
   "cell_type": "code",
   "execution_count": null,
   "metadata": {
    "colab": {},
    "colab_type": "code",
    "id": "TGWODikG96M-",
    "outputId": "4596f458-526c-47f0-ec49-86617dc97399"
   },
   "outputs": [],
   "source": [
    "df.describe()"
   ]
  },
  {
   "cell_type": "markdown",
   "metadata": {
    "colab_type": "text",
    "id": "atELihkI96NB"
   },
   "source": [
    "### mean value imputation for missingness"
   ]
  },
  {
   "cell_type": "code",
   "execution_count": null,
   "metadata": {
    "colab": {},
    "colab_type": "code",
    "id": "6s6ZuoIE96NB",
    "outputId": "fe33a5a0-6af5-49e7-84c9-f660eb2ebce5"
   },
   "outputs": [],
   "source": [
    "## finding all columns that have nan:\n",
    "\n",
    "droping_list_all=[]\n",
    "for j in range(0,7):\n",
    "    if not df.iloc[:, j].notnull().all():\n",
    "        droping_list_all.append(j)        \n",
    "        #print(df.iloc[:,j].unique())\n",
    "droping_list_all"
   ]
  },
  {
   "cell_type": "code",
   "execution_count": null,
   "metadata": {
    "colab": {},
    "colab_type": "code",
    "id": "GcW5-JkB96NE"
   },
   "outputs": [],
   "source": [
    "# filling nan with mean in any columns\n",
    "for j in range(0,7):        \n",
    "        df.iloc[:,j]=df.iloc[:,j].fillna(df.iloc[:,j].mean())\n"
   ]
  },
  {
   "cell_type": "code",
   "execution_count": null,
   "metadata": {
    "colab": {},
    "colab_type": "code",
    "id": "Em-7Ava696NG",
    "outputId": "4ee4bf6a-b215-44ef-fea2-b4d3dc8d540b"
   },
   "outputs": [],
   "source": [
    "pd.DataFrame.dropna(df).shape"
   ]
  },
  {
   "cell_type": "code",
   "execution_count": null,
   "metadata": {
    "colab": {},
    "colab_type": "code",
    "id": "ER8_rw_396NI",
    "outputId": "85d9b9ae-aa64-4eec-8596-a15e734749f6"
   },
   "outputs": [],
   "source": [
    "# another sanity check to make sure that there are not more any nan\n",
    "df.isnull().sum()"
   ]
  },
  {
   "cell_type": "code",
   "execution_count": null,
   "metadata": {
    "colab": {},
    "colab_type": "code",
    "id": "M6d-FAdp96NJ",
    "outputId": "b0631f6c-2a78-478f-a81d-7fdf0ada5418"
   },
   "outputs": [],
   "source": [
    "df.describe()"
   ]
  },
  {
   "cell_type": "code",
   "execution_count": null,
   "metadata": {
    "colab": {},
    "colab_type": "code",
    "id": "rcVVomzT96NM",
    "outputId": "6b5c6cc7-baec-4ddb-caf9-09f1e5307e1b"
   },
   "outputs": [],
   "source": [
    "df['Global_active_power'].resample('Y').mean()"
   ]
  },
  {
   "cell_type": "markdown",
   "metadata": {
    "colab_type": "text",
    "id": "kNmcStbd96NO"
   },
   "source": [
    "### resample to days"
   ]
  },
  {
   "cell_type": "code",
   "execution_count": null,
   "metadata": {
    "colab": {},
    "colab_type": "code",
    "id": "ackBGFBx96NO",
    "outputId": "549c7834-1e9b-46be-f34a-7baf868cac58"
   },
   "outputs": [],
   "source": [
    "## resampling of data over hour\n",
    "df_resample = df.resample('D').mean() \n",
    "df_resample.shape"
   ]
  },
  {
   "cell_type": "code",
   "execution_count": null,
   "metadata": {
    "colab": {},
    "colab_type": "code",
    "id": "ROlkiuVi96NQ",
    "outputId": "d4197dca-b3d5-42b6-f1f4-bf3257da7940"
   },
   "outputs": [],
   "source": [
    "df_resample.head()"
   ]
  },
  {
   "cell_type": "code",
   "execution_count": null,
   "metadata": {
    "colab": {},
    "colab_type": "code",
    "id": "e16RCDWX96NS",
    "outputId": "6f7b0ccc-c9ed-41db-e726-727ffd200f3f"
   },
   "outputs": [],
   "source": [
    "df_resample.describe()"
   ]
  },
  {
   "cell_type": "markdown",
   "metadata": {
    "colab_type": "text",
    "id": "6pKtLueP96NU"
   },
   "source": [
    "### Normalize First"
   ]
  },
  {
   "cell_type": "code",
   "execution_count": null,
   "metadata": {
    "colab": {},
    "colab_type": "code",
    "id": "R1wFBVBr96NU"
   },
   "outputs": [],
   "source": [
    "df1=(df_resample-df_resample.mean())/df_resample.std()"
   ]
  },
  {
   "cell_type": "code",
   "execution_count": null,
   "metadata": {
    "colab": {},
    "colab_type": "code",
    "id": "XoH81xff96NW",
    "outputId": "067cb756-277c-4aff-e2b0-084c625a2037"
   },
   "outputs": [],
   "source": [
    "df1.describe()"
   ]
  },
  {
   "cell_type": "markdown",
   "metadata": {
    "colab_type": "text",
    "id": "B_1L27bW96NY"
   },
   "source": [
    "### use all previous measurement to predict the next global_active power"
   ]
  },
  {
   "cell_type": "code",
   "execution_count": null,
   "metadata": {
    "colab": {},
    "colab_type": "code",
    "id": "YfHlYRBe96NY",
    "outputId": "3935ca8a-8e65-4c07-dda6-847ab5c8b988"
   },
   "outputs": [],
   "source": [
    "df1.head()"
   ]
  },
  {
   "cell_type": "code",
   "execution_count": null,
   "metadata": {
    "colab": {},
    "colab_type": "code",
    "id": "v2RhxM9A96Na"
   },
   "outputs": [],
   "source": [
    "dfx=df1.iloc[:-1,:]"
   ]
  },
  {
   "cell_type": "code",
   "execution_count": null,
   "metadata": {
    "colab": {},
    "colab_type": "code",
    "id": "3R2h1Uyh96Nc"
   },
   "outputs": [],
   "source": [
    "dfy=df1.iloc[1:,0]"
   ]
  },
  {
   "cell_type": "code",
   "execution_count": null,
   "metadata": {
    "colab": {},
    "colab_type": "code",
    "id": "7nYje1_r96Ne"
   },
   "outputs": [],
   "source": [
    "dfnew=dfx"
   ]
  },
  {
   "cell_type": "code",
   "execution_count": null,
   "metadata": {
    "colab": {},
    "colab_type": "code",
    "id": "yfSw2Xbo96Nf"
   },
   "outputs": [],
   "source": [
    "y=(np.array(dfy)).copy()"
   ]
  },
  {
   "cell_type": "code",
   "execution_count": null,
   "metadata": {
    "colab": {},
    "colab_type": "code",
    "id": "H8prFbgS96Nh",
    "outputId": "aca189e7-5c0d-4ddc-b967-5fb8221fcb13"
   },
   "outputs": [],
   "source": [
    "dfnew['y']=2*y"
   ]
  },
  {
   "cell_type": "code",
   "execution_count": null,
   "metadata": {
    "colab": {},
    "colab_type": "code",
    "id": "Vg--fdr996Nj",
    "outputId": "92aaf695-f497-43ad-e510-edf97281d7e2"
   },
   "outputs": [],
   "source": [
    "dfnew.head()"
   ]
  },
  {
   "cell_type": "code",
   "execution_count": null,
   "metadata": {
    "colab": {},
    "colab_type": "code",
    "id": "tD_d-X0S96Nk"
   },
   "outputs": [],
   "source": []
  },
  {
   "cell_type": "code",
   "execution_count": null,
   "metadata": {
    "colab": {},
    "colab_type": "code",
    "id": "u1T2xQcS96Nm",
    "outputId": "03fe2cc0-8e90-4b29-937a-d5d81dfc5040"
   },
   "outputs": [],
   "source": [
    "dfnew.shape"
   ]
  },
  {
   "cell_type": "code",
   "execution_count": null,
   "metadata": {
    "colab": {},
    "colab_type": "code",
    "id": "u4DQQCn296No"
   },
   "outputs": [],
   "source": [
    "train=dfnew.sample(frac=0.6,random_state=223)\n",
    "test=dfnew.drop(train.index)"
   ]
  },
  {
   "cell_type": "code",
   "execution_count": null,
   "metadata": {
    "colab": {},
    "colab_type": "code",
    "id": "M_zMWH7A96Nq"
   },
   "outputs": [],
   "source": [
    "trainy=np.array(train.pop('y'))\n",
    "testy=np.array(test.pop('y'))"
   ]
  },
  {
   "cell_type": "code",
   "execution_count": null,
   "metadata": {
    "colab": {},
    "colab_type": "code",
    "id": "cUYqFUdB96Nr",
    "outputId": "36566f15-e636-451e-b7e9-cfa6fe8d530b"
   },
   "outputs": [],
   "source": [
    "test.shape"
   ]
  },
  {
   "cell_type": "code",
   "execution_count": null,
   "metadata": {
    "colab": {},
    "colab_type": "code",
    "id": "ALDVI7oT96Nt"
   },
   "outputs": [],
   "source": [
    "train=np.array(train)\n",
    "test=np.array(test)"
   ]
  },
  {
   "cell_type": "code",
   "execution_count": null,
   "metadata": {
    "colab": {
     "base_uri": "https://localhost:8080/",
     "height": 34
    },
    "colab_type": "code",
    "executionInfo": {
     "elapsed": 345,
     "status": "ok",
     "timestamp": 1599539654344,
     "user": {
      "displayName": "z thui",
      "photoUrl": "",
      "userId": "08749963318503558861"
     },
     "user_tz": 240
    },
    "id": "eZ5sZE2t96Nx",
    "outputId": "e1046dc7-30de-49f1-cbe1-fbc6cc4bf586"
   },
   "outputs": [],
   "source": [
    "train.shape,trainy.shape,test.shape,testy.shape"
   ]
  },
  {
   "cell_type": "code",
   "execution_count": null,
   "metadata": {
    "colab": {},
    "colab_type": "code",
    "executionInfo": {
     "elapsed": 306,
     "status": "ok",
     "timestamp": 1599539680380,
     "user": {
      "displayName": "z thui",
      "photoUrl": "",
      "userId": "08749963318503558861"
     },
     "user_tz": 240
    },
    "id": "eTCJPpyC96Ny"
   },
   "outputs": [],
   "source": [
    "Train=np.c_[train,trainy]\n",
    "Test=np.c_[test,testy]\n"
   ]
  },
  {
   "cell_type": "code",
   "execution_count": null,
   "metadata": {
    "colab": {},
    "colab_type": "code",
    "executionInfo": {
     "elapsed": 295,
     "status": "ok",
     "timestamp": 1599539718700,
     "user": {
      "displayName": "z thui",
      "photoUrl": "",
      "userId": "08749963318503558861"
     },
     "user_tz": 240
    },
    "id": "w5jrTpTR_Sub"
   },
   "outputs": [],
   "source": [
    "np.save('Train',Train)\n",
    "np.save('Test',Test)\n"
   ]
  },
  {
   "cell_type": "code",
   "execution_count": null,
   "metadata": {
    "colab": {},
    "colab_type": "code",
    "id": "NzCqyTjI_yi2"
   },
   "outputs": [],
   "source": []
  }
 ],
 "metadata": {
  "colab": {
   "collapsed_sections": [],
   "name": "energy_preprocess.ipynb",
   "provenance": []
  },
  "kernelspec": {
   "display_name": "Python 3",
   "language": "python",
   "name": "python3"
  },
  "language_info": {
   "codemirror_mode": {
    "name": "ipython",
    "version": 3
   },
   "file_extension": ".py",
   "mimetype": "text/x-python",
   "name": "python",
   "nbconvert_exporter": "python",
   "pygments_lexer": "ipython3",
   "version": "3.7.5"
  }
 },
 "nbformat": 4,
 "nbformat_minor": 1
}
