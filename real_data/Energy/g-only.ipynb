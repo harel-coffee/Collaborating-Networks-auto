{
 "cells": [
  {
   "cell_type": "code",
   "execution_count": 2,
   "metadata": {
    "colab": {},
    "colab_type": "code",
    "executionInfo": {
     "elapsed": 2520,
     "status": "ok",
     "timestamp": 1599436241960,
     "user": {
      "displayName": "z thui",
      "photoUrl": "",
      "userId": "08749963318503558861"
     },
     "user_tz": 240
    },
    "id": "BqXhlGIuEjCq"
   },
   "outputs": [],
   "source": [
    "import sys \n",
    "import numpy as np # linear algebra\n",
    "from scipy.stats import randint\n",
    "import matplotlib.pyplot as plt # this is used for the plot the graph \n",
    "%matplotlib inline\n",
    "from tqdm import notebook\n",
    "import tensorflow as tf\n",
    "from scipy import stats\n",
    "from scipy.interpolate import interp1d"
   ]
  },
  {
   "cell_type": "markdown",
   "metadata": {
    "colab_type": "text",
    "id": "hzn5vbqnEjCu"
   },
   "source": [
    "### Read dt"
   ]
  },
  {
   "cell_type": "code",
   "execution_count": 3,
   "metadata": {
    "colab": {},
    "colab_type": "code",
    "executionInfo": {
     "elapsed": 494,
     "status": "ok",
     "timestamp": 1599436243525,
     "user": {
      "displayName": "z thui",
      "photoUrl": "",
      "userId": "08749963318503558861"
     },
     "user_tz": 240
    },
    "id": "sF4ZKh39buxY"
   },
   "outputs": [
    {
     "data": {
      "text/plain": [
       "DescribeResult(nobs=1441, minmax=(array([-2.20522073]), array([5.33367964])), mean=array([-0.00326602]), variance=array([0.98530207]), skewness=array([0.56837019]), kurtosis=array([1.30282701]))"
      ]
     },
     "execution_count": 3,
     "metadata": {},
     "output_type": "execute_result"
    }
   ],
   "source": [
    "dt=np.load('energydt.npy')\n",
    "\n",
    "# the full design matrix\n",
    "x=dt[:,:-1]\n",
    "y=dt[:,-1].reshape(-1,1)\n",
    "ntrain=int(np.floor(len(x)*0.6))\n",
    "stats.describe(y)"
   ]
  },
  {
   "cell_type": "markdown",
   "metadata": {
    "colab_type": "text",
    "id": "TTfPIseeEjCx"
   },
   "source": [
    "### g-only, this is equivalent to using pre-training in under the Collaborating Network(CN) framework"
   ]
  },
  {
   "cell_type": "code",
   "execution_count": 4,
   "metadata": {
    "colab": {},
    "colab_type": "code",
    "executionInfo": {
     "elapsed": 566,
     "status": "ok",
     "timestamp": 1599436249464,
     "user": {
      "displayName": "z thui",
      "photoUrl": "",
      "userId": "08749963318503558861"
     },
     "user_tz": 240
    },
    "id": "ThzSYDwBEjCx"
   },
   "outputs": [],
   "source": [
    "def variables_from_scope(scope_name):\n",
    "    \"\"\"\n",
    "    Returns a list of all trainable variables in a given scope. This is useful when\n",
    "    you'd like to back-propagate only to weights in one part of the network\n",
    "    (in our case, the generator or the discriminator).\n",
    "    \"\"\"\n",
    "    return tf.compat.v1.get_collection(tf.compat.v1.GraphKeys.TRAINABLE_VARIABLES, scope=scope_name)"
   ]
  },
  {
   "cell_type": "code",
   "execution_count": 5,
   "metadata": {
    "colab": {},
    "colab_type": "code",
    "executionInfo": {
     "elapsed": 621,
     "status": "ok",
     "timestamp": 1599436249823,
     "user": {
      "displayName": "z thui",
      "photoUrl": "",
      "userId": "08749963318503558861"
     },
     "user_tz": 240
    },
    "id": "SEKtW9lDEjC0"
   },
   "outputs": [],
   "source": [
    " # Graph parameters\n",
    "intermediate_layer_size = 100\n",
    "intermediate_layer_size2 = 80\n",
    "# Training parameters\n",
    "batch_size = 128\n",
    "pre_iter= 36000"
   ]
  },
  {
   "cell_type": "code",
   "execution_count": 6,
   "metadata": {
    "colab": {},
    "colab_type": "code",
    "executionInfo": {
     "elapsed": 485,
     "status": "ok",
     "timestamp": 1599436251062,
     "user": {
      "displayName": "z thui",
      "photoUrl": "",
      "userId": "08749963318503558861"
     },
     "user_tz": 240
    },
    "id": "n9UxwvgfEjC4"
   },
   "outputs": [],
   "source": [
    "# g function learn the cdf\n",
    "def g(yq,x):\n",
    "    \"\"\"\n",
    "    yq:quantile:,\n",
    "    x:input feature and treatment,\n",
    "    \"\"\"\n",
    "    z1=tf.concat([yq,x],axis=1)\n",
    "    hidden_layer = tf.compat.v1.layers.dense(z1, intermediate_layer_size,kernel_initializer=tf.compat.v1.initializers.random_normal(stddev=.001), name=\"g1\", activation=tf.compat.v1.nn.elu,reuse=None)\n",
    "    hidden_layer_bn = tf.compat.v1.layers.batch_normalization(hidden_layer,name=\"g1bn\")\n",
    "    hidden_layer2 = tf.compat.v1.layers.dense(hidden_layer_bn, intermediate_layer_size2, kernel_initializer=tf.compat.v1.initializers.random_normal(stddev=.001),name=\"g2\", activation=tf.compat.v1.nn.elu,reuse=None)\n",
    "    hidden_layer2_bn = tf.compat.v1.layers.batch_normalization(hidden_layer2,name=\"g2bn\")\n",
    "    gq_logit = tf.compat.v1.layers.dense(hidden_layer2_bn, 1,kernel_initializer=tf.initializers.glorot_normal, name=\"g3\", activation=None,reuse=None)\n",
    "    gq_logit_bn=tf.keras.layers.BatchNormalization(axis=-1,momentum=.1)(gq_logit)\n",
    "    return gq_logit_bn"
   ]
  },
  {
   "cell_type": "code",
   "execution_count": 7,
   "metadata": {
    "colab": {},
    "colab_type": "code",
    "executionInfo": {
     "elapsed": 488,
     "status": "ok",
     "timestamp": 1599436252884,
     "user": {
      "displayName": "z thui",
      "photoUrl": "",
      "userId": "08749963318503558861"
     },
     "user_tz": 240
    },
    "id": "1tFnSTGNEjC6"
   },
   "outputs": [],
   "source": [
    "tf.compat.v1.disable_eager_execution()"
   ]
  },
  {
   "cell_type": "code",
   "execution_count": 8,
   "metadata": {
    "colab": {
     "base_uri": "https://localhost:8080/",
     "height": 190
    },
    "colab_type": "code",
    "executionInfo": {
     "elapsed": 2750,
     "status": "ok",
     "timestamp": 1599436255505,
     "user": {
      "displayName": "z thui",
      "photoUrl": "",
      "userId": "08749963318503558861"
     },
     "user_tz": 240
    },
    "id": "uP8WNixGEjC8",
    "outputId": "cfe4e8c9-876d-480e-b25c-af92164e28d5"
   },
   "outputs": [
    {
     "name": "stdout",
     "output_type": "stream",
     "text": [
      "WARNING:tensorflow:From <ipython-input-6-a4b4c2245194>:8: dense (from tensorflow.python.layers.core) is deprecated and will be removed in a future version.\n",
      "Instructions for updating:\n",
      "Use keras.layers.Dense instead.\n",
      "WARNING:tensorflow:From /Users/tz/venv/lib/python3.7/site-packages/tensorflow_core/python/layers/core.py:187: Layer.apply (from tensorflow.python.keras.engine.base_layer) is deprecated and will be removed in a future version.\n",
      "Instructions for updating:\n",
      "Please use `layer.__call__` method instead.\n",
      "WARNING:tensorflow:From /Users/tz/venv/lib/python3.7/site-packages/tensorflow_core/python/ops/resource_variable_ops.py:1630: calling BaseResourceVariable.__init__ (from tensorflow.python.ops.resource_variable_ops) with constraint is deprecated and will be removed in a future version.\n",
      "Instructions for updating:\n",
      "If using Keras pass *_constraint arguments to layers.\n",
      "WARNING:tensorflow:From <ipython-input-6-a4b4c2245194>:9: batch_normalization (from tensorflow.python.layers.normalization) is deprecated and will be removed in a future version.\n",
      "Instructions for updating:\n",
      "Use keras.layers.BatchNormalization instead.  In particular, `tf.control_dependencies(tf.GraphKeys.UPDATE_OPS)` should not be used (consult the `tf.keras.layers.batch_normalization` documentation).\n"
     ]
    }
   ],
   "source": [
    "\n",
    "tf.compat.v1.reset_default_graph()\n",
    "\n",
    "# Placeholders\n",
    "y_ = tf.compat.v1.placeholder(tf.float32, [None, 1])\n",
    "\n",
    "pre_y= tf.compat.v1.placeholder(tf.float32, [None, 1])\n",
    "x_=tf.compat.v1.placeholder(tf.float32, [None, x.shape[1]])\n",
    "q_ = tf.compat.v1.placeholder(tf.float32, [None, 1])\n",
    "\n",
    "\n",
    "ylessthan_pre= tf.cast(tf.less_equal(y_,pre_y),tf.float32)\n",
    "\n",
    "\n",
    "with tf.compat.v1.variable_scope(\"g\") as scope:\n",
    "    gq_logit_pre = g(pre_y,x_)\n",
    "    gq=tf.sigmoid(gq_logit_pre)\n",
    "\n",
    "\n",
    "\n",
    "\n",
    "#pre-loss\n",
    "g_loss_pre = tf.compat.v1.losses.sigmoid_cross_entropy(ylessthan_pre,gq_logit_pre)\n",
    "\n",
    "# Optimizer\n",
    "optimizer = tf.compat.v1.train.AdamOptimizer(learning_rate=1e-4)\n",
    "pre_step= optimizer.minimize(g_loss_pre,var_list=variables_from_scope(\"g\"))\n",
    "\n",
    "\n",
    "# Initializer\n",
    "initialize_all = tf.compat.v1.global_variables_initializer()"
   ]
  },
  {
   "cell_type": "code",
   "execution_count": null,
   "metadata": {
    "colab": {},
    "colab_type": "code",
    "id": "00eb3i4OEjC_"
   },
   "outputs": [],
   "source": []
  },
  {
   "cell_type": "markdown",
   "metadata": {},
   "source": [
    "### Ten replications to evaluate the hard metrics"
   ]
  },
  {
   "cell_type": "code",
   "execution_count": 11,
   "metadata": {},
   "outputs": [],
   "source": [
    "##function to create replication\n",
    "def rep_iter(x,y,frac=0.4):\n",
    "    n=len(x)\n",
    "    ntest=int(np.floor(frac*n))\n",
    "    allidx=np.random.permutation(n)\n",
    "    trainidx= allidx[ntest:]\n",
    "    testidx= allidx[:ntest]\n",
    "    return x[trainidx],y[trainidx],x[testidx],y[testidx]\n",
    "    "
   ]
  },
  {
   "cell_type": "code",
   "execution_count": 12,
   "metadata": {},
   "outputs": [],
   "source": [
    "#initialize the metric\n",
    "#g\n",
    "gll=[] #loglikelihood or gof\n",
    "gcal=[] #regular calibration\n",
    "gcalshp=[] #empirical coverage\n",
    "gwidth=[] #empirical width\n",
    "g90=[] #90 interval coverage\n",
    "gmae=[] #mae\n",
    "\n"
   ]
  },
  {
   "cell_type": "code",
   "execution_count": 13,
   "metadata": {
    "colab": {},
    "colab_type": "code",
    "id": "-Ne7wI28Lcs6"
   },
   "outputs": [
    {
     "data": {
      "application/vnd.jupyter.widget-view+json": {
       "model_id": "af8af39d52a3404e9d67d95e39dc4823",
       "version_major": 2,
       "version_minor": 0
      },
      "text/plain": [
       "HBox(children=(IntProgress(value=0, max=36000), HTML(value='')))"
      ]
     },
     "metadata": {},
     "output_type": "display_data"
    },
    {
     "name": "stdout",
     "output_type": "stream",
     "text": [
      "\n"
     ]
    },
    {
     "data": {
      "application/vnd.jupyter.widget-view+json": {
       "model_id": "e7a1ff46d045422bb590f24bc718dd6f",
       "version_major": 2,
       "version_minor": 0
      },
      "text/plain": [
       "HBox(children=(IntProgress(value=0, max=36000), HTML(value='')))"
      ]
     },
     "metadata": {},
     "output_type": "display_data"
    },
    {
     "name": "stdout",
     "output_type": "stream",
     "text": [
      "\n"
     ]
    },
    {
     "data": {
      "application/vnd.jupyter.widget-view+json": {
       "model_id": "2271cbd8c9f241b8b1aed94e4e8bfa29",
       "version_major": 2,
       "version_minor": 0
      },
      "text/plain": [
       "HBox(children=(IntProgress(value=0, max=36000), HTML(value='')))"
      ]
     },
     "metadata": {},
     "output_type": "display_data"
    },
    {
     "name": "stdout",
     "output_type": "stream",
     "text": [
      "\n"
     ]
    },
    {
     "data": {
      "application/vnd.jupyter.widget-view+json": {
       "model_id": "6113c83a857b49558b54bb5cafe9940a",
       "version_major": 2,
       "version_minor": 0
      },
      "text/plain": [
       "HBox(children=(IntProgress(value=0, max=36000), HTML(value='')))"
      ]
     },
     "metadata": {},
     "output_type": "display_data"
    },
    {
     "name": "stdout",
     "output_type": "stream",
     "text": [
      "\n"
     ]
    },
    {
     "data": {
      "application/vnd.jupyter.widget-view+json": {
       "model_id": "788c02c581234f10823df26ddf3db887",
       "version_major": 2,
       "version_minor": 0
      },
      "text/plain": [
       "HBox(children=(IntProgress(value=0, max=36000), HTML(value='')))"
      ]
     },
     "metadata": {},
     "output_type": "display_data"
    },
    {
     "name": "stdout",
     "output_type": "stream",
     "text": [
      "\n"
     ]
    },
    {
     "data": {
      "application/vnd.jupyter.widget-view+json": {
       "model_id": "da7200d49a514d07a25445fa05d13926",
       "version_major": 2,
       "version_minor": 0
      },
      "text/plain": [
       "HBox(children=(IntProgress(value=0, max=36000), HTML(value='')))"
      ]
     },
     "metadata": {},
     "output_type": "display_data"
    },
    {
     "name": "stdout",
     "output_type": "stream",
     "text": [
      "\n"
     ]
    },
    {
     "data": {
      "application/vnd.jupyter.widget-view+json": {
       "model_id": "88a2803815994228b84e2eee1e3fc3da",
       "version_major": 2,
       "version_minor": 0
      },
      "text/plain": [
       "HBox(children=(IntProgress(value=0, max=36000), HTML(value='')))"
      ]
     },
     "metadata": {},
     "output_type": "display_data"
    },
    {
     "name": "stdout",
     "output_type": "stream",
     "text": [
      "\n"
     ]
    },
    {
     "data": {
      "application/vnd.jupyter.widget-view+json": {
       "model_id": "faf771811c1c4e3b87abfd39ecde8c51",
       "version_major": 2,
       "version_minor": 0
      },
      "text/plain": [
       "HBox(children=(IntProgress(value=0, max=36000), HTML(value='')))"
      ]
     },
     "metadata": {},
     "output_type": "display_data"
    },
    {
     "name": "stdout",
     "output_type": "stream",
     "text": [
      "\n"
     ]
    },
    {
     "data": {
      "application/vnd.jupyter.widget-view+json": {
       "model_id": "f9cd1803ad0147e398765f86214e47b3",
       "version_major": 2,
       "version_minor": 0
      },
      "text/plain": [
       "HBox(children=(IntProgress(value=0, max=36000), HTML(value='')))"
      ]
     },
     "metadata": {},
     "output_type": "display_data"
    },
    {
     "name": "stdout",
     "output_type": "stream",
     "text": [
      "\n"
     ]
    },
    {
     "data": {
      "application/vnd.jupyter.widget-view+json": {
       "model_id": "f91e1d52f34f416f9bc2e08b7d0d6982",
       "version_major": 2,
       "version_minor": 0
      },
      "text/plain": [
       "HBox(children=(IntProgress(value=0, max=36000), HTML(value='')))"
      ]
     },
     "metadata": {},
     "output_type": "display_data"
    },
    {
     "name": "stdout",
     "output_type": "stream",
     "text": [
      "\n"
     ]
    }
   ],
   "source": [
    "np.random.seed(2021)\n",
    "for a in range(10):\n",
    "    train_x,train_y,test_x,test_y=rep_iter(x,y)\n",
    "    ntrain=len(train_x)\n",
    "    ntest=len(test_x)\n",
    "\n",
    "    \n",
    "\n",
    "    sess = tf.compat.v1.Session()\n",
    "    sess.run(initialize_all)\n",
    "    gl=[]\n",
    "    fl=[]\n",
    "\n",
    "\n",
    "    sess = tf.compat.v1.Session()\n",
    "    sess.run(initialize_all)\n",
    "    gl=[]\n",
    "    \n",
    "    sess = tf.compat.v1.Session()\n",
    "    sess.run(initialize_all)\n",
    "    glpre=[]\n",
    "\n",
    "\n",
    "    for k in notebook.tnrange(pre_iter):\n",
    "        i=np.random.choice(ntrain,batch_size,replace=False)\n",
    "        ytmp = train_y[i,:]\n",
    "        xtmp= train_x[i,:]\n",
    "        #when we do not have f initially, we use a uniform distribution to extract points from support\n",
    "        pre_ytmp=np.random.uniform(-2.5,6,(batch_size,1))  \n",
    "        ltmp,_=sess.run([g_loss_pre,pre_step],feed_dict={y_: ytmp,\n",
    "                                    x_:xtmp,\n",
    "                                    pre_y:pre_ytmp})\n",
    "\n",
    "        glpre.append(ltmp)\n",
    "\n",
    "\n",
    "    #####calculate metrics##############\n",
    "\n",
    "    per=np.linspace(0.02,0.98,8) #quantile to study calibration\n",
    "    pershp=np.linspace(0.4,0.999,20) #nominal quantile to study sharpness\n",
    "\n",
    "\n",
    "    #lower and upper bound\n",
    "    low=np.quantile(test_y,0.05)\n",
    "    high=np.quantile(test_y,0.95)\n",
    "    itv=np.linspace(low,high,9)\n",
    "    itv=np.append(-np.infty,itv)\n",
    "    itv=np.append(itv,np.infty)\n",
    "    #outcome1 belongs to which interval\n",
    "    id=np.zeros(ntest)\n",
    "    for i in range(10):\n",
    "        id=id+1*(test_y.ravel()>itv[i+1])\n",
    "    id=id.astype('int')\n",
    "\n",
    "\n",
    "    # estimation by g\n",
    "    med_est=np.array([])\n",
    "    ll_est=np.empty(ntest)\n",
    "    cal_est=np.zeros_like(per)\n",
    "    cal_shp=np.zeros_like(pershp)\n",
    "    cal_width=[]\n",
    "    cover_90=0\n",
    "\n",
    "\n",
    "    #use interpolation to recover cdf\n",
    "    xtmp=np.linspace(-2.5,6,5000)\n",
    "\n",
    "    for i in range(ntest):\n",
    "        l=itv[id[i]]\n",
    "        r=itv[id[i]+1]\n",
    "\n",
    "        #cdf estimate by g\n",
    "        cdf=sess.run(gq ,feed_dict={x_:np.tile(test_x[i,:],(5000,1)),\n",
    "                                    pre_y:xtmp[:,None]\n",
    "                                    }).ravel()\n",
    "\n",
    "        cdf[0]=0\n",
    "        cdf[-1]=1\n",
    "        invcdfest=interp1d(cdf,xtmp)\n",
    "        cdfest=interp1d(xtmp,cdf)\n",
    "\n",
    "\n",
    "        #estimate the mae\n",
    "        med_est=np.append(med_est,invcdfest(0.5))    \n",
    "\n",
    "\n",
    "        #estimate the loglikelihood\n",
    "        l=itv[id[i]]\n",
    "        r=itv[id[i]+1]\n",
    "        if(r==np.inf):\n",
    "            ll_est[i]=np.log(1.-cdfest(l)+1.e-10)\n",
    "        elif(l==-np.inf):\n",
    "            ll_est[i]=np.log(cdfest(r)+1.e-10)\n",
    "        else:\n",
    "            ll_est[i]=np.log(cdfest(r)-cdfest(l)+1.e-10)\n",
    "\n",
    "\n",
    "        #estimate the calibration\n",
    "        cal_est=cal_est+1.*(test_y[i]<invcdfest(0.5+per/2))*(test_y[i]>invcdfest(0.5-per/2))\n",
    "\n",
    "        #estimate the quantity for sharpness\n",
    "        gl=invcdfest(0.5-pershp/2)\n",
    "        gr=invcdfest(0.5+pershp/2)\n",
    "        \n",
    "        \n",
    "        cal_shp=cal_shp+1.*(test_y[i]<gr)*(test_y[i]>gl)\n",
    "        cal_width.append(gr-gl)\n",
    "        \n",
    "        \n",
    "        #estimate 90 coverage\n",
    "        r=invcdfest(0.95)\n",
    "        l=invcdfest(0.05)\n",
    "        cover_90+=(test_y[i]<r)*(test_y[i]>l)\n",
    "\n",
    "    \n",
    "\n",
    "    #summary    \n",
    "\n",
    "    cal_est=cal_est/ntest\n",
    "    cal_shp=cal_shp/ntest\n",
    "\n",
    "\n",
    "    #cal\n",
    "    gcal.append(cal_est)\n",
    "\n",
    "    #shp\n",
    "    gcalshp.append(cal_shp)\n",
    "    gwidth.append(np.median(np.array(cal_width),0))\n",
    "    \n",
    "    \n",
    "    #ll\n",
    "    gll.append(ll_est.mean())\n",
    "\n",
    "    #90coverage\n",
    "    g90.append(cover_90/ntest)\n",
    "\n",
    "    #mae\n",
    "    gmae.append(np.abs(test_y.ravel()-med_est).mean()) #regular mae\n",
    "    "
   ]
  },
  {
   "cell_type": "code",
   "execution_count": null,
   "metadata": {},
   "outputs": [],
   "source": []
  },
  {
   "cell_type": "code",
   "execution_count": 14,
   "metadata": {
    "colab": {},
    "colab_type": "code",
    "id": "VqogBEaQfoZg"
   },
   "outputs": [],
   "source": [
    "def musd(x):\n",
    "    print(np.mean(x),np.std(x))\n",
    "\n"
   ]
  },
  {
   "cell_type": "code",
   "execution_count": 15,
   "metadata": {},
   "outputs": [
    {
     "name": "stdout",
     "output_type": "stream",
     "text": [
      "-1.7963343089916086 0.035666254818202396\n",
      "0.8895833333333334 0.0174856643222419\n",
      "0.530843750333898 0.013750446902867435\n"
     ]
    }
   ],
   "source": [
    "\n",
    "musd(gll)\n",
    "musd(g90)\n",
    "musd(gmae)\n",
    "\n"
   ]
  },
  {
   "cell_type": "code",
   "execution_count": 16,
   "metadata": {},
   "outputs": [
    {
     "name": "stdout",
     "output_type": "stream",
     "text": [
      "0.02009536210317462 0.00907661568696799\n"
     ]
    }
   ],
   "source": [
    "#calibration\n",
    "def calcompu(x):\n",
    "    x=np.array(x)\n",
    "    n=len(x)\n",
    "    cal=np.mean(x,0)\n",
    "    calest=np.abs(x-per).mean(1)\n",
    "    \n",
    "    print(np.mean(calest),np.std(calest))\n",
    "    \n",
    "    return  cal\n",
    "\n",
    "gcalplot=calcompu(gcal)"
   ]
  },
  {
   "cell_type": "code",
   "execution_count": 17,
   "metadata": {},
   "outputs": [],
   "source": [
    "def shpplt(cal,width): #average interval width calculation\n",
    "    n=len(cal)\n",
    "    cal=np.array(cal)\n",
    "    width=np.array(width)\n",
    "    low=np.max(cal[:,0])\n",
    "    up=np.min(cal[:,-1])\n",
    "    rangeint=np.linspace(low,up,30)\n",
    "    widest=[]\n",
    "    for i in range(n):\n",
    "        widest.append(interp1d(cal[i],width[i])(rangeint))\n",
    "    \n",
    "    return rangeint,np.array(widest).mean(0)\n",
    "    "
   ]
  },
  {
   "cell_type": "code",
   "execution_count": 18,
   "metadata": {},
   "outputs": [],
   "source": [
    "gempcal,gempwid=shpplt(gcalshp,gwidth)"
   ]
  },
  {
   "cell_type": "code",
   "execution_count": 19,
   "metadata": {},
   "outputs": [
    {
     "data": {
      "text/plain": [
       "[<matplotlib.lines.Line2D at 0x150529750>]"
      ]
     },
     "execution_count": 19,
     "metadata": {},
     "output_type": "execute_result"
    },
    {
     "data": {
      "image/png": "[encoded data removed]",
      "text/plain": [
       "<Figure size 432x288 with 1 Axes>"
      ]
     },
     "metadata": {
      "needs_background": "light"
     },
     "output_type": "display_data"
    }
   ],
   "source": [
    "plt.plot(gempcal,gempwid)"
   ]
  },
  {
   "cell_type": "code",
   "execution_count": null,
   "metadata": {},
   "outputs": [],
   "source": []
  }
 ],
 "metadata": {
  "accelerator": "GPU",
  "colab": {
   "collapsed_sections": [],
   "machine_shape": "hm",
   "name": "CN_g.ipynb",
   "provenance": []
  },
  "kernelspec": {
   "display_name": "Python 3",
   "language": "python",
   "name": "python3"
  },
  "language_info": {
   "codemirror_mode": {
    "name": "ipython",
    "version": 3
   },
   "file_extension": ".py",
   "mimetype": "text/x-python",
   "name": "python",
   "nbconvert_exporter": "python",
   "pygments_lexer": "ipython3",
   "version": "3.7.5"
  },
  "widgets": {
   "application/vnd.jupyter.widget-state+json": {
    "025130eaaac14507ba7dfe8e8509023c": {
     "model_module": "@jupyter-widgets/base",
     "model_name": "LayoutModel",
     "state": {
      "_model_module": "@jupyter-widgets/base",
      "_model_module_version": "1.2.0",
      "_model_name": "LayoutModel",
      "_view_count": null,
      "_view_module": "@jupyter-widgets/base",
      "_view_module_version": "1.2.0",
      "_view_name": "LayoutView",
      "align_content": null,
      "align_items": null,
      "align_self": null,
      "border": null,
      "bottom": null,
      "display": null,
      "flex": null,
      "flex_flow": null,
      "grid_area": null,
      "grid_auto_columns": null,
      "grid_auto_flow": null,
      "grid_auto_rows": null,
      "grid_column": null,
      "grid_gap": null,
      "grid_row": null,
      "grid_template_areas": null,
      "grid_template_columns": null,
      "grid_template_rows": null,
      "height": null,
      "justify_content": null,
      "justify_items": null,
      "left": null,
      "margin": null,
      "max_height": null,
      "max_width": null,
      "min_height": null,
      "min_width": null,
      "object_fit": null,
      "object_position": null,
      "order": null,
      "overflow": null,
      "overflow_x": null,
      "overflow_y": null,
      "padding": null,
      "right": null,
      "top": null,
      "visibility": null,
      "width": null
     }
    },
    "02750ea922444a10a513d928ffda6954": {
     "model_module": "@jupyter-widgets/controls",
     "model_name": "ProgressStyleModel",
     "state": {
      "_model_module": "@jupyter-widgets/controls",
      "_model_module_version": "1.5.0",
      "_model_name": "ProgressStyleModel",
      "_view_count": null,
      "_view_module": "@jupyter-widgets/base",
      "_view_module_version": "1.2.0",
      "_view_name": "StyleView",
      "bar_color": null,
      "description_width": "initial"
     }
    },
    "0d77b9190292443994c1e4b9511283ce": {
     "model_module": "@jupyter-widgets/controls",
     "model_name": "FloatProgressModel",
     "state": {
      "_dom_classes": [],
      "_model_module": "@jupyter-widgets/controls",
      "_model_module_version": "1.5.0",
      "_model_name": "FloatProgressModel",
      "_view_count": null,
      "_view_module": "@jupyter-widgets/controls",
      "_view_module_version": "1.5.0",
      "_view_name": "ProgressView",
      "bar_style": "success",
      "description": "100%",
      "description_tooltip": null,
      "layout": "IPY_MODEL_6ecdae51f1ea449dbde53aa2ec040908",
      "max": 300,
      "min": 0,
      "orientation": "horizontal",
      "style": "IPY_MODEL_3d46d628369d401e8fb01a48226b1979",
      "value": 300
     }
    },
    "1414a10fcfc3498d9171652ab5f50149": {
     "model_module": "@jupyter-widgets/controls",
     "model_name": "DescriptionStyleModel",
     "state": {
      "_model_module": "@jupyter-widgets/controls",
      "_model_module_version": "1.5.0",
      "_model_name": "DescriptionStyleModel",
      "_view_count": null,
      "_view_module": "@jupyter-widgets/base",
      "_view_module_version": "1.2.0",
      "_view_name": "StyleView",
      "description_width": ""
     }
    },
    "2285255b3d1e4738b42b97b9ae734f67": {
     "model_module": "@jupyter-widgets/controls",
     "model_name": "HBoxModel",
     "state": {
      "_dom_classes": [],
      "_model_module": "@jupyter-widgets/controls",
      "_model_module_version": "1.5.0",
      "_model_name": "HBoxModel",
      "_view_count": null,
      "_view_module": "@jupyter-widgets/controls",
      "_view_module_version": "1.5.0",
      "_view_name": "HBoxView",
      "box_style": "",
      "children": [
       "IPY_MODEL_86e26dfddf1f41ec9b489efa38e3f8e8",
       "IPY_MODEL_e0bfdc309abf467caefd00605dd746b4"
      ],
      "layout": "IPY_MODEL_f03fe7f1ab84484e9bfca076277bf3bc"
     }
    },
    "22e1edb10b284f9d9ee4869b34fed122": {
     "model_module": "@jupyter-widgets/controls",
     "model_name": "HTMLModel",
     "state": {
      "_dom_classes": [],
      "_model_module": "@jupyter-widgets/controls",
      "_model_module_version": "1.5.0",
      "_model_name": "HTMLModel",
      "_view_count": null,
      "_view_module": "@jupyter-widgets/controls",
      "_view_module_version": "1.5.0",
      "_view_name": "HTMLView",
      "description": "",
      "description_tooltip": null,
      "layout": "IPY_MODEL_ed970990e0774cd29f1ce6bdc348ce8f",
      "placeholder": "​",
      "style": "IPY_MODEL_1414a10fcfc3498d9171652ab5f50149",
      "value": " 300/300 [00:00&lt;00:00, 461.18it/s]"
     }
    },
    "3042817d3a734982985757b03c24f264": {
     "model_module": "@jupyter-widgets/base",
     "model_name": "LayoutModel",
     "state": {
      "_model_module": "@jupyter-widgets/base",
      "_model_module_version": "1.2.0",
      "_model_name": "LayoutModel",
      "_view_count": null,
      "_view_module": "@jupyter-widgets/base",
      "_view_module_version": "1.2.0",
      "_view_name": "LayoutView",
      "align_content": null,
      "align_items": null,
      "align_self": null,
      "border": null,
      "bottom": null,
      "display": null,
      "flex": null,
      "flex_flow": null,
      "grid_area": null,
      "grid_auto_columns": null,
      "grid_auto_flow": null,
      "grid_auto_rows": null,
      "grid_column": null,
      "grid_gap": null,
      "grid_row": null,
      "grid_template_areas": null,
      "grid_template_columns": null,
      "grid_template_rows": null,
      "height": null,
      "justify_content": null,
      "justify_items": null,
      "left": null,
      "margin": null,
      "max_height": null,
      "max_width": null,
      "min_height": null,
      "min_width": null,
      "object_fit": null,
      "object_position": null,
      "order": null,
      "overflow": null,
      "overflow_x": null,
      "overflow_y": null,
      "padding": null,
      "right": null,
      "top": null,
      "visibility": null,
      "width": null
     }
    },
    "3d46d628369d401e8fb01a48226b1979": {
     "model_module": "@jupyter-widgets/controls",
     "model_name": "ProgressStyleModel",
     "state": {
      "_model_module": "@jupyter-widgets/controls",
      "_model_module_version": "1.5.0",
      "_model_name": "ProgressStyleModel",
      "_view_count": null,
      "_view_module": "@jupyter-widgets/base",
      "_view_module_version": "1.2.0",
      "_view_name": "StyleView",
      "bar_color": null,
      "description_width": "initial"
     }
    },
    "61aa0ab724b94347878b28fe6c4528f2": {
     "model_module": "@jupyter-widgets/base",
     "model_name": "LayoutModel",
     "state": {
      "_model_module": "@jupyter-widgets/base",
      "_model_module_version": "1.2.0",
      "_model_name": "LayoutModel",
      "_view_count": null,
      "_view_module": "@jupyter-widgets/base",
      "_view_module_version": "1.2.0",
      "_view_name": "LayoutView",
      "align_content": null,
      "align_items": null,
      "align_self": null,
      "border": null,
      "bottom": null,
      "display": null,
      "flex": null,
      "flex_flow": null,
      "grid_area": null,
      "grid_auto_columns": null,
      "grid_auto_flow": null,
      "grid_auto_rows": null,
      "grid_column": null,
      "grid_gap": null,
      "grid_row": null,
      "grid_template_areas": null,
      "grid_template_columns": null,
      "grid_template_rows": null,
      "height": null,
      "justify_content": null,
      "justify_items": null,
      "left": null,
      "margin": null,
      "max_height": null,
      "max_width": null,
      "min_height": null,
      "min_width": null,
      "object_fit": null,
      "object_position": null,
      "order": null,
      "overflow": null,
      "overflow_x": null,
      "overflow_y": null,
      "padding": null,
      "right": null,
      "top": null,
      "visibility": null,
      "width": null
     }
    },
    "67955f7cb1b047529e8af31eedd9bde5": {
     "model_module": "@jupyter-widgets/base",
     "model_name": "LayoutModel",
     "state": {
      "_model_module": "@jupyter-widgets/base",
      "_model_module_version": "1.2.0",
      "_model_name": "LayoutModel",
      "_view_count": null,
      "_view_module": "@jupyter-widgets/base",
      "_view_module_version": "1.2.0",
      "_view_name": "LayoutView",
      "align_content": null,
      "align_items": null,
      "align_self": null,
      "border": null,
      "bottom": null,
      "display": null,
      "flex": null,
      "flex_flow": null,
      "grid_area": null,
      "grid_auto_columns": null,
      "grid_auto_flow": null,
      "grid_auto_rows": null,
      "grid_column": null,
      "grid_gap": null,
      "grid_row": null,
      "grid_template_areas": null,
      "grid_template_columns": null,
      "grid_template_rows": null,
      "height": null,
      "justify_content": null,
      "justify_items": null,
      "left": null,
      "margin": null,
      "max_height": null,
      "max_width": null,
      "min_height": null,
      "min_width": null,
      "object_fit": null,
      "object_position": null,
      "order": null,
      "overflow": null,
      "overflow_x": null,
      "overflow_y": null,
      "padding": null,
      "right": null,
      "top": null,
      "visibility": null,
      "width": null
     }
    },
    "6ecdae51f1ea449dbde53aa2ec040908": {
     "model_module": "@jupyter-widgets/base",
     "model_name": "LayoutModel",
     "state": {
      "_model_module": "@jupyter-widgets/base",
      "_model_module_version": "1.2.0",
      "_model_name": "LayoutModel",
      "_view_count": null,
      "_view_module": "@jupyter-widgets/base",
      "_view_module_version": "1.2.0",
      "_view_name": "LayoutView",
      "align_content": null,
      "align_items": null,
      "align_self": null,
      "border": null,
      "bottom": null,
      "display": null,
      "flex": null,
      "flex_flow": null,
      "grid_area": null,
      "grid_auto_columns": null,
      "grid_auto_flow": null,
      "grid_auto_rows": null,
      "grid_column": null,
      "grid_gap": null,
      "grid_row": null,
      "grid_template_areas": null,
      "grid_template_columns": null,
      "grid_template_rows": null,
      "height": null,
      "justify_content": null,
      "justify_items": null,
      "left": null,
      "margin": null,
      "max_height": null,
      "max_width": null,
      "min_height": null,
      "min_width": null,
      "object_fit": null,
      "object_position": null,
      "order": null,
      "overflow": null,
      "overflow_x": null,
      "overflow_y": null,
      "padding": null,
      "right": null,
      "top": null,
      "visibility": null,
      "width": null
     }
    },
    "7261d3b09e2a45598e0408238941bc96": {
     "model_module": "@jupyter-widgets/controls",
     "model_name": "DescriptionStyleModel",
     "state": {
      "_model_module": "@jupyter-widgets/controls",
      "_model_module_version": "1.5.0",
      "_model_name": "DescriptionStyleModel",
      "_view_count": null,
      "_view_module": "@jupyter-widgets/base",
      "_view_module_version": "1.2.0",
      "_view_name": "StyleView",
      "description_width": ""
     }
    },
    "86e26dfddf1f41ec9b489efa38e3f8e8": {
     "model_module": "@jupyter-widgets/controls",
     "model_name": "FloatProgressModel",
     "state": {
      "_dom_classes": [],
      "_model_module": "@jupyter-widgets/controls",
      "_model_module_version": "1.5.0",
      "_model_name": "FloatProgressModel",
      "_view_count": null,
      "_view_module": "@jupyter-widgets/controls",
      "_view_module_version": "1.5.0",
      "_view_name": "ProgressView",
      "bar_style": "success",
      "description": "100%",
      "description_tooltip": null,
      "layout": "IPY_MODEL_f8f8ff1c926a42f392ae4e2fcf6f8873",
      "max": 300,
      "min": 0,
      "orientation": "horizontal",
      "style": "IPY_MODEL_d5512cd33d7242088b345391dcf2640c",
      "value": 300
     }
    },
    "87638e1d9b624f49b437a84c1e7ee2b2": {
     "model_module": "@jupyter-widgets/base",
     "model_name": "LayoutModel",
     "state": {
      "_model_module": "@jupyter-widgets/base",
      "_model_module_version": "1.2.0",
      "_model_name": "LayoutModel",
      "_view_count": null,
      "_view_module": "@jupyter-widgets/base",
      "_view_module_version": "1.2.0",
      "_view_name": "LayoutView",
      "align_content": null,
      "align_items": null,
      "align_self": null,
      "border": null,
      "bottom": null,
      "display": null,
      "flex": null,
      "flex_flow": null,
      "grid_area": null,
      "grid_auto_columns": null,
      "grid_auto_flow": null,
      "grid_auto_rows": null,
      "grid_column": null,
      "grid_gap": null,
      "grid_row": null,
      "grid_template_areas": null,
      "grid_template_columns": null,
      "grid_template_rows": null,
      "height": null,
      "justify_content": null,
      "justify_items": null,
      "left": null,
      "margin": null,
      "max_height": null,
      "max_width": null,
      "min_height": null,
      "min_width": null,
      "object_fit": null,
      "object_position": null,
      "order": null,
      "overflow": null,
      "overflow_x": null,
      "overflow_y": null,
      "padding": null,
      "right": null,
      "top": null,
      "visibility": null,
      "width": null
     }
    },
    "99cc75cdc2c94956bde18ae7ff4fd254": {
     "model_module": "@jupyter-widgets/controls",
     "model_name": "DescriptionStyleModel",
     "state": {
      "_model_module": "@jupyter-widgets/controls",
      "_model_module_version": "1.5.0",
      "_model_name": "DescriptionStyleModel",
      "_view_count": null,
      "_view_module": "@jupyter-widgets/base",
      "_view_module_version": "1.2.0",
      "_view_name": "StyleView",
      "description_width": ""
     }
    },
    "a96be2fc8cd5420692dc92e51d3e3f0c": {
     "model_module": "@jupyter-widgets/controls",
     "model_name": "FloatProgressModel",
     "state": {
      "_dom_classes": [],
      "_model_module": "@jupyter-widgets/controls",
      "_model_module_version": "1.5.0",
      "_model_name": "FloatProgressModel",
      "_view_count": null,
      "_view_module": "@jupyter-widgets/controls",
      "_view_module_version": "1.5.0",
      "_view_name": "ProgressView",
      "bar_style": "success",
      "description": "100%",
      "description_tooltip": null,
      "layout": "IPY_MODEL_025130eaaac14507ba7dfe8e8509023c",
      "max": 70000,
      "min": 0,
      "orientation": "horizontal",
      "style": "IPY_MODEL_02750ea922444a10a513d928ffda6954",
      "value": 70000
     }
    },
    "baf7d06f23df425e9675e2ac4ab267b1": {
     "model_module": "@jupyter-widgets/controls",
     "model_name": "HTMLModel",
     "state": {
      "_dom_classes": [],
      "_model_module": "@jupyter-widgets/controls",
      "_model_module_version": "1.5.0",
      "_model_name": "HTMLModel",
      "_view_count": null,
      "_view_module": "@jupyter-widgets/controls",
      "_view_module_version": "1.5.0",
      "_view_name": "HTMLView",
      "description": "",
      "description_tooltip": null,
      "layout": "IPY_MODEL_3042817d3a734982985757b03c24f264",
      "placeholder": "​",
      "style": "IPY_MODEL_99cc75cdc2c94956bde18ae7ff4fd254",
      "value": " 70000/70000 [03:19&lt;00:00, 351.17it/s]"
     }
    },
    "d5512cd33d7242088b345391dcf2640c": {
     "model_module": "@jupyter-widgets/controls",
     "model_name": "ProgressStyleModel",
     "state": {
      "_model_module": "@jupyter-widgets/controls",
      "_model_module_version": "1.5.0",
      "_model_name": "ProgressStyleModel",
      "_view_count": null,
      "_view_module": "@jupyter-widgets/base",
      "_view_module_version": "1.2.0",
      "_view_name": "StyleView",
      "bar_color": null,
      "description_width": "initial"
     }
    },
    "d882ea124cf948fe88d6274fb9901a1c": {
     "model_module": "@jupyter-widgets/controls",
     "model_name": "HBoxModel",
     "state": {
      "_dom_classes": [],
      "_model_module": "@jupyter-widgets/controls",
      "_model_module_version": "1.5.0",
      "_model_name": "HBoxModel",
      "_view_count": null,
      "_view_module": "@jupyter-widgets/controls",
      "_view_module_version": "1.5.0",
      "_view_name": "HBoxView",
      "box_style": "",
      "children": [
       "IPY_MODEL_a96be2fc8cd5420692dc92e51d3e3f0c",
       "IPY_MODEL_baf7d06f23df425e9675e2ac4ab267b1"
      ],
      "layout": "IPY_MODEL_61aa0ab724b94347878b28fe6c4528f2"
     }
    },
    "e0bfdc309abf467caefd00605dd746b4": {
     "model_module": "@jupyter-widgets/controls",
     "model_name": "HTMLModel",
     "state": {
      "_dom_classes": [],
      "_model_module": "@jupyter-widgets/controls",
      "_model_module_version": "1.5.0",
      "_model_name": "HTMLModel",
      "_view_count": null,
      "_view_module": "@jupyter-widgets/controls",
      "_view_module_version": "1.5.0",
      "_view_name": "HTMLView",
      "description": "",
      "description_tooltip": null,
      "layout": "IPY_MODEL_67955f7cb1b047529e8af31eedd9bde5",
      "placeholder": "​",
      "style": "IPY_MODEL_7261d3b09e2a45598e0408238941bc96",
      "value": " 300/300 [00:21&lt;00:00, 13.75it/s]"
     }
    },
    "ed970990e0774cd29f1ce6bdc348ce8f": {
     "model_module": "@jupyter-widgets/base",
     "model_name": "LayoutModel",
     "state": {
      "_model_module": "@jupyter-widgets/base",
      "_model_module_version": "1.2.0",
      "_model_name": "LayoutModel",
      "_view_count": null,
      "_view_module": "@jupyter-widgets/base",
      "_view_module_version": "1.2.0",
      "_view_name": "LayoutView",
      "align_content": null,
      "align_items": null,
      "align_self": null,
      "border": null,
      "bottom": null,
      "display": null,
      "flex": null,
      "flex_flow": null,
      "grid_area": null,
      "grid_auto_columns": null,
      "grid_auto_flow": null,
      "grid_auto_rows": null,
      "grid_column": null,
      "grid_gap": null,
      "grid_row": null,
      "grid_template_areas": null,
      "grid_template_columns": null,
      "grid_template_rows": null,
      "height": null,
      "justify_content": null,
      "justify_items": null,
      "left": null,
      "margin": null,
      "max_height": null,
      "max_width": null,
      "min_height": null,
      "min_width": null,
      "object_fit": null,
      "object_position": null,
      "order": null,
      "overflow": null,
      "overflow_x": null,
      "overflow_y": null,
      "padding": null,
      "right": null,
      "top": null,
      "visibility": null,
      "width": null
     }
    },
    "f03fe7f1ab84484e9bfca076277bf3bc": {
     "model_module": "@jupyter-widgets/base",
     "model_name": "LayoutModel",
     "state": {
      "_model_module": "@jupyter-widgets/base",
      "_model_module_version": "1.2.0",
      "_model_name": "LayoutModel",
      "_view_count": null,
      "_view_module": "@jupyter-widgets/base",
      "_view_module_version": "1.2.0",
      "_view_name": "LayoutView",
      "align_content": null,
      "align_items": null,
      "align_self": null,
      "border": null,
      "bottom": null,
      "display": null,
      "flex": null,
      "flex_flow": null,
      "grid_area": null,
      "grid_auto_columns": null,
      "grid_auto_flow": null,
      "grid_auto_rows": null,
      "grid_column": null,
      "grid_gap": null,
      "grid_row": null,
      "grid_template_areas": null,
      "grid_template_columns": null,
      "grid_template_rows": null,
      "height": null,
      "justify_content": null,
      "justify_items": null,
      "left": null,
      "margin": null,
      "max_height": null,
      "max_width": null,
      "min_height": null,
      "min_width": null,
      "object_fit": null,
      "object_position": null,
      "order": null,
      "overflow": null,
      "overflow_x": null,
      "overflow_y": null,
      "padding": null,
      "right": null,
      "top": null,
      "visibility": null,
      "width": null
     }
    },
    "f8f8ff1c926a42f392ae4e2fcf6f8873": {
     "model_module": "@jupyter-widgets/base",
     "model_name": "LayoutModel",
     "state": {
      "_model_module": "@jupyter-widgets/base",
      "_model_module_version": "1.2.0",
      "_model_name": "LayoutModel",
      "_view_count": null,
      "_view_module": "@jupyter-widgets/base",
      "_view_module_version": "1.2.0",
      "_view_name": "LayoutView",
      "align_content": null,
      "align_items": null,
      "align_self": null,
      "border": null,
      "bottom": null,
      "display": null,
      "flex": null,
      "flex_flow": null,
      "grid_area": null,
      "grid_auto_columns": null,
      "grid_auto_flow": null,
      "grid_auto_rows": null,
      "grid_column": null,
      "grid_gap": null,
      "grid_row": null,
      "grid_template_areas": null,
      "grid_template_columns": null,
      "grid_template_rows": null,
      "height": null,
      "justify_content": null,
      "justify_items": null,
      "left": null,
      "margin": null,
      "max_height": null,
      "max_width": null,
      "min_height": null,
      "min_width": null,
      "object_fit": null,
      "object_position": null,
      "order": null,
      "overflow": null,
      "overflow_x": null,
      "overflow_y": null,
      "padding": null,
      "right": null,
      "top": null,
      "visibility": null,
      "width": null
     }
    },
    "ff7baad0467d471280d566a320804240": {
     "model_module": "@jupyter-widgets/controls",
     "model_name": "HBoxModel",
     "state": {
      "_dom_classes": [],
      "_model_module": "@jupyter-widgets/controls",
      "_model_module_version": "1.5.0",
      "_model_name": "HBoxModel",
      "_view_count": null,
      "_view_module": "@jupyter-widgets/controls",
      "_view_module_version": "1.5.0",
      "_view_name": "HBoxView",
      "box_style": "",
      "children": [
       "IPY_MODEL_0d77b9190292443994c1e4b9511283ce",
       "IPY_MODEL_22e1edb10b284f9d9ee4869b34fed122"
      ],
      "layout": "IPY_MODEL_87638e1d9b624f49b437a84c1e7ee2b2"
     }
    }
   }
  }
 },
 "nbformat": 4,
 "nbformat_minor": 1
}
